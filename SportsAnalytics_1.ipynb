{
 "cells": [
  {
   "cell_type": "markdown",
   "metadata": {
    "slideshow": {
     "slide_type": "slide"
    }
   },
   "source": [
    "<centerline> \n",
    "![Callysto.ca Banner](https://github.com/callysto/curriculum-notebooks/blob/master/callysto-notebook-banner-top.jpg?raw=true)\n",
    "</centerline>\n",
    "\n",
    "<h2 align='center'>Sports Analytics in the Classroom</h2>\n",
    "\n",
    "<h4 align='center'>Tina Leard (Cybera) </h4>\n",
    "\n",
    "<h4 align='center'>Michael Lamoureux (University of Calgary) </h4>"
   ]
  },
  {
   "cell_type": "markdown",
   "metadata": {
    "slideshow": {
     "slide_type": "skip"
    }
   },
   "source": [
    "October 2020.\n",
    "\n",
    "This is a slideshow in Jupyter notebook format.\n",
    "\n",
    "To start, click on the \"Run All\" arrows above, or select the \"Kernel\" menu item and choose \"Restart & run all.\" Say yes to the confirmation.\n",
    "\n",
    "To get to slideshow mode, click on the icon in the menu bar that looks like a bar chart, as shown here. \n",
    "<img src=\"images/slideshow_icon.png\"\n",
    "     alt=\"Slideshow icon\"\n",
    "     width=200 />\n",
    "     \n",
    "You can advance the slide show using the arrow keys. Exit by clicking on that big \"X\" in the top left corner of the slide show. \n",
    "\n",
    "Note the slide show is still a live Jupyter notebook, so you can run the code and edit while in the slide show. "
   ]
  },
  {
   "cell_type": "code",
   "execution_count": 2,
   "metadata": {
    "slideshow": {
     "slide_type": "skip"
    }
   },
   "outputs": [
    {
     "name": "stdout",
     "output_type": "stream",
     "text": [
      "Collecting ipysheet\n",
      "  Using cached ipysheet-0.4.4-py2.py3-none-any.whl (3.0 MB)\n",
      "Requirement already satisfied: ipywidgets<8.0,>=7.5.0 in /opt/conda/lib/python3.8/site-packages (from ipysheet) (7.5.1)\n",
      "Requirement already satisfied: ipykernel>=4.5.1 in /opt/conda/lib/python3.8/site-packages (from ipywidgets<8.0,>=7.5.0->ipysheet) (5.3.4)\n",
      "Requirement already satisfied: ipython>=4.0.0; python_version >= \"3.3\" in /opt/conda/lib/python3.8/site-packages (from ipywidgets<8.0,>=7.5.0->ipysheet) (7.17.0)\n",
      "Requirement already satisfied: widgetsnbextension~=3.5.0 in /opt/conda/lib/python3.8/site-packages (from ipywidgets<8.0,>=7.5.0->ipysheet) (3.5.1)\n",
      "Requirement already satisfied: traitlets>=4.3.1 in /opt/conda/lib/python3.8/site-packages (from ipywidgets<8.0,>=7.5.0->ipysheet) (4.3.3)\n",
      "Requirement already satisfied: nbformat>=4.2.0 in /opt/conda/lib/python3.8/site-packages (from ipywidgets<8.0,>=7.5.0->ipysheet) (5.0.7)\n",
      "Requirement already satisfied: jupyter-client in /opt/conda/lib/python3.8/site-packages (from ipykernel>=4.5.1->ipywidgets<8.0,>=7.5.0->ipysheet) (6.1.6)\n",
      "Requirement already satisfied: tornado>=4.2 in /opt/conda/lib/python3.8/site-packages (from ipykernel>=4.5.1->ipywidgets<8.0,>=7.5.0->ipysheet) (6.0.4)\n",
      "Requirement already satisfied: pickleshare in /opt/conda/lib/python3.8/site-packages (from ipython>=4.0.0; python_version >= \"3.3\"->ipywidgets<8.0,>=7.5.0->ipysheet) (0.7.5)\n",
      "Requirement already satisfied: setuptools>=18.5 in /opt/conda/lib/python3.8/site-packages (from ipython>=4.0.0; python_version >= \"3.3\"->ipywidgets<8.0,>=7.5.0->ipysheet) (49.3.1.post20200810)\n",
      "Requirement already satisfied: backcall in /opt/conda/lib/python3.8/site-packages (from ipython>=4.0.0; python_version >= \"3.3\"->ipywidgets<8.0,>=7.5.0->ipysheet) (0.2.0)\n",
      "Requirement already satisfied: pexpect; sys_platform != \"win32\" in /opt/conda/lib/python3.8/site-packages (from ipython>=4.0.0; python_version >= \"3.3\"->ipywidgets<8.0,>=7.5.0->ipysheet) (4.8.0)\n",
      "Requirement already satisfied: decorator in /opt/conda/lib/python3.8/site-packages (from ipython>=4.0.0; python_version >= \"3.3\"->ipywidgets<8.0,>=7.5.0->ipysheet) (4.4.2)\n",
      "Requirement already satisfied: pygments in /opt/conda/lib/python3.8/site-packages (from ipython>=4.0.0; python_version >= \"3.3\"->ipywidgets<8.0,>=7.5.0->ipysheet) (2.6.1)\n",
      "Requirement already satisfied: jedi>=0.10 in /opt/conda/lib/python3.8/site-packages (from ipython>=4.0.0; python_version >= \"3.3\"->ipywidgets<8.0,>=7.5.0->ipysheet) (0.17.2)\n",
      "Requirement already satisfied: prompt-toolkit!=3.0.0,!=3.0.1,<3.1.0,>=2.0.0 in /opt/conda/lib/python3.8/site-packages (from ipython>=4.0.0; python_version >= \"3.3\"->ipywidgets<8.0,>=7.5.0->ipysheet) (3.0.6)\n",
      "Requirement already satisfied: notebook>=4.4.1 in /opt/conda/lib/python3.8/site-packages (from widgetsnbextension~=3.5.0->ipywidgets<8.0,>=7.5.0->ipysheet) (6.0.3)\n",
      "Requirement already satisfied: six in /opt/conda/lib/python3.8/site-packages (from traitlets>=4.3.1->ipywidgets<8.0,>=7.5.0->ipysheet) (1.15.0)\n",
      "Requirement already satisfied: ipython-genutils in /opt/conda/lib/python3.8/site-packages (from traitlets>=4.3.1->ipywidgets<8.0,>=7.5.0->ipysheet) (0.2.0)\n",
      "Requirement already satisfied: jupyter-core in /opt/conda/lib/python3.8/site-packages (from nbformat>=4.2.0->ipywidgets<8.0,>=7.5.0->ipysheet) (4.6.3)\n",
      "Requirement already satisfied: jsonschema!=2.5.0,>=2.4 in /opt/conda/lib/python3.8/site-packages (from nbformat>=4.2.0->ipywidgets<8.0,>=7.5.0->ipysheet) (3.2.0)\n",
      "Requirement already satisfied: python-dateutil>=2.1 in /opt/conda/lib/python3.8/site-packages (from jupyter-client->ipykernel>=4.5.1->ipywidgets<8.0,>=7.5.0->ipysheet) (2.8.1)\n",
      "Requirement already satisfied: pyzmq>=13 in /opt/conda/lib/python3.8/site-packages (from jupyter-client->ipykernel>=4.5.1->ipywidgets<8.0,>=7.5.0->ipysheet) (19.0.2)\n",
      "Requirement already satisfied: ptyprocess>=0.5 in /opt/conda/lib/python3.8/site-packages (from pexpect; sys_platform != \"win32\"->ipython>=4.0.0; python_version >= \"3.3\"->ipywidgets<8.0,>=7.5.0->ipysheet) (0.6.0)\n",
      "Requirement already satisfied: parso<0.8.0,>=0.7.0 in /opt/conda/lib/python3.8/site-packages (from jedi>=0.10->ipython>=4.0.0; python_version >= \"3.3\"->ipywidgets<8.0,>=7.5.0->ipysheet) (0.7.1)\n",
      "Requirement already satisfied: wcwidth in /opt/conda/lib/python3.8/site-packages (from prompt-toolkit!=3.0.0,!=3.0.1,<3.1.0,>=2.0.0->ipython>=4.0.0; python_version >= \"3.3\"->ipywidgets<8.0,>=7.5.0->ipysheet) (0.2.5)\n",
      "Requirement already satisfied: Send2Trash in /opt/conda/lib/python3.8/site-packages (from notebook>=4.4.1->widgetsnbextension~=3.5.0->ipywidgets<8.0,>=7.5.0->ipysheet) (1.5.0)\n",
      "Requirement already satisfied: terminado>=0.8.1 in /opt/conda/lib/python3.8/site-packages (from notebook>=4.4.1->widgetsnbextension~=3.5.0->ipywidgets<8.0,>=7.5.0->ipysheet) (0.8.3)\n",
      "Requirement already satisfied: jinja2 in /opt/conda/lib/python3.8/site-packages (from notebook>=4.4.1->widgetsnbextension~=3.5.0->ipywidgets<8.0,>=7.5.0->ipysheet) (2.11.2)\n",
      "Requirement already satisfied: prometheus-client in /opt/conda/lib/python3.8/site-packages (from notebook>=4.4.1->widgetsnbextension~=3.5.0->ipywidgets<8.0,>=7.5.0->ipysheet) (0.8.0)\n",
      "Requirement already satisfied: nbconvert in /opt/conda/lib/python3.8/site-packages (from notebook>=4.4.1->widgetsnbextension~=3.5.0->ipywidgets<8.0,>=7.5.0->ipysheet) (5.6.1)\n",
      "Requirement already satisfied: pyrsistent>=0.14.0 in /opt/conda/lib/python3.8/site-packages (from jsonschema!=2.5.0,>=2.4->nbformat>=4.2.0->ipywidgets<8.0,>=7.5.0->ipysheet) (0.16.0)\n",
      "Requirement already satisfied: attrs>=17.4.0 in /opt/conda/lib/python3.8/site-packages (from jsonschema!=2.5.0,>=2.4->nbformat>=4.2.0->ipywidgets<8.0,>=7.5.0->ipysheet) (19.3.0)\n",
      "Requirement already satisfied: MarkupSafe>=0.23 in /opt/conda/lib/python3.8/site-packages (from jinja2->notebook>=4.4.1->widgetsnbextension~=3.5.0->ipywidgets<8.0,>=7.5.0->ipysheet) (1.1.1)\n",
      "Requirement already satisfied: testpath in /opt/conda/lib/python3.8/site-packages (from nbconvert->notebook>=4.4.1->widgetsnbextension~=3.5.0->ipywidgets<8.0,>=7.5.0->ipysheet) (0.4.4)\n",
      "Requirement already satisfied: mistune<2,>=0.8.1 in /opt/conda/lib/python3.8/site-packages (from nbconvert->notebook>=4.4.1->widgetsnbextension~=3.5.0->ipywidgets<8.0,>=7.5.0->ipysheet) (0.8.4)\n",
      "Requirement already satisfied: bleach in /opt/conda/lib/python3.8/site-packages (from nbconvert->notebook>=4.4.1->widgetsnbextension~=3.5.0->ipywidgets<8.0,>=7.5.0->ipysheet) (3.1.5)\n",
      "Requirement already satisfied: defusedxml in /opt/conda/lib/python3.8/site-packages (from nbconvert->notebook>=4.4.1->widgetsnbextension~=3.5.0->ipywidgets<8.0,>=7.5.0->ipysheet) (0.6.0)\n",
      "Requirement already satisfied: pandocfilters>=1.4.1 in /opt/conda/lib/python3.8/site-packages (from nbconvert->notebook>=4.4.1->widgetsnbextension~=3.5.0->ipywidgets<8.0,>=7.5.0->ipysheet) (1.4.2)\n",
      "Requirement already satisfied: entrypoints>=0.2.2 in /opt/conda/lib/python3.8/site-packages (from nbconvert->notebook>=4.4.1->widgetsnbextension~=3.5.0->ipywidgets<8.0,>=7.5.0->ipysheet) (0.3)\n",
      "Requirement already satisfied: webencodings in /opt/conda/lib/python3.8/site-packages (from bleach->nbconvert->notebook>=4.4.1->widgetsnbextension~=3.5.0->ipywidgets<8.0,>=7.5.0->ipysheet) (0.5.1)\n",
      "Requirement already satisfied: packaging in /opt/conda/lib/python3.8/site-packages (from bleach->nbconvert->notebook>=4.4.1->widgetsnbextension~=3.5.0->ipywidgets<8.0,>=7.5.0->ipysheet) (20.4)\n",
      "Requirement already satisfied: pyparsing>=2.0.2 in /opt/conda/lib/python3.8/site-packages (from packaging->bleach->nbconvert->notebook>=4.4.1->widgetsnbextension~=3.5.0->ipywidgets<8.0,>=7.5.0->ipysheet) (2.4.7)\n",
      "Installing collected packages: ipysheet\n",
      "Successfully installed ipysheet-0.4.4\n"
     ]
    }
   ],
   "source": [
    "!pip install ipysheet"
   ]
  },
  {
   "cell_type": "code",
   "execution_count": 2,
   "metadata": {
    "slideshow": {
     "slide_type": "skip"
    }
   },
   "outputs": [
    {
     "name": "stdout",
     "output_type": "stream",
     "text": [
      "Enabling notebook extension ipysheet/extension...\r\n",
      "      - Validating: \u001b[32mOK\u001b[0m\r\n"
     ]
    }
   ],
   "source": [
    "!jupyter nbextension enable --py --sys-prefix ipysheet"
   ]
  },
  {
   "cell_type": "code",
   "execution_count": 3,
   "metadata": {
    "slideshow": {
     "slide_type": "skip"
    }
   },
   "outputs": [],
   "source": [
    "from ipysheet import sheet, cell, cell_range\n",
    "\n",
    "#import plotly.graph_objects as go\n",
    "#import numpy as np\n"
   ]
  },
  {
   "cell_type": "markdown",
   "metadata": {
    "slideshow": {
     "slide_type": "slide"
    }
   },
   "source": [
    "## Outline for Analytics in the Classroom\n",
    "\n",
    "- focus on data visualization\n",
    "- use sports as a good source of interesting data\n",
    "- use modern tools: Python, Jupyter notebooks"
   ]
  },
  {
   "cell_type": "markdown",
   "metadata": {
    "slideshow": {
     "slide_type": "slide"
    }
   },
   "source": [
    "## A Field Hockey Pitch\n",
    "\n",
    "<img src=\"images/field_hockey_pitch_h.png\"\n",
    "     alt=\"Field Hockey Pitch\"\n",
    "     width=800 />"
   ]
  },
  {
   "cell_type": "markdown",
   "metadata": {
    "slideshow": {
     "slide_type": "slide"
    }
   },
   "source": [
    "## Circle Zones in Goal Area\n",
    "\n",
    "A background for visualization\n",
    "\n",
    "<img src=\"images/field_hockey_circle_zones.png\"\n",
    "     alt=\"Field Hockey Circle Zones\"\n",
    "     width=800 />"
   ]
  },
  {
   "cell_type": "markdown",
   "metadata": {
    "slideshow": {
     "slide_type": "slide"
    }
   },
   "source": [
    "## A Quidditch Pitch (for my son)\n",
    "\n",
    "<img src=\"images/quidditch_pitch.png\"\n",
    "     alt=\"Quidditch Pitch\"\n",
    "     width=800 />"
   ]
  },
  {
   "cell_type": "code",
   "execution_count": 4,
   "metadata": {
    "slideshow": {
     "slide_type": "skip"
    }
   },
   "outputs": [],
   "source": [
    "spread_sheet = sheet()\n",
    "cell(1,1, \"It's Alive!\");"
   ]
  },
  {
   "cell_type": "markdown",
   "metadata": {
    "slideshow": {
     "slide_type": "slide"
    }
   },
   "source": [
    "## Using Spreadsheets, Live"
   ]
  },
  {
   "cell_type": "code",
   "execution_count": 5,
   "metadata": {
    "slideshow": {
     "slide_type": "-"
    }
   },
   "outputs": [
    {
     "data": {
      "application/vnd.jupyter.widget-view+json": {
       "model_id": "b6e82b4fc17a4568a39334db5daa3842",
       "version_major": 2,
       "version_minor": 0
      },
      "text/plain": [
       "Sheet(cells=(Cell(column_end=1, column_start=1, row_end=1, row_start=1, type='text', value=\"It's Alive!\"),), c…"
      ]
     },
     "metadata": {},
     "output_type": "display_data"
    }
   ],
   "source": [
    "spread_sheet"
   ]
  },
  {
   "cell_type": "code",
   "execution_count": null,
   "metadata": {
    "slideshow": {
     "slide_type": "skip"
    }
   },
   "outputs": [],
   "source": [
    "# We set up a spreadsheet, and a figure, that will be linked together.\n",
    "\n",
    "# set these for number of lanes, number of zones\n",
    "nLanes = 3\n",
    "nZones = 4\n",
    "\n",
    "# We need a list of Lanes and Zones. Could be long.\n",
    "LaneList = ['Lane 1','Lane 2','Lane 3','Lane 4','Lane 5','Lane 6','Lane 7','Lane 8']\n",
    "ZoneList = ['Zone 1','Zone 2','Zone 3','Zone 4','Zone 5','Zone 6','Zone 7','Zone 8']\n",
    "\n",
    "# here is the spreadsheet, using ipysheets function\n",
    "\n",
    "spread_sheet_1 = sheet(rows=nLanes, columns=nZones, \\\n",
    "                       column_headers=ZoneList[0:nZones], \\\n",
    "                       row_headers = LaneList[0:nLanes])\n",
    "my_cells = cell_range([[2,1,1,3],[3,1,1,3],[2,1,1,3]],row_start=0,col_start=0,numeric_format=\"int\")\n",
    "\n",
    "\n",
    "figure_1 = go.Figure(data=go.Heatmap(\n",
    "          y = LaneList[0:nLanes],\n",
    "          x = ZoneList[0:nZones],\n",
    "          z =list(reversed(my_cells.value)),\n",
    "          type = 'heatmap',\n",
    "          colorscale = 'rainbow',opacity = 1.0))\n",
    "\n",
    "axis_template = dict(range = [0,5], autorange = True,\n",
    "             showgrid = False, zeroline = True,\n",
    "             linecolor = 'black', showticklabels = True,\n",
    "             ticks = 'outside' )\n",
    "\n",
    "figure_1.update_layout(margin = dict(t=50,r=200,b=200,l=200),\n",
    "    xaxis = axis_template,\n",
    "    yaxis = axis_template,\n",
    "    showlegend = False,\n",
    "    width = 906, height = 556, title=\"Field Hockey Zones and Lanes\",\n",
    "    autosize = True )\n",
    "\n",
    "# Add image in the background\n",
    "figure_1.add_layout_image(\n",
    "        dict(\n",
    "            source=\"images/field_hockey_pitch_h.png\",\n",
    "            xref=\"x\",\n",
    "            yref=\"y\",\n",
    "            x=-0.5,\n",
    "            y=-.5 + nLanes,  #this adjusts the placement of the field image\n",
    "            sizex=nZones,\n",
    "            sizey=nLanes,\n",
    "            sizing=\"fill\",\n",
    "            opacity=0.1,\n",
    "            layer=\"above\")\n",
    ")\n",
    "\n",
    "# changes in my_cells should trigger this function\n",
    "def calculate(change):\n",
    "    figure_1.update_traces(z=list(reversed(my_cells.value)))\n",
    "    \n",
    "my_cells.observe(calculate, 'value')\n",
    "\n",
    "figure_1.show()  # use this for debugging only"
   ]
  },
  {
   "cell_type": "code",
   "execution_count": null,
   "metadata": {
    "slideshow": {
     "slide_type": "slide"
    }
   },
   "outputs": [],
   "source": [
    "# Enter data in this spreadsheet\n",
    "spread_sheet_1"
   ]
  },
  {
   "cell_type": "code",
   "execution_count": null,
   "metadata": {
    "slideshow": {
     "slide_type": "-"
    }
   },
   "outputs": [],
   "source": [
    "# Shift-return to update the figure\n",
    "figure_1.update()"
   ]
  },
  {
   "cell_type": "markdown",
   "metadata": {
    "slideshow": {
     "slide_type": "slide"
    }
   },
   "source": [
    "![hey](callysto.png)"
   ]
  },
  {
   "cell_type": "code",
   "execution_count": null,
   "metadata": {},
   "outputs": [],
   "source": [
    "my_cells.value"
   ]
  },
  {
   "cell_type": "code",
   "execution_count": null,
   "metadata": {},
   "outputs": [],
   "source": []
  }
 ],
 "metadata": {
  "celltoolbar": "Slideshow",
  "kernelspec": {
   "display_name": "Python 3",
   "language": "python",
   "name": "python3"
  },
  "language_info": {
   "codemirror_mode": {
    "name": "ipython",
    "version": 3
   },
   "file_extension": ".py",
   "mimetype": "text/x-python",
   "name": "python",
   "nbconvert_exporter": "python",
   "pygments_lexer": "ipython3",
   "version": "3.8.5"
  },
  "rise": {
   "footer": "Hey There",
   "theme": "sky"
  }
 },
 "nbformat": 4,
 "nbformat_minor": 4
}
