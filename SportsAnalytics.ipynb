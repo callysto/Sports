{
 "cells": [
  {
   "cell_type": "markdown",
   "metadata": {
    "slideshow": {
     "slide_type": "slide"
    }
   },
   "source": [
    "<centerline> \n",
    "![Callysto.ca Banner](https://github.com/callysto/curriculum-notebooks/blob/master/callysto-notebook-banner-top.jpg?raw=true)\n",
    "</centerline>\n",
    "\n",
    "<h2 align='center'>Sports Analytics in the Classroom</h2>\n",
    "\n",
    "<h4 align='center'>Tina Leard (Cybera) </h4>\n",
    "\n",
    "<h4 align='center'>Michael Lamoureux (University of Calgary) </h4>"
   ]
  },
  {
   "cell_type": "markdown",
   "metadata": {
    "slideshow": {
     "slide_type": "skip"
    }
   },
   "source": [
    "October 2020.\n",
    "\n",
    "This is a slideshow in Jupyter notebook format.\n",
    "\n",
    "To start, click on the \"Run All\" arrows above, or select the \"Kernel\" menu item and choose \"Restart & run all.\" Say yes to the confirmation.\n",
    "\n",
    "To get to slideshow mode, click on the icon in the menu bar that looks like a bar chart, as shown here. \n",
    "<img src=\"images/slideshow_icon.png\"\n",
    "     alt=\"Slideshow icon\"\n",
    "     width=200 />\n",
    "     \n",
    "You can advance the slide show using the arrow keys. Exit by clicking on that big \"X\" in the top left corner of the slide show. \n",
    "\n",
    "Note the slide show is still a live Jupyter notebook, so you can run the code and edit while in the slide show. "
   ]
  },
  {
   "cell_type": "code",
   "execution_count": 1,
   "metadata": {
    "slideshow": {
     "slide_type": "skip"
    }
   },
   "outputs": [
    {
     "name": "stdout",
     "output_type": "stream",
     "text": [
      "Requirement already satisfied: ipysheet in /home/jupyter/.local/lib/python3.8/site-packages (0.4.4)\n",
      "Requirement already satisfied: ipywidgets<8.0,>=7.5.0 in /opt/conda/lib/python3.8/site-packages (from ipysheet) (7.5.1)\n",
      "Requirement already satisfied: nbformat>=4.2.0 in /opt/conda/lib/python3.8/site-packages (from ipywidgets<8.0,>=7.5.0->ipysheet) (5.0.7)\n",
      "Requirement already satisfied: ipykernel>=4.5.1 in /opt/conda/lib/python3.8/site-packages (from ipywidgets<8.0,>=7.5.0->ipysheet) (5.3.4)\n",
      "Requirement already satisfied: widgetsnbextension~=3.5.0 in /opt/conda/lib/python3.8/site-packages (from ipywidgets<8.0,>=7.5.0->ipysheet) (3.5.1)\n",
      "Requirement already satisfied: ipython>=4.0.0; python_version >= \"3.3\" in /opt/conda/lib/python3.8/site-packages (from ipywidgets<8.0,>=7.5.0->ipysheet) (7.17.0)\n",
      "Requirement already satisfied: traitlets>=4.3.1 in /opt/conda/lib/python3.8/site-packages (from ipywidgets<8.0,>=7.5.0->ipysheet) (4.3.3)\n",
      "Requirement already satisfied: ipython-genutils in /opt/conda/lib/python3.8/site-packages (from nbformat>=4.2.0->ipywidgets<8.0,>=7.5.0->ipysheet) (0.2.0)\n",
      "Requirement already satisfied: jupyter-core in /opt/conda/lib/python3.8/site-packages (from nbformat>=4.2.0->ipywidgets<8.0,>=7.5.0->ipysheet) (4.6.3)\n",
      "Requirement already satisfied: jsonschema!=2.5.0,>=2.4 in /opt/conda/lib/python3.8/site-packages (from nbformat>=4.2.0->ipywidgets<8.0,>=7.5.0->ipysheet) (3.2.0)\n",
      "Requirement already satisfied: tornado>=4.2 in /opt/conda/lib/python3.8/site-packages (from ipykernel>=4.5.1->ipywidgets<8.0,>=7.5.0->ipysheet) (6.0.4)\n",
      "Requirement already satisfied: jupyter-client in /opt/conda/lib/python3.8/site-packages (from ipykernel>=4.5.1->ipywidgets<8.0,>=7.5.0->ipysheet) (6.1.6)\n",
      "Requirement already satisfied: notebook>=4.4.1 in /opt/conda/lib/python3.8/site-packages (from widgetsnbextension~=3.5.0->ipywidgets<8.0,>=7.5.0->ipysheet) (6.0.3)\n",
      "Requirement already satisfied: pygments in /opt/conda/lib/python3.8/site-packages (from ipython>=4.0.0; python_version >= \"3.3\"->ipywidgets<8.0,>=7.5.0->ipysheet) (2.6.1)\n",
      "Requirement already satisfied: jedi>=0.10 in /opt/conda/lib/python3.8/site-packages (from ipython>=4.0.0; python_version >= \"3.3\"->ipywidgets<8.0,>=7.5.0->ipysheet) (0.17.2)\n",
      "Requirement already satisfied: setuptools>=18.5 in /opt/conda/lib/python3.8/site-packages (from ipython>=4.0.0; python_version >= \"3.3\"->ipywidgets<8.0,>=7.5.0->ipysheet) (49.3.1.post20200810)\n",
      "Requirement already satisfied: pexpect; sys_platform != \"win32\" in /opt/conda/lib/python3.8/site-packages (from ipython>=4.0.0; python_version >= \"3.3\"->ipywidgets<8.0,>=7.5.0->ipysheet) (4.8.0)\n",
      "Requirement already satisfied: decorator in /opt/conda/lib/python3.8/site-packages (from ipython>=4.0.0; python_version >= \"3.3\"->ipywidgets<8.0,>=7.5.0->ipysheet) (4.4.2)\n",
      "Requirement already satisfied: backcall in /opt/conda/lib/python3.8/site-packages (from ipython>=4.0.0; python_version >= \"3.3\"->ipywidgets<8.0,>=7.5.0->ipysheet) (0.2.0)\n",
      "Requirement already satisfied: prompt-toolkit!=3.0.0,!=3.0.1,<3.1.0,>=2.0.0 in /opt/conda/lib/python3.8/site-packages (from ipython>=4.0.0; python_version >= \"3.3\"->ipywidgets<8.0,>=7.5.0->ipysheet) (3.0.6)\n",
      "Requirement already satisfied: pickleshare in /opt/conda/lib/python3.8/site-packages (from ipython>=4.0.0; python_version >= \"3.3\"->ipywidgets<8.0,>=7.5.0->ipysheet) (0.7.5)\n",
      "Requirement already satisfied: six in /opt/conda/lib/python3.8/site-packages (from traitlets>=4.3.1->ipywidgets<8.0,>=7.5.0->ipysheet) (1.15.0)\n",
      "Requirement already satisfied: attrs>=17.4.0 in /opt/conda/lib/python3.8/site-packages (from jsonschema!=2.5.0,>=2.4->nbformat>=4.2.0->ipywidgets<8.0,>=7.5.0->ipysheet) (19.3.0)\n",
      "Requirement already satisfied: pyrsistent>=0.14.0 in /opt/conda/lib/python3.8/site-packages (from jsonschema!=2.5.0,>=2.4->nbformat>=4.2.0->ipywidgets<8.0,>=7.5.0->ipysheet) (0.16.0)\n",
      "Requirement already satisfied: pyzmq>=13 in /opt/conda/lib/python3.8/site-packages (from jupyter-client->ipykernel>=4.5.1->ipywidgets<8.0,>=7.5.0->ipysheet) (19.0.2)\n",
      "Requirement already satisfied: python-dateutil>=2.1 in /opt/conda/lib/python3.8/site-packages (from jupyter-client->ipykernel>=4.5.1->ipywidgets<8.0,>=7.5.0->ipysheet) (2.8.1)\n",
      "Requirement already satisfied: prometheus-client in /opt/conda/lib/python3.8/site-packages (from notebook>=4.4.1->widgetsnbextension~=3.5.0->ipywidgets<8.0,>=7.5.0->ipysheet) (0.8.0)\n",
      "Requirement already satisfied: Send2Trash in /opt/conda/lib/python3.8/site-packages (from notebook>=4.4.1->widgetsnbextension~=3.5.0->ipywidgets<8.0,>=7.5.0->ipysheet) (1.5.0)\n",
      "Requirement already satisfied: nbconvert in /opt/conda/lib/python3.8/site-packages (from notebook>=4.4.1->widgetsnbextension~=3.5.0->ipywidgets<8.0,>=7.5.0->ipysheet) (5.6.1)\n",
      "Requirement already satisfied: terminado>=0.8.1 in /opt/conda/lib/python3.8/site-packages (from notebook>=4.4.1->widgetsnbextension~=3.5.0->ipywidgets<8.0,>=7.5.0->ipysheet) (0.8.3)\n",
      "Requirement already satisfied: jinja2 in /opt/conda/lib/python3.8/site-packages (from notebook>=4.4.1->widgetsnbextension~=3.5.0->ipywidgets<8.0,>=7.5.0->ipysheet) (2.11.2)\n",
      "Requirement already satisfied: parso<0.8.0,>=0.7.0 in /opt/conda/lib/python3.8/site-packages (from jedi>=0.10->ipython>=4.0.0; python_version >= \"3.3\"->ipywidgets<8.0,>=7.5.0->ipysheet) (0.7.1)\n",
      "Requirement already satisfied: ptyprocess>=0.5 in /opt/conda/lib/python3.8/site-packages (from pexpect; sys_platform != \"win32\"->ipython>=4.0.0; python_version >= \"3.3\"->ipywidgets<8.0,>=7.5.0->ipysheet) (0.6.0)\n",
      "Requirement already satisfied: wcwidth in /opt/conda/lib/python3.8/site-packages (from prompt-toolkit!=3.0.0,!=3.0.1,<3.1.0,>=2.0.0->ipython>=4.0.0; python_version >= \"3.3\"->ipywidgets<8.0,>=7.5.0->ipysheet) (0.2.5)\n",
      "Requirement already satisfied: defusedxml in /opt/conda/lib/python3.8/site-packages (from nbconvert->notebook>=4.4.1->widgetsnbextension~=3.5.0->ipywidgets<8.0,>=7.5.0->ipysheet) (0.6.0)\n",
      "Requirement already satisfied: mistune<2,>=0.8.1 in /opt/conda/lib/python3.8/site-packages (from nbconvert->notebook>=4.4.1->widgetsnbextension~=3.5.0->ipywidgets<8.0,>=7.5.0->ipysheet) (0.8.4)\n",
      "Requirement already satisfied: entrypoints>=0.2.2 in /opt/conda/lib/python3.8/site-packages (from nbconvert->notebook>=4.4.1->widgetsnbextension~=3.5.0->ipywidgets<8.0,>=7.5.0->ipysheet) (0.3)\n",
      "Requirement already satisfied: bleach in /opt/conda/lib/python3.8/site-packages (from nbconvert->notebook>=4.4.1->widgetsnbextension~=3.5.0->ipywidgets<8.0,>=7.5.0->ipysheet) (3.1.5)\n",
      "Requirement already satisfied: testpath in /opt/conda/lib/python3.8/site-packages (from nbconvert->notebook>=4.4.1->widgetsnbextension~=3.5.0->ipywidgets<8.0,>=7.5.0->ipysheet) (0.4.4)\n",
      "Requirement already satisfied: pandocfilters>=1.4.1 in /opt/conda/lib/python3.8/site-packages (from nbconvert->notebook>=4.4.1->widgetsnbextension~=3.5.0->ipywidgets<8.0,>=7.5.0->ipysheet) (1.4.2)\n",
      "Requirement already satisfied: MarkupSafe>=0.23 in /opt/conda/lib/python3.8/site-packages (from jinja2->notebook>=4.4.1->widgetsnbextension~=3.5.0->ipywidgets<8.0,>=7.5.0->ipysheet) (1.1.1)\n",
      "Requirement already satisfied: packaging in /opt/conda/lib/python3.8/site-packages (from bleach->nbconvert->notebook>=4.4.1->widgetsnbextension~=3.5.0->ipywidgets<8.0,>=7.5.0->ipysheet) (20.4)\n",
      "Requirement already satisfied: webencodings in /opt/conda/lib/python3.8/site-packages (from bleach->nbconvert->notebook>=4.4.1->widgetsnbextension~=3.5.0->ipywidgets<8.0,>=7.5.0->ipysheet) (0.5.1)\n",
      "Requirement already satisfied: pyparsing>=2.0.2 in /opt/conda/lib/python3.8/site-packages (from packaging->bleach->nbconvert->notebook>=4.4.1->widgetsnbextension~=3.5.0->ipywidgets<8.0,>=7.5.0->ipysheet) (2.4.7)\n"
     ]
    }
   ],
   "source": [
    "!pip install ipysheet --user"
   ]
  },
  {
   "cell_type": "code",
   "execution_count": 2,
   "metadata": {
    "slideshow": {
     "slide_type": "skip"
    }
   },
   "outputs": [
    {
     "name": "stdout",
     "output_type": "stream",
     "text": [
      "Enabling notebook extension ipysheet/extension...\r\n",
      "      - Validating: \u001b[32mOK\u001b[0m\r\n"
     ]
    }
   ],
   "source": [
    "!jupyter nbextension enable --py --sys-prefix --user ipysheet"
   ]
  },
  {
   "cell_type": "code",
   "execution_count": 3,
   "metadata": {
    "slideshow": {
     "slide_type": "skip"
    }
   },
   "outputs": [],
   "source": [
    "from ipysheet import sheet, cell, cell_range\n",
    "\n",
    "#import plotly.graph_objects as go\n",
    "#import cufflinks as cf\n",
    "#cf.go_offline()\n",
    "#import pandas as pd\n",
    "#import numpy as np\n",
    "#%matplotlib inline\n"
   ]
  },
  {
   "cell_type": "markdown",
   "metadata": {
    "slideshow": {
     "slide_type": "slide"
    }
   },
   "source": [
    "## Outline for Analytics in the Classroom\n",
    "\n",
    "- focus on data visualization\n",
    "- use sports as a good source of interesting data\n",
    "- use modern tools: Python, Jupyter notebooks"
   ]
  },
  {
   "cell_type": "markdown",
   "metadata": {
    "slideshow": {
     "slide_type": "slide"
    }
   },
   "source": [
    "## A Field Hockey Pitch\n",
    "\n",
    "<img src=\"images/field_hockey_pitch_h_0.png\"\n",
    "     alt=\"Field Hockey Pitch\"\n",
    "     width=800 />"
   ]
  },
  {
   "cell_type": "markdown",
   "metadata": {
    "slideshow": {
     "slide_type": "slide"
    }
   },
   "source": [
    "## Circle Zones in Goal Area\n",
    "\n",
    "A background for visualization\n",
    "\n",
    "<img src=\"images/field_hockey_circle_zones.png\"\n",
    "     alt=\"Field Hockey Circle Zones\"\n",
    "     width=800 />"
   ]
  },
  {
   "cell_type": "markdown",
   "metadata": {
    "slideshow": {
     "slide_type": "slide"
    }
   },
   "source": [
    "## A Quidditch Pitch (for my son)\n",
    "\n",
    "<img src=\"images/quidditch_pitch.png\"\n",
    "     alt=\"Quidditch Pitch\"\n",
    "     width=800 />"
   ]
  },
  {
   "cell_type": "code",
   "execution_count": 7,
   "metadata": {
    "slideshow": {
     "slide_type": "skip"
    }
   },
   "outputs": [],
   "source": [
    "spread_sheet = sheet()\n",
    "cell(1,1, \"It's Alive!\");"
   ]
  },
  {
   "cell_type": "markdown",
   "metadata": {
    "slideshow": {
     "slide_type": "slide"
    }
   },
   "source": [
    "## Using Spreadsheets, Live"
   ]
  },
  {
   "cell_type": "code",
   "execution_count": 8,
   "metadata": {
    "slideshow": {
     "slide_type": "-"
    }
   },
   "outputs": [
    {
     "data": {
      "application/vnd.jupyter.widget-view+json": {
       "model_id": "0d8bef033a49424fa7b5a7cf70a555f9",
       "version_major": 2,
       "version_minor": 0
      },
      "text/plain": [
       "Sheet(cells=(Cell(column_end=1, column_start=1, row_end=1, row_start=1, type='text', value=\"It's Alive!\"),), c…"
      ]
     },
     "metadata": {},
     "output_type": "display_data"
    }
   ],
   "source": [
    "spread_sheet"
   ]
  },
  {
   "cell_type": "code",
   "execution_count": 7,
   "metadata": {
    "slideshow": {
     "slide_type": "skip"
    }
   },
   "outputs": [
    {
     "data": {
      "text/html": [
       "        <script type=\"text/javascript\">\n",
       "        window.PlotlyConfig = {MathJaxConfig: 'local'};\n",
       "        if (window.MathJax) {MathJax.Hub.Config({SVG: {font: \"STIX-Web\"}});}\n",
       "        if (typeof require !== 'undefined') {\n",
       "        require.undef(\"plotly\");\n",
       "        requirejs.config({\n",
       "            paths: {\n",
       "                'plotly': ['https://cdn.plot.ly/plotly-latest.min']\n",
       "            }\n",
       "        });\n",
       "        require(['plotly'], function(Plotly) {\n",
       "            window._Plotly = Plotly;\n",
       "        });\n",
       "        }\n",
       "        </script>\n",
       "        "
      ]
     },
     "metadata": {},
     "output_type": "display_data"
    }
   ],
   "source": [
    "import plotly.graph_objects as go\n",
    "import cufflinks as cf\n",
    "cf.go_offline()\n",
    "import pandas as pd\n",
    "import numpy as np\n",
    "%matplotlib inline"
   ]
  },
  {
   "cell_type": "code",
   "execution_count": 8,
   "metadata": {
    "slideshow": {
     "slide_type": "skip"
    }
   },
   "outputs": [
    {
     "data": {
      "application/vnd.plotly.v1+json": {
       "config": {
        "plotlyServerURL": "https://plot.ly"
       },
       "data": [
        {
         "colorscale": [
          [
           0,
           "rgb(253, 224, 197)"
          ],
          [
           0.16666666666666666,
           "rgb(250, 203, 166)"
          ],
          [
           0.3333333333333333,
           "rgb(248, 181, 139)"
          ],
          [
           0.5,
           "rgb(245, 158, 114)"
          ],
          [
           0.6666666666666666,
           "rgb(242, 133, 93)"
          ],
          [
           0.8333333333333334,
           "rgb(239, 106, 76)"
          ],
          [
           1,
           "rgb(235, 74, 64)"
          ]
         ],
         "opacity": 1,
         "type": "heatmap",
         "x": [
          "Zone 1",
          "Zone 2",
          "Zone 3",
          "Zone 4"
         ],
         "y": [
          "Lane 1",
          "Lane 2",
          "Lane 3"
         ],
         "z": [
          [
           3,
           3,
           1,
           3
          ],
          [
           2,
           2,
           1,
           3
          ],
          [
           1,
           1,
           1,
           3
          ]
         ]
        }
       ],
       "layout": {
        "autosize": true,
        "height": 556,
        "images": [
         {
          "layer": "above",
          "opacity": 0.7,
          "sizex": 4,
          "sizey": 3,
          "sizing": "fill",
          "source": "images/field_hockey_pitch_h_0.png",
          "x": -0.5,
          "xref": "x",
          "y": 2.5,
          "yref": "y"
         }
        ],
        "margin": {
         "b": 200,
         "l": 200,
         "r": 200,
         "t": 50
        },
        "showlegend": false,
        "template": {
         "data": {
          "bar": [
           {
            "error_x": {
             "color": "#2a3f5f"
            },
            "error_y": {
             "color": "#2a3f5f"
            },
            "marker": {
             "line": {
              "color": "#E5ECF6",
              "width": 0.5
             }
            },
            "type": "bar"
           }
          ],
          "barpolar": [
           {
            "marker": {
             "line": {
              "color": "#E5ECF6",
              "width": 0.5
             }
            },
            "type": "barpolar"
           }
          ],
          "carpet": [
           {
            "aaxis": {
             "endlinecolor": "#2a3f5f",
             "gridcolor": "white",
             "linecolor": "white",
             "minorgridcolor": "white",
             "startlinecolor": "#2a3f5f"
            },
            "baxis": {
             "endlinecolor": "#2a3f5f",
             "gridcolor": "white",
             "linecolor": "white",
             "minorgridcolor": "white",
             "startlinecolor": "#2a3f5f"
            },
            "type": "carpet"
           }
          ],
          "choropleth": [
           {
            "colorbar": {
             "outlinewidth": 0,
             "ticks": ""
            },
            "type": "choropleth"
           }
          ],
          "contour": [
           {
            "colorbar": {
             "outlinewidth": 0,
             "ticks": ""
            },
            "colorscale": [
             [
              0,
              "#0d0887"
             ],
             [
              0.1111111111111111,
              "#46039f"
             ],
             [
              0.2222222222222222,
              "#7201a8"
             ],
             [
              0.3333333333333333,
              "#9c179e"
             ],
             [
              0.4444444444444444,
              "#bd3786"
             ],
             [
              0.5555555555555556,
              "#d8576b"
             ],
             [
              0.6666666666666666,
              "#ed7953"
             ],
             [
              0.7777777777777778,
              "#fb9f3a"
             ],
             [
              0.8888888888888888,
              "#fdca26"
             ],
             [
              1,
              "#f0f921"
             ]
            ],
            "type": "contour"
           }
          ],
          "contourcarpet": [
           {
            "colorbar": {
             "outlinewidth": 0,
             "ticks": ""
            },
            "type": "contourcarpet"
           }
          ],
          "heatmap": [
           {
            "colorbar": {
             "outlinewidth": 0,
             "ticks": ""
            },
            "colorscale": [
             [
              0,
              "#0d0887"
             ],
             [
              0.1111111111111111,
              "#46039f"
             ],
             [
              0.2222222222222222,
              "#7201a8"
             ],
             [
              0.3333333333333333,
              "#9c179e"
             ],
             [
              0.4444444444444444,
              "#bd3786"
             ],
             [
              0.5555555555555556,
              "#d8576b"
             ],
             [
              0.6666666666666666,
              "#ed7953"
             ],
             [
              0.7777777777777778,
              "#fb9f3a"
             ],
             [
              0.8888888888888888,
              "#fdca26"
             ],
             [
              1,
              "#f0f921"
             ]
            ],
            "type": "heatmap"
           }
          ],
          "heatmapgl": [
           {
            "colorbar": {
             "outlinewidth": 0,
             "ticks": ""
            },
            "colorscale": [
             [
              0,
              "#0d0887"
             ],
             [
              0.1111111111111111,
              "#46039f"
             ],
             [
              0.2222222222222222,
              "#7201a8"
             ],
             [
              0.3333333333333333,
              "#9c179e"
             ],
             [
              0.4444444444444444,
              "#bd3786"
             ],
             [
              0.5555555555555556,
              "#d8576b"
             ],
             [
              0.6666666666666666,
              "#ed7953"
             ],
             [
              0.7777777777777778,
              "#fb9f3a"
             ],
             [
              0.8888888888888888,
              "#fdca26"
             ],
             [
              1,
              "#f0f921"
             ]
            ],
            "type": "heatmapgl"
           }
          ],
          "histogram": [
           {
            "marker": {
             "colorbar": {
              "outlinewidth": 0,
              "ticks": ""
             }
            },
            "type": "histogram"
           }
          ],
          "histogram2d": [
           {
            "colorbar": {
             "outlinewidth": 0,
             "ticks": ""
            },
            "colorscale": [
             [
              0,
              "#0d0887"
             ],
             [
              0.1111111111111111,
              "#46039f"
             ],
             [
              0.2222222222222222,
              "#7201a8"
             ],
             [
              0.3333333333333333,
              "#9c179e"
             ],
             [
              0.4444444444444444,
              "#bd3786"
             ],
             [
              0.5555555555555556,
              "#d8576b"
             ],
             [
              0.6666666666666666,
              "#ed7953"
             ],
             [
              0.7777777777777778,
              "#fb9f3a"
             ],
             [
              0.8888888888888888,
              "#fdca26"
             ],
             [
              1,
              "#f0f921"
             ]
            ],
            "type": "histogram2d"
           }
          ],
          "histogram2dcontour": [
           {
            "colorbar": {
             "outlinewidth": 0,
             "ticks": ""
            },
            "colorscale": [
             [
              0,
              "#0d0887"
             ],
             [
              0.1111111111111111,
              "#46039f"
             ],
             [
              0.2222222222222222,
              "#7201a8"
             ],
             [
              0.3333333333333333,
              "#9c179e"
             ],
             [
              0.4444444444444444,
              "#bd3786"
             ],
             [
              0.5555555555555556,
              "#d8576b"
             ],
             [
              0.6666666666666666,
              "#ed7953"
             ],
             [
              0.7777777777777778,
              "#fb9f3a"
             ],
             [
              0.8888888888888888,
              "#fdca26"
             ],
             [
              1,
              "#f0f921"
             ]
            ],
            "type": "histogram2dcontour"
           }
          ],
          "mesh3d": [
           {
            "colorbar": {
             "outlinewidth": 0,
             "ticks": ""
            },
            "type": "mesh3d"
           }
          ],
          "parcoords": [
           {
            "line": {
             "colorbar": {
              "outlinewidth": 0,
              "ticks": ""
             }
            },
            "type": "parcoords"
           }
          ],
          "pie": [
           {
            "automargin": true,
            "type": "pie"
           }
          ],
          "scatter": [
           {
            "marker": {
             "colorbar": {
              "outlinewidth": 0,
              "ticks": ""
             }
            },
            "type": "scatter"
           }
          ],
          "scatter3d": [
           {
            "line": {
             "colorbar": {
              "outlinewidth": 0,
              "ticks": ""
             }
            },
            "marker": {
             "colorbar": {
              "outlinewidth": 0,
              "ticks": ""
             }
            },
            "type": "scatter3d"
           }
          ],
          "scattercarpet": [
           {
            "marker": {
             "colorbar": {
              "outlinewidth": 0,
              "ticks": ""
             }
            },
            "type": "scattercarpet"
           }
          ],
          "scattergeo": [
           {
            "marker": {
             "colorbar": {
              "outlinewidth": 0,
              "ticks": ""
             }
            },
            "type": "scattergeo"
           }
          ],
          "scattergl": [
           {
            "marker": {
             "colorbar": {
              "outlinewidth": 0,
              "ticks": ""
             }
            },
            "type": "scattergl"
           }
          ],
          "scattermapbox": [
           {
            "marker": {
             "colorbar": {
              "outlinewidth": 0,
              "ticks": ""
             }
            },
            "type": "scattermapbox"
           }
          ],
          "scatterpolar": [
           {
            "marker": {
             "colorbar": {
              "outlinewidth": 0,
              "ticks": ""
             }
            },
            "type": "scatterpolar"
           }
          ],
          "scatterpolargl": [
           {
            "marker": {
             "colorbar": {
              "outlinewidth": 0,
              "ticks": ""
             }
            },
            "type": "scatterpolargl"
           }
          ],
          "scatterternary": [
           {
            "marker": {
             "colorbar": {
              "outlinewidth": 0,
              "ticks": ""
             }
            },
            "type": "scatterternary"
           }
          ],
          "surface": [
           {
            "colorbar": {
             "outlinewidth": 0,
             "ticks": ""
            },
            "colorscale": [
             [
              0,
              "#0d0887"
             ],
             [
              0.1111111111111111,
              "#46039f"
             ],
             [
              0.2222222222222222,
              "#7201a8"
             ],
             [
              0.3333333333333333,
              "#9c179e"
             ],
             [
              0.4444444444444444,
              "#bd3786"
             ],
             [
              0.5555555555555556,
              "#d8576b"
             ],
             [
              0.6666666666666666,
              "#ed7953"
             ],
             [
              0.7777777777777778,
              "#fb9f3a"
             ],
             [
              0.8888888888888888,
              "#fdca26"
             ],
             [
              1,
              "#f0f921"
             ]
            ],
            "type": "surface"
           }
          ],
          "table": [
           {
            "cells": {
             "fill": {
              "color": "#EBF0F8"
             },
             "line": {
              "color": "white"
             }
            },
            "header": {
             "fill": {
              "color": "#C8D4E3"
             },
             "line": {
              "color": "white"
             }
            },
            "type": "table"
           }
          ]
         },
         "layout": {
          "annotationdefaults": {
           "arrowcolor": "#2a3f5f",
           "arrowhead": 0,
           "arrowwidth": 1
          },
          "coloraxis": {
           "colorbar": {
            "outlinewidth": 0,
            "ticks": ""
           }
          },
          "colorscale": {
           "diverging": [
            [
             0,
             "#8e0152"
            ],
            [
             0.1,
             "#c51b7d"
            ],
            [
             0.2,
             "#de77ae"
            ],
            [
             0.3,
             "#f1b6da"
            ],
            [
             0.4,
             "#fde0ef"
            ],
            [
             0.5,
             "#f7f7f7"
            ],
            [
             0.6,
             "#e6f5d0"
            ],
            [
             0.7,
             "#b8e186"
            ],
            [
             0.8,
             "#7fbc41"
            ],
            [
             0.9,
             "#4d9221"
            ],
            [
             1,
             "#276419"
            ]
           ],
           "sequential": [
            [
             0,
             "#0d0887"
            ],
            [
             0.1111111111111111,
             "#46039f"
            ],
            [
             0.2222222222222222,
             "#7201a8"
            ],
            [
             0.3333333333333333,
             "#9c179e"
            ],
            [
             0.4444444444444444,
             "#bd3786"
            ],
            [
             0.5555555555555556,
             "#d8576b"
            ],
            [
             0.6666666666666666,
             "#ed7953"
            ],
            [
             0.7777777777777778,
             "#fb9f3a"
            ],
            [
             0.8888888888888888,
             "#fdca26"
            ],
            [
             1,
             "#f0f921"
            ]
           ],
           "sequentialminus": [
            [
             0,
             "#0d0887"
            ],
            [
             0.1111111111111111,
             "#46039f"
            ],
            [
             0.2222222222222222,
             "#7201a8"
            ],
            [
             0.3333333333333333,
             "#9c179e"
            ],
            [
             0.4444444444444444,
             "#bd3786"
            ],
            [
             0.5555555555555556,
             "#d8576b"
            ],
            [
             0.6666666666666666,
             "#ed7953"
            ],
            [
             0.7777777777777778,
             "#fb9f3a"
            ],
            [
             0.8888888888888888,
             "#fdca26"
            ],
            [
             1,
             "#f0f921"
            ]
           ]
          },
          "colorway": [
           "#636efa",
           "#EF553B",
           "#00cc96",
           "#ab63fa",
           "#FFA15A",
           "#19d3f3",
           "#FF6692",
           "#B6E880",
           "#FF97FF",
           "#FECB52"
          ],
          "font": {
           "color": "#2a3f5f"
          },
          "geo": {
           "bgcolor": "white",
           "lakecolor": "white",
           "landcolor": "#E5ECF6",
           "showlakes": true,
           "showland": true,
           "subunitcolor": "white"
          },
          "hoverlabel": {
           "align": "left"
          },
          "hovermode": "closest",
          "mapbox": {
           "style": "light"
          },
          "paper_bgcolor": "white",
          "plot_bgcolor": "#E5ECF6",
          "polar": {
           "angularaxis": {
            "gridcolor": "white",
            "linecolor": "white",
            "ticks": ""
           },
           "bgcolor": "#E5ECF6",
           "radialaxis": {
            "gridcolor": "white",
            "linecolor": "white",
            "ticks": ""
           }
          },
          "scene": {
           "xaxis": {
            "backgroundcolor": "#E5ECF6",
            "gridcolor": "white",
            "gridwidth": 2,
            "linecolor": "white",
            "showbackground": true,
            "ticks": "",
            "zerolinecolor": "white"
           },
           "yaxis": {
            "backgroundcolor": "#E5ECF6",
            "gridcolor": "white",
            "gridwidth": 2,
            "linecolor": "white",
            "showbackground": true,
            "ticks": "",
            "zerolinecolor": "white"
           },
           "zaxis": {
            "backgroundcolor": "#E5ECF6",
            "gridcolor": "white",
            "gridwidth": 2,
            "linecolor": "white",
            "showbackground": true,
            "ticks": "",
            "zerolinecolor": "white"
           }
          },
          "shapedefaults": {
           "line": {
            "color": "#2a3f5f"
           }
          },
          "ternary": {
           "aaxis": {
            "gridcolor": "white",
            "linecolor": "white",
            "ticks": ""
           },
           "baxis": {
            "gridcolor": "white",
            "linecolor": "white",
            "ticks": ""
           },
           "bgcolor": "#E5ECF6",
           "caxis": {
            "gridcolor": "white",
            "linecolor": "white",
            "ticks": ""
           }
          },
          "title": {
           "x": 0.05
          },
          "xaxis": {
           "automargin": true,
           "gridcolor": "white",
           "linecolor": "white",
           "ticks": "",
           "title": {
            "standoff": 15
           },
           "zerolinecolor": "white",
           "zerolinewidth": 2
          },
          "yaxis": {
           "automargin": true,
           "gridcolor": "white",
           "linecolor": "white",
           "ticks": "",
           "title": {
            "standoff": 15
           },
           "zerolinecolor": "white",
           "zerolinewidth": 2
          }
         }
        },
        "title": {
         "text": "Field Hockey Zones and Lanes"
        },
        "width": 906,
        "xaxis": {
         "autorange": true,
         "linecolor": "black",
         "range": [
          0,
          5
         ],
         "showgrid": false,
         "showticklabels": true,
         "ticks": "outside",
         "zeroline": true
        },
        "yaxis": {
         "autorange": true,
         "linecolor": "black",
         "range": [
          0,
          5
         ],
         "showgrid": false,
         "showticklabels": true,
         "ticks": "outside",
         "zeroline": true
        }
       }
      },
      "text/html": [
       "<div>\n",
       "        \n",
       "        \n",
       "            <div id=\"7cc6a97d-dc10-4a1a-942e-41a66c5122bf\" class=\"plotly-graph-div\" style=\"height:556px; width:906px;\"></div>\n",
       "            <script type=\"text/javascript\">\n",
       "                require([\"plotly\"], function(Plotly) {\n",
       "                    window.PLOTLYENV=window.PLOTLYENV || {};\n",
       "                    \n",
       "                if (document.getElementById(\"7cc6a97d-dc10-4a1a-942e-41a66c5122bf\")) {\n",
       "                    Plotly.newPlot(\n",
       "                        '7cc6a97d-dc10-4a1a-942e-41a66c5122bf',\n",
       "                        [{\"colorscale\": [[0.0, \"rgb(253, 224, 197)\"], [0.16666666666666666, \"rgb(250, 203, 166)\"], [0.3333333333333333, \"rgb(248, 181, 139)\"], [0.5, \"rgb(245, 158, 114)\"], [0.6666666666666666, \"rgb(242, 133, 93)\"], [0.8333333333333334, \"rgb(239, 106, 76)\"], [1.0, \"rgb(235, 74, 64)\"]], \"opacity\": 1.0, \"type\": \"heatmap\", \"x\": [\"Zone 1\", \"Zone 2\", \"Zone 3\", \"Zone 4\"], \"y\": [\"Lane 1\", \"Lane 2\", \"Lane 3\"], \"z\": [[3, 3, 1, 3], [2, 2, 1, 3], [1, 1, 1, 3]]}],\n",
       "                        {\"autosize\": true, \"height\": 556, \"images\": [{\"layer\": \"above\", \"opacity\": 0.7, \"sizex\": 4, \"sizey\": 3, \"sizing\": \"fill\", \"source\": \"images/field_hockey_pitch_h_0.png\", \"x\": -0.5, \"xref\": \"x\", \"y\": 2.5, \"yref\": \"y\"}], \"margin\": {\"b\": 200, \"l\": 200, \"r\": 200, \"t\": 50}, \"showlegend\": false, \"template\": {\"data\": {\"bar\": [{\"error_x\": {\"color\": \"#2a3f5f\"}, \"error_y\": {\"color\": \"#2a3f5f\"}, \"marker\": {\"line\": {\"color\": \"#E5ECF6\", \"width\": 0.5}}, \"type\": \"bar\"}], \"barpolar\": [{\"marker\": {\"line\": {\"color\": \"#E5ECF6\", \"width\": 0.5}}, \"type\": \"barpolar\"}], \"carpet\": [{\"aaxis\": {\"endlinecolor\": \"#2a3f5f\", \"gridcolor\": \"white\", \"linecolor\": \"white\", \"minorgridcolor\": \"white\", \"startlinecolor\": \"#2a3f5f\"}, \"baxis\": {\"endlinecolor\": \"#2a3f5f\", \"gridcolor\": \"white\", \"linecolor\": \"white\", \"minorgridcolor\": \"white\", \"startlinecolor\": \"#2a3f5f\"}, \"type\": \"carpet\"}], \"choropleth\": [{\"colorbar\": {\"outlinewidth\": 0, \"ticks\": \"\"}, \"type\": \"choropleth\"}], \"contour\": [{\"colorbar\": {\"outlinewidth\": 0, \"ticks\": \"\"}, \"colorscale\": [[0.0, \"#0d0887\"], [0.1111111111111111, \"#46039f\"], [0.2222222222222222, \"#7201a8\"], [0.3333333333333333, \"#9c179e\"], [0.4444444444444444, \"#bd3786\"], [0.5555555555555556, \"#d8576b\"], [0.6666666666666666, \"#ed7953\"], [0.7777777777777778, \"#fb9f3a\"], [0.8888888888888888, \"#fdca26\"], [1.0, \"#f0f921\"]], \"type\": \"contour\"}], \"contourcarpet\": [{\"colorbar\": {\"outlinewidth\": 0, \"ticks\": \"\"}, \"type\": \"contourcarpet\"}], \"heatmap\": [{\"colorbar\": {\"outlinewidth\": 0, \"ticks\": \"\"}, \"colorscale\": [[0.0, \"#0d0887\"], [0.1111111111111111, \"#46039f\"], [0.2222222222222222, \"#7201a8\"], [0.3333333333333333, \"#9c179e\"], [0.4444444444444444, \"#bd3786\"], [0.5555555555555556, \"#d8576b\"], [0.6666666666666666, \"#ed7953\"], [0.7777777777777778, \"#fb9f3a\"], [0.8888888888888888, \"#fdca26\"], [1.0, \"#f0f921\"]], \"type\": \"heatmap\"}], \"heatmapgl\": [{\"colorbar\": {\"outlinewidth\": 0, \"ticks\": \"\"}, \"colorscale\": [[0.0, \"#0d0887\"], [0.1111111111111111, \"#46039f\"], [0.2222222222222222, \"#7201a8\"], [0.3333333333333333, \"#9c179e\"], [0.4444444444444444, \"#bd3786\"], [0.5555555555555556, \"#d8576b\"], [0.6666666666666666, \"#ed7953\"], [0.7777777777777778, \"#fb9f3a\"], [0.8888888888888888, \"#fdca26\"], [1.0, \"#f0f921\"]], \"type\": \"heatmapgl\"}], \"histogram\": [{\"marker\": {\"colorbar\": {\"outlinewidth\": 0, \"ticks\": \"\"}}, \"type\": \"histogram\"}], \"histogram2d\": [{\"colorbar\": {\"outlinewidth\": 0, \"ticks\": \"\"}, \"colorscale\": [[0.0, \"#0d0887\"], [0.1111111111111111, \"#46039f\"], [0.2222222222222222, \"#7201a8\"], [0.3333333333333333, \"#9c179e\"], [0.4444444444444444, \"#bd3786\"], [0.5555555555555556, \"#d8576b\"], [0.6666666666666666, \"#ed7953\"], [0.7777777777777778, \"#fb9f3a\"], [0.8888888888888888, \"#fdca26\"], [1.0, \"#f0f921\"]], \"type\": \"histogram2d\"}], \"histogram2dcontour\": [{\"colorbar\": {\"outlinewidth\": 0, \"ticks\": \"\"}, \"colorscale\": [[0.0, \"#0d0887\"], [0.1111111111111111, \"#46039f\"], [0.2222222222222222, \"#7201a8\"], [0.3333333333333333, \"#9c179e\"], [0.4444444444444444, \"#bd3786\"], [0.5555555555555556, \"#d8576b\"], [0.6666666666666666, \"#ed7953\"], [0.7777777777777778, \"#fb9f3a\"], [0.8888888888888888, \"#fdca26\"], [1.0, \"#f0f921\"]], \"type\": \"histogram2dcontour\"}], \"mesh3d\": [{\"colorbar\": {\"outlinewidth\": 0, \"ticks\": \"\"}, \"type\": \"mesh3d\"}], \"parcoords\": [{\"line\": {\"colorbar\": {\"outlinewidth\": 0, \"ticks\": \"\"}}, \"type\": \"parcoords\"}], \"pie\": [{\"automargin\": true, \"type\": \"pie\"}], \"scatter\": [{\"marker\": {\"colorbar\": {\"outlinewidth\": 0, \"ticks\": \"\"}}, \"type\": \"scatter\"}], \"scatter3d\": [{\"line\": {\"colorbar\": {\"outlinewidth\": 0, \"ticks\": \"\"}}, \"marker\": {\"colorbar\": {\"outlinewidth\": 0, \"ticks\": \"\"}}, \"type\": \"scatter3d\"}], \"scattercarpet\": [{\"marker\": {\"colorbar\": {\"outlinewidth\": 0, \"ticks\": \"\"}}, \"type\": \"scattercarpet\"}], \"scattergeo\": [{\"marker\": {\"colorbar\": {\"outlinewidth\": 0, \"ticks\": \"\"}}, \"type\": \"scattergeo\"}], \"scattergl\": [{\"marker\": {\"colorbar\": {\"outlinewidth\": 0, \"ticks\": \"\"}}, \"type\": \"scattergl\"}], \"scattermapbox\": [{\"marker\": {\"colorbar\": {\"outlinewidth\": 0, \"ticks\": \"\"}}, \"type\": \"scattermapbox\"}], \"scatterpolar\": [{\"marker\": {\"colorbar\": {\"outlinewidth\": 0, \"ticks\": \"\"}}, \"type\": \"scatterpolar\"}], \"scatterpolargl\": [{\"marker\": {\"colorbar\": {\"outlinewidth\": 0, \"ticks\": \"\"}}, \"type\": \"scatterpolargl\"}], \"scatterternary\": [{\"marker\": {\"colorbar\": {\"outlinewidth\": 0, \"ticks\": \"\"}}, \"type\": \"scatterternary\"}], \"surface\": [{\"colorbar\": {\"outlinewidth\": 0, \"ticks\": \"\"}, \"colorscale\": [[0.0, \"#0d0887\"], [0.1111111111111111, \"#46039f\"], [0.2222222222222222, \"#7201a8\"], [0.3333333333333333, \"#9c179e\"], [0.4444444444444444, \"#bd3786\"], [0.5555555555555556, \"#d8576b\"], [0.6666666666666666, \"#ed7953\"], [0.7777777777777778, \"#fb9f3a\"], [0.8888888888888888, \"#fdca26\"], [1.0, \"#f0f921\"]], \"type\": \"surface\"}], \"table\": [{\"cells\": {\"fill\": {\"color\": \"#EBF0F8\"}, \"line\": {\"color\": \"white\"}}, \"header\": {\"fill\": {\"color\": \"#C8D4E3\"}, \"line\": {\"color\": \"white\"}}, \"type\": \"table\"}]}, \"layout\": {\"annotationdefaults\": {\"arrowcolor\": \"#2a3f5f\", \"arrowhead\": 0, \"arrowwidth\": 1}, \"coloraxis\": {\"colorbar\": {\"outlinewidth\": 0, \"ticks\": \"\"}}, \"colorscale\": {\"diverging\": [[0, \"#8e0152\"], [0.1, \"#c51b7d\"], [0.2, \"#de77ae\"], [0.3, \"#f1b6da\"], [0.4, \"#fde0ef\"], [0.5, \"#f7f7f7\"], [0.6, \"#e6f5d0\"], [0.7, \"#b8e186\"], [0.8, \"#7fbc41\"], [0.9, \"#4d9221\"], [1, \"#276419\"]], \"sequential\": [[0.0, \"#0d0887\"], [0.1111111111111111, \"#46039f\"], [0.2222222222222222, \"#7201a8\"], [0.3333333333333333, \"#9c179e\"], [0.4444444444444444, \"#bd3786\"], [0.5555555555555556, \"#d8576b\"], [0.6666666666666666, \"#ed7953\"], [0.7777777777777778, \"#fb9f3a\"], [0.8888888888888888, \"#fdca26\"], [1.0, \"#f0f921\"]], \"sequentialminus\": [[0.0, \"#0d0887\"], [0.1111111111111111, \"#46039f\"], [0.2222222222222222, \"#7201a8\"], [0.3333333333333333, \"#9c179e\"], [0.4444444444444444, \"#bd3786\"], [0.5555555555555556, \"#d8576b\"], [0.6666666666666666, \"#ed7953\"], [0.7777777777777778, \"#fb9f3a\"], [0.8888888888888888, \"#fdca26\"], [1.0, \"#f0f921\"]]}, \"colorway\": [\"#636efa\", \"#EF553B\", \"#00cc96\", \"#ab63fa\", \"#FFA15A\", \"#19d3f3\", \"#FF6692\", \"#B6E880\", \"#FF97FF\", \"#FECB52\"], \"font\": {\"color\": \"#2a3f5f\"}, \"geo\": {\"bgcolor\": \"white\", \"lakecolor\": \"white\", \"landcolor\": \"#E5ECF6\", \"showlakes\": true, \"showland\": true, \"subunitcolor\": \"white\"}, \"hoverlabel\": {\"align\": \"left\"}, \"hovermode\": \"closest\", \"mapbox\": {\"style\": \"light\"}, \"paper_bgcolor\": \"white\", \"plot_bgcolor\": \"#E5ECF6\", \"polar\": {\"angularaxis\": {\"gridcolor\": \"white\", \"linecolor\": \"white\", \"ticks\": \"\"}, \"bgcolor\": \"#E5ECF6\", \"radialaxis\": {\"gridcolor\": \"white\", \"linecolor\": \"white\", \"ticks\": \"\"}}, \"scene\": {\"xaxis\": {\"backgroundcolor\": \"#E5ECF6\", \"gridcolor\": \"white\", \"gridwidth\": 2, \"linecolor\": \"white\", \"showbackground\": true, \"ticks\": \"\", \"zerolinecolor\": \"white\"}, \"yaxis\": {\"backgroundcolor\": \"#E5ECF6\", \"gridcolor\": \"white\", \"gridwidth\": 2, \"linecolor\": \"white\", \"showbackground\": true, \"ticks\": \"\", \"zerolinecolor\": \"white\"}, \"zaxis\": {\"backgroundcolor\": \"#E5ECF6\", \"gridcolor\": \"white\", \"gridwidth\": 2, \"linecolor\": \"white\", \"showbackground\": true, \"ticks\": \"\", \"zerolinecolor\": \"white\"}}, \"shapedefaults\": {\"line\": {\"color\": \"#2a3f5f\"}}, \"ternary\": {\"aaxis\": {\"gridcolor\": \"white\", \"linecolor\": \"white\", \"ticks\": \"\"}, \"baxis\": {\"gridcolor\": \"white\", \"linecolor\": \"white\", \"ticks\": \"\"}, \"bgcolor\": \"#E5ECF6\", \"caxis\": {\"gridcolor\": \"white\", \"linecolor\": \"white\", \"ticks\": \"\"}}, \"title\": {\"x\": 0.05}, \"xaxis\": {\"automargin\": true, \"gridcolor\": \"white\", \"linecolor\": \"white\", \"ticks\": \"\", \"title\": {\"standoff\": 15}, \"zerolinecolor\": \"white\", \"zerolinewidth\": 2}, \"yaxis\": {\"automargin\": true, \"gridcolor\": \"white\", \"linecolor\": \"white\", \"ticks\": \"\", \"title\": {\"standoff\": 15}, \"zerolinecolor\": \"white\", \"zerolinewidth\": 2}}}, \"title\": {\"text\": \"Field Hockey Zones and Lanes\"}, \"width\": 906, \"xaxis\": {\"autorange\": true, \"linecolor\": \"black\", \"range\": [0, 5], \"showgrid\": false, \"showticklabels\": true, \"ticks\": \"outside\", \"zeroline\": true}, \"yaxis\": {\"autorange\": true, \"linecolor\": \"black\", \"range\": [0, 5], \"showgrid\": false, \"showticklabels\": true, \"ticks\": \"outside\", \"zeroline\": true}},\n",
       "                        {\"responsive\": true}\n",
       "                    ).then(function(){\n",
       "                            \n",
       "var gd = document.getElementById('7cc6a97d-dc10-4a1a-942e-41a66c5122bf');\n",
       "var x = new MutationObserver(function (mutations, observer) {{\n",
       "        var display = window.getComputedStyle(gd).display;\n",
       "        if (!display || display === 'none') {{\n",
       "            console.log([gd, 'removed!']);\n",
       "            Plotly.purge(gd);\n",
       "            observer.disconnect();\n",
       "        }}\n",
       "}});\n",
       "\n",
       "// Listen for the removal of the full notebook cells\n",
       "var notebookContainer = gd.closest('#notebook-container');\n",
       "if (notebookContainer) {{\n",
       "    x.observe(notebookContainer, {childList: true});\n",
       "}}\n",
       "\n",
       "// Listen for the clearing of the current output cell\n",
       "var outputEl = gd.closest('.output');\n",
       "if (outputEl) {{\n",
       "    x.observe(outputEl, {childList: true});\n",
       "}}\n",
       "\n",
       "                        })\n",
       "                };\n",
       "                });\n",
       "            </script>\n",
       "        </div>"
      ]
     },
     "metadata": {},
     "output_type": "display_data"
    }
   ],
   "source": [
    "# We set up a spreadsheet, and a figure, that will be linked together.\n",
    "\n",
    "# set these for number of lanes, number of zones\n",
    "nLanes = 3\n",
    "nZones = 4\n",
    "\n",
    "# We need a list of Lanes and Zones. Could be long.\n",
    "LaneList = ['Lane 1','Lane 2','Lane 3','Lane 4','Lane 5','Lane 6','Lane 7','Lane 8']\n",
    "ZoneList = ['Zone 1','Zone 2','Zone 3','Zone 4','Zone 5','Zone 6','Zone 7','Zone 8']\n",
    "\n",
    "# here is the spreadsheet, using ipysheets function\n",
    "\n",
    "spread_sheet_1 = sheet(rows=nLanes, columns=nZones, \\\n",
    "                       column_headers=ZoneList[0:nZones], \\\n",
    "                       row_headers = LaneList[nLanes-1::-1])\n",
    "my_cells = cell_range([[1,1,1,3],[2,2,1,3],[3,3,1,3]],row_start=0,col_start=0,numeric_format=\"int\")\n",
    "\n",
    "\n",
    "figure_1 = go.Figure(data=go.Heatmap(\n",
    "          y = LaneList[0:nLanes],\n",
    "          x = ZoneList[0:nZones],\n",
    "          z =list(reversed(my_cells.value)),\n",
    "          type = 'heatmap',\n",
    "          colorscale = 'peach',opacity = 1.0))\n",
    "\n",
    "axis_template = dict(range = [0,5], autorange = True,\n",
    "             showgrid = False, zeroline = True,\n",
    "             linecolor = 'black', showticklabels = True,\n",
    "             ticks = 'outside' )\n",
    "\n",
    "figure_1.update_layout(margin = dict(t=50,r=200,b=200,l=200),\n",
    "    xaxis = axis_template,\n",
    "    yaxis = axis_template,\n",
    "    showlegend = False,\n",
    "    width = 906, height = 556, title=\"Field Hockey Zones and Lanes\",\n",
    "    autosize = True )\n",
    "\n",
    "# Add image in the background\n",
    "figure_1.add_layout_image(\n",
    "        dict(\n",
    "            source=\"images/field_hockey_pitch_h_0.png\",\n",
    "            xref=\"x\",\n",
    "            yref=\"y\",\n",
    "            x=-0.5,\n",
    "            y=-.5 + nLanes,  #this adjusts the placement of the field image\n",
    "            sizex=nZones,\n",
    "            sizey=nLanes,\n",
    "            sizing=\"fill\",\n",
    "            opacity=0.7,\n",
    "            layer=\"above\")\n",
    ")\n",
    "\n",
    "# changes in my_cells should trigger this function\n",
    "def calculate(change):\n",
    "    figure_1.update_traces(z=list(reversed(my_cells.value)))\n",
    "    \n",
    "my_cells.observe(calculate, 'value')\n",
    "\n",
    "figure_1.show()  # use this for debugging only"
   ]
  },
  {
   "cell_type": "code",
   "execution_count": 9,
   "metadata": {
    "slideshow": {
     "slide_type": "slide"
    }
   },
   "outputs": [
    {
     "data": {
      "application/vnd.jupyter.widget-view+json": {
       "model_id": "8c019e9cfac146f287589520c7772bd8",
       "version_major": 2,
       "version_minor": 0
      },
      "text/plain": [
       "Sheet(cells=(Cell(column_end=3, column_start=0, numeric_format='int', row_end=2, row_start=0, squeeze_column=F…"
      ]
     },
     "metadata": {},
     "output_type": "display_data"
    }
   ],
   "source": [
    "spread_sheet_1  # Enter data in this spreadsheet"
   ]
  },
  {
   "cell_type": "code",
   "execution_count": 15,
   "metadata": {
    "slideshow": {
     "slide_type": "-"
    }
   },
   "outputs": [
    {
     "data": {
      "application/vnd.plotly.v1+json": {
       "config": {
        "plotlyServerURL": "https://plot.ly"
       },
       "data": [
        {
         "colorscale": [
          [
           0,
           "rgb(253, 224, 197)"
          ],
          [
           0.16666666666666666,
           "rgb(250, 203, 166)"
          ],
          [
           0.3333333333333333,
           "rgb(248, 181, 139)"
          ],
          [
           0.5,
           "rgb(245, 158, 114)"
          ],
          [
           0.6666666666666666,
           "rgb(242, 133, 93)"
          ],
          [
           0.8333333333333334,
           "rgb(239, 106, 76)"
          ],
          [
           1,
           "rgb(235, 74, 64)"
          ]
         ],
         "opacity": 1,
         "type": "heatmap",
         "x": [
          "Zone 1",
          "Zone 2",
          "Zone 3",
          "Zone 4"
         ],
         "y": [
          "Lane 1",
          "Lane 2",
          "Lane 3"
         ],
         "z": [
          [
           3,
           3,
           1,
           3
          ],
          [
           2,
           2,
           1,
           3
          ],
          [
           1,
           1,
           1,
           3
          ]
         ]
        }
       ],
       "layout": {
        "autosize": true,
        "height": 556,
        "images": [
         {
          "layer": "above",
          "opacity": 0.7,
          "sizex": 4,
          "sizey": 3,
          "sizing": "fill",
          "source": "images/field_hockey_pitch_h_0.png",
          "x": -0.5,
          "xref": "x",
          "y": 2.5,
          "yref": "y"
         }
        ],
        "margin": {
         "b": 200,
         "l": 200,
         "r": 200,
         "t": 50
        },
        "showlegend": false,
        "template": {
         "data": {
          "bar": [
           {
            "error_x": {
             "color": "#2a3f5f"
            },
            "error_y": {
             "color": "#2a3f5f"
            },
            "marker": {
             "line": {
              "color": "#E5ECF6",
              "width": 0.5
             }
            },
            "type": "bar"
           }
          ],
          "barpolar": [
           {
            "marker": {
             "line": {
              "color": "#E5ECF6",
              "width": 0.5
             }
            },
            "type": "barpolar"
           }
          ],
          "carpet": [
           {
            "aaxis": {
             "endlinecolor": "#2a3f5f",
             "gridcolor": "white",
             "linecolor": "white",
             "minorgridcolor": "white",
             "startlinecolor": "#2a3f5f"
            },
            "baxis": {
             "endlinecolor": "#2a3f5f",
             "gridcolor": "white",
             "linecolor": "white",
             "minorgridcolor": "white",
             "startlinecolor": "#2a3f5f"
            },
            "type": "carpet"
           }
          ],
          "choropleth": [
           {
            "colorbar": {
             "outlinewidth": 0,
             "ticks": ""
            },
            "type": "choropleth"
           }
          ],
          "contour": [
           {
            "colorbar": {
             "outlinewidth": 0,
             "ticks": ""
            },
            "colorscale": [
             [
              0,
              "#0d0887"
             ],
             [
              0.1111111111111111,
              "#46039f"
             ],
             [
              0.2222222222222222,
              "#7201a8"
             ],
             [
              0.3333333333333333,
              "#9c179e"
             ],
             [
              0.4444444444444444,
              "#bd3786"
             ],
             [
              0.5555555555555556,
              "#d8576b"
             ],
             [
              0.6666666666666666,
              "#ed7953"
             ],
             [
              0.7777777777777778,
              "#fb9f3a"
             ],
             [
              0.8888888888888888,
              "#fdca26"
             ],
             [
              1,
              "#f0f921"
             ]
            ],
            "type": "contour"
           }
          ],
          "contourcarpet": [
           {
            "colorbar": {
             "outlinewidth": 0,
             "ticks": ""
            },
            "type": "contourcarpet"
           }
          ],
          "heatmap": [
           {
            "colorbar": {
             "outlinewidth": 0,
             "ticks": ""
            },
            "colorscale": [
             [
              0,
              "#0d0887"
             ],
             [
              0.1111111111111111,
              "#46039f"
             ],
             [
              0.2222222222222222,
              "#7201a8"
             ],
             [
              0.3333333333333333,
              "#9c179e"
             ],
             [
              0.4444444444444444,
              "#bd3786"
             ],
             [
              0.5555555555555556,
              "#d8576b"
             ],
             [
              0.6666666666666666,
              "#ed7953"
             ],
             [
              0.7777777777777778,
              "#fb9f3a"
             ],
             [
              0.8888888888888888,
              "#fdca26"
             ],
             [
              1,
              "#f0f921"
             ]
            ],
            "type": "heatmap"
           }
          ],
          "heatmapgl": [
           {
            "colorbar": {
             "outlinewidth": 0,
             "ticks": ""
            },
            "colorscale": [
             [
              0,
              "#0d0887"
             ],
             [
              0.1111111111111111,
              "#46039f"
             ],
             [
              0.2222222222222222,
              "#7201a8"
             ],
             [
              0.3333333333333333,
              "#9c179e"
             ],
             [
              0.4444444444444444,
              "#bd3786"
             ],
             [
              0.5555555555555556,
              "#d8576b"
             ],
             [
              0.6666666666666666,
              "#ed7953"
             ],
             [
              0.7777777777777778,
              "#fb9f3a"
             ],
             [
              0.8888888888888888,
              "#fdca26"
             ],
             [
              1,
              "#f0f921"
             ]
            ],
            "type": "heatmapgl"
           }
          ],
          "histogram": [
           {
            "marker": {
             "colorbar": {
              "outlinewidth": 0,
              "ticks": ""
             }
            },
            "type": "histogram"
           }
          ],
          "histogram2d": [
           {
            "colorbar": {
             "outlinewidth": 0,
             "ticks": ""
            },
            "colorscale": [
             [
              0,
              "#0d0887"
             ],
             [
              0.1111111111111111,
              "#46039f"
             ],
             [
              0.2222222222222222,
              "#7201a8"
             ],
             [
              0.3333333333333333,
              "#9c179e"
             ],
             [
              0.4444444444444444,
              "#bd3786"
             ],
             [
              0.5555555555555556,
              "#d8576b"
             ],
             [
              0.6666666666666666,
              "#ed7953"
             ],
             [
              0.7777777777777778,
              "#fb9f3a"
             ],
             [
              0.8888888888888888,
              "#fdca26"
             ],
             [
              1,
              "#f0f921"
             ]
            ],
            "type": "histogram2d"
           }
          ],
          "histogram2dcontour": [
           {
            "colorbar": {
             "outlinewidth": 0,
             "ticks": ""
            },
            "colorscale": [
             [
              0,
              "#0d0887"
             ],
             [
              0.1111111111111111,
              "#46039f"
             ],
             [
              0.2222222222222222,
              "#7201a8"
             ],
             [
              0.3333333333333333,
              "#9c179e"
             ],
             [
              0.4444444444444444,
              "#bd3786"
             ],
             [
              0.5555555555555556,
              "#d8576b"
             ],
             [
              0.6666666666666666,
              "#ed7953"
             ],
             [
              0.7777777777777778,
              "#fb9f3a"
             ],
             [
              0.8888888888888888,
              "#fdca26"
             ],
             [
              1,
              "#f0f921"
             ]
            ],
            "type": "histogram2dcontour"
           }
          ],
          "mesh3d": [
           {
            "colorbar": {
             "outlinewidth": 0,
             "ticks": ""
            },
            "type": "mesh3d"
           }
          ],
          "parcoords": [
           {
            "line": {
             "colorbar": {
              "outlinewidth": 0,
              "ticks": ""
             }
            },
            "type": "parcoords"
           }
          ],
          "pie": [
           {
            "automargin": true,
            "type": "pie"
           }
          ],
          "scatter": [
           {
            "marker": {
             "colorbar": {
              "outlinewidth": 0,
              "ticks": ""
             }
            },
            "type": "scatter"
           }
          ],
          "scatter3d": [
           {
            "line": {
             "colorbar": {
              "outlinewidth": 0,
              "ticks": ""
             }
            },
            "marker": {
             "colorbar": {
              "outlinewidth": 0,
              "ticks": ""
             }
            },
            "type": "scatter3d"
           }
          ],
          "scattercarpet": [
           {
            "marker": {
             "colorbar": {
              "outlinewidth": 0,
              "ticks": ""
             }
            },
            "type": "scattercarpet"
           }
          ],
          "scattergeo": [
           {
            "marker": {
             "colorbar": {
              "outlinewidth": 0,
              "ticks": ""
             }
            },
            "type": "scattergeo"
           }
          ],
          "scattergl": [
           {
            "marker": {
             "colorbar": {
              "outlinewidth": 0,
              "ticks": ""
             }
            },
            "type": "scattergl"
           }
          ],
          "scattermapbox": [
           {
            "marker": {
             "colorbar": {
              "outlinewidth": 0,
              "ticks": ""
             }
            },
            "type": "scattermapbox"
           }
          ],
          "scatterpolar": [
           {
            "marker": {
             "colorbar": {
              "outlinewidth": 0,
              "ticks": ""
             }
            },
            "type": "scatterpolar"
           }
          ],
          "scatterpolargl": [
           {
            "marker": {
             "colorbar": {
              "outlinewidth": 0,
              "ticks": ""
             }
            },
            "type": "scatterpolargl"
           }
          ],
          "scatterternary": [
           {
            "marker": {
             "colorbar": {
              "outlinewidth": 0,
              "ticks": ""
             }
            },
            "type": "scatterternary"
           }
          ],
          "surface": [
           {
            "colorbar": {
             "outlinewidth": 0,
             "ticks": ""
            },
            "colorscale": [
             [
              0,
              "#0d0887"
             ],
             [
              0.1111111111111111,
              "#46039f"
             ],
             [
              0.2222222222222222,
              "#7201a8"
             ],
             [
              0.3333333333333333,
              "#9c179e"
             ],
             [
              0.4444444444444444,
              "#bd3786"
             ],
             [
              0.5555555555555556,
              "#d8576b"
             ],
             [
              0.6666666666666666,
              "#ed7953"
             ],
             [
              0.7777777777777778,
              "#fb9f3a"
             ],
             [
              0.8888888888888888,
              "#fdca26"
             ],
             [
              1,
              "#f0f921"
             ]
            ],
            "type": "surface"
           }
          ],
          "table": [
           {
            "cells": {
             "fill": {
              "color": "#EBF0F8"
             },
             "line": {
              "color": "white"
             }
            },
            "header": {
             "fill": {
              "color": "#C8D4E3"
             },
             "line": {
              "color": "white"
             }
            },
            "type": "table"
           }
          ]
         },
         "layout": {
          "annotationdefaults": {
           "arrowcolor": "#2a3f5f",
           "arrowhead": 0,
           "arrowwidth": 1
          },
          "coloraxis": {
           "colorbar": {
            "outlinewidth": 0,
            "ticks": ""
           }
          },
          "colorscale": {
           "diverging": [
            [
             0,
             "#8e0152"
            ],
            [
             0.1,
             "#c51b7d"
            ],
            [
             0.2,
             "#de77ae"
            ],
            [
             0.3,
             "#f1b6da"
            ],
            [
             0.4,
             "#fde0ef"
            ],
            [
             0.5,
             "#f7f7f7"
            ],
            [
             0.6,
             "#e6f5d0"
            ],
            [
             0.7,
             "#b8e186"
            ],
            [
             0.8,
             "#7fbc41"
            ],
            [
             0.9,
             "#4d9221"
            ],
            [
             1,
             "#276419"
            ]
           ],
           "sequential": [
            [
             0,
             "#0d0887"
            ],
            [
             0.1111111111111111,
             "#46039f"
            ],
            [
             0.2222222222222222,
             "#7201a8"
            ],
            [
             0.3333333333333333,
             "#9c179e"
            ],
            [
             0.4444444444444444,
             "#bd3786"
            ],
            [
             0.5555555555555556,
             "#d8576b"
            ],
            [
             0.6666666666666666,
             "#ed7953"
            ],
            [
             0.7777777777777778,
             "#fb9f3a"
            ],
            [
             0.8888888888888888,
             "#fdca26"
            ],
            [
             1,
             "#f0f921"
            ]
           ],
           "sequentialminus": [
            [
             0,
             "#0d0887"
            ],
            [
             0.1111111111111111,
             "#46039f"
            ],
            [
             0.2222222222222222,
             "#7201a8"
            ],
            [
             0.3333333333333333,
             "#9c179e"
            ],
            [
             0.4444444444444444,
             "#bd3786"
            ],
            [
             0.5555555555555556,
             "#d8576b"
            ],
            [
             0.6666666666666666,
             "#ed7953"
            ],
            [
             0.7777777777777778,
             "#fb9f3a"
            ],
            [
             0.8888888888888888,
             "#fdca26"
            ],
            [
             1,
             "#f0f921"
            ]
           ]
          },
          "colorway": [
           "#636efa",
           "#EF553B",
           "#00cc96",
           "#ab63fa",
           "#FFA15A",
           "#19d3f3",
           "#FF6692",
           "#B6E880",
           "#FF97FF",
           "#FECB52"
          ],
          "font": {
           "color": "#2a3f5f"
          },
          "geo": {
           "bgcolor": "white",
           "lakecolor": "white",
           "landcolor": "#E5ECF6",
           "showlakes": true,
           "showland": true,
           "subunitcolor": "white"
          },
          "hoverlabel": {
           "align": "left"
          },
          "hovermode": "closest",
          "mapbox": {
           "style": "light"
          },
          "paper_bgcolor": "white",
          "plot_bgcolor": "#E5ECF6",
          "polar": {
           "angularaxis": {
            "gridcolor": "white",
            "linecolor": "white",
            "ticks": ""
           },
           "bgcolor": "#E5ECF6",
           "radialaxis": {
            "gridcolor": "white",
            "linecolor": "white",
            "ticks": ""
           }
          },
          "scene": {
           "xaxis": {
            "backgroundcolor": "#E5ECF6",
            "gridcolor": "white",
            "gridwidth": 2,
            "linecolor": "white",
            "showbackground": true,
            "ticks": "",
            "zerolinecolor": "white"
           },
           "yaxis": {
            "backgroundcolor": "#E5ECF6",
            "gridcolor": "white",
            "gridwidth": 2,
            "linecolor": "white",
            "showbackground": true,
            "ticks": "",
            "zerolinecolor": "white"
           },
           "zaxis": {
            "backgroundcolor": "#E5ECF6",
            "gridcolor": "white",
            "gridwidth": 2,
            "linecolor": "white",
            "showbackground": true,
            "ticks": "",
            "zerolinecolor": "white"
           }
          },
          "shapedefaults": {
           "line": {
            "color": "#2a3f5f"
           }
          },
          "ternary": {
           "aaxis": {
            "gridcolor": "white",
            "linecolor": "white",
            "ticks": ""
           },
           "baxis": {
            "gridcolor": "white",
            "linecolor": "white",
            "ticks": ""
           },
           "bgcolor": "#E5ECF6",
           "caxis": {
            "gridcolor": "white",
            "linecolor": "white",
            "ticks": ""
           }
          },
          "title": {
           "x": 0.05
          },
          "xaxis": {
           "automargin": true,
           "gridcolor": "white",
           "linecolor": "white",
           "ticks": "",
           "title": {
            "standoff": 15
           },
           "zerolinecolor": "white",
           "zerolinewidth": 2
          },
          "yaxis": {
           "automargin": true,
           "gridcolor": "white",
           "linecolor": "white",
           "ticks": "",
           "title": {
            "standoff": 15
           },
           "zerolinecolor": "white",
           "zerolinewidth": 2
          }
         }
        },
        "title": {
         "text": "Field Hockey Zones and Lanes"
        },
        "width": 906,
        "xaxis": {
         "autorange": true,
         "linecolor": "black",
         "range": [
          0,
          5
         ],
         "showgrid": false,
         "showticklabels": true,
         "ticks": "outside",
         "zeroline": true
        },
        "yaxis": {
         "autorange": true,
         "linecolor": "black",
         "range": [
          0,
          5
         ],
         "showgrid": false,
         "showticklabels": true,
         "ticks": "outside",
         "zeroline": true
        }
       }
      },
      "text/html": [
       "<div>\n",
       "        \n",
       "        \n",
       "            <div id=\"bfa913c6-bd97-4f56-82e7-76495bb995c2\" class=\"plotly-graph-div\" style=\"height:556px; width:906px;\"></div>\n",
       "            <script type=\"text/javascript\">\n",
       "                require([\"plotly\"], function(Plotly) {\n",
       "                    window.PLOTLYENV=window.PLOTLYENV || {};\n",
       "                    \n",
       "                if (document.getElementById(\"bfa913c6-bd97-4f56-82e7-76495bb995c2\")) {\n",
       "                    Plotly.newPlot(\n",
       "                        'bfa913c6-bd97-4f56-82e7-76495bb995c2',\n",
       "                        [{\"colorscale\": [[0.0, \"rgb(253, 224, 197)\"], [0.16666666666666666, \"rgb(250, 203, 166)\"], [0.3333333333333333, \"rgb(248, 181, 139)\"], [0.5, \"rgb(245, 158, 114)\"], [0.6666666666666666, \"rgb(242, 133, 93)\"], [0.8333333333333334, \"rgb(239, 106, 76)\"], [1.0, \"rgb(235, 74, 64)\"]], \"opacity\": 1.0, \"type\": \"heatmap\", \"x\": [\"Zone 1\", \"Zone 2\", \"Zone 3\", \"Zone 4\"], \"y\": [\"Lane 1\", \"Lane 2\", \"Lane 3\"], \"z\": [[3, 3, 1, 3], [2, 2, 1, 3], [1, 1, 1, 3]]}],\n",
       "                        {\"autosize\": true, \"height\": 556, \"images\": [{\"layer\": \"above\", \"opacity\": 0.7, \"sizex\": 4, \"sizey\": 3, \"sizing\": \"fill\", \"source\": \"images/field_hockey_pitch_h_0.png\", \"x\": -0.5, \"xref\": \"x\", \"y\": 2.5, \"yref\": \"y\"}], \"margin\": {\"b\": 200, \"l\": 200, \"r\": 200, \"t\": 50}, \"showlegend\": false, \"template\": {\"data\": {\"bar\": [{\"error_x\": {\"color\": \"#2a3f5f\"}, \"error_y\": {\"color\": \"#2a3f5f\"}, \"marker\": {\"line\": {\"color\": \"#E5ECF6\", \"width\": 0.5}}, \"type\": \"bar\"}], \"barpolar\": [{\"marker\": {\"line\": {\"color\": \"#E5ECF6\", \"width\": 0.5}}, \"type\": \"barpolar\"}], \"carpet\": [{\"aaxis\": {\"endlinecolor\": \"#2a3f5f\", \"gridcolor\": \"white\", \"linecolor\": \"white\", \"minorgridcolor\": \"white\", \"startlinecolor\": \"#2a3f5f\"}, \"baxis\": {\"endlinecolor\": \"#2a3f5f\", \"gridcolor\": \"white\", \"linecolor\": \"white\", \"minorgridcolor\": \"white\", \"startlinecolor\": \"#2a3f5f\"}, \"type\": \"carpet\"}], \"choropleth\": [{\"colorbar\": {\"outlinewidth\": 0, \"ticks\": \"\"}, \"type\": \"choropleth\"}], \"contour\": [{\"colorbar\": {\"outlinewidth\": 0, \"ticks\": \"\"}, \"colorscale\": [[0.0, \"#0d0887\"], [0.1111111111111111, \"#46039f\"], [0.2222222222222222, \"#7201a8\"], [0.3333333333333333, \"#9c179e\"], [0.4444444444444444, \"#bd3786\"], [0.5555555555555556, \"#d8576b\"], [0.6666666666666666, \"#ed7953\"], [0.7777777777777778, \"#fb9f3a\"], [0.8888888888888888, \"#fdca26\"], [1.0, \"#f0f921\"]], \"type\": \"contour\"}], \"contourcarpet\": [{\"colorbar\": {\"outlinewidth\": 0, \"ticks\": \"\"}, \"type\": \"contourcarpet\"}], \"heatmap\": [{\"colorbar\": {\"outlinewidth\": 0, \"ticks\": \"\"}, \"colorscale\": [[0.0, \"#0d0887\"], [0.1111111111111111, \"#46039f\"], [0.2222222222222222, \"#7201a8\"], [0.3333333333333333, \"#9c179e\"], [0.4444444444444444, \"#bd3786\"], [0.5555555555555556, \"#d8576b\"], [0.6666666666666666, \"#ed7953\"], [0.7777777777777778, \"#fb9f3a\"], [0.8888888888888888, \"#fdca26\"], [1.0, \"#f0f921\"]], \"type\": \"heatmap\"}], \"heatmapgl\": [{\"colorbar\": {\"outlinewidth\": 0, \"ticks\": \"\"}, \"colorscale\": [[0.0, \"#0d0887\"], [0.1111111111111111, \"#46039f\"], [0.2222222222222222, \"#7201a8\"], [0.3333333333333333, \"#9c179e\"], [0.4444444444444444, \"#bd3786\"], [0.5555555555555556, \"#d8576b\"], [0.6666666666666666, \"#ed7953\"], [0.7777777777777778, \"#fb9f3a\"], [0.8888888888888888, \"#fdca26\"], [1.0, \"#f0f921\"]], \"type\": \"heatmapgl\"}], \"histogram\": [{\"marker\": {\"colorbar\": {\"outlinewidth\": 0, \"ticks\": \"\"}}, \"type\": \"histogram\"}], \"histogram2d\": [{\"colorbar\": {\"outlinewidth\": 0, \"ticks\": \"\"}, \"colorscale\": [[0.0, \"#0d0887\"], [0.1111111111111111, \"#46039f\"], [0.2222222222222222, \"#7201a8\"], [0.3333333333333333, \"#9c179e\"], [0.4444444444444444, \"#bd3786\"], [0.5555555555555556, \"#d8576b\"], [0.6666666666666666, \"#ed7953\"], [0.7777777777777778, \"#fb9f3a\"], [0.8888888888888888, \"#fdca26\"], [1.0, \"#f0f921\"]], \"type\": \"histogram2d\"}], \"histogram2dcontour\": [{\"colorbar\": {\"outlinewidth\": 0, \"ticks\": \"\"}, \"colorscale\": [[0.0, \"#0d0887\"], [0.1111111111111111, \"#46039f\"], [0.2222222222222222, \"#7201a8\"], [0.3333333333333333, \"#9c179e\"], [0.4444444444444444, \"#bd3786\"], [0.5555555555555556, \"#d8576b\"], [0.6666666666666666, \"#ed7953\"], [0.7777777777777778, \"#fb9f3a\"], [0.8888888888888888, \"#fdca26\"], [1.0, \"#f0f921\"]], \"type\": \"histogram2dcontour\"}], \"mesh3d\": [{\"colorbar\": {\"outlinewidth\": 0, \"ticks\": \"\"}, \"type\": \"mesh3d\"}], \"parcoords\": [{\"line\": {\"colorbar\": {\"outlinewidth\": 0, \"ticks\": \"\"}}, \"type\": \"parcoords\"}], \"pie\": [{\"automargin\": true, \"type\": \"pie\"}], \"scatter\": [{\"marker\": {\"colorbar\": {\"outlinewidth\": 0, \"ticks\": \"\"}}, \"type\": \"scatter\"}], \"scatter3d\": [{\"line\": {\"colorbar\": {\"outlinewidth\": 0, \"ticks\": \"\"}}, \"marker\": {\"colorbar\": {\"outlinewidth\": 0, \"ticks\": \"\"}}, \"type\": \"scatter3d\"}], \"scattercarpet\": [{\"marker\": {\"colorbar\": {\"outlinewidth\": 0, \"ticks\": \"\"}}, \"type\": \"scattercarpet\"}], \"scattergeo\": [{\"marker\": {\"colorbar\": {\"outlinewidth\": 0, \"ticks\": \"\"}}, \"type\": \"scattergeo\"}], \"scattergl\": [{\"marker\": {\"colorbar\": {\"outlinewidth\": 0, \"ticks\": \"\"}}, \"type\": \"scattergl\"}], \"scattermapbox\": [{\"marker\": {\"colorbar\": {\"outlinewidth\": 0, \"ticks\": \"\"}}, \"type\": \"scattermapbox\"}], \"scatterpolar\": [{\"marker\": {\"colorbar\": {\"outlinewidth\": 0, \"ticks\": \"\"}}, \"type\": \"scatterpolar\"}], \"scatterpolargl\": [{\"marker\": {\"colorbar\": {\"outlinewidth\": 0, \"ticks\": \"\"}}, \"type\": \"scatterpolargl\"}], \"scatterternary\": [{\"marker\": {\"colorbar\": {\"outlinewidth\": 0, \"ticks\": \"\"}}, \"type\": \"scatterternary\"}], \"surface\": [{\"colorbar\": {\"outlinewidth\": 0, \"ticks\": \"\"}, \"colorscale\": [[0.0, \"#0d0887\"], [0.1111111111111111, \"#46039f\"], [0.2222222222222222, \"#7201a8\"], [0.3333333333333333, \"#9c179e\"], [0.4444444444444444, \"#bd3786\"], [0.5555555555555556, \"#d8576b\"], [0.6666666666666666, \"#ed7953\"], [0.7777777777777778, \"#fb9f3a\"], [0.8888888888888888, \"#fdca26\"], [1.0, \"#f0f921\"]], \"type\": \"surface\"}], \"table\": [{\"cells\": {\"fill\": {\"color\": \"#EBF0F8\"}, \"line\": {\"color\": \"white\"}}, \"header\": {\"fill\": {\"color\": \"#C8D4E3\"}, \"line\": {\"color\": \"white\"}}, \"type\": \"table\"}]}, \"layout\": {\"annotationdefaults\": {\"arrowcolor\": \"#2a3f5f\", \"arrowhead\": 0, \"arrowwidth\": 1}, \"coloraxis\": {\"colorbar\": {\"outlinewidth\": 0, \"ticks\": \"\"}}, \"colorscale\": {\"diverging\": [[0, \"#8e0152\"], [0.1, \"#c51b7d\"], [0.2, \"#de77ae\"], [0.3, \"#f1b6da\"], [0.4, \"#fde0ef\"], [0.5, \"#f7f7f7\"], [0.6, \"#e6f5d0\"], [0.7, \"#b8e186\"], [0.8, \"#7fbc41\"], [0.9, \"#4d9221\"], [1, \"#276419\"]], \"sequential\": [[0.0, \"#0d0887\"], [0.1111111111111111, \"#46039f\"], [0.2222222222222222, \"#7201a8\"], [0.3333333333333333, \"#9c179e\"], [0.4444444444444444, \"#bd3786\"], [0.5555555555555556, \"#d8576b\"], [0.6666666666666666, \"#ed7953\"], [0.7777777777777778, \"#fb9f3a\"], [0.8888888888888888, \"#fdca26\"], [1.0, \"#f0f921\"]], \"sequentialminus\": [[0.0, \"#0d0887\"], [0.1111111111111111, \"#46039f\"], [0.2222222222222222, \"#7201a8\"], [0.3333333333333333, \"#9c179e\"], [0.4444444444444444, \"#bd3786\"], [0.5555555555555556, \"#d8576b\"], [0.6666666666666666, \"#ed7953\"], [0.7777777777777778, \"#fb9f3a\"], [0.8888888888888888, \"#fdca26\"], [1.0, \"#f0f921\"]]}, \"colorway\": [\"#636efa\", \"#EF553B\", \"#00cc96\", \"#ab63fa\", \"#FFA15A\", \"#19d3f3\", \"#FF6692\", \"#B6E880\", \"#FF97FF\", \"#FECB52\"], \"font\": {\"color\": \"#2a3f5f\"}, \"geo\": {\"bgcolor\": \"white\", \"lakecolor\": \"white\", \"landcolor\": \"#E5ECF6\", \"showlakes\": true, \"showland\": true, \"subunitcolor\": \"white\"}, \"hoverlabel\": {\"align\": \"left\"}, \"hovermode\": \"closest\", \"mapbox\": {\"style\": \"light\"}, \"paper_bgcolor\": \"white\", \"plot_bgcolor\": \"#E5ECF6\", \"polar\": {\"angularaxis\": {\"gridcolor\": \"white\", \"linecolor\": \"white\", \"ticks\": \"\"}, \"bgcolor\": \"#E5ECF6\", \"radialaxis\": {\"gridcolor\": \"white\", \"linecolor\": \"white\", \"ticks\": \"\"}}, \"scene\": {\"xaxis\": {\"backgroundcolor\": \"#E5ECF6\", \"gridcolor\": \"white\", \"gridwidth\": 2, \"linecolor\": \"white\", \"showbackground\": true, \"ticks\": \"\", \"zerolinecolor\": \"white\"}, \"yaxis\": {\"backgroundcolor\": \"#E5ECF6\", \"gridcolor\": \"white\", \"gridwidth\": 2, \"linecolor\": \"white\", \"showbackground\": true, \"ticks\": \"\", \"zerolinecolor\": \"white\"}, \"zaxis\": {\"backgroundcolor\": \"#E5ECF6\", \"gridcolor\": \"white\", \"gridwidth\": 2, \"linecolor\": \"white\", \"showbackground\": true, \"ticks\": \"\", \"zerolinecolor\": \"white\"}}, \"shapedefaults\": {\"line\": {\"color\": \"#2a3f5f\"}}, \"ternary\": {\"aaxis\": {\"gridcolor\": \"white\", \"linecolor\": \"white\", \"ticks\": \"\"}, \"baxis\": {\"gridcolor\": \"white\", \"linecolor\": \"white\", \"ticks\": \"\"}, \"bgcolor\": \"#E5ECF6\", \"caxis\": {\"gridcolor\": \"white\", \"linecolor\": \"white\", \"ticks\": \"\"}}, \"title\": {\"x\": 0.05}, \"xaxis\": {\"automargin\": true, \"gridcolor\": \"white\", \"linecolor\": \"white\", \"ticks\": \"\", \"title\": {\"standoff\": 15}, \"zerolinecolor\": \"white\", \"zerolinewidth\": 2}, \"yaxis\": {\"automargin\": true, \"gridcolor\": \"white\", \"linecolor\": \"white\", \"ticks\": \"\", \"title\": {\"standoff\": 15}, \"zerolinecolor\": \"white\", \"zerolinewidth\": 2}}}, \"title\": {\"text\": \"Field Hockey Zones and Lanes\"}, \"width\": 906, \"xaxis\": {\"autorange\": true, \"linecolor\": \"black\", \"range\": [0, 5], \"showgrid\": false, \"showticklabels\": true, \"ticks\": \"outside\", \"zeroline\": true}, \"yaxis\": {\"autorange\": true, \"linecolor\": \"black\", \"range\": [0, 5], \"showgrid\": false, \"showticklabels\": true, \"ticks\": \"outside\", \"zeroline\": true}},\n",
       "                        {\"responsive\": true}\n",
       "                    ).then(function(){\n",
       "                            \n",
       "var gd = document.getElementById('bfa913c6-bd97-4f56-82e7-76495bb995c2');\n",
       "var x = new MutationObserver(function (mutations, observer) {{\n",
       "        var display = window.getComputedStyle(gd).display;\n",
       "        if (!display || display === 'none') {{\n",
       "            console.log([gd, 'removed!']);\n",
       "            Plotly.purge(gd);\n",
       "            observer.disconnect();\n",
       "        }}\n",
       "}});\n",
       "\n",
       "// Listen for the removal of the full notebook cells\n",
       "var notebookContainer = gd.closest('#notebook-container');\n",
       "if (notebookContainer) {{\n",
       "    x.observe(notebookContainer, {childList: true});\n",
       "}}\n",
       "\n",
       "// Listen for the clearing of the current output cell\n",
       "var outputEl = gd.closest('.output');\n",
       "if (outputEl) {{\n",
       "    x.observe(outputEl, {childList: true});\n",
       "}}\n",
       "\n",
       "                        })\n",
       "                };\n",
       "                });\n",
       "            </script>\n",
       "        </div>"
      ]
     },
     "metadata": {},
     "output_type": "display_data"
    }
   ],
   "source": [
    "figure_1.update() # Click the keys \"Shift-return\" to update the figure"
   ]
  },
  {
   "cell_type": "code",
   "execution_count": 11,
   "metadata": {},
   "outputs": [
    {
     "data": {
      "application/vnd.plotly.v1+json": {
       "config": {
        "plotlyServerURL": "https://plot.ly"
       },
       "data": [
        {
         "colorscale": [
          [
           0,
           "rgb(253, 224, 197)"
          ],
          [
           0.16666666666666666,
           "rgb(250, 203, 166)"
          ],
          [
           0.3333333333333333,
           "rgb(248, 181, 139)"
          ],
          [
           0.5,
           "rgb(245, 158, 114)"
          ],
          [
           0.6666666666666666,
           "rgb(242, 133, 93)"
          ],
          [
           0.8333333333333334,
           "rgb(239, 106, 76)"
          ],
          [
           1,
           "rgb(235, 74, 64)"
          ]
         ],
         "opacity": 1,
         "type": "heatmap",
         "x": [
          "Lane 1",
          "Lane 2",
          "Lane 3",
          "Lane 4",
          "Lane 5"
         ],
         "y": [
          "Zone 1",
          "Zone 2",
          "Zone 3",
          "Zone 4"
         ],
         "z": [
          [
           1,
           1,
           1,
           3,
           1
          ],
          [
           2,
           2,
           1,
           3,
           1
          ],
          [
           3,
           3,
           1,
           3,
           1
          ],
          [
           1,
           2,
           1,
           2,
           3
          ]
         ]
        }
       ],
       "layout": {
        "autosize": true,
        "height": 500,
        "images": [
         {
          "layer": "above",
          "opacity": 0.7,
          "sizex": 5,
          "sizey": 4,
          "sizing": "fill",
          "source": "images/field_hockey_pitch.png",
          "x": -0.5,
          "xref": "x",
          "y": 3.5,
          "yref": "y"
         }
        ],
        "margin": {
         "b": 0,
         "l": 250,
         "r": 0,
         "t": 0
        },
        "showlegend": false,
        "template": {
         "data": {
          "bar": [
           {
            "error_x": {
             "color": "#2a3f5f"
            },
            "error_y": {
             "color": "#2a3f5f"
            },
            "marker": {
             "line": {
              "color": "#E5ECF6",
              "width": 0.5
             }
            },
            "type": "bar"
           }
          ],
          "barpolar": [
           {
            "marker": {
             "line": {
              "color": "#E5ECF6",
              "width": 0.5
             }
            },
            "type": "barpolar"
           }
          ],
          "carpet": [
           {
            "aaxis": {
             "endlinecolor": "#2a3f5f",
             "gridcolor": "white",
             "linecolor": "white",
             "minorgridcolor": "white",
             "startlinecolor": "#2a3f5f"
            },
            "baxis": {
             "endlinecolor": "#2a3f5f",
             "gridcolor": "white",
             "linecolor": "white",
             "minorgridcolor": "white",
             "startlinecolor": "#2a3f5f"
            },
            "type": "carpet"
           }
          ],
          "choropleth": [
           {
            "colorbar": {
             "outlinewidth": 0,
             "ticks": ""
            },
            "type": "choropleth"
           }
          ],
          "contour": [
           {
            "colorbar": {
             "outlinewidth": 0,
             "ticks": ""
            },
            "colorscale": [
             [
              0,
              "#0d0887"
             ],
             [
              0.1111111111111111,
              "#46039f"
             ],
             [
              0.2222222222222222,
              "#7201a8"
             ],
             [
              0.3333333333333333,
              "#9c179e"
             ],
             [
              0.4444444444444444,
              "#bd3786"
             ],
             [
              0.5555555555555556,
              "#d8576b"
             ],
             [
              0.6666666666666666,
              "#ed7953"
             ],
             [
              0.7777777777777778,
              "#fb9f3a"
             ],
             [
              0.8888888888888888,
              "#fdca26"
             ],
             [
              1,
              "#f0f921"
             ]
            ],
            "type": "contour"
           }
          ],
          "contourcarpet": [
           {
            "colorbar": {
             "outlinewidth": 0,
             "ticks": ""
            },
            "type": "contourcarpet"
           }
          ],
          "heatmap": [
           {
            "colorbar": {
             "outlinewidth": 0,
             "ticks": ""
            },
            "colorscale": [
             [
              0,
              "#0d0887"
             ],
             [
              0.1111111111111111,
              "#46039f"
             ],
             [
              0.2222222222222222,
              "#7201a8"
             ],
             [
              0.3333333333333333,
              "#9c179e"
             ],
             [
              0.4444444444444444,
              "#bd3786"
             ],
             [
              0.5555555555555556,
              "#d8576b"
             ],
             [
              0.6666666666666666,
              "#ed7953"
             ],
             [
              0.7777777777777778,
              "#fb9f3a"
             ],
             [
              0.8888888888888888,
              "#fdca26"
             ],
             [
              1,
              "#f0f921"
             ]
            ],
            "type": "heatmap"
           }
          ],
          "heatmapgl": [
           {
            "colorbar": {
             "outlinewidth": 0,
             "ticks": ""
            },
            "colorscale": [
             [
              0,
              "#0d0887"
             ],
             [
              0.1111111111111111,
              "#46039f"
             ],
             [
              0.2222222222222222,
              "#7201a8"
             ],
             [
              0.3333333333333333,
              "#9c179e"
             ],
             [
              0.4444444444444444,
              "#bd3786"
             ],
             [
              0.5555555555555556,
              "#d8576b"
             ],
             [
              0.6666666666666666,
              "#ed7953"
             ],
             [
              0.7777777777777778,
              "#fb9f3a"
             ],
             [
              0.8888888888888888,
              "#fdca26"
             ],
             [
              1,
              "#f0f921"
             ]
            ],
            "type": "heatmapgl"
           }
          ],
          "histogram": [
           {
            "marker": {
             "colorbar": {
              "outlinewidth": 0,
              "ticks": ""
             }
            },
            "type": "histogram"
           }
          ],
          "histogram2d": [
           {
            "colorbar": {
             "outlinewidth": 0,
             "ticks": ""
            },
            "colorscale": [
             [
              0,
              "#0d0887"
             ],
             [
              0.1111111111111111,
              "#46039f"
             ],
             [
              0.2222222222222222,
              "#7201a8"
             ],
             [
              0.3333333333333333,
              "#9c179e"
             ],
             [
              0.4444444444444444,
              "#bd3786"
             ],
             [
              0.5555555555555556,
              "#d8576b"
             ],
             [
              0.6666666666666666,
              "#ed7953"
             ],
             [
              0.7777777777777778,
              "#fb9f3a"
             ],
             [
              0.8888888888888888,
              "#fdca26"
             ],
             [
              1,
              "#f0f921"
             ]
            ],
            "type": "histogram2d"
           }
          ],
          "histogram2dcontour": [
           {
            "colorbar": {
             "outlinewidth": 0,
             "ticks": ""
            },
            "colorscale": [
             [
              0,
              "#0d0887"
             ],
             [
              0.1111111111111111,
              "#46039f"
             ],
             [
              0.2222222222222222,
              "#7201a8"
             ],
             [
              0.3333333333333333,
              "#9c179e"
             ],
             [
              0.4444444444444444,
              "#bd3786"
             ],
             [
              0.5555555555555556,
              "#d8576b"
             ],
             [
              0.6666666666666666,
              "#ed7953"
             ],
             [
              0.7777777777777778,
              "#fb9f3a"
             ],
             [
              0.8888888888888888,
              "#fdca26"
             ],
             [
              1,
              "#f0f921"
             ]
            ],
            "type": "histogram2dcontour"
           }
          ],
          "mesh3d": [
           {
            "colorbar": {
             "outlinewidth": 0,
             "ticks": ""
            },
            "type": "mesh3d"
           }
          ],
          "parcoords": [
           {
            "line": {
             "colorbar": {
              "outlinewidth": 0,
              "ticks": ""
             }
            },
            "type": "parcoords"
           }
          ],
          "pie": [
           {
            "automargin": true,
            "type": "pie"
           }
          ],
          "scatter": [
           {
            "marker": {
             "colorbar": {
              "outlinewidth": 0,
              "ticks": ""
             }
            },
            "type": "scatter"
           }
          ],
          "scatter3d": [
           {
            "line": {
             "colorbar": {
              "outlinewidth": 0,
              "ticks": ""
             }
            },
            "marker": {
             "colorbar": {
              "outlinewidth": 0,
              "ticks": ""
             }
            },
            "type": "scatter3d"
           }
          ],
          "scattercarpet": [
           {
            "marker": {
             "colorbar": {
              "outlinewidth": 0,
              "ticks": ""
             }
            },
            "type": "scattercarpet"
           }
          ],
          "scattergeo": [
           {
            "marker": {
             "colorbar": {
              "outlinewidth": 0,
              "ticks": ""
             }
            },
            "type": "scattergeo"
           }
          ],
          "scattergl": [
           {
            "marker": {
             "colorbar": {
              "outlinewidth": 0,
              "ticks": ""
             }
            },
            "type": "scattergl"
           }
          ],
          "scattermapbox": [
           {
            "marker": {
             "colorbar": {
              "outlinewidth": 0,
              "ticks": ""
             }
            },
            "type": "scattermapbox"
           }
          ],
          "scatterpolar": [
           {
            "marker": {
             "colorbar": {
              "outlinewidth": 0,
              "ticks": ""
             }
            },
            "type": "scatterpolar"
           }
          ],
          "scatterpolargl": [
           {
            "marker": {
             "colorbar": {
              "outlinewidth": 0,
              "ticks": ""
             }
            },
            "type": "scatterpolargl"
           }
          ],
          "scatterternary": [
           {
            "marker": {
             "colorbar": {
              "outlinewidth": 0,
              "ticks": ""
             }
            },
            "type": "scatterternary"
           }
          ],
          "surface": [
           {
            "colorbar": {
             "outlinewidth": 0,
             "ticks": ""
            },
            "colorscale": [
             [
              0,
              "#0d0887"
             ],
             [
              0.1111111111111111,
              "#46039f"
             ],
             [
              0.2222222222222222,
              "#7201a8"
             ],
             [
              0.3333333333333333,
              "#9c179e"
             ],
             [
              0.4444444444444444,
              "#bd3786"
             ],
             [
              0.5555555555555556,
              "#d8576b"
             ],
             [
              0.6666666666666666,
              "#ed7953"
             ],
             [
              0.7777777777777778,
              "#fb9f3a"
             ],
             [
              0.8888888888888888,
              "#fdca26"
             ],
             [
              1,
              "#f0f921"
             ]
            ],
            "type": "surface"
           }
          ],
          "table": [
           {
            "cells": {
             "fill": {
              "color": "#EBF0F8"
             },
             "line": {
              "color": "white"
             }
            },
            "header": {
             "fill": {
              "color": "#C8D4E3"
             },
             "line": {
              "color": "white"
             }
            },
            "type": "table"
           }
          ]
         },
         "layout": {
          "annotationdefaults": {
           "arrowcolor": "#2a3f5f",
           "arrowhead": 0,
           "arrowwidth": 1
          },
          "coloraxis": {
           "colorbar": {
            "outlinewidth": 0,
            "ticks": ""
           }
          },
          "colorscale": {
           "diverging": [
            [
             0,
             "#8e0152"
            ],
            [
             0.1,
             "#c51b7d"
            ],
            [
             0.2,
             "#de77ae"
            ],
            [
             0.3,
             "#f1b6da"
            ],
            [
             0.4,
             "#fde0ef"
            ],
            [
             0.5,
             "#f7f7f7"
            ],
            [
             0.6,
             "#e6f5d0"
            ],
            [
             0.7,
             "#b8e186"
            ],
            [
             0.8,
             "#7fbc41"
            ],
            [
             0.9,
             "#4d9221"
            ],
            [
             1,
             "#276419"
            ]
           ],
           "sequential": [
            [
             0,
             "#0d0887"
            ],
            [
             0.1111111111111111,
             "#46039f"
            ],
            [
             0.2222222222222222,
             "#7201a8"
            ],
            [
             0.3333333333333333,
             "#9c179e"
            ],
            [
             0.4444444444444444,
             "#bd3786"
            ],
            [
             0.5555555555555556,
             "#d8576b"
            ],
            [
             0.6666666666666666,
             "#ed7953"
            ],
            [
             0.7777777777777778,
             "#fb9f3a"
            ],
            [
             0.8888888888888888,
             "#fdca26"
            ],
            [
             1,
             "#f0f921"
            ]
           ],
           "sequentialminus": [
            [
             0,
             "#0d0887"
            ],
            [
             0.1111111111111111,
             "#46039f"
            ],
            [
             0.2222222222222222,
             "#7201a8"
            ],
            [
             0.3333333333333333,
             "#9c179e"
            ],
            [
             0.4444444444444444,
             "#bd3786"
            ],
            [
             0.5555555555555556,
             "#d8576b"
            ],
            [
             0.6666666666666666,
             "#ed7953"
            ],
            [
             0.7777777777777778,
             "#fb9f3a"
            ],
            [
             0.8888888888888888,
             "#fdca26"
            ],
            [
             1,
             "#f0f921"
            ]
           ]
          },
          "colorway": [
           "#636efa",
           "#EF553B",
           "#00cc96",
           "#ab63fa",
           "#FFA15A",
           "#19d3f3",
           "#FF6692",
           "#B6E880",
           "#FF97FF",
           "#FECB52"
          ],
          "font": {
           "color": "#2a3f5f"
          },
          "geo": {
           "bgcolor": "white",
           "lakecolor": "white",
           "landcolor": "#E5ECF6",
           "showlakes": true,
           "showland": true,
           "subunitcolor": "white"
          },
          "hoverlabel": {
           "align": "left"
          },
          "hovermode": "closest",
          "mapbox": {
           "style": "light"
          },
          "paper_bgcolor": "white",
          "plot_bgcolor": "#E5ECF6",
          "polar": {
           "angularaxis": {
            "gridcolor": "white",
            "linecolor": "white",
            "ticks": ""
           },
           "bgcolor": "#E5ECF6",
           "radialaxis": {
            "gridcolor": "white",
            "linecolor": "white",
            "ticks": ""
           }
          },
          "scene": {
           "xaxis": {
            "backgroundcolor": "#E5ECF6",
            "gridcolor": "white",
            "gridwidth": 2,
            "linecolor": "white",
            "showbackground": true,
            "ticks": "",
            "zerolinecolor": "white"
           },
           "yaxis": {
            "backgroundcolor": "#E5ECF6",
            "gridcolor": "white",
            "gridwidth": 2,
            "linecolor": "white",
            "showbackground": true,
            "ticks": "",
            "zerolinecolor": "white"
           },
           "zaxis": {
            "backgroundcolor": "#E5ECF6",
            "gridcolor": "white",
            "gridwidth": 2,
            "linecolor": "white",
            "showbackground": true,
            "ticks": "",
            "zerolinecolor": "white"
           }
          },
          "shapedefaults": {
           "line": {
            "color": "#2a3f5f"
           }
          },
          "ternary": {
           "aaxis": {
            "gridcolor": "white",
            "linecolor": "white",
            "ticks": ""
           },
           "baxis": {
            "gridcolor": "white",
            "linecolor": "white",
            "ticks": ""
           },
           "bgcolor": "#E5ECF6",
           "caxis": {
            "gridcolor": "white",
            "linecolor": "white",
            "ticks": ""
           }
          },
          "title": {
           "x": 0.05
          },
          "xaxis": {
           "automargin": true,
           "gridcolor": "white",
           "linecolor": "white",
           "ticks": "",
           "title": {
            "standoff": 15
           },
           "zerolinecolor": "white",
           "zerolinewidth": 2
          },
          "yaxis": {
           "automargin": true,
           "gridcolor": "white",
           "linecolor": "white",
           "ticks": "",
           "title": {
            "standoff": 15
           },
           "zerolinecolor": "white",
           "zerolinewidth": 2
          }
         }
        },
        "title": {
         "text": "Field Hockey Zones and Lanes"
        },
        "width": 600,
        "xaxis": {
         "autorange": true,
         "linecolor": "black",
         "range": [
          0,
          5
         ],
         "showgrid": false,
         "showticklabels": true,
         "ticks": "outside",
         "zeroline": true
        },
        "yaxis": {
         "autorange": true,
         "linecolor": "black",
         "range": [
          0,
          5
         ],
         "showgrid": false,
         "showticklabels": true,
         "ticks": "outside",
         "zeroline": true
        }
       }
      },
      "text/html": [
       "<div>\n",
       "        \n",
       "        \n",
       "            <div id=\"2ef9c9e0-f203-4ac0-b849-767fe99dee09\" class=\"plotly-graph-div\" style=\"height:500px; width:600px;\"></div>\n",
       "            <script type=\"text/javascript\">\n",
       "                require([\"plotly\"], function(Plotly) {\n",
       "                    window.PLOTLYENV=window.PLOTLYENV || {};\n",
       "                    \n",
       "                if (document.getElementById(\"2ef9c9e0-f203-4ac0-b849-767fe99dee09\")) {\n",
       "                    Plotly.newPlot(\n",
       "                        '2ef9c9e0-f203-4ac0-b849-767fe99dee09',\n",
       "                        [{\"colorscale\": [[0.0, \"rgb(253, 224, 197)\"], [0.16666666666666666, \"rgb(250, 203, 166)\"], [0.3333333333333333, \"rgb(248, 181, 139)\"], [0.5, \"rgb(245, 158, 114)\"], [0.6666666666666666, \"rgb(242, 133, 93)\"], [0.8333333333333334, \"rgb(239, 106, 76)\"], [1.0, \"rgb(235, 74, 64)\"]], \"opacity\": 1.0, \"type\": \"heatmap\", \"x\": [\"Lane 1\", \"Lane 2\", \"Lane 3\", \"Lane 4\", \"Lane 5\"], \"y\": [\"Zone 1\", \"Zone 2\", \"Zone 3\", \"Zone 4\"], \"z\": [[1, 1, 1, 3, 1], [2, 2, 1, 3, 1], [3, 3, 1, 3, 1], [1, 2, 1, 2, 3]]}],\n",
       "                        {\"autosize\": true, \"height\": 500, \"images\": [{\"layer\": \"above\", \"opacity\": 0.7, \"sizex\": 5, \"sizey\": 4, \"sizing\": \"fill\", \"source\": \"images/field_hockey_pitch.png\", \"x\": -0.5, \"xref\": \"x\", \"y\": 3.5, \"yref\": \"y\"}], \"margin\": {\"b\": 0, \"l\": 250, \"r\": 0, \"t\": 0}, \"showlegend\": false, \"template\": {\"data\": {\"bar\": [{\"error_x\": {\"color\": \"#2a3f5f\"}, \"error_y\": {\"color\": \"#2a3f5f\"}, \"marker\": {\"line\": {\"color\": \"#E5ECF6\", \"width\": 0.5}}, \"type\": \"bar\"}], \"barpolar\": [{\"marker\": {\"line\": {\"color\": \"#E5ECF6\", \"width\": 0.5}}, \"type\": \"barpolar\"}], \"carpet\": [{\"aaxis\": {\"endlinecolor\": \"#2a3f5f\", \"gridcolor\": \"white\", \"linecolor\": \"white\", \"minorgridcolor\": \"white\", \"startlinecolor\": \"#2a3f5f\"}, \"baxis\": {\"endlinecolor\": \"#2a3f5f\", \"gridcolor\": \"white\", \"linecolor\": \"white\", \"minorgridcolor\": \"white\", \"startlinecolor\": \"#2a3f5f\"}, \"type\": \"carpet\"}], \"choropleth\": [{\"colorbar\": {\"outlinewidth\": 0, \"ticks\": \"\"}, \"type\": \"choropleth\"}], \"contour\": [{\"colorbar\": {\"outlinewidth\": 0, \"ticks\": \"\"}, \"colorscale\": [[0.0, \"#0d0887\"], [0.1111111111111111, \"#46039f\"], [0.2222222222222222, \"#7201a8\"], [0.3333333333333333, \"#9c179e\"], [0.4444444444444444, \"#bd3786\"], [0.5555555555555556, \"#d8576b\"], [0.6666666666666666, \"#ed7953\"], [0.7777777777777778, \"#fb9f3a\"], [0.8888888888888888, \"#fdca26\"], [1.0, \"#f0f921\"]], \"type\": \"contour\"}], \"contourcarpet\": [{\"colorbar\": {\"outlinewidth\": 0, \"ticks\": \"\"}, \"type\": \"contourcarpet\"}], \"heatmap\": [{\"colorbar\": {\"outlinewidth\": 0, \"ticks\": \"\"}, \"colorscale\": [[0.0, \"#0d0887\"], [0.1111111111111111, \"#46039f\"], [0.2222222222222222, \"#7201a8\"], [0.3333333333333333, \"#9c179e\"], [0.4444444444444444, \"#bd3786\"], [0.5555555555555556, \"#d8576b\"], [0.6666666666666666, \"#ed7953\"], [0.7777777777777778, \"#fb9f3a\"], [0.8888888888888888, \"#fdca26\"], [1.0, \"#f0f921\"]], \"type\": \"heatmap\"}], \"heatmapgl\": [{\"colorbar\": {\"outlinewidth\": 0, \"ticks\": \"\"}, \"colorscale\": [[0.0, \"#0d0887\"], [0.1111111111111111, \"#46039f\"], [0.2222222222222222, \"#7201a8\"], [0.3333333333333333, \"#9c179e\"], [0.4444444444444444, \"#bd3786\"], [0.5555555555555556, \"#d8576b\"], [0.6666666666666666, \"#ed7953\"], [0.7777777777777778, \"#fb9f3a\"], [0.8888888888888888, \"#fdca26\"], [1.0, \"#f0f921\"]], \"type\": \"heatmapgl\"}], \"histogram\": [{\"marker\": {\"colorbar\": {\"outlinewidth\": 0, \"ticks\": \"\"}}, \"type\": \"histogram\"}], \"histogram2d\": [{\"colorbar\": {\"outlinewidth\": 0, \"ticks\": \"\"}, \"colorscale\": [[0.0, \"#0d0887\"], [0.1111111111111111, \"#46039f\"], [0.2222222222222222, \"#7201a8\"], [0.3333333333333333, \"#9c179e\"], [0.4444444444444444, \"#bd3786\"], [0.5555555555555556, \"#d8576b\"], [0.6666666666666666, \"#ed7953\"], [0.7777777777777778, \"#fb9f3a\"], [0.8888888888888888, \"#fdca26\"], [1.0, \"#f0f921\"]], \"type\": \"histogram2d\"}], \"histogram2dcontour\": [{\"colorbar\": {\"outlinewidth\": 0, \"ticks\": \"\"}, \"colorscale\": [[0.0, \"#0d0887\"], [0.1111111111111111, \"#46039f\"], [0.2222222222222222, \"#7201a8\"], [0.3333333333333333, \"#9c179e\"], [0.4444444444444444, \"#bd3786\"], [0.5555555555555556, \"#d8576b\"], [0.6666666666666666, \"#ed7953\"], [0.7777777777777778, \"#fb9f3a\"], [0.8888888888888888, \"#fdca26\"], [1.0, \"#f0f921\"]], \"type\": \"histogram2dcontour\"}], \"mesh3d\": [{\"colorbar\": {\"outlinewidth\": 0, \"ticks\": \"\"}, \"type\": \"mesh3d\"}], \"parcoords\": [{\"line\": {\"colorbar\": {\"outlinewidth\": 0, \"ticks\": \"\"}}, \"type\": \"parcoords\"}], \"pie\": [{\"automargin\": true, \"type\": \"pie\"}], \"scatter\": [{\"marker\": {\"colorbar\": {\"outlinewidth\": 0, \"ticks\": \"\"}}, \"type\": \"scatter\"}], \"scatter3d\": [{\"line\": {\"colorbar\": {\"outlinewidth\": 0, \"ticks\": \"\"}}, \"marker\": {\"colorbar\": {\"outlinewidth\": 0, \"ticks\": \"\"}}, \"type\": \"scatter3d\"}], \"scattercarpet\": [{\"marker\": {\"colorbar\": {\"outlinewidth\": 0, \"ticks\": \"\"}}, \"type\": \"scattercarpet\"}], \"scattergeo\": [{\"marker\": {\"colorbar\": {\"outlinewidth\": 0, \"ticks\": \"\"}}, \"type\": \"scattergeo\"}], \"scattergl\": [{\"marker\": {\"colorbar\": {\"outlinewidth\": 0, \"ticks\": \"\"}}, \"type\": \"scattergl\"}], \"scattermapbox\": [{\"marker\": {\"colorbar\": {\"outlinewidth\": 0, \"ticks\": \"\"}}, \"type\": \"scattermapbox\"}], \"scatterpolar\": [{\"marker\": {\"colorbar\": {\"outlinewidth\": 0, \"ticks\": \"\"}}, \"type\": \"scatterpolar\"}], \"scatterpolargl\": [{\"marker\": {\"colorbar\": {\"outlinewidth\": 0, \"ticks\": \"\"}}, \"type\": \"scatterpolargl\"}], \"scatterternary\": [{\"marker\": {\"colorbar\": {\"outlinewidth\": 0, \"ticks\": \"\"}}, \"type\": \"scatterternary\"}], \"surface\": [{\"colorbar\": {\"outlinewidth\": 0, \"ticks\": \"\"}, \"colorscale\": [[0.0, \"#0d0887\"], [0.1111111111111111, \"#46039f\"], [0.2222222222222222, \"#7201a8\"], [0.3333333333333333, \"#9c179e\"], [0.4444444444444444, \"#bd3786\"], [0.5555555555555556, \"#d8576b\"], [0.6666666666666666, \"#ed7953\"], [0.7777777777777778, \"#fb9f3a\"], [0.8888888888888888, \"#fdca26\"], [1.0, \"#f0f921\"]], \"type\": \"surface\"}], \"table\": [{\"cells\": {\"fill\": {\"color\": \"#EBF0F8\"}, \"line\": {\"color\": \"white\"}}, \"header\": {\"fill\": {\"color\": \"#C8D4E3\"}, \"line\": {\"color\": \"white\"}}, \"type\": \"table\"}]}, \"layout\": {\"annotationdefaults\": {\"arrowcolor\": \"#2a3f5f\", \"arrowhead\": 0, \"arrowwidth\": 1}, \"coloraxis\": {\"colorbar\": {\"outlinewidth\": 0, \"ticks\": \"\"}}, \"colorscale\": {\"diverging\": [[0, \"#8e0152\"], [0.1, \"#c51b7d\"], [0.2, \"#de77ae\"], [0.3, \"#f1b6da\"], [0.4, \"#fde0ef\"], [0.5, \"#f7f7f7\"], [0.6, \"#e6f5d0\"], [0.7, \"#b8e186\"], [0.8, \"#7fbc41\"], [0.9, \"#4d9221\"], [1, \"#276419\"]], \"sequential\": [[0.0, \"#0d0887\"], [0.1111111111111111, \"#46039f\"], [0.2222222222222222, \"#7201a8\"], [0.3333333333333333, \"#9c179e\"], [0.4444444444444444, \"#bd3786\"], [0.5555555555555556, \"#d8576b\"], [0.6666666666666666, \"#ed7953\"], [0.7777777777777778, \"#fb9f3a\"], [0.8888888888888888, \"#fdca26\"], [1.0, \"#f0f921\"]], \"sequentialminus\": [[0.0, \"#0d0887\"], [0.1111111111111111, \"#46039f\"], [0.2222222222222222, \"#7201a8\"], [0.3333333333333333, \"#9c179e\"], [0.4444444444444444, \"#bd3786\"], [0.5555555555555556, \"#d8576b\"], [0.6666666666666666, \"#ed7953\"], [0.7777777777777778, \"#fb9f3a\"], [0.8888888888888888, \"#fdca26\"], [1.0, \"#f0f921\"]]}, \"colorway\": [\"#636efa\", \"#EF553B\", \"#00cc96\", \"#ab63fa\", \"#FFA15A\", \"#19d3f3\", \"#FF6692\", \"#B6E880\", \"#FF97FF\", \"#FECB52\"], \"font\": {\"color\": \"#2a3f5f\"}, \"geo\": {\"bgcolor\": \"white\", \"lakecolor\": \"white\", \"landcolor\": \"#E5ECF6\", \"showlakes\": true, \"showland\": true, \"subunitcolor\": \"white\"}, \"hoverlabel\": {\"align\": \"left\"}, \"hovermode\": \"closest\", \"mapbox\": {\"style\": \"light\"}, \"paper_bgcolor\": \"white\", \"plot_bgcolor\": \"#E5ECF6\", \"polar\": {\"angularaxis\": {\"gridcolor\": \"white\", \"linecolor\": \"white\", \"ticks\": \"\"}, \"bgcolor\": \"#E5ECF6\", \"radialaxis\": {\"gridcolor\": \"white\", \"linecolor\": \"white\", \"ticks\": \"\"}}, \"scene\": {\"xaxis\": {\"backgroundcolor\": \"#E5ECF6\", \"gridcolor\": \"white\", \"gridwidth\": 2, \"linecolor\": \"white\", \"showbackground\": true, \"ticks\": \"\", \"zerolinecolor\": \"white\"}, \"yaxis\": {\"backgroundcolor\": \"#E5ECF6\", \"gridcolor\": \"white\", \"gridwidth\": 2, \"linecolor\": \"white\", \"showbackground\": true, \"ticks\": \"\", \"zerolinecolor\": \"white\"}, \"zaxis\": {\"backgroundcolor\": \"#E5ECF6\", \"gridcolor\": \"white\", \"gridwidth\": 2, \"linecolor\": \"white\", \"showbackground\": true, \"ticks\": \"\", \"zerolinecolor\": \"white\"}}, \"shapedefaults\": {\"line\": {\"color\": \"#2a3f5f\"}}, \"ternary\": {\"aaxis\": {\"gridcolor\": \"white\", \"linecolor\": \"white\", \"ticks\": \"\"}, \"baxis\": {\"gridcolor\": \"white\", \"linecolor\": \"white\", \"ticks\": \"\"}, \"bgcolor\": \"#E5ECF6\", \"caxis\": {\"gridcolor\": \"white\", \"linecolor\": \"white\", \"ticks\": \"\"}}, \"title\": {\"x\": 0.05}, \"xaxis\": {\"automargin\": true, \"gridcolor\": \"white\", \"linecolor\": \"white\", \"ticks\": \"\", \"title\": {\"standoff\": 15}, \"zerolinecolor\": \"white\", \"zerolinewidth\": 2}, \"yaxis\": {\"automargin\": true, \"gridcolor\": \"white\", \"linecolor\": \"white\", \"ticks\": \"\", \"title\": {\"standoff\": 15}, \"zerolinecolor\": \"white\", \"zerolinewidth\": 2}}}, \"title\": {\"text\": \"Field Hockey Zones and Lanes\"}, \"width\": 600, \"xaxis\": {\"autorange\": true, \"linecolor\": \"black\", \"range\": [0, 5], \"showgrid\": false, \"showticklabels\": true, \"ticks\": \"outside\", \"zeroline\": true}, \"yaxis\": {\"autorange\": true, \"linecolor\": \"black\", \"range\": [0, 5], \"showgrid\": false, \"showticklabels\": true, \"ticks\": \"outside\", \"zeroline\": true}},\n",
       "                        {\"responsive\": true}\n",
       "                    ).then(function(){\n",
       "                            \n",
       "var gd = document.getElementById('2ef9c9e0-f203-4ac0-b849-767fe99dee09');\n",
       "var x = new MutationObserver(function (mutations, observer) {{\n",
       "        var display = window.getComputedStyle(gd).display;\n",
       "        if (!display || display === 'none') {{\n",
       "            console.log([gd, 'removed!']);\n",
       "            Plotly.purge(gd);\n",
       "            observer.disconnect();\n",
       "        }}\n",
       "}});\n",
       "\n",
       "// Listen for the removal of the full notebook cells\n",
       "var notebookContainer = gd.closest('#notebook-container');\n",
       "if (notebookContainer) {{\n",
       "    x.observe(notebookContainer, {childList: true});\n",
       "}}\n",
       "\n",
       "// Listen for the clearing of the current output cell\n",
       "var outputEl = gd.closest('.output');\n",
       "if (outputEl) {{\n",
       "    x.observe(outputEl, {childList: true});\n",
       "}}\n",
       "\n",
       "                        })\n",
       "                };\n",
       "                });\n",
       "            </script>\n",
       "        </div>"
      ]
     },
     "metadata": {},
     "output_type": "display_data"
    }
   ],
   "source": [
    "# REDO THIS IN THE VERTICAL MODE\n",
    "\n",
    "# set these for number of lanes, number of zones\n",
    "nLanes = 5\n",
    "nZones = 4\n",
    "\n",
    "# We need a list of Lanes and Zones. Could be long.\n",
    "LaneList = ['Lane 1','Lane 2','Lane 3','Lane 4','Lane 5','Lane 6','Lane 7','Lane 8']\n",
    "ZoneList = ['Zone 1','Zone 2','Zone 3','Zone 4','Zone 5','Zone 6','Zone 7','Zone 8']\n",
    "\n",
    "# here is the spreadsheet, using ipysheets function\n",
    "\n",
    "spread_sheet_2 = sheet(rows=nZones, columns=nLanes, \\\n",
    "                       column_headers=LaneList[0:nLanes], \\\n",
    "                       row_headers = ZoneList[nZones-1::-1])\n",
    "my_cells_2 = cell_range([[1,1,1,3,1],[2,2,1,3,1],[3,3,1,3,1],[1,2,1,2,3]],row_start=0,col_start=0,numeric_format=\"int\")\n",
    "\n",
    "\n",
    "figure_2 = go.Figure(data=go.Heatmap(\n",
    "          y = ZoneList[0:nZones],\n",
    "          x = LaneList[0:nLanes],\n",
    "          z = my_cells_2.value,\n",
    "          type = 'heatmap',\n",
    "          colorscale = 'peach',opacity = 1.0))\n",
    "\n",
    "axis_template = dict(range = [0,5], autorange = True,\n",
    "             showgrid = False, zeroline = True,\n",
    "             linecolor = 'black', showticklabels = True,\n",
    "             ticks = 'outside' )\n",
    "\n",
    "figure_2.update_layout(margin = dict(t=0,r=0,b=0,l=250),\n",
    "    xaxis = axis_template,\n",
    "    yaxis = axis_template,\n",
    "    showlegend = False,\n",
    "    width = 600, height = 500, title=\"Field Hockey Zones and Lanes\",\n",
    "    autosize = True )\n",
    "\n",
    "# Add image in the background\n",
    "figure_2.add_layout_image(\n",
    "        dict(\n",
    "            source=\"images/field_hockey_pitch.png\",\n",
    "            xref=\"x\",\n",
    "            yref=\"y\",\n",
    "            x=-0.5,\n",
    "            y=-0.5 +nZones,  #this adjusts the placement of the field image\n",
    "            sizex=5,\n",
    "            sizey=4,\n",
    "            sizing=\"fill\",\n",
    "            opacity=0.7,\n",
    "            layer=\"above\")\n",
    ")\n",
    "\n",
    "# changes in my_cells should trigger this function\n",
    "def calculate_2(change):\n",
    "    figure_2.update_traces(z=my_cells_2.value)\n",
    "    \n",
    "my_cells_2.observe(calculate_2, 'value')\n",
    "\n",
    "figure_2.show()  # use this for debugging only"
   ]
  },
  {
   "cell_type": "code",
   "execution_count": 12,
   "metadata": {
    "slideshow": {
     "slide_type": "slide"
    }
   },
   "outputs": [
    {
     "data": {
      "application/vnd.jupyter.widget-view+json": {
       "model_id": "c6742c714c5a447ab26c73a72d9f501f",
       "version_major": 2,
       "version_minor": 0
      },
      "text/plain": [
       "Sheet(cells=(Cell(column_start=0, numeric_format='int', row_start=0, squeeze_column=False, squeeze_row=False, …"
      ]
     },
     "metadata": {},
     "output_type": "display_data"
    }
   ],
   "source": [
    "spread_sheet_2  # Enter data in this spreadsheet"
   ]
  },
  {
   "cell_type": "code",
   "execution_count": 14,
   "metadata": {
    "slideshow": {
     "slide_type": "-"
    }
   },
   "outputs": [
    {
     "data": {
      "application/vnd.plotly.v1+json": {
       "config": {
        "plotlyServerURL": "https://plot.ly"
       },
       "data": [
        {
         "colorscale": [
          [
           0,
           "rgb(253, 224, 197)"
          ],
          [
           0.16666666666666666,
           "rgb(250, 203, 166)"
          ],
          [
           0.3333333333333333,
           "rgb(248, 181, 139)"
          ],
          [
           0.5,
           "rgb(245, 158, 114)"
          ],
          [
           0.6666666666666666,
           "rgb(242, 133, 93)"
          ],
          [
           0.8333333333333334,
           "rgb(239, 106, 76)"
          ],
          [
           1,
           "rgb(235, 74, 64)"
          ]
         ],
         "opacity": 1,
         "type": "heatmap",
         "x": [
          "Lane 1",
          "Lane 2",
          "Lane 3",
          "Lane 4",
          "Lane 5"
         ],
         "y": [
          "Zone 1",
          "Zone 2",
          "Zone 3",
          "Zone 4"
         ],
         "z": [
          [
           10,
           1,
           1,
           3,
           1
          ],
          [
           2,
           2,
           1,
           3,
           1
          ],
          [
           3,
           3,
           1,
           3,
           1
          ],
          [
           1,
           2,
           1,
           2,
           3
          ]
         ]
        }
       ],
       "layout": {
        "autosize": true,
        "height": 500,
        "images": [
         {
          "layer": "above",
          "opacity": 0.7,
          "sizex": 5,
          "sizey": 4,
          "sizing": "fill",
          "source": "images/field_hockey_pitch.png",
          "x": -0.5,
          "xref": "x",
          "y": 3.5,
          "yref": "y"
         }
        ],
        "margin": {
         "b": 0,
         "l": 250,
         "r": 0,
         "t": 0
        },
        "showlegend": false,
        "template": {
         "data": {
          "bar": [
           {
            "error_x": {
             "color": "#2a3f5f"
            },
            "error_y": {
             "color": "#2a3f5f"
            },
            "marker": {
             "line": {
              "color": "#E5ECF6",
              "width": 0.5
             }
            },
            "type": "bar"
           }
          ],
          "barpolar": [
           {
            "marker": {
             "line": {
              "color": "#E5ECF6",
              "width": 0.5
             }
            },
            "type": "barpolar"
           }
          ],
          "carpet": [
           {
            "aaxis": {
             "endlinecolor": "#2a3f5f",
             "gridcolor": "white",
             "linecolor": "white",
             "minorgridcolor": "white",
             "startlinecolor": "#2a3f5f"
            },
            "baxis": {
             "endlinecolor": "#2a3f5f",
             "gridcolor": "white",
             "linecolor": "white",
             "minorgridcolor": "white",
             "startlinecolor": "#2a3f5f"
            },
            "type": "carpet"
           }
          ],
          "choropleth": [
           {
            "colorbar": {
             "outlinewidth": 0,
             "ticks": ""
            },
            "type": "choropleth"
           }
          ],
          "contour": [
           {
            "colorbar": {
             "outlinewidth": 0,
             "ticks": ""
            },
            "colorscale": [
             [
              0,
              "#0d0887"
             ],
             [
              0.1111111111111111,
              "#46039f"
             ],
             [
              0.2222222222222222,
              "#7201a8"
             ],
             [
              0.3333333333333333,
              "#9c179e"
             ],
             [
              0.4444444444444444,
              "#bd3786"
             ],
             [
              0.5555555555555556,
              "#d8576b"
             ],
             [
              0.6666666666666666,
              "#ed7953"
             ],
             [
              0.7777777777777778,
              "#fb9f3a"
             ],
             [
              0.8888888888888888,
              "#fdca26"
             ],
             [
              1,
              "#f0f921"
             ]
            ],
            "type": "contour"
           }
          ],
          "contourcarpet": [
           {
            "colorbar": {
             "outlinewidth": 0,
             "ticks": ""
            },
            "type": "contourcarpet"
           }
          ],
          "heatmap": [
           {
            "colorbar": {
             "outlinewidth": 0,
             "ticks": ""
            },
            "colorscale": [
             [
              0,
              "#0d0887"
             ],
             [
              0.1111111111111111,
              "#46039f"
             ],
             [
              0.2222222222222222,
              "#7201a8"
             ],
             [
              0.3333333333333333,
              "#9c179e"
             ],
             [
              0.4444444444444444,
              "#bd3786"
             ],
             [
              0.5555555555555556,
              "#d8576b"
             ],
             [
              0.6666666666666666,
              "#ed7953"
             ],
             [
              0.7777777777777778,
              "#fb9f3a"
             ],
             [
              0.8888888888888888,
              "#fdca26"
             ],
             [
              1,
              "#f0f921"
             ]
            ],
            "type": "heatmap"
           }
          ],
          "heatmapgl": [
           {
            "colorbar": {
             "outlinewidth": 0,
             "ticks": ""
            },
            "colorscale": [
             [
              0,
              "#0d0887"
             ],
             [
              0.1111111111111111,
              "#46039f"
             ],
             [
              0.2222222222222222,
              "#7201a8"
             ],
             [
              0.3333333333333333,
              "#9c179e"
             ],
             [
              0.4444444444444444,
              "#bd3786"
             ],
             [
              0.5555555555555556,
              "#d8576b"
             ],
             [
              0.6666666666666666,
              "#ed7953"
             ],
             [
              0.7777777777777778,
              "#fb9f3a"
             ],
             [
              0.8888888888888888,
              "#fdca26"
             ],
             [
              1,
              "#f0f921"
             ]
            ],
            "type": "heatmapgl"
           }
          ],
          "histogram": [
           {
            "marker": {
             "colorbar": {
              "outlinewidth": 0,
              "ticks": ""
             }
            },
            "type": "histogram"
           }
          ],
          "histogram2d": [
           {
            "colorbar": {
             "outlinewidth": 0,
             "ticks": ""
            },
            "colorscale": [
             [
              0,
              "#0d0887"
             ],
             [
              0.1111111111111111,
              "#46039f"
             ],
             [
              0.2222222222222222,
              "#7201a8"
             ],
             [
              0.3333333333333333,
              "#9c179e"
             ],
             [
              0.4444444444444444,
              "#bd3786"
             ],
             [
              0.5555555555555556,
              "#d8576b"
             ],
             [
              0.6666666666666666,
              "#ed7953"
             ],
             [
              0.7777777777777778,
              "#fb9f3a"
             ],
             [
              0.8888888888888888,
              "#fdca26"
             ],
             [
              1,
              "#f0f921"
             ]
            ],
            "type": "histogram2d"
           }
          ],
          "histogram2dcontour": [
           {
            "colorbar": {
             "outlinewidth": 0,
             "ticks": ""
            },
            "colorscale": [
             [
              0,
              "#0d0887"
             ],
             [
              0.1111111111111111,
              "#46039f"
             ],
             [
              0.2222222222222222,
              "#7201a8"
             ],
             [
              0.3333333333333333,
              "#9c179e"
             ],
             [
              0.4444444444444444,
              "#bd3786"
             ],
             [
              0.5555555555555556,
              "#d8576b"
             ],
             [
              0.6666666666666666,
              "#ed7953"
             ],
             [
              0.7777777777777778,
              "#fb9f3a"
             ],
             [
              0.8888888888888888,
              "#fdca26"
             ],
             [
              1,
              "#f0f921"
             ]
            ],
            "type": "histogram2dcontour"
           }
          ],
          "mesh3d": [
           {
            "colorbar": {
             "outlinewidth": 0,
             "ticks": ""
            },
            "type": "mesh3d"
           }
          ],
          "parcoords": [
           {
            "line": {
             "colorbar": {
              "outlinewidth": 0,
              "ticks": ""
             }
            },
            "type": "parcoords"
           }
          ],
          "pie": [
           {
            "automargin": true,
            "type": "pie"
           }
          ],
          "scatter": [
           {
            "marker": {
             "colorbar": {
              "outlinewidth": 0,
              "ticks": ""
             }
            },
            "type": "scatter"
           }
          ],
          "scatter3d": [
           {
            "line": {
             "colorbar": {
              "outlinewidth": 0,
              "ticks": ""
             }
            },
            "marker": {
             "colorbar": {
              "outlinewidth": 0,
              "ticks": ""
             }
            },
            "type": "scatter3d"
           }
          ],
          "scattercarpet": [
           {
            "marker": {
             "colorbar": {
              "outlinewidth": 0,
              "ticks": ""
             }
            },
            "type": "scattercarpet"
           }
          ],
          "scattergeo": [
           {
            "marker": {
             "colorbar": {
              "outlinewidth": 0,
              "ticks": ""
             }
            },
            "type": "scattergeo"
           }
          ],
          "scattergl": [
           {
            "marker": {
             "colorbar": {
              "outlinewidth": 0,
              "ticks": ""
             }
            },
            "type": "scattergl"
           }
          ],
          "scattermapbox": [
           {
            "marker": {
             "colorbar": {
              "outlinewidth": 0,
              "ticks": ""
             }
            },
            "type": "scattermapbox"
           }
          ],
          "scatterpolar": [
           {
            "marker": {
             "colorbar": {
              "outlinewidth": 0,
              "ticks": ""
             }
            },
            "type": "scatterpolar"
           }
          ],
          "scatterpolargl": [
           {
            "marker": {
             "colorbar": {
              "outlinewidth": 0,
              "ticks": ""
             }
            },
            "type": "scatterpolargl"
           }
          ],
          "scatterternary": [
           {
            "marker": {
             "colorbar": {
              "outlinewidth": 0,
              "ticks": ""
             }
            },
            "type": "scatterternary"
           }
          ],
          "surface": [
           {
            "colorbar": {
             "outlinewidth": 0,
             "ticks": ""
            },
            "colorscale": [
             [
              0,
              "#0d0887"
             ],
             [
              0.1111111111111111,
              "#46039f"
             ],
             [
              0.2222222222222222,
              "#7201a8"
             ],
             [
              0.3333333333333333,
              "#9c179e"
             ],
             [
              0.4444444444444444,
              "#bd3786"
             ],
             [
              0.5555555555555556,
              "#d8576b"
             ],
             [
              0.6666666666666666,
              "#ed7953"
             ],
             [
              0.7777777777777778,
              "#fb9f3a"
             ],
             [
              0.8888888888888888,
              "#fdca26"
             ],
             [
              1,
              "#f0f921"
             ]
            ],
            "type": "surface"
           }
          ],
          "table": [
           {
            "cells": {
             "fill": {
              "color": "#EBF0F8"
             },
             "line": {
              "color": "white"
             }
            },
            "header": {
             "fill": {
              "color": "#C8D4E3"
             },
             "line": {
              "color": "white"
             }
            },
            "type": "table"
           }
          ]
         },
         "layout": {
          "annotationdefaults": {
           "arrowcolor": "#2a3f5f",
           "arrowhead": 0,
           "arrowwidth": 1
          },
          "coloraxis": {
           "colorbar": {
            "outlinewidth": 0,
            "ticks": ""
           }
          },
          "colorscale": {
           "diverging": [
            [
             0,
             "#8e0152"
            ],
            [
             0.1,
             "#c51b7d"
            ],
            [
             0.2,
             "#de77ae"
            ],
            [
             0.3,
             "#f1b6da"
            ],
            [
             0.4,
             "#fde0ef"
            ],
            [
             0.5,
             "#f7f7f7"
            ],
            [
             0.6,
             "#e6f5d0"
            ],
            [
             0.7,
             "#b8e186"
            ],
            [
             0.8,
             "#7fbc41"
            ],
            [
             0.9,
             "#4d9221"
            ],
            [
             1,
             "#276419"
            ]
           ],
           "sequential": [
            [
             0,
             "#0d0887"
            ],
            [
             0.1111111111111111,
             "#46039f"
            ],
            [
             0.2222222222222222,
             "#7201a8"
            ],
            [
             0.3333333333333333,
             "#9c179e"
            ],
            [
             0.4444444444444444,
             "#bd3786"
            ],
            [
             0.5555555555555556,
             "#d8576b"
            ],
            [
             0.6666666666666666,
             "#ed7953"
            ],
            [
             0.7777777777777778,
             "#fb9f3a"
            ],
            [
             0.8888888888888888,
             "#fdca26"
            ],
            [
             1,
             "#f0f921"
            ]
           ],
           "sequentialminus": [
            [
             0,
             "#0d0887"
            ],
            [
             0.1111111111111111,
             "#46039f"
            ],
            [
             0.2222222222222222,
             "#7201a8"
            ],
            [
             0.3333333333333333,
             "#9c179e"
            ],
            [
             0.4444444444444444,
             "#bd3786"
            ],
            [
             0.5555555555555556,
             "#d8576b"
            ],
            [
             0.6666666666666666,
             "#ed7953"
            ],
            [
             0.7777777777777778,
             "#fb9f3a"
            ],
            [
             0.8888888888888888,
             "#fdca26"
            ],
            [
             1,
             "#f0f921"
            ]
           ]
          },
          "colorway": [
           "#636efa",
           "#EF553B",
           "#00cc96",
           "#ab63fa",
           "#FFA15A",
           "#19d3f3",
           "#FF6692",
           "#B6E880",
           "#FF97FF",
           "#FECB52"
          ],
          "font": {
           "color": "#2a3f5f"
          },
          "geo": {
           "bgcolor": "white",
           "lakecolor": "white",
           "landcolor": "#E5ECF6",
           "showlakes": true,
           "showland": true,
           "subunitcolor": "white"
          },
          "hoverlabel": {
           "align": "left"
          },
          "hovermode": "closest",
          "mapbox": {
           "style": "light"
          },
          "paper_bgcolor": "white",
          "plot_bgcolor": "#E5ECF6",
          "polar": {
           "angularaxis": {
            "gridcolor": "white",
            "linecolor": "white",
            "ticks": ""
           },
           "bgcolor": "#E5ECF6",
           "radialaxis": {
            "gridcolor": "white",
            "linecolor": "white",
            "ticks": ""
           }
          },
          "scene": {
           "xaxis": {
            "backgroundcolor": "#E5ECF6",
            "gridcolor": "white",
            "gridwidth": 2,
            "linecolor": "white",
            "showbackground": true,
            "ticks": "",
            "zerolinecolor": "white"
           },
           "yaxis": {
            "backgroundcolor": "#E5ECF6",
            "gridcolor": "white",
            "gridwidth": 2,
            "linecolor": "white",
            "showbackground": true,
            "ticks": "",
            "zerolinecolor": "white"
           },
           "zaxis": {
            "backgroundcolor": "#E5ECF6",
            "gridcolor": "white",
            "gridwidth": 2,
            "linecolor": "white",
            "showbackground": true,
            "ticks": "",
            "zerolinecolor": "white"
           }
          },
          "shapedefaults": {
           "line": {
            "color": "#2a3f5f"
           }
          },
          "ternary": {
           "aaxis": {
            "gridcolor": "white",
            "linecolor": "white",
            "ticks": ""
           },
           "baxis": {
            "gridcolor": "white",
            "linecolor": "white",
            "ticks": ""
           },
           "bgcolor": "#E5ECF6",
           "caxis": {
            "gridcolor": "white",
            "linecolor": "white",
            "ticks": ""
           }
          },
          "title": {
           "x": 0.05
          },
          "xaxis": {
           "automargin": true,
           "gridcolor": "white",
           "linecolor": "white",
           "ticks": "",
           "title": {
            "standoff": 15
           },
           "zerolinecolor": "white",
           "zerolinewidth": 2
          },
          "yaxis": {
           "automargin": true,
           "gridcolor": "white",
           "linecolor": "white",
           "ticks": "",
           "title": {
            "standoff": 15
           },
           "zerolinecolor": "white",
           "zerolinewidth": 2
          }
         }
        },
        "title": {
         "text": "Field Hockey Zones and Lanes"
        },
        "width": 600,
        "xaxis": {
         "autorange": true,
         "linecolor": "black",
         "range": [
          0,
          5
         ],
         "showgrid": false,
         "showticklabels": true,
         "ticks": "outside",
         "zeroline": true
        },
        "yaxis": {
         "autorange": true,
         "linecolor": "black",
         "range": [
          0,
          5
         ],
         "showgrid": false,
         "showticklabels": true,
         "ticks": "outside",
         "zeroline": true
        }
       }
      },
      "text/html": [
       "<div>\n",
       "        \n",
       "        \n",
       "            <div id=\"2cba916e-541f-4121-a9dd-915c11945c5c\" class=\"plotly-graph-div\" style=\"height:500px; width:600px;\"></div>\n",
       "            <script type=\"text/javascript\">\n",
       "                require([\"plotly\"], function(Plotly) {\n",
       "                    window.PLOTLYENV=window.PLOTLYENV || {};\n",
       "                    \n",
       "                if (document.getElementById(\"2cba916e-541f-4121-a9dd-915c11945c5c\")) {\n",
       "                    Plotly.newPlot(\n",
       "                        '2cba916e-541f-4121-a9dd-915c11945c5c',\n",
       "                        [{\"colorscale\": [[0.0, \"rgb(253, 224, 197)\"], [0.16666666666666666, \"rgb(250, 203, 166)\"], [0.3333333333333333, \"rgb(248, 181, 139)\"], [0.5, \"rgb(245, 158, 114)\"], [0.6666666666666666, \"rgb(242, 133, 93)\"], [0.8333333333333334, \"rgb(239, 106, 76)\"], [1.0, \"rgb(235, 74, 64)\"]], \"opacity\": 1.0, \"type\": \"heatmap\", \"x\": [\"Lane 1\", \"Lane 2\", \"Lane 3\", \"Lane 4\", \"Lane 5\"], \"y\": [\"Zone 1\", \"Zone 2\", \"Zone 3\", \"Zone 4\"], \"z\": [[10, 1, 1, 3, 1], [2, 2, 1, 3, 1], [3, 3, 1, 3, 1], [1, 2, 1, 2, 3]]}],\n",
       "                        {\"autosize\": true, \"height\": 500, \"images\": [{\"layer\": \"above\", \"opacity\": 0.7, \"sizex\": 5, \"sizey\": 4, \"sizing\": \"fill\", \"source\": \"images/field_hockey_pitch.png\", \"x\": -0.5, \"xref\": \"x\", \"y\": 3.5, \"yref\": \"y\"}], \"margin\": {\"b\": 0, \"l\": 250, \"r\": 0, \"t\": 0}, \"showlegend\": false, \"template\": {\"data\": {\"bar\": [{\"error_x\": {\"color\": \"#2a3f5f\"}, \"error_y\": {\"color\": \"#2a3f5f\"}, \"marker\": {\"line\": {\"color\": \"#E5ECF6\", \"width\": 0.5}}, \"type\": \"bar\"}], \"barpolar\": [{\"marker\": {\"line\": {\"color\": \"#E5ECF6\", \"width\": 0.5}}, \"type\": \"barpolar\"}], \"carpet\": [{\"aaxis\": {\"endlinecolor\": \"#2a3f5f\", \"gridcolor\": \"white\", \"linecolor\": \"white\", \"minorgridcolor\": \"white\", \"startlinecolor\": \"#2a3f5f\"}, \"baxis\": {\"endlinecolor\": \"#2a3f5f\", \"gridcolor\": \"white\", \"linecolor\": \"white\", \"minorgridcolor\": \"white\", \"startlinecolor\": \"#2a3f5f\"}, \"type\": \"carpet\"}], \"choropleth\": [{\"colorbar\": {\"outlinewidth\": 0, \"ticks\": \"\"}, \"type\": \"choropleth\"}], \"contour\": [{\"colorbar\": {\"outlinewidth\": 0, \"ticks\": \"\"}, \"colorscale\": [[0.0, \"#0d0887\"], [0.1111111111111111, \"#46039f\"], [0.2222222222222222, \"#7201a8\"], [0.3333333333333333, \"#9c179e\"], [0.4444444444444444, \"#bd3786\"], [0.5555555555555556, \"#d8576b\"], [0.6666666666666666, \"#ed7953\"], [0.7777777777777778, \"#fb9f3a\"], [0.8888888888888888, \"#fdca26\"], [1.0, \"#f0f921\"]], \"type\": \"contour\"}], \"contourcarpet\": [{\"colorbar\": {\"outlinewidth\": 0, \"ticks\": \"\"}, \"type\": \"contourcarpet\"}], \"heatmap\": [{\"colorbar\": {\"outlinewidth\": 0, \"ticks\": \"\"}, \"colorscale\": [[0.0, \"#0d0887\"], [0.1111111111111111, \"#46039f\"], [0.2222222222222222, \"#7201a8\"], [0.3333333333333333, \"#9c179e\"], [0.4444444444444444, \"#bd3786\"], [0.5555555555555556, \"#d8576b\"], [0.6666666666666666, \"#ed7953\"], [0.7777777777777778, \"#fb9f3a\"], [0.8888888888888888, \"#fdca26\"], [1.0, \"#f0f921\"]], \"type\": \"heatmap\"}], \"heatmapgl\": [{\"colorbar\": {\"outlinewidth\": 0, \"ticks\": \"\"}, \"colorscale\": [[0.0, \"#0d0887\"], [0.1111111111111111, \"#46039f\"], [0.2222222222222222, \"#7201a8\"], [0.3333333333333333, \"#9c179e\"], [0.4444444444444444, \"#bd3786\"], [0.5555555555555556, \"#d8576b\"], [0.6666666666666666, \"#ed7953\"], [0.7777777777777778, \"#fb9f3a\"], [0.8888888888888888, \"#fdca26\"], [1.0, \"#f0f921\"]], \"type\": \"heatmapgl\"}], \"histogram\": [{\"marker\": {\"colorbar\": {\"outlinewidth\": 0, \"ticks\": \"\"}}, \"type\": \"histogram\"}], \"histogram2d\": [{\"colorbar\": {\"outlinewidth\": 0, \"ticks\": \"\"}, \"colorscale\": [[0.0, \"#0d0887\"], [0.1111111111111111, \"#46039f\"], [0.2222222222222222, \"#7201a8\"], [0.3333333333333333, \"#9c179e\"], [0.4444444444444444, \"#bd3786\"], [0.5555555555555556, \"#d8576b\"], [0.6666666666666666, \"#ed7953\"], [0.7777777777777778, \"#fb9f3a\"], [0.8888888888888888, \"#fdca26\"], [1.0, \"#f0f921\"]], \"type\": \"histogram2d\"}], \"histogram2dcontour\": [{\"colorbar\": {\"outlinewidth\": 0, \"ticks\": \"\"}, \"colorscale\": [[0.0, \"#0d0887\"], [0.1111111111111111, \"#46039f\"], [0.2222222222222222, \"#7201a8\"], [0.3333333333333333, \"#9c179e\"], [0.4444444444444444, \"#bd3786\"], [0.5555555555555556, \"#d8576b\"], [0.6666666666666666, \"#ed7953\"], [0.7777777777777778, \"#fb9f3a\"], [0.8888888888888888, \"#fdca26\"], [1.0, \"#f0f921\"]], \"type\": \"histogram2dcontour\"}], \"mesh3d\": [{\"colorbar\": {\"outlinewidth\": 0, \"ticks\": \"\"}, \"type\": \"mesh3d\"}], \"parcoords\": [{\"line\": {\"colorbar\": {\"outlinewidth\": 0, \"ticks\": \"\"}}, \"type\": \"parcoords\"}], \"pie\": [{\"automargin\": true, \"type\": \"pie\"}], \"scatter\": [{\"marker\": {\"colorbar\": {\"outlinewidth\": 0, \"ticks\": \"\"}}, \"type\": \"scatter\"}], \"scatter3d\": [{\"line\": {\"colorbar\": {\"outlinewidth\": 0, \"ticks\": \"\"}}, \"marker\": {\"colorbar\": {\"outlinewidth\": 0, \"ticks\": \"\"}}, \"type\": \"scatter3d\"}], \"scattercarpet\": [{\"marker\": {\"colorbar\": {\"outlinewidth\": 0, \"ticks\": \"\"}}, \"type\": \"scattercarpet\"}], \"scattergeo\": [{\"marker\": {\"colorbar\": {\"outlinewidth\": 0, \"ticks\": \"\"}}, \"type\": \"scattergeo\"}], \"scattergl\": [{\"marker\": {\"colorbar\": {\"outlinewidth\": 0, \"ticks\": \"\"}}, \"type\": \"scattergl\"}], \"scattermapbox\": [{\"marker\": {\"colorbar\": {\"outlinewidth\": 0, \"ticks\": \"\"}}, \"type\": \"scattermapbox\"}], \"scatterpolar\": [{\"marker\": {\"colorbar\": {\"outlinewidth\": 0, \"ticks\": \"\"}}, \"type\": \"scatterpolar\"}], \"scatterpolargl\": [{\"marker\": {\"colorbar\": {\"outlinewidth\": 0, \"ticks\": \"\"}}, \"type\": \"scatterpolargl\"}], \"scatterternary\": [{\"marker\": {\"colorbar\": {\"outlinewidth\": 0, \"ticks\": \"\"}}, \"type\": \"scatterternary\"}], \"surface\": [{\"colorbar\": {\"outlinewidth\": 0, \"ticks\": \"\"}, \"colorscale\": [[0.0, \"#0d0887\"], [0.1111111111111111, \"#46039f\"], [0.2222222222222222, \"#7201a8\"], [0.3333333333333333, \"#9c179e\"], [0.4444444444444444, \"#bd3786\"], [0.5555555555555556, \"#d8576b\"], [0.6666666666666666, \"#ed7953\"], [0.7777777777777778, \"#fb9f3a\"], [0.8888888888888888, \"#fdca26\"], [1.0, \"#f0f921\"]], \"type\": \"surface\"}], \"table\": [{\"cells\": {\"fill\": {\"color\": \"#EBF0F8\"}, \"line\": {\"color\": \"white\"}}, \"header\": {\"fill\": {\"color\": \"#C8D4E3\"}, \"line\": {\"color\": \"white\"}}, \"type\": \"table\"}]}, \"layout\": {\"annotationdefaults\": {\"arrowcolor\": \"#2a3f5f\", \"arrowhead\": 0, \"arrowwidth\": 1}, \"coloraxis\": {\"colorbar\": {\"outlinewidth\": 0, \"ticks\": \"\"}}, \"colorscale\": {\"diverging\": [[0, \"#8e0152\"], [0.1, \"#c51b7d\"], [0.2, \"#de77ae\"], [0.3, \"#f1b6da\"], [0.4, \"#fde0ef\"], [0.5, \"#f7f7f7\"], [0.6, \"#e6f5d0\"], [0.7, \"#b8e186\"], [0.8, \"#7fbc41\"], [0.9, \"#4d9221\"], [1, \"#276419\"]], \"sequential\": [[0.0, \"#0d0887\"], [0.1111111111111111, \"#46039f\"], [0.2222222222222222, \"#7201a8\"], [0.3333333333333333, \"#9c179e\"], [0.4444444444444444, \"#bd3786\"], [0.5555555555555556, \"#d8576b\"], [0.6666666666666666, \"#ed7953\"], [0.7777777777777778, \"#fb9f3a\"], [0.8888888888888888, \"#fdca26\"], [1.0, \"#f0f921\"]], \"sequentialminus\": [[0.0, \"#0d0887\"], [0.1111111111111111, \"#46039f\"], [0.2222222222222222, \"#7201a8\"], [0.3333333333333333, \"#9c179e\"], [0.4444444444444444, \"#bd3786\"], [0.5555555555555556, \"#d8576b\"], [0.6666666666666666, \"#ed7953\"], [0.7777777777777778, \"#fb9f3a\"], [0.8888888888888888, \"#fdca26\"], [1.0, \"#f0f921\"]]}, \"colorway\": [\"#636efa\", \"#EF553B\", \"#00cc96\", \"#ab63fa\", \"#FFA15A\", \"#19d3f3\", \"#FF6692\", \"#B6E880\", \"#FF97FF\", \"#FECB52\"], \"font\": {\"color\": \"#2a3f5f\"}, \"geo\": {\"bgcolor\": \"white\", \"lakecolor\": \"white\", \"landcolor\": \"#E5ECF6\", \"showlakes\": true, \"showland\": true, \"subunitcolor\": \"white\"}, \"hoverlabel\": {\"align\": \"left\"}, \"hovermode\": \"closest\", \"mapbox\": {\"style\": \"light\"}, \"paper_bgcolor\": \"white\", \"plot_bgcolor\": \"#E5ECF6\", \"polar\": {\"angularaxis\": {\"gridcolor\": \"white\", \"linecolor\": \"white\", \"ticks\": \"\"}, \"bgcolor\": \"#E5ECF6\", \"radialaxis\": {\"gridcolor\": \"white\", \"linecolor\": \"white\", \"ticks\": \"\"}}, \"scene\": {\"xaxis\": {\"backgroundcolor\": \"#E5ECF6\", \"gridcolor\": \"white\", \"gridwidth\": 2, \"linecolor\": \"white\", \"showbackground\": true, \"ticks\": \"\", \"zerolinecolor\": \"white\"}, \"yaxis\": {\"backgroundcolor\": \"#E5ECF6\", \"gridcolor\": \"white\", \"gridwidth\": 2, \"linecolor\": \"white\", \"showbackground\": true, \"ticks\": \"\", \"zerolinecolor\": \"white\"}, \"zaxis\": {\"backgroundcolor\": \"#E5ECF6\", \"gridcolor\": \"white\", \"gridwidth\": 2, \"linecolor\": \"white\", \"showbackground\": true, \"ticks\": \"\", \"zerolinecolor\": \"white\"}}, \"shapedefaults\": {\"line\": {\"color\": \"#2a3f5f\"}}, \"ternary\": {\"aaxis\": {\"gridcolor\": \"white\", \"linecolor\": \"white\", \"ticks\": \"\"}, \"baxis\": {\"gridcolor\": \"white\", \"linecolor\": \"white\", \"ticks\": \"\"}, \"bgcolor\": \"#E5ECF6\", \"caxis\": {\"gridcolor\": \"white\", \"linecolor\": \"white\", \"ticks\": \"\"}}, \"title\": {\"x\": 0.05}, \"xaxis\": {\"automargin\": true, \"gridcolor\": \"white\", \"linecolor\": \"white\", \"ticks\": \"\", \"title\": {\"standoff\": 15}, \"zerolinecolor\": \"white\", \"zerolinewidth\": 2}, \"yaxis\": {\"automargin\": true, \"gridcolor\": \"white\", \"linecolor\": \"white\", \"ticks\": \"\", \"title\": {\"standoff\": 15}, \"zerolinecolor\": \"white\", \"zerolinewidth\": 2}}}, \"title\": {\"text\": \"Field Hockey Zones and Lanes\"}, \"width\": 600, \"xaxis\": {\"autorange\": true, \"linecolor\": \"black\", \"range\": [0, 5], \"showgrid\": false, \"showticklabels\": true, \"ticks\": \"outside\", \"zeroline\": true}, \"yaxis\": {\"autorange\": true, \"linecolor\": \"black\", \"range\": [0, 5], \"showgrid\": false, \"showticklabels\": true, \"ticks\": \"outside\", \"zeroline\": true}},\n",
       "                        {\"responsive\": true}\n",
       "                    ).then(function(){\n",
       "                            \n",
       "var gd = document.getElementById('2cba916e-541f-4121-a9dd-915c11945c5c');\n",
       "var x = new MutationObserver(function (mutations, observer) {{\n",
       "        var display = window.getComputedStyle(gd).display;\n",
       "        if (!display || display === 'none') {{\n",
       "            console.log([gd, 'removed!']);\n",
       "            Plotly.purge(gd);\n",
       "            observer.disconnect();\n",
       "        }}\n",
       "}});\n",
       "\n",
       "// Listen for the removal of the full notebook cells\n",
       "var notebookContainer = gd.closest('#notebook-container');\n",
       "if (notebookContainer) {{\n",
       "    x.observe(notebookContainer, {childList: true});\n",
       "}}\n",
       "\n",
       "// Listen for the clearing of the current output cell\n",
       "var outputEl = gd.closest('.output');\n",
       "if (outputEl) {{\n",
       "    x.observe(outputEl, {childList: true});\n",
       "}}\n",
       "\n",
       "                        })\n",
       "                };\n",
       "                });\n",
       "            </script>\n",
       "        </div>"
      ]
     },
     "metadata": {},
     "output_type": "display_data"
    }
   ],
   "source": [
    "figure_2.update() # Click the keys \"Shift-return\" to update the figure"
   ]
  },
  {
   "cell_type": "markdown",
   "metadata": {
    "slideshow": {
     "slide_type": "slide"
    }
   },
   "source": [
    "## Visual Analytics\n",
    "\n",
    "- Video recording of an entire game, analyzed for events\n",
    "- record times, position of players, actions such as passes and shots on goal\n",
    "- saved in a large spread sheet, 30+ Megs of data\n",
    "\n",
    "We use an example of a soccer game"
   ]
  },
  {
   "cell_type": "code",
   "execution_count": 13,
   "metadata": {
    "slideshow": {
     "slide_type": "slide"
    }
   },
   "outputs": [
    {
     "data": {
      "text/html": [
       "<div>\n",
       "<style scoped>\n",
       "    .dataframe tbody tr th:only-of-type {\n",
       "        vertical-align: middle;\n",
       "    }\n",
       "\n",
       "    .dataframe tbody tr th {\n",
       "        vertical-align: top;\n",
       "    }\n",
       "\n",
       "    .dataframe thead th {\n",
       "        text-align: right;\n",
       "    }\n",
       "</style>\n",
       "<table border=\"1\" class=\"dataframe\">\n",
       "  <thead>\n",
       "    <tr style=\"text-align: right;\">\n",
       "      <th></th>\n",
       "      <th>Team</th>\n",
       "      <th>Type</th>\n",
       "      <th>Subtype</th>\n",
       "      <th>Period</th>\n",
       "      <th>Start Frame</th>\n",
       "      <th>Start Time [s]</th>\n",
       "      <th>End Frame</th>\n",
       "      <th>End Time [s]</th>\n",
       "      <th>From</th>\n",
       "      <th>To</th>\n",
       "      <th>Start X</th>\n",
       "      <th>Start Y</th>\n",
       "      <th>End X</th>\n",
       "      <th>End Y</th>\n",
       "    </tr>\n",
       "  </thead>\n",
       "  <tbody>\n",
       "    <tr>\n",
       "      <th>0</th>\n",
       "      <td>Away</td>\n",
       "      <td>SET PIECE</td>\n",
       "      <td>KICK OFF</td>\n",
       "      <td>1</td>\n",
       "      <td>1</td>\n",
       "      <td>0.04</td>\n",
       "      <td>0</td>\n",
       "      <td>0.00</td>\n",
       "      <td>Player19</td>\n",
       "      <td>NaN</td>\n",
       "      <td>NaN</td>\n",
       "      <td>NaN</td>\n",
       "      <td>NaN</td>\n",
       "      <td>NaN</td>\n",
       "    </tr>\n",
       "    <tr>\n",
       "      <th>1</th>\n",
       "      <td>Away</td>\n",
       "      <td>PASS</td>\n",
       "      <td>NaN</td>\n",
       "      <td>1</td>\n",
       "      <td>1</td>\n",
       "      <td>0.04</td>\n",
       "      <td>3</td>\n",
       "      <td>0.12</td>\n",
       "      <td>Player19</td>\n",
       "      <td>Player21</td>\n",
       "      <td>0.45</td>\n",
       "      <td>0.39</td>\n",
       "      <td>0.55</td>\n",
       "      <td>0.43</td>\n",
       "    </tr>\n",
       "    <tr>\n",
       "      <th>2</th>\n",
       "      <td>Away</td>\n",
       "      <td>PASS</td>\n",
       "      <td>NaN</td>\n",
       "      <td>1</td>\n",
       "      <td>3</td>\n",
       "      <td>0.12</td>\n",
       "      <td>17</td>\n",
       "      <td>0.68</td>\n",
       "      <td>Player21</td>\n",
       "      <td>Player15</td>\n",
       "      <td>0.55</td>\n",
       "      <td>0.43</td>\n",
       "      <td>0.58</td>\n",
       "      <td>0.21</td>\n",
       "    </tr>\n",
       "    <tr>\n",
       "      <th>3</th>\n",
       "      <td>Away</td>\n",
       "      <td>PASS</td>\n",
       "      <td>NaN</td>\n",
       "      <td>1</td>\n",
       "      <td>45</td>\n",
       "      <td>1.80</td>\n",
       "      <td>61</td>\n",
       "      <td>2.44</td>\n",
       "      <td>Player15</td>\n",
       "      <td>Player19</td>\n",
       "      <td>0.55</td>\n",
       "      <td>0.19</td>\n",
       "      <td>0.45</td>\n",
       "      <td>0.31</td>\n",
       "    </tr>\n",
       "    <tr>\n",
       "      <th>4</th>\n",
       "      <td>Away</td>\n",
       "      <td>PASS</td>\n",
       "      <td>NaN</td>\n",
       "      <td>1</td>\n",
       "      <td>77</td>\n",
       "      <td>3.08</td>\n",
       "      <td>96</td>\n",
       "      <td>3.84</td>\n",
       "      <td>Player19</td>\n",
       "      <td>Player21</td>\n",
       "      <td>0.45</td>\n",
       "      <td>0.32</td>\n",
       "      <td>0.49</td>\n",
       "      <td>0.47</td>\n",
       "    </tr>\n",
       "    <tr>\n",
       "      <th>...</th>\n",
       "      <td>...</td>\n",
       "      <td>...</td>\n",
       "      <td>...</td>\n",
       "      <td>...</td>\n",
       "      <td>...</td>\n",
       "      <td>...</td>\n",
       "      <td>...</td>\n",
       "      <td>...</td>\n",
       "      <td>...</td>\n",
       "      <td>...</td>\n",
       "      <td>...</td>\n",
       "      <td>...</td>\n",
       "      <td>...</td>\n",
       "      <td>...</td>\n",
       "    </tr>\n",
       "    <tr>\n",
       "      <th>1740</th>\n",
       "      <td>Home</td>\n",
       "      <td>PASS</td>\n",
       "      <td>NaN</td>\n",
       "      <td>2</td>\n",
       "      <td>143361</td>\n",
       "      <td>5734.44</td>\n",
       "      <td>143483</td>\n",
       "      <td>5739.32</td>\n",
       "      <td>Player12</td>\n",
       "      <td>Player13</td>\n",
       "      <td>0.60</td>\n",
       "      <td>0.33</td>\n",
       "      <td>0.19</td>\n",
       "      <td>0.95</td>\n",
       "    </tr>\n",
       "    <tr>\n",
       "      <th>1741</th>\n",
       "      <td>Home</td>\n",
       "      <td>PASS</td>\n",
       "      <td>NaN</td>\n",
       "      <td>2</td>\n",
       "      <td>143578</td>\n",
       "      <td>5743.12</td>\n",
       "      <td>143593</td>\n",
       "      <td>5743.72</td>\n",
       "      <td>Player13</td>\n",
       "      <td>Player4</td>\n",
       "      <td>0.09</td>\n",
       "      <td>0.88</td>\n",
       "      <td>0.14</td>\n",
       "      <td>0.69</td>\n",
       "    </tr>\n",
       "    <tr>\n",
       "      <th>1742</th>\n",
       "      <td>Home</td>\n",
       "      <td>BALL LOST</td>\n",
       "      <td>INTERCEPTION</td>\n",
       "      <td>2</td>\n",
       "      <td>143598</td>\n",
       "      <td>5743.92</td>\n",
       "      <td>143618</td>\n",
       "      <td>5744.72</td>\n",
       "      <td>Player4</td>\n",
       "      <td>NaN</td>\n",
       "      <td>0.13</td>\n",
       "      <td>0.69</td>\n",
       "      <td>0.07</td>\n",
       "      <td>0.61</td>\n",
       "    </tr>\n",
       "    <tr>\n",
       "      <th>1743</th>\n",
       "      <td>Away</td>\n",
       "      <td>RECOVERY</td>\n",
       "      <td>BLOCKED</td>\n",
       "      <td>2</td>\n",
       "      <td>143617</td>\n",
       "      <td>5744.68</td>\n",
       "      <td>143617</td>\n",
       "      <td>5744.68</td>\n",
       "      <td>Player16</td>\n",
       "      <td>NaN</td>\n",
       "      <td>0.05</td>\n",
       "      <td>0.62</td>\n",
       "      <td>NaN</td>\n",
       "      <td>NaN</td>\n",
       "    </tr>\n",
       "    <tr>\n",
       "      <th>1744</th>\n",
       "      <td>Away</td>\n",
       "      <td>BALL OUT</td>\n",
       "      <td>NaN</td>\n",
       "      <td>2</td>\n",
       "      <td>143622</td>\n",
       "      <td>5744.88</td>\n",
       "      <td>143630</td>\n",
       "      <td>5745.20</td>\n",
       "      <td>Player16</td>\n",
       "      <td>NaN</td>\n",
       "      <td>0.05</td>\n",
       "      <td>0.63</td>\n",
       "      <td>0.03</td>\n",
       "      <td>1.01</td>\n",
       "    </tr>\n",
       "  </tbody>\n",
       "</table>\n",
       "<p>1745 rows × 14 columns</p>\n",
       "</div>"
      ],
      "text/plain": [
       "      Team       Type       Subtype  Period  Start Frame  Start Time [s]  \\\n",
       "0     Away  SET PIECE      KICK OFF       1            1            0.04   \n",
       "1     Away       PASS           NaN       1            1            0.04   \n",
       "2     Away       PASS           NaN       1            3            0.12   \n",
       "3     Away       PASS           NaN       1           45            1.80   \n",
       "4     Away       PASS           NaN       1           77            3.08   \n",
       "...    ...        ...           ...     ...          ...             ...   \n",
       "1740  Home       PASS           NaN       2       143361         5734.44   \n",
       "1741  Home       PASS           NaN       2       143578         5743.12   \n",
       "1742  Home  BALL LOST  INTERCEPTION       2       143598         5743.92   \n",
       "1743  Away   RECOVERY       BLOCKED       2       143617         5744.68   \n",
       "1744  Away   BALL OUT           NaN       2       143622         5744.88   \n",
       "\n",
       "      End Frame  End Time [s]      From        To  Start X  Start Y  End X  \\\n",
       "0             0          0.00  Player19       NaN      NaN      NaN    NaN   \n",
       "1             3          0.12  Player19  Player21     0.45     0.39   0.55   \n",
       "2            17          0.68  Player21  Player15     0.55     0.43   0.58   \n",
       "3            61          2.44  Player15  Player19     0.55     0.19   0.45   \n",
       "4            96          3.84  Player19  Player21     0.45     0.32   0.49   \n",
       "...         ...           ...       ...       ...      ...      ...    ...   \n",
       "1740     143483       5739.32  Player12  Player13     0.60     0.33   0.19   \n",
       "1741     143593       5743.72  Player13   Player4     0.09     0.88   0.14   \n",
       "1742     143618       5744.72   Player4       NaN     0.13     0.69   0.07   \n",
       "1743     143617       5744.68  Player16       NaN     0.05     0.62    NaN   \n",
       "1744     143630       5745.20  Player16       NaN     0.05     0.63   0.03   \n",
       "\n",
       "      End Y  \n",
       "0       NaN  \n",
       "1      0.43  \n",
       "2      0.21  \n",
       "3      0.31  \n",
       "4      0.47  \n",
       "...     ...  \n",
       "1740   0.95  \n",
       "1741   0.69  \n",
       "1742   0.61  \n",
       "1743    NaN  \n",
       "1744   1.01  \n",
       "\n",
       "[1745 rows x 14 columns]"
      ]
     },
     "execution_count": 13,
     "metadata": {},
     "output_type": "execute_result"
    }
   ],
   "source": [
    "df1 = pd.read_csv('data/Sample_Game_1_RawEventsData.csv'); df1  ## Sample game data set"
   ]
  },
  {
   "cell_type": "markdown",
   "metadata": {
    "slideshow": {
     "slide_type": "slide"
    }
   },
   "source": [
    "### A first attempt to visualize the data (not informative)"
   ]
  },
  {
   "cell_type": "code",
   "execution_count": 14,
   "metadata": {
    "slideshow": {
     "slide_type": "-"
    }
   },
   "outputs": [
    {
     "data": {
      "image/png": "[encoded data removed]",
      "text/plain": [
       "<Figure size 432x288 with 1 Axes>"
      ]
     },
     "metadata": {
      "needs_background": "light"
     },
     "output_type": "display_data"
    }
   ],
   "source": [
    "df1.plot();  # Naive attempt to plot the data (not informative)"
   ]
  },
  {
   "cell_type": "markdown",
   "metadata": {
    "slideshow": {
     "slide_type": "slide"
    }
   },
   "source": [
    "### A better visualization: locate events on the field"
   ]
  },
  {
   "cell_type": "code",
   "execution_count": 15,
   "metadata": {
    "slideshow": {
     "slide_type": "-"
    }
   },
   "outputs": [
    {
     "data": {
      "application/vnd.plotly.v1+json": {
       "config": {
        "linkText": "Export to plot.ly",
        "plotlyServerURL": "https://plot.ly",
        "showLink": true
       },
       "data": [
        {
         "line": {
          "color": "rgba(255, 153, 51, 1.0)",
          "dash": "solid",
          "shape": "linear",
          "width": 1.3
         },
         "marker": {
          "size": 12,
          "symbol": "circle"
         },
         "mode": "markers",
         "name": "Start Y",
         "text": "",
         "type": "scatter",
         "x": [
          null,
          0.45,
          0.55,
          0.55,
          0.45,
          0.4,
          0.39,
          0.51,
          0.27,
          0.27,
          0.57,
          0.57,
          0.38,
          0.36,
          0.36,
          0.36,
          0.53,
          0.5,
          0.64,
          0.58,
          0.51,
          0.53,
          0.36,
          0.42,
          0.32,
          0.32,
          0.31,
          0.46,
          0.86,
          0.87,
          0.87,
          null,
          1,
          0.89,
          0.92,
          null,
          0.49,
          0.57,
          0.57,
          0.55,
          0.71,
          0.93,
          null,
          0.49,
          0.55,
          0.56,
          0.54,
          0.5,
          0.37,
          0.62,
          0.6,
          0.39,
          0.39,
          null,
          0.58,
          0.57,
          0.24,
          0.24,
          0.32,
          0.36,
          0.36,
          0.36,
          0.36,
          0.29,
          0.26,
          0.59,
          0.59,
          0.55,
          0.38,
          0.3,
          0.3,
          0.29,
          0.14,
          0.14,
          0.14,
          0.15,
          0.15,
          0.18,
          0.39,
          0.84,
          0.95,
          0.95,
          0.53,
          0.54,
          0.53,
          0.53,
          0.53,
          0.54,
          0.52,
          0.38,
          0.1,
          0.1,
          0.1,
          0.1,
          0.1,
          0.13,
          0.13,
          0.2,
          0.24,
          0.38,
          0.23,
          0.2,
          0.2,
          0.26,
          0.26,
          0.29,
          0.24,
          0.24,
          0.22,
          0.19,
          0.2,
          0.04,
          0.04,
          0.62,
          0.62,
          0.62,
          0.6,
          0.6,
          0.66,
          0.66,
          0.75,
          0.64,
          0.65,
          null,
          0.77,
          0.71,
          0.09,
          0.02,
          null,
          0.06,
          0.18,
          0.24,
          0.22,
          0.29,
          0.87,
          0.96,
          0.97,
          0.97,
          null,
          0.99,
          0.94,
          0.86,
          0.79,
          0.75,
          0.91,
          0.91,
          0.83,
          0.83,
          0.83,
          0.84,
          0.83,
          0.86,
          0.86,
          0.76,
          0.76,
          null,
          0.78,
          0.65,
          0.58,
          0.53,
          0.5,
          0.39,
          0.22,
          0.04,
          0.04,
          null,
          0.01,
          0.04,
          0.04,
          0.5,
          0.41,
          0.57,
          0.57,
          0.48,
          0.48,
          0.64,
          0.64,
          0.73,
          0.8,
          0.8,
          0.81,
          0.81,
          0.89,
          null,
          0.86,
          0.96,
          0.83,
          0.97,
          0.93,
          0.91,
          0.83,
          0.91,
          0.8,
          0.83,
          0.58,
          0.33,
          0.33,
          0.16,
          0.54,
          0.54,
          0.54,
          0.53,
          0.41,
          0.44,
          0.46,
          0.46,
          0.56,
          0.64,
          0.7,
          0.79,
          0.8,
          0.94,
          0.46,
          0.46,
          0.39,
          0.39,
          0.4,
          null,
          0.34,
          0.52,
          0.54,
          0.53,
          0.35,
          0.29,
          0.47,
          0.44,
          0.56,
          0.77,
          0.8,
          0.8,
          null,
          1.01,
          0.94,
          0.94,
          null,
          0.94,
          0.89,
          0.89,
          0.89,
          0.94,
          0.96,
          0.96,
          0.67,
          0.61,
          0.74,
          0.96,
          0.5,
          0.5,
          0.69,
          0.54,
          0.45,
          0.48,
          0.44,
          0.34,
          0.13,
          0.03,
          0.03,
          0.08,
          0.22,
          0.37,
          0.37,
          null,
          0.39,
          0.51,
          0.51,
          0.51,
          0.5,
          0.41,
          0.32,
          0.28,
          0.28,
          0.28,
          0.4,
          0.36,
          0.49,
          0.49,
          0.59,
          0.61,
          0.5,
          0.47,
          0.38,
          0.42,
          0.35,
          0.32,
          0.34,
          0.34,
          0.39,
          0.39,
          0.53,
          0.46,
          0.56,
          0.25,
          0.04,
          0.04,
          0.55,
          0.55,
          0.55,
          0.54,
          0.54,
          0.54,
          0.54,
          0.54,
          0.53,
          0.53,
          0.55,
          0.55,
          0.6,
          0.69,
          0.59,
          0.55,
          0.44,
          0.51,
          0.41,
          0.38,
          0.48,
          0.52,
          0.47,
          0.26,
          0.31,
          0.22,
          0.29,
          0.29,
          0.3,
          0.32,
          0.32,
          0.3,
          0.31,
          0.31,
          0.3,
          0.27,
          0.24,
          0.24,
          0.18,
          0.15,
          0.49,
          0.49,
          0.34,
          0.34,
          0.33,
          0.19,
          0.12,
          0.1,
          0.09,
          0.07,
          0.16,
          0.18,
          0.18,
          null,
          0.26,
          0.36,
          0.36,
          0.36,
          null,
          0.42,
          0.4,
          0.5,
          0.73,
          0.73,
          0.73,
          null,
          0.97,
          0.86,
          0.95,
          0.95,
          0.95,
          0.45,
          0.45,
          0.45,
          0.46,
          0.45,
          0.45,
          0.31,
          0.34,
          0.24,
          0.27,
          0.28,
          0.22,
          0.22,
          0.17,
          0.23,
          0.29,
          0.54,
          0.83,
          0.98,
          0.86,
          0.42,
          0.17,
          0.17,
          null,
          0.19,
          0.26,
          0.28,
          0.26,
          0.16,
          0.13,
          0.13,
          0.27,
          0.2,
          0.19,
          0.32,
          0.28,
          0.22,
          0.26,
          0.12,
          null,
          0.16,
          0.67,
          0.67,
          0.61,
          0.6,
          0.59,
          0.65,
          0.69,
          0.61,
          0.76,
          0.76,
          0.76,
          0.76,
          0.76,
          0.75,
          0.6,
          0.6,
          0.61,
          0.67,
          0.81,
          0.75,
          0.96,
          0.96,
          0.69,
          0.64,
          0.66,
          0.66,
          0.77,
          0.72,
          0.72,
          0.72,
          null,
          0.71,
          0.74,
          0.5,
          0.57,
          0.49,
          0.04,
          0.04,
          0.57,
          0.57,
          0.49,
          0.57,
          0.62,
          0.61,
          0.57,
          0.51,
          0.51,
          null,
          0.48,
          0.66,
          0.68,
          0.61,
          0.32,
          0.07,
          0.05,
          0.05,
          0.09,
          0.27,
          0.53,
          0.5,
          0.35,
          0.3,
          0.43,
          0.43,
          0.31,
          0.01,
          0.01,
          0.57,
          0.58,
          0.58,
          0.58,
          0.56,
          0.59,
          0.59,
          0.6,
          0.6,
          0.6,
          null,
          0.46,
          0.29,
          0.35,
          0.45,
          null,
          0.49,
          0.58,
          0.64,
          0.55,
          0.38,
          0.43,
          0.27,
          0.26,
          0.19,
          0.19,
          0.16,
          0.16,
          0.13,
          null,
          0.12,
          0.67,
          0.68,
          0.68,
          0.68,
          0.58,
          0.59,
          0.59,
          0.61,
          0.61,
          0.6,
          0.63,
          0.54,
          0.59,
          0.59,
          0.55,
          0.56,
          null,
          0.56,
          0.56,
          0.47,
          0.36,
          0.41,
          0.7,
          0.7,
          null,
          0.65,
          0.71,
          0.63,
          0.56,
          0.45,
          0.71,
          0.71,
          0.73,
          0.73,
          0.59,
          0.57,
          0.55,
          0.46,
          null,
          0.48,
          0.81,
          0.81,
          0.73,
          0.82,
          0.82,
          0.82,
          0.8,
          0.8,
          0.63,
          0.69,
          0.75,
          0.64,
          0.44,
          0.38,
          0.39,
          0.41,
          0.41,
          null,
          0.39,
          0.45,
          0.44,
          0.44,
          0.38,
          0.38,
          0.38,
          null,
          0.37,
          0.75,
          0.75,
          0.75,
          0.92,
          0.92,
          null,
          0.74,
          0.86,
          null,
          0.6,
          0.63,
          0.53,
          0.32,
          0.39,
          0.43,
          0.31,
          0.41,
          0.54,
          0.48,
          0.48,
          0.5,
          0.64,
          0.67,
          0.59,
          0.46,
          0.33,
          0.33,
          0.33,
          null,
          0.24,
          0.35,
          0.13,
          0.18,
          0.19,
          0.21,
          0.25,
          0.26,
          0.35,
          0.37,
          0.39,
          0.77,
          0.91,
          0.93,
          null,
          null,
          0.98,
          0.39,
          0.39,
          null,
          0.41,
          0.5,
          0.51,
          0.56,
          0.56,
          0.57,
          0.57,
          0.57,
          0.55,
          null,
          0.54,
          0.51,
          0.53,
          0.48,
          0.31,
          0.24,
          0.39,
          0.36,
          0.36,
          0.37,
          0.37,
          0.42,
          0.45,
          0.61,
          0.57,
          0.58,
          0.59,
          0.71,
          0.67,
          0.65,
          0.64,
          null,
          0.62,
          0.7,
          0.81,
          0.72,
          0.78,
          0.97,
          0.95,
          0.95,
          0.85,
          0.94,
          0.94,
          0.99,
          0.99,
          0.94,
          0.86,
          0.86,
          0.89,
          0.89,
          null,
          0.77,
          0.8,
          0.71,
          0.71,
          0.69,
          0.69,
          0.69,
          0.64,
          0.51,
          0.52,
          0.53,
          0.53,
          0.54,
          0.54,
          0.53,
          0.53,
          0.59,
          0.57,
          0.57,
          0.87,
          0.78,
          0.7,
          0.66,
          0.59,
          0.75,
          0.93,
          0.93,
          0.93,
          0.8,
          0.9,
          0.64,
          0.65,
          0.41,
          0.42,
          0.55,
          0.6,
          0.68,
          0.66,
          0.66,
          null,
          0.63,
          0.69,
          0.86,
          0.75,
          0.81,
          0.92,
          0.92,
          0.93,
          0.93,
          0.93,
          null,
          1.01,
          0.96,
          0.96,
          0.96,
          0.99,
          0.99,
          0.95,
          0.81,
          0.81,
          0.96,
          0.96,
          0.45,
          0.45,
          0.45,
          0.43,
          0.43,
          0.43,
          0.5,
          0.34,
          0.11,
          0.06,
          0.12,
          0.34,
          0.28,
          0.27,
          0.35,
          0.41,
          0.4,
          0.45,
          0.55,
          0.47,
          0.58,
          0.9,
          0.96,
          0.96,
          0.44,
          0.54,
          0.52,
          0.49,
          0.42,
          0.21,
          0.19,
          0.34,
          0.61,
          0.72,
          0.72,
          0.73,
          null,
          0.73,
          0.86,
          0.86,
          0.69,
          0.71,
          0.95,
          0.95,
          0.74,
          0.51,
          0.52,
          0.53,
          0.54,
          0.61,
          0.64,
          null,
          0.57,
          0.24,
          0.14,
          0.14,
          0.14,
          0.14,
          0.15,
          0.15,
          0.14,
          0.27,
          0.48,
          0.47,
          0.28,
          0.28,
          0.28,
          0.5,
          0.68,
          0.78,
          0.96,
          0.54,
          0.32,
          0.2,
          0.15,
          0.15,
          0.15,
          0.15,
          0.23,
          0.19,
          0.23,
          0.27,
          0.32,
          0.69,
          0.76,
          0.78,
          0.77,
          0.9,
          0.88,
          0.89,
          0.87,
          0.49,
          0.48,
          0.58,
          0.34,
          0.43,
          0.54,
          0.54,
          null,
          0.47,
          0.54,
          0.61,
          0.61,
          0.62,
          null,
          0.64,
          0.61,
          0.82,
          0.59,
          0.38,
          0.79,
          0.97,
          0.98,
          0.99,
          0.99,
          0.91,
          0.93,
          0.98,
          0.89,
          0.89,
          0.53,
          0.53,
          0.53,
          0.53,
          0.45,
          0.48,
          0.24,
          0.41,
          0.57,
          0.57,
          0.5,
          0.51,
          0.45,
          0.36,
          0.37,
          0.34,
          0.31,
          0.33,
          0.28,
          0.62,
          0.67,
          0.66,
          0.67,
          0.59,
          0.51,
          0.51,
          0.79,
          0.91,
          0.93,
          0.93,
          0.9,
          0.68,
          0.53,
          0.59,
          0.58,
          0.08,
          0.04,
          0.04,
          0.17,
          null,
          0.49,
          0.61,
          0.38,
          0.43,
          0.5,
          0.62,
          0.66,
          0.67,
          0.67,
          0.7,
          0.79,
          0.74,
          0.32,
          0.28,
          0.28,
          0.3,
          0.34,
          0.51,
          0.65,
          0.6,
          0.68,
          0.84,
          0.87,
          0.87,
          null,
          0.86,
          0.64,
          0.73,
          0.86,
          0.86,
          null,
          0.71,
          0.52,
          0.43,
          0.49,
          0.61,
          0.6,
          0.43,
          0.51,
          0.33,
          0.46,
          0.48,
          0.56,
          0.56,
          0.54,
          0.86,
          0.76,
          0.98,
          0.95,
          0.71,
          0.55,
          0.62,
          0.58,
          0.63,
          0.45,
          0.36,
          0.43,
          0.41,
          0.36,
          0.32,
          0.28,
          0.3,
          0.1,
          0.08,
          0.08,
          null,
          0.02,
          0.06,
          0.06,
          0.04,
          0.47,
          0.47,
          0.05,
          0.41,
          0.41,
          0.93,
          0.9,
          0.75,
          0.87,
          0.54,
          0.49,
          0.49,
          0.49,
          0.49,
          null,
          0.52,
          0.5,
          0.56,
          0.41,
          0.53,
          0.55,
          0.49,
          0.53,
          0.41,
          null,
          0.84,
          0.77,
          0.85,
          0.61,
          0.61,
          0.61,
          0.66,
          0.7,
          0.69,
          0.84,
          0.78,
          0.76,
          0.75,
          0.64,
          0.45,
          0.25,
          0.21,
          0.12,
          0.12,
          0.36,
          0.35,
          0.21,
          0.3,
          0.51,
          0.53,
          0.43,
          0.33,
          0.2,
          0.16,
          0.37,
          0.54,
          0.47,
          0.32,
          0.34,
          0.15,
          0.11,
          0.11,
          null,
          0.02,
          0.12,
          0.11,
          0.07,
          0.06,
          null,
          0.1,
          0.19,
          0.18,
          0.22,
          0.44,
          0.57,
          0.64,
          0.65,
          0.65,
          0.66,
          0.71,
          0.64,
          0.5,
          0.51,
          0.68,
          0.67,
          0.85,
          0.91,
          0.91,
          0.91,
          0.91,
          0.76,
          0.76,
          0.76,
          null,
          0.85,
          0.7,
          0.53,
          0.61,
          0.62,
          0.74,
          0.71,
          0.78,
          0.71,
          0.62,
          0.62,
          0.62,
          0.62,
          0.62,
          null,
          0.53,
          0.45,
          0.54,
          0.66,
          0.4,
          0.4,
          0.56,
          0.56,
          0.54,
          0.54,
          0.59,
          0.69,
          0.68,
          0.75,
          0.69,
          0.84,
          0.94,
          0.94,
          null,
          0.96,
          0.97,
          0.97,
          null,
          0.49,
          0.56,
          0.55,
          0.56,
          0.56,
          null,
          0.54,
          0.43,
          0.26,
          0.12,
          0.08,
          0.17,
          0.25,
          0.08,
          0.08,
          0.16,
          0.16,
          0.17,
          0.15,
          0.08,
          null,
          0.5,
          0.46,
          0.48,
          0.37,
          0.49,
          0.42,
          0.13,
          0.13,
          0.12,
          0.05,
          0.05,
          0.49,
          0.55,
          0.55,
          0.51,
          0.52,
          0.54,
          0.54,
          0.54,
          0.49,
          0.49,
          0.84,
          0.84,
          0.84,
          0.86,
          0.88,
          0.96,
          null,
          0.87,
          0.35,
          0.34,
          0.34,
          0.34,
          0.44,
          0.44,
          0.34,
          0.06,
          0.1,
          0.6,
          0.53,
          0.63,
          0.61,
          0.56,
          0.64,
          0.77,
          0.7,
          0.81,
          0.89,
          0.89,
          0.98,
          0.45,
          0.41,
          0.19,
          0.33,
          0.45,
          0.16,
          0.23,
          0.26,
          0.45,
          0.7,
          0.9,
          0.9,
          0.9,
          0.9,
          0.94,
          null,
          0.67,
          0.6,
          0.6,
          0.61,
          null,
          0.61,
          0.96,
          0.96,
          0.37,
          0.37,
          0.37,
          0.37,
          0.58,
          0.57,
          0.57,
          null,
          0.69,
          0.46,
          0.42,
          0.49,
          0.4,
          0.06,
          0,
          0,
          0.1,
          0.17,
          0.18,
          0.04,
          0.02,
          0.02,
          0.02,
          0.02,
          null,
          0.5,
          0.57,
          0.61,
          0.49,
          0.44,
          0.56,
          0.8,
          0.8,
          0.42,
          0.38,
          0.19,
          0.37,
          0.57,
          0.7,
          0.71,
          0.71,
          null,
          0.7,
          0.98,
          0.88,
          0.62,
          0.19,
          0.13,
          0.13,
          0.14,
          0.06,
          0.16,
          0.11,
          0.34,
          0.34,
          0.27,
          0.26,
          0.26,
          null,
          0.28,
          0.34,
          0.46,
          0.41,
          0.16,
          0.16,
          0.18,
          0.12,
          0.26,
          0.27,
          0.33,
          0.36,
          0.35,
          0.77,
          0.79,
          0.79,
          0.79,
          0.95,
          0.72,
          0.54,
          0.47,
          0.57,
          0.63,
          0.59,
          0.48,
          0.44,
          0.4,
          0.36,
          0.38,
          0.52,
          0.68,
          0.7,
          0.7,
          0.69,
          0.56,
          0.53,
          0.53,
          0.43,
          0.76,
          0.76,
          0.73,
          0.73,
          0.74,
          0.84,
          0.69,
          0.67,
          0.68,
          0.68,
          0.67,
          null,
          0.7,
          0.61,
          0.55,
          0.76,
          0.71,
          0.19,
          0.15,
          0.15,
          0.11,
          0.07,
          0.13,
          0.37,
          0.36,
          0.33,
          0.35,
          0.55,
          0.56,
          0.45,
          0.67,
          0.62,
          0.64,
          0.51,
          0.51,
          0.52,
          0.52,
          0.52,
          0.58,
          0.6,
          0.73,
          0.92,
          0.99,
          0.98,
          0.65,
          0.27,
          0.16,
          0.19,
          0.19,
          0.19,
          0.22,
          0.24,
          0.32,
          0.44,
          0.39,
          0.53,
          0.56,
          0.81,
          0.74,
          0.74,
          0.73,
          0.73,
          0.74,
          0.69,
          0.68,
          0.51,
          0.51,
          0.5,
          null,
          0.69,
          0.61,
          0.77,
          0.48,
          0.48,
          0.48,
          0.48,
          0.51,
          0.35,
          0.35,
          0.57,
          0.57,
          0.81,
          0.81,
          0.66,
          0.66,
          0.95,
          0.95,
          0.95,
          0.96,
          null,
          0.93,
          0.94,
          0.94,
          0.74,
          0.74,
          0.74,
          0.58,
          0.66,
          0.91,
          0.91,
          0.92,
          0.81,
          0.86,
          0.91,
          0.91,
          0.91,
          0.86,
          0.81,
          0.74,
          1,
          0.86,
          0.34,
          0.32,
          0.38,
          0.38,
          0.39,
          0.39,
          0.41,
          0.46,
          0.36,
          0.42,
          0.45,
          0.33,
          0.41,
          0.28,
          0.32,
          0.38,
          0.74,
          0.74,
          0.75,
          0.76,
          0.76,
          0.74,
          0.51,
          0.5,
          0.56,
          0.48,
          0.57,
          0.68,
          0.79,
          0.79,
          0.57,
          0.57,
          0.61,
          0.71,
          0.79,
          0.71,
          0.63,
          0.72,
          0.86,
          0.66,
          0.53,
          0.42,
          0.44,
          0.15,
          0.15,
          0.15,
          0.29,
          0.29,
          0.31,
          0.38,
          0.34,
          0.37,
          0.37,
          0.38,
          0.47,
          0.47,
          0.48,
          0.51,
          0.49,
          0.48,
          0.08,
          0.01,
          0.04,
          0.12,
          0.28,
          0.37,
          0.42,
          0.36,
          0.59,
          0.99,
          0.97,
          0.44,
          0.44,
          0.75,
          0.77,
          0.94,
          0.43,
          0.43,
          0.42,
          0.44,
          0.48,
          0.47,
          0.47,
          0.51,
          0.51,
          0.58,
          0.54,
          0.47,
          0.62,
          0.51,
          0.54,
          0.56,
          0.42,
          0.31,
          0.26,
          0.25,
          0.01,
          0.04,
          0.35,
          0.38,
          0.38,
          0.36,
          0.36,
          0.36,
          null,
          0.37,
          0.31,
          0.3,
          0.38,
          0.43,
          0.42,
          0.71,
          0.86,
          0.63,
          0.56,
          0.36,
          0.15,
          0.01,
          0.43,
          0.43,
          0.31,
          0.32,
          0.23,
          0.27,
          0.55,
          0.6,
          0.94,
          0.85,
          0.99,
          0.19,
          0.98,
          0.11,
          0.36,
          0.37,
          0.47,
          0.47,
          0.47,
          0.47,
          0.48,
          0.65,
          0.58,
          0.59,
          0.59,
          null,
          null,
          0.58,
          0.69,
          0.61,
          0.54,
          0.62,
          0.46,
          0.62,
          0.86,
          0.83,
          0.73,
          0.85,
          0.85,
          0.85,
          0.85,
          0.85,
          0.57,
          0.57,
          0.58,
          0.58,
          0.64,
          0.71,
          0.74,
          0.85,
          0.85,
          0.82,
          0.89,
          0.54,
          0.16,
          0.19,
          0.19,
          0.21,
          0.21,
          0.21,
          0.21,
          0.22,
          null,
          null,
          0.28,
          0.48,
          0.52,
          0.4,
          0.51,
          0.57,
          0.74,
          0.81,
          0.82,
          0.82,
          0.84,
          0.88,
          0.6,
          0.59,
          0.55,
          0.53,
          0.63,
          0.88,
          0.84,
          0.75,
          0.84,
          0.97,
          0.91,
          0.68,
          0.59,
          0.41,
          0.14,
          0.28,
          0.1,
          0.4,
          0.54,
          0.39,
          0.31,
          0.37,
          0.35,
          0.2,
          0.2,
          0.43,
          0.44,
          0.44,
          0.43,
          0.43,
          0.51,
          0.71,
          0.78,
          0.57,
          0.58,
          0.64,
          0.53,
          0.51,
          0.25,
          0.07,
          0.07,
          0.07,
          0.21,
          0.31,
          0.31,
          0.32,
          null,
          0.31,
          0.39,
          0.57,
          0.53,
          0.62,
          0.83,
          0.71,
          0.78,
          0.73,
          1.01,
          0.96,
          0.42,
          0.38,
          null,
          0.37,
          0.37,
          0.39,
          0.39,
          0.49,
          0.87,
          0.81,
          0.75,
          0.88,
          0.87,
          0.5,
          0.16,
          0.01,
          0.15,
          0.53,
          0.57,
          0.73,
          0.76,
          0.76,
          0.82,
          0.7,
          0.73,
          0.58,
          0.63,
          0.73,
          0.81,
          0.95,
          0.67,
          0.56,
          0.56,
          0.55,
          null,
          null,
          0.6,
          0.66,
          0.5,
          0.56,
          0.62,
          0.57,
          0.65,
          0.58,
          0.59,
          0.51,
          0.53,
          0.53,
          null,
          0.52,
          0.66,
          0.71,
          0.75,
          0.66,
          0.61,
          0.61,
          0.57,
          0.59,
          0.57,
          0.74,
          0.98,
          0.96,
          0.72,
          0.41,
          0.42,
          0.56,
          0.6,
          0.6,
          null,
          0.61,
          0.66,
          0.87,
          0.86,
          0.79,
          0.99,
          0.97,
          0.47,
          null,
          0.49,
          0.42,
          0.32,
          0.41,
          0.72,
          0.85,
          0.85,
          0.47,
          0.5,
          0.68,
          0.74,
          0.75,
          0.6,
          0.09,
          0.13,
          0.05,
          0.05
         ],
         "y": [
          "",
          0.39,
          0.43,
          0.19,
          0.32,
          0.73,
          0.96,
          0.97,
          0.78,
          0.78,
          0.67,
          0.67,
          0.67,
          0.67,
          0.67,
          0.67,
          0.59,
          0.65,
          0.46,
          0.27,
          0.33,
          0.53,
          0.96,
          0.79,
          0.89,
          0.89,
          0.78,
          0.68,
          0.26,
          0.29,
          0.29,
          "",
          0.01,
          0.14,
          0.47,
          "",
          0.5,
          0.53,
          0.76,
          0.95,
          0.86,
          0.56,
          "",
          1.01,
          0.84,
          0.82,
          0.87,
          0.87,
          0.97,
          0.92,
          0.95,
          0.78,
          0.78,
          "",
          1.01,
          0.89,
          0.82,
          0.82,
          0.89,
          0.82,
          0.83,
          0.83,
          0.83,
          0.85,
          0.96,
          0.89,
          0.89,
          0.83,
          0.47,
          0.43,
          0.43,
          0.49,
          0.6,
          0.6,
          0.6,
          0.56,
          0.56,
          0.53,
          0.29,
          0.27,
          0.45,
          0.45,
          0.04,
          0.3,
          0.29,
          0.29,
          0.29,
          0.3,
          0.41,
          0.84,
          0.42,
          0.42,
          0.42,
          0.39,
          0.01,
          0.01,
          0.01,
          0.11,
          0.02,
          0.08,
          0.26,
          0.29,
          0.29,
          0.29,
          0.29,
          0.07,
          0.22,
          0.22,
          0.17,
          0.27,
          0.3,
          0.52,
          0.52,
          0.36,
          0.36,
          0.36,
          0.37,
          0.37,
          0.35,
          0.35,
          0.38,
          0.23,
          0.21,
          "",
          -0.01,
          0.11,
          0.14,
          0.1,
          "",
          0,
          0.11,
          0.3,
          0.36,
          0.38,
          0.29,
          0.37,
          0.44,
          0.44,
          "",
          0.01,
          0.09,
          0.11,
          0.36,
          0.65,
          0.47,
          0.47,
          0.51,
          0.51,
          0.51,
          0.51,
          0.54,
          0.47,
          0.47,
          0.65,
          0.65,
          "",
          0.55,
          0.83,
          0.94,
          0.71,
          0.55,
          0.41,
          0.12,
          0.62,
          0.62,
          "",
          0.95,
          0.44,
          0.44,
          0.86,
          0.85,
          0.86,
          0.86,
          0.79,
          0.79,
          0.55,
          0.55,
          0.56,
          0.52,
          0.52,
          0.53,
          0.53,
          0.48,
          "",
          -0.02,
          0.1,
          0.01,
          0.28,
          0.39,
          0.35,
          0.31,
          0.35,
          0.12,
          0.13,
          0.04,
          0.13,
          0.13,
          0.52,
          0.84,
          0.84,
          0.84,
          0.84,
          0.91,
          0.98,
          0.98,
          0.98,
          0.96,
          0.88,
          0.88,
          0.71,
          0.71,
          0.61,
          0.34,
          0.34,
          0.46,
          0.46,
          0.46,
          "",
          0.44,
          0.91,
          0.73,
          0.9,
          0.79,
          0.57,
          0.67,
          0.22,
          0.24,
          0.07,
          0.13,
          0.13,
          "",
          0.01,
          0.51,
          0.51,
          "",
          0.99,
          0.46,
          0.46,
          0.47,
          0.55,
          0.6,
          0.6,
          0.86,
          0.96,
          0.96,
          0.74,
          0.8,
          0.8,
          0.49,
          0.3,
          0.03,
          0.23,
          0.48,
          0.34,
          0.37,
          0.47,
          0.47,
          0.41,
          0.25,
          0.26,
          0.26,
          "",
          0,
          0.12,
          0.12,
          0.12,
          0.1,
          0.15,
          0.03,
          0.14,
          0.14,
          0.03,
          0.53,
          0.91,
          0.9,
          0.9,
          0.82,
          0.68,
          0.23,
          0.23,
          0.25,
          0.24,
          0.36,
          0.47,
          0.21,
          0.21,
          0.46,
          0.46,
          0.47,
          0.77,
          0.6,
          0.97,
          0.51,
          0.51,
          0.91,
          0.91,
          0.91,
          0.9,
          0.91,
          0.91,
          0.94,
          0.94,
          0.69,
          0.69,
          0.6,
          0.6,
          0.72,
          0.62,
          0.39,
          0.18,
          0.42,
          0.64,
          0.88,
          0.75,
          0.79,
          0.5,
          0.25,
          0.09,
          0.34,
          0.4,
          0.33,
          0.33,
          0.38,
          0.49,
          0.49,
          0.48,
          0.52,
          0.52,
          0.44,
          0.42,
          0.5,
          0.5,
          0.37,
          0.54,
          0.54,
          0.54,
          0.65,
          0.53,
          0.66,
          0.11,
          0.17,
          0.16,
          0.16,
          0.11,
          0.03,
          0.05,
          0.05,
          "",
          -0.01,
          0.19,
          0.26,
          0.26,
          "",
          0.37,
          0.67,
          0.94,
          0.95,
          0.94,
          0.94,
          "",
          0.98,
          0.66,
          0.53,
          0.46,
          0.46,
          0.18,
          0.18,
          0.18,
          0.17,
          0.53,
          0.53,
          0.92,
          0.82,
          0.78,
          0.8,
          0.72,
          0.84,
          0.84,
          0.8,
          0.9,
          0.79,
          0.73,
          0.25,
          0.48,
          0.55,
          0.96,
          0.82,
          0.82,
          "",
          1.01,
          0.95,
          0.79,
          0.94,
          0.96,
          0.71,
          0.71,
          0.6,
          0.52,
          0.31,
          0.11,
          0.06,
          0.19,
          0.39,
          0.07,
          "",
          0.18,
          0.21,
          0.21,
          0.37,
          0.4,
          0.61,
          0.77,
          0.93,
          0.84,
          0.66,
          0.66,
          0.66,
          0.66,
          0.66,
          0.62,
          0.8,
          0.74,
          0.61,
          0.45,
          0.28,
          0.37,
          0.62,
          0.62,
          0.88,
          0.67,
          0.65,
          0.65,
          0.87,
          0.96,
          0.98,
          0.98,
          "",
          0.96,
          0.47,
          0.2,
          0.46,
          0.9,
          0.5,
          0.5,
          0.86,
          0.86,
          0.92,
          0.98,
          0.86,
          0.87,
          0.8,
          0.92,
          0.92,
          "",
          1.01,
          0.91,
          0.48,
          0.22,
          0.97,
          0.82,
          0.53,
          0.53,
          0.47,
          0.04,
          0.45,
          0.44,
          0.28,
          0.06,
          0.4,
          0.8,
          0.92,
          0.5,
          0.5,
          0.26,
          0.26,
          0.26,
          0.26,
          0.24,
          0.12,
          0.12,
          0.12,
          0.12,
          0.12,
          "",
          0.01,
          0.24,
          0.76,
          0.68,
          "",
          1.01,
          0.89,
          0.63,
          0.21,
          0,
          0.11,
          0.24,
          0.24,
          0.2,
          0.23,
          0.22,
          0.22,
          0.19,
          "",
          0.14,
          0.4,
          0.39,
          0.39,
          0.39,
          0.43,
          0.39,
          0.39,
          0.37,
          0.37,
          0.39,
          0.33,
          0.41,
          0.75,
          0.75,
          0.75,
          0.76,
          "",
          0.73,
          0.97,
          0.94,
          0.81,
          0.96,
          0.67,
          0.67,
          "",
          1.01,
          0.96,
          0.98,
          0.91,
          0.95,
          0.77,
          0.79,
          0.83,
          0.83,
          0.93,
          0.94,
          0.96,
          0.91,
          "",
          0.95,
          0.45,
          0.45,
          0.42,
          0.39,
          0.39,
          0.39,
          0.39,
          0.39,
          0.21,
          0.22,
          0.05,
          0.13,
          0.36,
          0.78,
          0.96,
          0.96,
          0.96,
          "",
          1.01,
          0.9,
          0.91,
          0.91,
          0.96,
          0.96,
          0.94,
          "",
          0.87,
          0.86,
          0.86,
          0.86,
          0.9,
          0.9,
          "",
          1.01,
          0.91,
          "",
          1.01,
          0.69,
          0.25,
          0.07,
          0.22,
          0.73,
          0.1,
          0.15,
          0.43,
          0.74,
          0.73,
          0.72,
          0.5,
          0.21,
          0.29,
          0.06,
          0.05,
          0.05,
          0.03,
          "",
          0,
          0.13,
          0.23,
          0.16,
          0.18,
          0.3,
          0.46,
          0.46,
          0.49,
          0.52,
          0.65,
          0.74,
          0.86,
          0.85,
          "",
          "",
          0.91,
          0.93,
          0.95,
          "",
          1.01,
          0.82,
          0.76,
          0.88,
          0.88,
          0.87,
          0.87,
          0.87,
          0.89,
          "",
          1.01,
          0.91,
          1,
          0.97,
          0.86,
          0.51,
          0.31,
          0.31,
          0.31,
          0.31,
          0.31,
          0.57,
          0.81,
          0.97,
          0.84,
          0.69,
          0.79,
          0.15,
          0.24,
          0.23,
          0.24,
          "",
          0.27,
          0.18,
          0.32,
          0.55,
          0.7,
          0.77,
          0.51,
          0.5,
          0.39,
          0.52,
          0.52,
          0.55,
          0.55,
          0.58,
          0.72,
          0.72,
          0.7,
          0.7,
          "",
          1.01,
          0.91,
          0.93,
          0.93,
          0.92,
          0.92,
          0.92,
          0.69,
          0.56,
          0.55,
          0.41,
          0.43,
          0.34,
          0.34,
          0.35,
          0.35,
          0.26,
          0.26,
          0.26,
          0.03,
          0.09,
          0.09,
          0.25,
          0.8,
          0.95,
          0.55,
          0.55,
          0.55,
          0.95,
          0.9,
          0.87,
          0.88,
          0.6,
          0.89,
          0.99,
          0.92,
          0.8,
          0.78,
          0.78,
          "",
          0.78,
          0.4,
          0.06,
          0.19,
          0.3,
          0.24,
          0.24,
          0.26,
          0.26,
          0.26,
          "",
          0.01,
          0.62,
          0.62,
          0.6,
          0.55,
          0.55,
          0.69,
          0.73,
          0.73,
          0.47,
          0.47,
          0.13,
          0.13,
          0.13,
          0.11,
          0.19,
          0.19,
          0.02,
          0.03,
          0.23,
          0.55,
          0.82,
          0.73,
          0.62,
          0.31,
          0.1,
          0.25,
          0.36,
          0.24,
          0.26,
          0.25,
          0.07,
          0.03,
          0.49,
          0.49,
          0,
          0.1,
          0.28,
          0.53,
          0.92,
          0.89,
          0.97,
          0.82,
          0.78,
          0.05,
          0.09,
          0.05,
          "",
          0.09,
          0.49,
          0.49,
          0.45,
          0.52,
          0.45,
          0.45,
          0.06,
          0.47,
          0.43,
          0.35,
          0.33,
          0.28,
          0.31,
          "",
          0.35,
          0.17,
          0.12,
          0.12,
          0.14,
          0.14,
          0.1,
          0.1,
          0.11,
          0.1,
          0.12,
          0.14,
          0.15,
          0.15,
          0.31,
          0.74,
          0.64,
          0.76,
          0.61,
          0.62,
          0.16,
          0.19,
          0.3,
          0.29,
          0.29,
          0.29,
          0.17,
          0.15,
          0.32,
          0.41,
          0.23,
          0.22,
          0.38,
          0.39,
          0.36,
          0.2,
          0.87,
          0.84,
          0.82,
          0.79,
          0.81,
          0.91,
          0.56,
          0.8,
          0.73,
          0.73,
          "",
          1.01,
          0.85,
          0.92,
          0.92,
          0.93,
          "",
          1.01,
          0.8,
          0.63,
          0.53,
          0.11,
          0.19,
          0.18,
          0.6,
          0.54,
          0.54,
          0.5,
          0.79,
          0.8,
          0.5,
          0.5,
          0.46,
          0.47,
          0.47,
          0.47,
          0.47,
          0.02,
          0.15,
          0.6,
          0.56,
          0.6,
          0.57,
          0.43,
          0.29,
          0.36,
          0.43,
          0.09,
          0.27,
          0.6,
          0.94,
          0.82,
          0.85,
          0.84,
          0.88,
          0.72,
          0.76,
          0.76,
          0.35,
          0.19,
          0.33,
          0.33,
          0.52,
          0.66,
          0.24,
          0.42,
          0.72,
          0.82,
          0.47,
          0.47,
          0.91,
          "",
          0.5,
          0.5,
          0.19,
          0.25,
          0.32,
          0.03,
          0.21,
          0.22,
          0.19,
          0.06,
          0.17,
          0.18,
          0.17,
          0.12,
          0.12,
          0.2,
          0.38,
          0.83,
          0.96,
          0.69,
          0.37,
          0.02,
          0.08,
          0.08,
          "",
          -0.01,
          0.16,
          0.19,
          0.28,
          0.28,
          "",
          -0.01,
          0.1,
          0.35,
          0.16,
          0.12,
          0.02,
          0.18,
          0.34,
          0.41,
          0.54,
          1,
          0.87,
          0.97,
          0.82,
          0.68,
          0.57,
          0.49,
          0.48,
          0.42,
          0.07,
          0.06,
          0.25,
          0.55,
          0.82,
          0.92,
          0.76,
          0.58,
          0.61,
          0.08,
          0.07,
          0.2,
          0.1,
          0.15,
          0.15,
          "",
          0.01,
          0.41,
          0.41,
          0.48,
          0.88,
          0.88,
          0.45,
          0.75,
          0.75,
          0.69,
          0.6,
          0.93,
          0.74,
          0.1,
          0.27,
          0.35,
          0.35,
          0.35,
          "",
          0.39,
          0.25,
          0.15,
          0.41,
          0.8,
          0.13,
          0.27,
          0.37,
          0.47,
          "",
          1.01,
          0.94,
          0.98,
          0.76,
          0.76,
          0.76,
          0.41,
          0.37,
          0.16,
          0.25,
          0.06,
          0.19,
          0.17,
          0.22,
          0.31,
          0.56,
          0.39,
          0.42,
          0.42,
          0.28,
          0.27,
          0.06,
          0.12,
          0.24,
          0.68,
          0.71,
          0.8,
          0.77,
          0.93,
          0.85,
          0.44,
          0.17,
          0.29,
          0.04,
          0.14,
          0.45,
          0.45,
          "",
          0.01,
          0.73,
          0.67,
          0.63,
          0.63,
          "",
          0.67,
          0.79,
          0.52,
          0.8,
          0.79,
          0.69,
          0.82,
          0.82,
          0.54,
          0.27,
          0.15,
          0.25,
          0.24,
          0.48,
          0.47,
          0.64,
          0.95,
          0.6,
          0.6,
          0.6,
          0.58,
          0.77,
          0.79,
          0.79,
          "",
          0.65,
          0.89,
          0.76,
          0.79,
          0.63,
          0.63,
          0.08,
          0.23,
          0.3,
          0.04,
          0.04,
          0.04,
          0.03,
          0.03,
          "",
          0.01,
          0.07,
          0.04,
          0.08,
          0.29,
          0.29,
          0.27,
          0.27,
          0.13,
          0.13,
          0.44,
          0.95,
          0.3,
          0.11,
          0.32,
          0.96,
          0.68,
          0.68,
          "",
          0.97,
          0.48,
          0.48,
          "",
          0.5,
          0.41,
          0.57,
          0.54,
          0.54,
          "",
          0.54,
          0.06,
          0.25,
          0.04,
          0.18,
          0.08,
          0.16,
          0.45,
          0.45,
          0.18,
          0.18,
          0.32,
          0.26,
          0.31,
          "",
          0.51,
          0.56,
          0.93,
          0.84,
          0.46,
          0.59,
          0.8,
          0.8,
          0.78,
          0.52,
          0.52,
          0.81,
          0.92,
          0.92,
          0.9,
          0.94,
          0.95,
          0.95,
          0.95,
          0.94,
          0.94,
          0.85,
          0.85,
          0.85,
          0.84,
          0.83,
          0.57,
          "",
          0.81,
          0.55,
          0.55,
          0.55,
          0.55,
          0.6,
          0.6,
          0.45,
          0.45,
          0.42,
          0.86,
          0.94,
          0.94,
          0.71,
          0.42,
          0.23,
          0.13,
          0.16,
          0.06,
          0.41,
          0.41,
          0.23,
          0.01,
          0.01,
          0.28,
          0.16,
          0.39,
          0.97,
          1,
          0.65,
          0.33,
          0.11,
          0.38,
          0.4,
          0.4,
          0.4,
          0.1,
          "",
          -0.02,
          0.27,
          0.27,
          0.29,
          "",
          0.27,
          0.47,
          0.47,
          0.61,
          0.62,
          0.62,
          0.62,
          0.6,
          0.61,
          0.61,
          "",
          0.67,
          0.88,
          0.98,
          0.86,
          0.43,
          0.27,
          0.44,
          0.44,
          0.67,
          0.69,
          0.78,
          0.36,
          0.48,
          0.48,
          0.54,
          0.54,
          "",
          0.51,
          0.27,
          0.05,
          0.21,
          0.5,
          0.8,
          0.55,
          0.55,
          0.67,
          0.7,
          0.51,
          0.23,
          0.06,
          0.3,
          0.3,
          0.3,
          "",
          0.27,
          0.5,
          0.49,
          0.55,
          0.08,
          0.46,
          0.46,
          0.3,
          0.4,
          0.33,
          0.12,
          0.11,
          0.11,
          0.09,
          0.07,
          0.07,
          "",
          0.13,
          0.19,
          0.51,
          0.99,
          0.71,
          0.71,
          0.73,
          0.74,
          0.87,
          0.89,
          0.58,
          0.58,
          0.59,
          0.67,
          0.66,
          0.66,
          0.66,
          0.69,
          0.48,
          0.2,
          0.04,
          0.17,
          0.23,
          0.36,
          0.45,
          0.85,
          0.97,
          0.87,
          0.98,
          0.92,
          0.67,
          0.33,
          0.08,
          0.08,
          0.08,
          0.18,
          0.18,
          0.36,
          0.49,
          0.49,
          0.29,
          0.29,
          0.3,
          0.31,
          0.12,
          0.25,
          0.41,
          0.41,
          0.41,
          "",
          0.42,
          0.68,
          0.89,
          0.66,
          0.24,
          0.09,
          0.13,
          0.13,
          0.19,
          0.32,
          0.24,
          0.14,
          0.15,
          0.14,
          0.02,
          0.18,
          0.17,
          0.06,
          0.22,
          0.28,
          0.24,
          0.11,
          0.1,
          0.1,
          0.1,
          0.08,
          0.06,
          0.11,
          0.33,
          0.28,
          0.45,
          0.43,
          0.11,
          0.45,
          0.39,
          0.45,
          0.45,
          0.45,
          0.35,
          0.25,
          0.48,
          0.78,
          0.83,
          0.59,
          0.28,
          0.25,
          0.48,
          0.48,
          0.48,
          0.48,
          0.49,
          0.66,
          0.63,
          0.66,
          0.66,
          0.65,
          "",
          0.65,
          0.75,
          0.56,
          0.33,
          0.33,
          0.33,
          0.32,
          0.41,
          0.59,
          0.36,
          0.03,
          0.33,
          0.39,
          0.4,
          0.89,
          0.88,
          0.78,
          0.77,
          0.77,
          0.76,
          "",
          0.93,
          0.55,
          0.56,
          0.47,
          0.47,
          0.47,
          0.53,
          0.91,
          0.55,
          0.55,
          0.55,
          0.7,
          0.85,
          0.51,
          0.51,
          0.51,
          0.25,
          0.2,
          0.38,
          0.62,
          0.52,
          0.73,
          0.72,
          0.82,
          0.82,
          0.87,
          0.87,
          0.92,
          0.82,
          0.66,
          0.5,
          0.19,
          0.04,
          0.1,
          0.39,
          0.53,
          0.6,
          0.48,
          0.48,
          0.48,
          0.51,
          0.51,
          0.54,
          0.77,
          0.93,
          0.82,
          0.96,
          0.89,
          0.88,
          0.7,
          0.2,
          0.26,
          0.3,
          0.05,
          0.22,
          0.48,
          0.83,
          0.97,
          0.89,
          0.72,
          0.18,
          0.6,
          0.63,
          0.75,
          0.82,
          0.65,
          0.65,
          0.68,
          0.68,
          0.54,
          0.8,
          0.92,
          0.92,
          0.92,
          0.98,
          0.89,
          0.89,
          0.89,
          0.94,
          0.83,
          0.49,
          0.31,
          0.44,
          0.5,
          0.82,
          0.76,
          0.98,
          0.64,
          0.39,
          0.38,
          0.58,
          0.46,
          0.7,
          0.7,
          0.5,
          0.5,
          0.46,
          0.63,
          0.63,
          0.63,
          0.63,
          0.43,
          0.46,
          0.42,
          0.22,
          0.21,
          0.29,
          0.47,
          0.42,
          0.64,
          0.94,
          0.76,
          0.23,
          0.06,
          0.19,
          0.44,
          0.49,
          0.56,
          0.59,
          0.88,
          0.89,
          0.95,
          0.99,
          0.99,
          0.99,
          "",
          1,
          0.88,
          1,
          1,
          0.93,
          1,
          0.85,
          0.56,
          0.33,
          0.38,
          0.37,
          0.25,
          0.32,
          0.47,
          0.47,
          0.51,
          0.53,
          0.75,
          0.51,
          0.07,
          0.21,
          0.3,
          0.41,
          0.48,
          0.49,
          0.47,
          0.43,
          0.11,
          0.1,
          0.05,
          0.05,
          0.05,
          0.05,
          0.08,
          0.2,
          0.36,
          0.31,
          0.31,
          "",
          "",
          0.36,
          0.51,
          0.86,
          0.79,
          0.77,
          0.27,
          0.24,
          0.11,
          0.02,
          0.22,
          0.34,
          0.34,
          0.34,
          0.35,
          0.35,
          0.42,
          0.42,
          0.44,
          0.44,
          0.32,
          0.36,
          0.5,
          0.55,
          0.55,
          0.61,
          0.77,
          0.91,
          0.7,
          0.5,
          0.5,
          0.54,
          0.54,
          0.55,
          0.55,
          0.55,
          "",
          "",
          0.57,
          0.87,
          1,
          0.85,
          0.83,
          0.98,
          0.78,
          0.75,
          0.64,
          0.64,
          0.63,
          0.62,
          0.88,
          0.87,
          0.67,
          0.68,
          0.71,
          0.32,
          0.42,
          0.47,
          0.79,
          0.47,
          0.4,
          0.28,
          0.5,
          0.69,
          0.81,
          0.54,
          0.95,
          0.96,
          0.78,
          0.13,
          0.06,
          0.15,
          0.36,
          0.57,
          0.57,
          0.4,
          0.38,
          0.36,
          0.1,
          0.24,
          0.06,
          0.19,
          0.78,
          0.76,
          0.12,
          0.27,
          0.58,
          0.45,
          0.31,
          0.58,
          0.58,
          0.58,
          0.28,
          0.69,
          0.69,
          0.69,
          "",
          0.61,
          0.37,
          0.04,
          0.27,
          0.59,
          0.02,
          0.24,
          0.85,
          0.65,
          0.59,
          0.52,
          0.79,
          0.85,
          "",
          0.74,
          0.79,
          0.94,
          0.95,
          0.88,
          0.96,
          0.79,
          0.67,
          0.35,
          0.3,
          0.3,
          0.56,
          0.62,
          0.64,
          0.83,
          0.98,
          0.81,
          0.62,
          0.62,
          0.67,
          0.51,
          0.6,
          0.41,
          0.44,
          0.22,
          0.36,
          0.47,
          0.59,
          0.7,
          0.7,
          0.71,
          "",
          "",
          0.73,
          0.4,
          0.17,
          0.35,
          0.67,
          0.56,
          0.24,
          0.05,
          0.18,
          0.09,
          0.09,
          0.09,
          "",
          0.21,
          0.26,
          0.47,
          0.14,
          0.03,
          0.17,
          0.17,
          0.16,
          0.16,
          0.25,
          0.45,
          0.52,
          0.52,
          0.11,
          0.15,
          0.04,
          0.41,
          0.45,
          0.45,
          "",
          0.43,
          0.42,
          0.11,
          0.03,
          0.18,
          0.42,
          0.47,
          0.92,
          "",
          1.01,
          0.72,
          0.63,
          0.33,
          0.08,
          0.32,
          0.32,
          0.37,
          0.37,
          0.3,
          0.22,
          0.22,
          0.33,
          0.88,
          0.69,
          0.62,
          0.63
         ]
        }
       ],
       "layout": {
        "legend": {
         "bgcolor": "#F5F6F9",
         "font": {
          "color": "#4D5663"
         }
        },
        "paper_bgcolor": "#F5F6F9",
        "plot_bgcolor": "#F5F6F9",
        "template": {
         "data": {
          "bar": [
           {
            "error_x": {
             "color": "#2a3f5f"
            },
            "error_y": {
             "color": "#2a3f5f"
            },
            "marker": {
             "line": {
              "color": "#E5ECF6",
              "width": 0.5
             }
            },
            "type": "bar"
           }
          ],
          "barpolar": [
           {
            "marker": {
             "line": {
              "color": "#E5ECF6",
              "width": 0.5
             }
            },
            "type": "barpolar"
           }
          ],
          "carpet": [
           {
            "aaxis": {
             "endlinecolor": "#2a3f5f",
             "gridcolor": "white",
             "linecolor": "white",
             "minorgridcolor": "white",
             "startlinecolor": "#2a3f5f"
            },
            "baxis": {
             "endlinecolor": "#2a3f5f",
             "gridcolor": "white",
             "linecolor": "white",
             "minorgridcolor": "white",
             "startlinecolor": "#2a3f5f"
            },
            "type": "carpet"
           }
          ],
          "choropleth": [
           {
            "colorbar": {
             "outlinewidth": 0,
             "ticks": ""
            },
            "type": "choropleth"
           }
          ],
          "contour": [
           {
            "colorbar": {
             "outlinewidth": 0,
             "ticks": ""
            },
            "colorscale": [
             [
              0,
              "#0d0887"
             ],
             [
              0.1111111111111111,
              "#46039f"
             ],
             [
              0.2222222222222222,
              "#7201a8"
             ],
             [
              0.3333333333333333,
              "#9c179e"
             ],
             [
              0.4444444444444444,
              "#bd3786"
             ],
             [
              0.5555555555555556,
              "#d8576b"
             ],
             [
              0.6666666666666666,
              "#ed7953"
             ],
             [
              0.7777777777777778,
              "#fb9f3a"
             ],
             [
              0.8888888888888888,
              "#fdca26"
             ],
             [
              1,
              "#f0f921"
             ]
            ],
            "type": "contour"
           }
          ],
          "contourcarpet": [
           {
            "colorbar": {
             "outlinewidth": 0,
             "ticks": ""
            },
            "type": "contourcarpet"
           }
          ],
          "heatmap": [
           {
            "colorbar": {
             "outlinewidth": 0,
             "ticks": ""
            },
            "colorscale": [
             [
              0,
              "#0d0887"
             ],
             [
              0.1111111111111111,
              "#46039f"
             ],
             [
              0.2222222222222222,
              "#7201a8"
             ],
             [
              0.3333333333333333,
              "#9c179e"
             ],
             [
              0.4444444444444444,
              "#bd3786"
             ],
             [
              0.5555555555555556,
              "#d8576b"
             ],
             [
              0.6666666666666666,
              "#ed7953"
             ],
             [
              0.7777777777777778,
              "#fb9f3a"
             ],
             [
              0.8888888888888888,
              "#fdca26"
             ],
             [
              1,
              "#f0f921"
             ]
            ],
            "type": "heatmap"
           }
          ],
          "heatmapgl": [
           {
            "colorbar": {
             "outlinewidth": 0,
             "ticks": ""
            },
            "colorscale": [
             [
              0,
              "#0d0887"
             ],
             [
              0.1111111111111111,
              "#46039f"
             ],
             [
              0.2222222222222222,
              "#7201a8"
             ],
             [
              0.3333333333333333,
              "#9c179e"
             ],
             [
              0.4444444444444444,
              "#bd3786"
             ],
             [
              0.5555555555555556,
              "#d8576b"
             ],
             [
              0.6666666666666666,
              "#ed7953"
             ],
             [
              0.7777777777777778,
              "#fb9f3a"
             ],
             [
              0.8888888888888888,
              "#fdca26"
             ],
             [
              1,
              "#f0f921"
             ]
            ],
            "type": "heatmapgl"
           }
          ],
          "histogram": [
           {
            "marker": {
             "colorbar": {
              "outlinewidth": 0,
              "ticks": ""
             }
            },
            "type": "histogram"
           }
          ],
          "histogram2d": [
           {
            "colorbar": {
             "outlinewidth": 0,
             "ticks": ""
            },
            "colorscale": [
             [
              0,
              "#0d0887"
             ],
             [
              0.1111111111111111,
              "#46039f"
             ],
             [
              0.2222222222222222,
              "#7201a8"
             ],
             [
              0.3333333333333333,
              "#9c179e"
             ],
             [
              0.4444444444444444,
              "#bd3786"
             ],
             [
              0.5555555555555556,
              "#d8576b"
             ],
             [
              0.6666666666666666,
              "#ed7953"
             ],
             [
              0.7777777777777778,
              "#fb9f3a"
             ],
             [
              0.8888888888888888,
              "#fdca26"
             ],
             [
              1,
              "#f0f921"
             ]
            ],
            "type": "histogram2d"
           }
          ],
          "histogram2dcontour": [
           {
            "colorbar": {
             "outlinewidth": 0,
             "ticks": ""
            },
            "colorscale": [
             [
              0,
              "#0d0887"
             ],
             [
              0.1111111111111111,
              "#46039f"
             ],
             [
              0.2222222222222222,
              "#7201a8"
             ],
             [
              0.3333333333333333,
              "#9c179e"
             ],
             [
              0.4444444444444444,
              "#bd3786"
             ],
             [
              0.5555555555555556,
              "#d8576b"
             ],
             [
              0.6666666666666666,
              "#ed7953"
             ],
             [
              0.7777777777777778,
              "#fb9f3a"
             ],
             [
              0.8888888888888888,
              "#fdca26"
             ],
             [
              1,
              "#f0f921"
             ]
            ],
            "type": "histogram2dcontour"
           }
          ],
          "mesh3d": [
           {
            "colorbar": {
             "outlinewidth": 0,
             "ticks": ""
            },
            "type": "mesh3d"
           }
          ],
          "parcoords": [
           {
            "line": {
             "colorbar": {
              "outlinewidth": 0,
              "ticks": ""
             }
            },
            "type": "parcoords"
           }
          ],
          "pie": [
           {
            "automargin": true,
            "type": "pie"
           }
          ],
          "scatter": [
           {
            "marker": {
             "colorbar": {
              "outlinewidth": 0,
              "ticks": ""
             }
            },
            "type": "scatter"
           }
          ],
          "scatter3d": [
           {
            "line": {
             "colorbar": {
              "outlinewidth": 0,
              "ticks": ""
             }
            },
            "marker": {
             "colorbar": {
              "outlinewidth": 0,
              "ticks": ""
             }
            },
            "type": "scatter3d"
           }
          ],
          "scattercarpet": [
           {
            "marker": {
             "colorbar": {
              "outlinewidth": 0,
              "ticks": ""
             }
            },
            "type": "scattercarpet"
           }
          ],
          "scattergeo": [
           {
            "marker": {
             "colorbar": {
              "outlinewidth": 0,
              "ticks": ""
             }
            },
            "type": "scattergeo"
           }
          ],
          "scattergl": [
           {
            "marker": {
             "colorbar": {
              "outlinewidth": 0,
              "ticks": ""
             }
            },
            "type": "scattergl"
           }
          ],
          "scattermapbox": [
           {
            "marker": {
             "colorbar": {
              "outlinewidth": 0,
              "ticks": ""
             }
            },
            "type": "scattermapbox"
           }
          ],
          "scatterpolar": [
           {
            "marker": {
             "colorbar": {
              "outlinewidth": 0,
              "ticks": ""
             }
            },
            "type": "scatterpolar"
           }
          ],
          "scatterpolargl": [
           {
            "marker": {
             "colorbar": {
              "outlinewidth": 0,
              "ticks": ""
             }
            },
            "type": "scatterpolargl"
           }
          ],
          "scatterternary": [
           {
            "marker": {
             "colorbar": {
              "outlinewidth": 0,
              "ticks": ""
             }
            },
            "type": "scatterternary"
           }
          ],
          "surface": [
           {
            "colorbar": {
             "outlinewidth": 0,
             "ticks": ""
            },
            "colorscale": [
             [
              0,
              "#0d0887"
             ],
             [
              0.1111111111111111,
              "#46039f"
             ],
             [
              0.2222222222222222,
              "#7201a8"
             ],
             [
              0.3333333333333333,
              "#9c179e"
             ],
             [
              0.4444444444444444,
              "#bd3786"
             ],
             [
              0.5555555555555556,
              "#d8576b"
             ],
             [
              0.6666666666666666,
              "#ed7953"
             ],
             [
              0.7777777777777778,
              "#fb9f3a"
             ],
             [
              0.8888888888888888,
              "#fdca26"
             ],
             [
              1,
              "#f0f921"
             ]
            ],
            "type": "surface"
           }
          ],
          "table": [
           {
            "cells": {
             "fill": {
              "color": "#EBF0F8"
             },
             "line": {
              "color": "white"
             }
            },
            "header": {
             "fill": {
              "color": "#C8D4E3"
             },
             "line": {
              "color": "white"
             }
            },
            "type": "table"
           }
          ]
         },
         "layout": {
          "annotationdefaults": {
           "arrowcolor": "#2a3f5f",
           "arrowhead": 0,
           "arrowwidth": 1
          },
          "coloraxis": {
           "colorbar": {
            "outlinewidth": 0,
            "ticks": ""
           }
          },
          "colorscale": {
           "diverging": [
            [
             0,
             "#8e0152"
            ],
            [
             0.1,
             "#c51b7d"
            ],
            [
             0.2,
             "#de77ae"
            ],
            [
             0.3,
             "#f1b6da"
            ],
            [
             0.4,
             "#fde0ef"
            ],
            [
             0.5,
             "#f7f7f7"
            ],
            [
             0.6,
             "#e6f5d0"
            ],
            [
             0.7,
             "#b8e186"
            ],
            [
             0.8,
             "#7fbc41"
            ],
            [
             0.9,
             "#4d9221"
            ],
            [
             1,
             "#276419"
            ]
           ],
           "sequential": [
            [
             0,
             "#0d0887"
            ],
            [
             0.1111111111111111,
             "#46039f"
            ],
            [
             0.2222222222222222,
             "#7201a8"
            ],
            [
             0.3333333333333333,
             "#9c179e"
            ],
            [
             0.4444444444444444,
             "#bd3786"
            ],
            [
             0.5555555555555556,
             "#d8576b"
            ],
            [
             0.6666666666666666,
             "#ed7953"
            ],
            [
             0.7777777777777778,
             "#fb9f3a"
            ],
            [
             0.8888888888888888,
             "#fdca26"
            ],
            [
             1,
             "#f0f921"
            ]
           ],
           "sequentialminus": [
            [
             0,
             "#0d0887"
            ],
            [
             0.1111111111111111,
             "#46039f"
            ],
            [
             0.2222222222222222,
             "#7201a8"
            ],
            [
             0.3333333333333333,
             "#9c179e"
            ],
            [
             0.4444444444444444,
             "#bd3786"
            ],
            [
             0.5555555555555556,
             "#d8576b"
            ],
            [
             0.6666666666666666,
             "#ed7953"
            ],
            [
             0.7777777777777778,
             "#fb9f3a"
            ],
            [
             0.8888888888888888,
             "#fdca26"
            ],
            [
             1,
             "#f0f921"
            ]
           ]
          },
          "colorway": [
           "#636efa",
           "#EF553B",
           "#00cc96",
           "#ab63fa",
           "#FFA15A",
           "#19d3f3",
           "#FF6692",
           "#B6E880",
           "#FF97FF",
           "#FECB52"
          ],
          "font": {
           "color": "#2a3f5f"
          },
          "geo": {
           "bgcolor": "white",
           "lakecolor": "white",
           "landcolor": "#E5ECF6",
           "showlakes": true,
           "showland": true,
           "subunitcolor": "white"
          },
          "hoverlabel": {
           "align": "left"
          },
          "hovermode": "closest",
          "mapbox": {
           "style": "light"
          },
          "paper_bgcolor": "white",
          "plot_bgcolor": "#E5ECF6",
          "polar": {
           "angularaxis": {
            "gridcolor": "white",
            "linecolor": "white",
            "ticks": ""
           },
           "bgcolor": "#E5ECF6",
           "radialaxis": {
            "gridcolor": "white",
            "linecolor": "white",
            "ticks": ""
           }
          },
          "scene": {
           "xaxis": {
            "backgroundcolor": "#E5ECF6",
            "gridcolor": "white",
            "gridwidth": 2,
            "linecolor": "white",
            "showbackground": true,
            "ticks": "",
            "zerolinecolor": "white"
           },
           "yaxis": {
            "backgroundcolor": "#E5ECF6",
            "gridcolor": "white",
            "gridwidth": 2,
            "linecolor": "white",
            "showbackground": true,
            "ticks": "",
            "zerolinecolor": "white"
           },
           "zaxis": {
            "backgroundcolor": "#E5ECF6",
            "gridcolor": "white",
            "gridwidth": 2,
            "linecolor": "white",
            "showbackground": true,
            "ticks": "",
            "zerolinecolor": "white"
           }
          },
          "shapedefaults": {
           "line": {
            "color": "#2a3f5f"
           }
          },
          "ternary": {
           "aaxis": {
            "gridcolor": "white",
            "linecolor": "white",
            "ticks": ""
           },
           "baxis": {
            "gridcolor": "white",
            "linecolor": "white",
            "ticks": ""
           },
           "bgcolor": "#E5ECF6",
           "caxis": {
            "gridcolor": "white",
            "linecolor": "white",
            "ticks": ""
           }
          },
          "title": {
           "x": 0.05
          },
          "xaxis": {
           "automargin": true,
           "gridcolor": "white",
           "linecolor": "white",
           "ticks": "",
           "title": {
            "standoff": 15
           },
           "zerolinecolor": "white",
           "zerolinewidth": 2
          },
          "yaxis": {
           "automargin": true,
           "gridcolor": "white",
           "linecolor": "white",
           "ticks": "",
           "title": {
            "standoff": 15
           },
           "zerolinecolor": "white",
           "zerolinewidth": 2
          }
         }
        },
        "title": {
         "font": {
          "color": "#4D5663"
         }
        },
        "xaxis": {
         "gridcolor": "#E1E5ED",
         "showgrid": true,
         "tickfont": {
          "color": "#4D5663"
         },
         "title": {
          "font": {
           "color": "#4D5663"
          },
          "text": ""
         },
         "zerolinecolor": "#E1E5ED"
        },
        "yaxis": {
         "gridcolor": "#E1E5ED",
         "showgrid": true,
         "tickfont": {
          "color": "#4D5663"
         },
         "title": {
          "font": {
           "color": "#4D5663"
          },
          "text": ""
         },
         "zerolinecolor": "#E1E5ED"
        }
       }
      },
      "text/html": [
       "<div>\n",
       "        \n",
       "        \n",
       "            <div id=\"fc3d5ce8-d7b3-4983-8b8d-29cdb065c911\" class=\"plotly-graph-div\" style=\"height:525px; width:100%;\"></div>\n",
       "            <script type=\"text/javascript\">\n",
       "                require([\"plotly\"], function(Plotly) {\n",
       "                    window.PLOTLYENV=window.PLOTLYENV || {};\n",
       "                    window.PLOTLYENV.BASE_URL='https://plot.ly';\n",
       "                    \n",
       "                if (document.getElementById(\"fc3d5ce8-d7b3-4983-8b8d-29cdb065c911\")) {\n",
       "                    Plotly.newPlot(\n",
       "                        'fc3d5ce8-d7b3-4983-8b8d-29cdb065c911',\n",
       "                        [{\"line\": {\"color\": \"rgba(255, 153, 51, 1.0)\", \"dash\": \"solid\", \"shape\": \"linear\", \"width\": 1.3}, \"marker\": {\"size\": 12, \"symbol\": \"circle\"}, \"mode\": \"markers\", \"name\": \"Start Y\", \"text\": \"\", \"type\": \"scatter\", \"x\": [null, 0.45, 0.55, 0.55, 0.45, 0.4, 0.39, 0.51, 0.27, 0.27, 0.57, 0.57, 0.38, 0.36, 0.36, 0.36, 0.53, 0.5, 0.64, 0.58, 0.51, 0.53, 0.36, 0.42, 0.32, 0.32, 0.31, 0.46, 0.86, 0.87, 0.87, null, 1.0, 0.89, 0.92, null, 0.49, 0.57, 0.57, 0.55, 0.71, 0.93, null, 0.49, 0.55, 0.56, 0.54, 0.5, 0.37, 0.62, 0.6, 0.39, 0.39, null, 0.58, 0.57, 0.24, 0.24, 0.32, 0.36, 0.36, 0.36, 0.36, 0.29, 0.26, 0.59, 0.59, 0.55, 0.38, 0.3, 0.3, 0.29, 0.14, 0.14, 0.14, 0.15, 0.15, 0.18, 0.39, 0.84, 0.95, 0.95, 0.53, 0.54, 0.53, 0.53, 0.53, 0.54, 0.52, 0.38, 0.1, 0.1, 0.1, 0.1, 0.1, 0.13, 0.13, 0.2, 0.24, 0.38, 0.23, 0.2, 0.2, 0.26, 0.26, 0.29, 0.24, 0.24, 0.22, 0.19, 0.2, 0.04, 0.04, 0.62, 0.62, 0.62, 0.6, 0.6, 0.66, 0.66, 0.75, 0.64, 0.65, null, 0.77, 0.71, 0.09, 0.02, null, 0.06, 0.18, 0.24, 0.22, 0.29, 0.87, 0.96, 0.97, 0.97, null, 0.99, 0.94, 0.86, 0.79, 0.75, 0.91, 0.91, 0.83, 0.83, 0.83, 0.84, 0.83, 0.86, 0.86, 0.76, 0.76, null, 0.78, 0.65, 0.58, 0.53, 0.5, 0.39, 0.22, 0.04, 0.04, null, 0.01, 0.04, 0.04, 0.5, 0.41, 0.57, 0.57, 0.48, 0.48, 0.64, 0.64, 0.73, 0.8, 0.8, 0.81, 0.81, 0.89, null, 0.86, 0.96, 0.83, 0.97, 0.93, 0.91, 0.83, 0.91, 0.8, 0.83, 0.58, 0.33, 0.33, 0.16, 0.54, 0.54, 0.54, 0.53, 0.41, 0.44, 0.46, 0.46, 0.56, 0.64, 0.7, 0.79, 0.8, 0.94, 0.46, 0.46, 0.39, 0.39, 0.4, null, 0.34, 0.52, 0.54, 0.53, 0.35, 0.29, 0.47, 0.44, 0.56, 0.77, 0.8, 0.8, null, 1.01, 0.94, 0.94, null, 0.94, 0.89, 0.89, 0.89, 0.94, 0.96, 0.96, 0.67, 0.61, 0.74, 0.96, 0.5, 0.5, 0.69, 0.54, 0.45, 0.48, 0.44, 0.34, 0.13, 0.03, 0.03, 0.08, 0.22, 0.37, 0.37, null, 0.39, 0.51, 0.51, 0.51, 0.5, 0.41, 0.32, 0.28, 0.28, 0.28, 0.4, 0.36, 0.49, 0.49, 0.59, 0.61, 0.5, 0.47, 0.38, 0.42, 0.35, 0.32, 0.34, 0.34, 0.39, 0.39, 0.53, 0.46, 0.56, 0.25, 0.04, 0.04, 0.55, 0.55, 0.55, 0.54, 0.54, 0.54, 0.54, 0.54, 0.53, 0.53, 0.55, 0.55, 0.6, 0.69, 0.59, 0.55, 0.44, 0.51, 0.41, 0.38, 0.48, 0.52, 0.47, 0.26, 0.31, 0.22, 0.29, 0.29, 0.3, 0.32, 0.32, 0.3, 0.31, 0.31, 0.3, 0.27, 0.24, 0.24, 0.18, 0.15, 0.49, 0.49, 0.34, 0.34, 0.33, 0.19, 0.12, 0.1, 0.09, 0.07, 0.16, 0.18, 0.18, null, 0.26, 0.36, 0.36, 0.36, null, 0.42, 0.4, 0.5, 0.73, 0.73, 0.73, null, 0.97, 0.86, 0.95, 0.95, 0.95, 0.45, 0.45, 0.45, 0.46, 0.45, 0.45, 0.31, 0.34, 0.24, 0.27, 0.28, 0.22, 0.22, 0.17, 0.23, 0.29, 0.54, 0.83, 0.98, 0.86, 0.42, 0.17, 0.17, null, 0.19, 0.26, 0.28, 0.26, 0.16, 0.13, 0.13, 0.27, 0.2, 0.19, 0.32, 0.28, 0.22, 0.26, 0.12, null, 0.16, 0.67, 0.67, 0.61, 0.6, 0.59, 0.65, 0.69, 0.61, 0.76, 0.76, 0.76, 0.76, 0.76, 0.75, 0.6, 0.6, 0.61, 0.67, 0.81, 0.75, 0.96, 0.96, 0.69, 0.64, 0.66, 0.66, 0.77, 0.72, 0.72, 0.72, null, 0.71, 0.74, 0.5, 0.57, 0.49, 0.04, 0.04, 0.57, 0.57, 0.49, 0.57, 0.62, 0.61, 0.57, 0.51, 0.51, null, 0.48, 0.66, 0.68, 0.61, 0.32, 0.07, 0.05, 0.05, 0.09, 0.27, 0.53, 0.5, 0.35, 0.3, 0.43, 0.43, 0.31, 0.01, 0.01, 0.57, 0.58, 0.58, 0.58, 0.56, 0.59, 0.59, 0.6, 0.6, 0.6, null, 0.46, 0.29, 0.35, 0.45, null, 0.49, 0.58, 0.64, 0.55, 0.38, 0.43, 0.27, 0.26, 0.19, 0.19, 0.16, 0.16, 0.13, null, 0.12, 0.67, 0.68, 0.68, 0.68, 0.58, 0.59, 0.59, 0.61, 0.61, 0.6, 0.63, 0.54, 0.59, 0.59, 0.55, 0.56, null, 0.56, 0.56, 0.47, 0.36, 0.41, 0.7, 0.7, null, 0.65, 0.71, 0.63, 0.56, 0.45, 0.71, 0.71, 0.73, 0.73, 0.59, 0.57, 0.55, 0.46, null, 0.48, 0.81, 0.81, 0.73, 0.82, 0.82, 0.82, 0.8, 0.8, 0.63, 0.69, 0.75, 0.64, 0.44, 0.38, 0.39, 0.41, 0.41, null, 0.39, 0.45, 0.44, 0.44, 0.38, 0.38, 0.38, null, 0.37, 0.75, 0.75, 0.75, 0.92, 0.92, null, 0.74, 0.86, null, 0.6, 0.63, 0.53, 0.32, 0.39, 0.43, 0.31, 0.41, 0.54, 0.48, 0.48, 0.5, 0.64, 0.67, 0.59, 0.46, 0.33, 0.33, 0.33, null, 0.24, 0.35, 0.13, 0.18, 0.19, 0.21, 0.25, 0.26, 0.35, 0.37, 0.39, 0.77, 0.91, 0.93, null, null, 0.98, 0.39, 0.39, null, 0.41, 0.5, 0.51, 0.56, 0.56, 0.57, 0.57, 0.57, 0.55, null, 0.54, 0.51, 0.53, 0.48, 0.31, 0.24, 0.39, 0.36, 0.36, 0.37, 0.37, 0.42, 0.45, 0.61, 0.57, 0.58, 0.59, 0.71, 0.67, 0.65, 0.64, null, 0.62, 0.7, 0.81, 0.72, 0.78, 0.97, 0.95, 0.95, 0.85, 0.94, 0.94, 0.99, 0.99, 0.94, 0.86, 0.86, 0.89, 0.89, null, 0.77, 0.8, 0.71, 0.71, 0.69, 0.69, 0.69, 0.64, 0.51, 0.52, 0.53, 0.53, 0.54, 0.54, 0.53, 0.53, 0.59, 0.57, 0.57, 0.87, 0.78, 0.7, 0.66, 0.59, 0.75, 0.93, 0.93, 0.93, 0.8, 0.9, 0.64, 0.65, 0.41, 0.42, 0.55, 0.6, 0.68, 0.66, 0.66, null, 0.63, 0.69, 0.86, 0.75, 0.81, 0.92, 0.92, 0.93, 0.93, 0.93, null, 1.01, 0.96, 0.96, 0.96, 0.99, 0.99, 0.95, 0.81, 0.81, 0.96, 0.96, 0.45, 0.45, 0.45, 0.43, 0.43, 0.43, 0.5, 0.34, 0.11, 0.06, 0.12, 0.34, 0.28, 0.27, 0.35, 0.41, 0.4, 0.45, 0.55, 0.47, 0.58, 0.9, 0.96, 0.96, 0.44, 0.54, 0.52, 0.49, 0.42, 0.21, 0.19, 0.34, 0.61, 0.72, 0.72, 0.73, null, 0.73, 0.86, 0.86, 0.69, 0.71, 0.95, 0.95, 0.74, 0.51, 0.52, 0.53, 0.54, 0.61, 0.64, null, 0.57, 0.24, 0.14, 0.14, 0.14, 0.14, 0.15, 0.15, 0.14, 0.27, 0.48, 0.47, 0.28, 0.28, 0.28, 0.5, 0.68, 0.78, 0.96, 0.54, 0.32, 0.2, 0.15, 0.15, 0.15, 0.15, 0.23, 0.19, 0.23, 0.27, 0.32, 0.69, 0.76, 0.78, 0.77, 0.9, 0.88, 0.89, 0.87, 0.49, 0.48, 0.58, 0.34, 0.43, 0.54, 0.54, null, 0.47, 0.54, 0.61, 0.61, 0.62, null, 0.64, 0.61, 0.82, 0.59, 0.38, 0.79, 0.97, 0.98, 0.99, 0.99, 0.91, 0.93, 0.98, 0.89, 0.89, 0.53, 0.53, 0.53, 0.53, 0.45, 0.48, 0.24, 0.41, 0.57, 0.57, 0.5, 0.51, 0.45, 0.36, 0.37, 0.34, 0.31, 0.33, 0.28, 0.62, 0.67, 0.66, 0.67, 0.59, 0.51, 0.51, 0.79, 0.91, 0.93, 0.93, 0.9, 0.68, 0.53, 0.59, 0.58, 0.08, 0.04, 0.04, 0.17, null, 0.49, 0.61, 0.38, 0.43, 0.5, 0.62, 0.66, 0.67, 0.67, 0.7, 0.79, 0.74, 0.32, 0.28, 0.28, 0.3, 0.34, 0.51, 0.65, 0.6, 0.68, 0.84, 0.87, 0.87, null, 0.86, 0.64, 0.73, 0.86, 0.86, null, 0.71, 0.52, 0.43, 0.49, 0.61, 0.6, 0.43, 0.51, 0.33, 0.46, 0.48, 0.56, 0.56, 0.54, 0.86, 0.76, 0.98, 0.95, 0.71, 0.55, 0.62, 0.58, 0.63, 0.45, 0.36, 0.43, 0.41, 0.36, 0.32, 0.28, 0.3, 0.1, 0.08, 0.08, null, 0.02, 0.06, 0.06, 0.04, 0.47, 0.47, 0.05, 0.41, 0.41, 0.93, 0.9, 0.75, 0.87, 0.54, 0.49, 0.49, 0.49, 0.49, null, 0.52, 0.5, 0.56, 0.41, 0.53, 0.55, 0.49, 0.53, 0.41, null, 0.84, 0.77, 0.85, 0.61, 0.61, 0.61, 0.66, 0.7, 0.69, 0.84, 0.78, 0.76, 0.75, 0.64, 0.45, 0.25, 0.21, 0.12, 0.12, 0.36, 0.35, 0.21, 0.3, 0.51, 0.53, 0.43, 0.33, 0.2, 0.16, 0.37, 0.54, 0.47, 0.32, 0.34, 0.15, 0.11, 0.11, null, 0.02, 0.12, 0.11, 0.07, 0.06, null, 0.1, 0.19, 0.18, 0.22, 0.44, 0.57, 0.64, 0.65, 0.65, 0.66, 0.71, 0.64, 0.5, 0.51, 0.68, 0.67, 0.85, 0.91, 0.91, 0.91, 0.91, 0.76, 0.76, 0.76, null, 0.85, 0.7, 0.53, 0.61, 0.62, 0.74, 0.71, 0.78, 0.71, 0.62, 0.62, 0.62, 0.62, 0.62, null, 0.53, 0.45, 0.54, 0.66, 0.4, 0.4, 0.56, 0.56, 0.54, 0.54, 0.59, 0.69, 0.68, 0.75, 0.69, 0.84, 0.94, 0.94, null, 0.96, 0.97, 0.97, null, 0.49, 0.56, 0.55, 0.56, 0.56, null, 0.54, 0.43, 0.26, 0.12, 0.08, 0.17, 0.25, 0.08, 0.08, 0.16, 0.16, 0.17, 0.15, 0.08, null, 0.5, 0.46, 0.48, 0.37, 0.49, 0.42, 0.13, 0.13, 0.12, 0.05, 0.05, 0.49, 0.55, 0.55, 0.51, 0.52, 0.54, 0.54, 0.54, 0.49, 0.49, 0.84, 0.84, 0.84, 0.86, 0.88, 0.96, null, 0.87, 0.35, 0.34, 0.34, 0.34, 0.44, 0.44, 0.34, 0.06, 0.1, 0.6, 0.53, 0.63, 0.61, 0.56, 0.64, 0.77, 0.7, 0.81, 0.89, 0.89, 0.98, 0.45, 0.41, 0.19, 0.33, 0.45, 0.16, 0.23, 0.26, 0.45, 0.7, 0.9, 0.9, 0.9, 0.9, 0.94, null, 0.67, 0.6, 0.6, 0.61, null, 0.61, 0.96, 0.96, 0.37, 0.37, 0.37, 0.37, 0.58, 0.57, 0.57, null, 0.69, 0.46, 0.42, 0.49, 0.4, 0.06, 0.0, 0.0, 0.1, 0.17, 0.18, 0.04, 0.02, 0.02, 0.02, 0.02, null, 0.5, 0.57, 0.61, 0.49, 0.44, 0.56, 0.8, 0.8, 0.42, 0.38, 0.19, 0.37, 0.57, 0.7, 0.71, 0.71, null, 0.7, 0.98, 0.88, 0.62, 0.19, 0.13, 0.13, 0.14, 0.06, 0.16, 0.11, 0.34, 0.34, 0.27, 0.26, 0.26, null, 0.28, 0.34, 0.46, 0.41, 0.16, 0.16, 0.18, 0.12, 0.26, 0.27, 0.33, 0.36, 0.35, 0.77, 0.79, 0.79, 0.79, 0.95, 0.72, 0.54, 0.47, 0.57, 0.63, 0.59, 0.48, 0.44, 0.4, 0.36, 0.38, 0.52, 0.68, 0.7, 0.7, 0.69, 0.56, 0.53, 0.53, 0.43, 0.76, 0.76, 0.73, 0.73, 0.74, 0.84, 0.69, 0.67, 0.68, 0.68, 0.67, null, 0.7, 0.61, 0.55, 0.76, 0.71, 0.19, 0.15, 0.15, 0.11, 0.07, 0.13, 0.37, 0.36, 0.33, 0.35, 0.55, 0.56, 0.45, 0.67, 0.62, 0.64, 0.51, 0.51, 0.52, 0.52, 0.52, 0.58, 0.6, 0.73, 0.92, 0.99, 0.98, 0.65, 0.27, 0.16, 0.19, 0.19, 0.19, 0.22, 0.24, 0.32, 0.44, 0.39, 0.53, 0.56, 0.81, 0.74, 0.74, 0.73, 0.73, 0.74, 0.69, 0.68, 0.51, 0.51, 0.5, null, 0.69, 0.61, 0.77, 0.48, 0.48, 0.48, 0.48, 0.51, 0.35, 0.35, 0.57, 0.57, 0.81, 0.81, 0.66, 0.66, 0.95, 0.95, 0.95, 0.96, null, 0.93, 0.94, 0.94, 0.74, 0.74, 0.74, 0.58, 0.66, 0.91, 0.91, 0.92, 0.81, 0.86, 0.91, 0.91, 0.91, 0.86, 0.81, 0.74, 1.0, 0.86, 0.34, 0.32, 0.38, 0.38, 0.39, 0.39, 0.41, 0.46, 0.36, 0.42, 0.45, 0.33, 0.41, 0.28, 0.32, 0.38, 0.74, 0.74, 0.75, 0.76, 0.76, 0.74, 0.51, 0.5, 0.56, 0.48, 0.57, 0.68, 0.79, 0.79, 0.57, 0.57, 0.61, 0.71, 0.79, 0.71, 0.63, 0.72, 0.86, 0.66, 0.53, 0.42, 0.44, 0.15, 0.15, 0.15, 0.29, 0.29, 0.31, 0.38, 0.34, 0.37, 0.37, 0.38, 0.47, 0.47, 0.48, 0.51, 0.49, 0.48, 0.08, 0.01, 0.04, 0.12, 0.28, 0.37, 0.42, 0.36, 0.59, 0.99, 0.97, 0.44, 0.44, 0.75, 0.77, 0.94, 0.43, 0.43, 0.42, 0.44, 0.48, 0.47, 0.47, 0.51, 0.51, 0.58, 0.54, 0.47, 0.62, 0.51, 0.54, 0.56, 0.42, 0.31, 0.26, 0.25, 0.01, 0.04, 0.35, 0.38, 0.38, 0.36, 0.36, 0.36, null, 0.37, 0.31, 0.3, 0.38, 0.43, 0.42, 0.71, 0.86, 0.63, 0.56, 0.36, 0.15, 0.01, 0.43, 0.43, 0.31, 0.32, 0.23, 0.27, 0.55, 0.6, 0.94, 0.85, 0.99, 0.19, 0.98, 0.11, 0.36, 0.37, 0.47, 0.47, 0.47, 0.47, 0.48, 0.65, 0.58, 0.59, 0.59, null, null, 0.58, 0.69, 0.61, 0.54, 0.62, 0.46, 0.62, 0.86, 0.83, 0.73, 0.85, 0.85, 0.85, 0.85, 0.85, 0.57, 0.57, 0.58, 0.58, 0.64, 0.71, 0.74, 0.85, 0.85, 0.82, 0.89, 0.54, 0.16, 0.19, 0.19, 0.21, 0.21, 0.21, 0.21, 0.22, null, null, 0.28, 0.48, 0.52, 0.4, 0.51, 0.57, 0.74, 0.81, 0.82, 0.82, 0.84, 0.88, 0.6, 0.59, 0.55, 0.53, 0.63, 0.88, 0.84, 0.75, 0.84, 0.97, 0.91, 0.68, 0.59, 0.41, 0.14, 0.28, 0.1, 0.4, 0.54, 0.39, 0.31, 0.37, 0.35, 0.2, 0.2, 0.43, 0.44, 0.44, 0.43, 0.43, 0.51, 0.71, 0.78, 0.57, 0.58, 0.64, 0.53, 0.51, 0.25, 0.07, 0.07, 0.07, 0.21, 0.31, 0.31, 0.32, null, 0.31, 0.39, 0.57, 0.53, 0.62, 0.83, 0.71, 0.78, 0.73, 1.01, 0.96, 0.42, 0.38, null, 0.37, 0.37, 0.39, 0.39, 0.49, 0.87, 0.81, 0.75, 0.88, 0.87, 0.5, 0.16, 0.01, 0.15, 0.53, 0.57, 0.73, 0.76, 0.76, 0.82, 0.7, 0.73, 0.58, 0.63, 0.73, 0.81, 0.95, 0.67, 0.56, 0.56, 0.55, null, null, 0.6, 0.66, 0.5, 0.56, 0.62, 0.57, 0.65, 0.58, 0.59, 0.51, 0.53, 0.53, null, 0.52, 0.66, 0.71, 0.75, 0.66, 0.61, 0.61, 0.57, 0.59, 0.57, 0.74, 0.98, 0.96, 0.72, 0.41, 0.42, 0.56, 0.6, 0.6, null, 0.61, 0.66, 0.87, 0.86, 0.79, 0.99, 0.97, 0.47, null, 0.49, 0.42, 0.32, 0.41, 0.72, 0.85, 0.85, 0.47, 0.5, 0.68, 0.74, 0.75, 0.6, 0.09, 0.13, 0.05, 0.05], \"y\": [\"\", 0.39, 0.43, 0.19, 0.32, 0.73, 0.96, 0.97, 0.78, 0.78, 0.67, 0.67, 0.67, 0.67, 0.67, 0.67, 0.59, 0.65, 0.46, 0.27, 0.33, 0.53, 0.96, 0.79, 0.89, 0.89, 0.78, 0.68, 0.26, 0.29, 0.29, \"\", 0.01, 0.14, 0.47, \"\", 0.5, 0.53, 0.76, 0.95, 0.86, 0.56, \"\", 1.01, 0.84, 0.82, 0.87, 0.87, 0.97, 0.92, 0.95, 0.78, 0.78, \"\", 1.01, 0.89, 0.82, 0.82, 0.89, 0.82, 0.83, 0.83, 0.83, 0.85, 0.96, 0.89, 0.89, 0.83, 0.47, 0.43, 0.43, 0.49, 0.6, 0.6, 0.6, 0.56, 0.56, 0.53, 0.29, 0.27, 0.45, 0.45, 0.04, 0.3, 0.29, 0.29, 0.29, 0.3, 0.41, 0.84, 0.42, 0.42, 0.42, 0.39, 0.01, 0.01, 0.01, 0.11, 0.02, 0.08, 0.26, 0.29, 0.29, 0.29, 0.29, 0.07, 0.22, 0.22, 0.17, 0.27, 0.3, 0.52, 0.52, 0.36, 0.36, 0.36, 0.37, 0.37, 0.35, 0.35, 0.38, 0.23, 0.21, \"\", -0.01, 0.11, 0.14, 0.1, \"\", 0.0, 0.11, 0.3, 0.36, 0.38, 0.29, 0.37, 0.44, 0.44, \"\", 0.01, 0.09, 0.11, 0.36, 0.65, 0.47, 0.47, 0.51, 0.51, 0.51, 0.51, 0.54, 0.47, 0.47, 0.65, 0.65, \"\", 0.55, 0.83, 0.94, 0.71, 0.55, 0.41, 0.12, 0.62, 0.62, \"\", 0.95, 0.44, 0.44, 0.86, 0.85, 0.86, 0.86, 0.79, 0.79, 0.55, 0.55, 0.56, 0.52, 0.52, 0.53, 0.53, 0.48, \"\", -0.02, 0.1, 0.01, 0.28, 0.39, 0.35, 0.31, 0.35, 0.12, 0.13, 0.04, 0.13, 0.13, 0.52, 0.84, 0.84, 0.84, 0.84, 0.91, 0.98, 0.98, 0.98, 0.96, 0.88, 0.88, 0.71, 0.71, 0.61, 0.34, 0.34, 0.46, 0.46, 0.46, \"\", 0.44, 0.91, 0.73, 0.9, 0.79, 0.57, 0.67, 0.22, 0.24, 0.07, 0.13, 0.13, \"\", 0.01, 0.51, 0.51, \"\", 0.99, 0.46, 0.46, 0.47, 0.55, 0.6, 0.6, 0.86, 0.96, 0.96, 0.74, 0.8, 0.8, 0.49, 0.3, 0.03, 0.23, 0.48, 0.34, 0.37, 0.47, 0.47, 0.41, 0.25, 0.26, 0.26, \"\", 0.0, 0.12, 0.12, 0.12, 0.1, 0.15, 0.03, 0.14, 0.14, 0.03, 0.53, 0.91, 0.9, 0.9, 0.82, 0.68, 0.23, 0.23, 0.25, 0.24, 0.36, 0.47, 0.21, 0.21, 0.46, 0.46, 0.47, 0.77, 0.6, 0.97, 0.51, 0.51, 0.91, 0.91, 0.91, 0.9, 0.91, 0.91, 0.94, 0.94, 0.69, 0.69, 0.6, 0.6, 0.72, 0.62, 0.39, 0.18, 0.42, 0.64, 0.88, 0.75, 0.79, 0.5, 0.25, 0.09, 0.34, 0.4, 0.33, 0.33, 0.38, 0.49, 0.49, 0.48, 0.52, 0.52, 0.44, 0.42, 0.5, 0.5, 0.37, 0.54, 0.54, 0.54, 0.65, 0.53, 0.66, 0.11, 0.17, 0.16, 0.16, 0.11, 0.03, 0.05, 0.05, \"\", -0.01, 0.19, 0.26, 0.26, \"\", 0.37, 0.67, 0.94, 0.95, 0.94, 0.94, \"\", 0.98, 0.66, 0.53, 0.46, 0.46, 0.18, 0.18, 0.18, 0.17, 0.53, 0.53, 0.92, 0.82, 0.78, 0.8, 0.72, 0.84, 0.84, 0.8, 0.9, 0.79, 0.73, 0.25, 0.48, 0.55, 0.96, 0.82, 0.82, \"\", 1.01, 0.95, 0.79, 0.94, 0.96, 0.71, 0.71, 0.6, 0.52, 0.31, 0.11, 0.06, 0.19, 0.39, 0.07, \"\", 0.18, 0.21, 0.21, 0.37, 0.4, 0.61, 0.77, 0.93, 0.84, 0.66, 0.66, 0.66, 0.66, 0.66, 0.62, 0.8, 0.74, 0.61, 0.45, 0.28, 0.37, 0.62, 0.62, 0.88, 0.67, 0.65, 0.65, 0.87, 0.96, 0.98, 0.98, \"\", 0.96, 0.47, 0.2, 0.46, 0.9, 0.5, 0.5, 0.86, 0.86, 0.92, 0.98, 0.86, 0.87, 0.8, 0.92, 0.92, \"\", 1.01, 0.91, 0.48, 0.22, 0.97, 0.82, 0.53, 0.53, 0.47, 0.04, 0.45, 0.44, 0.28, 0.06, 0.4, 0.8, 0.92, 0.5, 0.5, 0.26, 0.26, 0.26, 0.26, 0.24, 0.12, 0.12, 0.12, 0.12, 0.12, \"\", 0.01, 0.24, 0.76, 0.68, \"\", 1.01, 0.89, 0.63, 0.21, 0.0, 0.11, 0.24, 0.24, 0.2, 0.23, 0.22, 0.22, 0.19, \"\", 0.14, 0.4, 0.39, 0.39, 0.39, 0.43, 0.39, 0.39, 0.37, 0.37, 0.39, 0.33, 0.41, 0.75, 0.75, 0.75, 0.76, \"\", 0.73, 0.97, 0.94, 0.81, 0.96, 0.67, 0.67, \"\", 1.01, 0.96, 0.98, 0.91, 0.95, 0.77, 0.79, 0.83, 0.83, 0.93, 0.94, 0.96, 0.91, \"\", 0.95, 0.45, 0.45, 0.42, 0.39, 0.39, 0.39, 0.39, 0.39, 0.21, 0.22, 0.05, 0.13, 0.36, 0.78, 0.96, 0.96, 0.96, \"\", 1.01, 0.9, 0.91, 0.91, 0.96, 0.96, 0.94, \"\", 0.87, 0.86, 0.86, 0.86, 0.9, 0.9, \"\", 1.01, 0.91, \"\", 1.01, 0.69, 0.25, 0.07, 0.22, 0.73, 0.1, 0.15, 0.43, 0.74, 0.73, 0.72, 0.5, 0.21, 0.29, 0.06, 0.05, 0.05, 0.03, \"\", 0.0, 0.13, 0.23, 0.16, 0.18, 0.3, 0.46, 0.46, 0.49, 0.52, 0.65, 0.74, 0.86, 0.85, \"\", \"\", 0.91, 0.93, 0.95, \"\", 1.01, 0.82, 0.76, 0.88, 0.88, 0.87, 0.87, 0.87, 0.89, \"\", 1.01, 0.91, 1.0, 0.97, 0.86, 0.51, 0.31, 0.31, 0.31, 0.31, 0.31, 0.57, 0.81, 0.97, 0.84, 0.69, 0.79, 0.15, 0.24, 0.23, 0.24, \"\", 0.27, 0.18, 0.32, 0.55, 0.7, 0.77, 0.51, 0.5, 0.39, 0.52, 0.52, 0.55, 0.55, 0.58, 0.72, 0.72, 0.7, 0.7, \"\", 1.01, 0.91, 0.93, 0.93, 0.92, 0.92, 0.92, 0.69, 0.56, 0.55, 0.41, 0.43, 0.34, 0.34, 0.35, 0.35, 0.26, 0.26, 0.26, 0.03, 0.09, 0.09, 0.25, 0.8, 0.95, 0.55, 0.55, 0.55, 0.95, 0.9, 0.87, 0.88, 0.6, 0.89, 0.99, 0.92, 0.8, 0.78, 0.78, \"\", 0.78, 0.4, 0.06, 0.19, 0.3, 0.24, 0.24, 0.26, 0.26, 0.26, \"\", 0.01, 0.62, 0.62, 0.6, 0.55, 0.55, 0.69, 0.73, 0.73, 0.47, 0.47, 0.13, 0.13, 0.13, 0.11, 0.19, 0.19, 0.02, 0.03, 0.23, 0.55, 0.82, 0.73, 0.62, 0.31, 0.1, 0.25, 0.36, 0.24, 0.26, 0.25, 0.07, 0.03, 0.49, 0.49, 0.0, 0.1, 0.28, 0.53, 0.92, 0.89, 0.97, 0.82, 0.78, 0.05, 0.09, 0.05, \"\", 0.09, 0.49, 0.49, 0.45, 0.52, 0.45, 0.45, 0.06, 0.47, 0.43, 0.35, 0.33, 0.28, 0.31, \"\", 0.35, 0.17, 0.12, 0.12, 0.14, 0.14, 0.1, 0.1, 0.11, 0.1, 0.12, 0.14, 0.15, 0.15, 0.31, 0.74, 0.64, 0.76, 0.61, 0.62, 0.16, 0.19, 0.3, 0.29, 0.29, 0.29, 0.17, 0.15, 0.32, 0.41, 0.23, 0.22, 0.38, 0.39, 0.36, 0.2, 0.87, 0.84, 0.82, 0.79, 0.81, 0.91, 0.56, 0.8, 0.73, 0.73, \"\", 1.01, 0.85, 0.92, 0.92, 0.93, \"\", 1.01, 0.8, 0.63, 0.53, 0.11, 0.19, 0.18, 0.6, 0.54, 0.54, 0.5, 0.79, 0.8, 0.5, 0.5, 0.46, 0.47, 0.47, 0.47, 0.47, 0.02, 0.15, 0.6, 0.56, 0.6, 0.57, 0.43, 0.29, 0.36, 0.43, 0.09, 0.27, 0.6, 0.94, 0.82, 0.85, 0.84, 0.88, 0.72, 0.76, 0.76, 0.35, 0.19, 0.33, 0.33, 0.52, 0.66, 0.24, 0.42, 0.72, 0.82, 0.47, 0.47, 0.91, \"\", 0.5, 0.5, 0.19, 0.25, 0.32, 0.03, 0.21, 0.22, 0.19, 0.06, 0.17, 0.18, 0.17, 0.12, 0.12, 0.2, 0.38, 0.83, 0.96, 0.69, 0.37, 0.02, 0.08, 0.08, \"\", -0.01, 0.16, 0.19, 0.28, 0.28, \"\", -0.01, 0.1, 0.35, 0.16, 0.12, 0.02, 0.18, 0.34, 0.41, 0.54, 1.0, 0.87, 0.97, 0.82, 0.68, 0.57, 0.49, 0.48, 0.42, 0.07, 0.06, 0.25, 0.55, 0.82, 0.92, 0.76, 0.58, 0.61, 0.08, 0.07, 0.2, 0.1, 0.15, 0.15, \"\", 0.01, 0.41, 0.41, 0.48, 0.88, 0.88, 0.45, 0.75, 0.75, 0.69, 0.6, 0.93, 0.74, 0.1, 0.27, 0.35, 0.35, 0.35, \"\", 0.39, 0.25, 0.15, 0.41, 0.8, 0.13, 0.27, 0.37, 0.47, \"\", 1.01, 0.94, 0.98, 0.76, 0.76, 0.76, 0.41, 0.37, 0.16, 0.25, 0.06, 0.19, 0.17, 0.22, 0.31, 0.56, 0.39, 0.42, 0.42, 0.28, 0.27, 0.06, 0.12, 0.24, 0.68, 0.71, 0.8, 0.77, 0.93, 0.85, 0.44, 0.17, 0.29, 0.04, 0.14, 0.45, 0.45, \"\", 0.01, 0.73, 0.67, 0.63, 0.63, \"\", 0.67, 0.79, 0.52, 0.8, 0.79, 0.69, 0.82, 0.82, 0.54, 0.27, 0.15, 0.25, 0.24, 0.48, 0.47, 0.64, 0.95, 0.6, 0.6, 0.6, 0.58, 0.77, 0.79, 0.79, \"\", 0.65, 0.89, 0.76, 0.79, 0.63, 0.63, 0.08, 0.23, 0.3, 0.04, 0.04, 0.04, 0.03, 0.03, \"\", 0.01, 0.07, 0.04, 0.08, 0.29, 0.29, 0.27, 0.27, 0.13, 0.13, 0.44, 0.95, 0.3, 0.11, 0.32, 0.96, 0.68, 0.68, \"\", 0.97, 0.48, 0.48, \"\", 0.5, 0.41, 0.57, 0.54, 0.54, \"\", 0.54, 0.06, 0.25, 0.04, 0.18, 0.08, 0.16, 0.45, 0.45, 0.18, 0.18, 0.32, 0.26, 0.31, \"\", 0.51, 0.56, 0.93, 0.84, 0.46, 0.59, 0.8, 0.8, 0.78, 0.52, 0.52, 0.81, 0.92, 0.92, 0.9, 0.94, 0.95, 0.95, 0.95, 0.94, 0.94, 0.85, 0.85, 0.85, 0.84, 0.83, 0.57, \"\", 0.81, 0.55, 0.55, 0.55, 0.55, 0.6, 0.6, 0.45, 0.45, 0.42, 0.86, 0.94, 0.94, 0.71, 0.42, 0.23, 0.13, 0.16, 0.06, 0.41, 0.41, 0.23, 0.01, 0.01, 0.28, 0.16, 0.39, 0.97, 1.0, 0.65, 0.33, 0.11, 0.38, 0.4, 0.4, 0.4, 0.1, \"\", -0.02, 0.27, 0.27, 0.29, \"\", 0.27, 0.47, 0.47, 0.61, 0.62, 0.62, 0.62, 0.6, 0.61, 0.61, \"\", 0.67, 0.88, 0.98, 0.86, 0.43, 0.27, 0.44, 0.44, 0.67, 0.69, 0.78, 0.36, 0.48, 0.48, 0.54, 0.54, \"\", 0.51, 0.27, 0.05, 0.21, 0.5, 0.8, 0.55, 0.55, 0.67, 0.7, 0.51, 0.23, 0.06, 0.3, 0.3, 0.3, \"\", 0.27, 0.5, 0.49, 0.55, 0.08, 0.46, 0.46, 0.3, 0.4, 0.33, 0.12, 0.11, 0.11, 0.09, 0.07, 0.07, \"\", 0.13, 0.19, 0.51, 0.99, 0.71, 0.71, 0.73, 0.74, 0.87, 0.89, 0.58, 0.58, 0.59, 0.67, 0.66, 0.66, 0.66, 0.69, 0.48, 0.2, 0.04, 0.17, 0.23, 0.36, 0.45, 0.85, 0.97, 0.87, 0.98, 0.92, 0.67, 0.33, 0.08, 0.08, 0.08, 0.18, 0.18, 0.36, 0.49, 0.49, 0.29, 0.29, 0.3, 0.31, 0.12, 0.25, 0.41, 0.41, 0.41, \"\", 0.42, 0.68, 0.89, 0.66, 0.24, 0.09, 0.13, 0.13, 0.19, 0.32, 0.24, 0.14, 0.15, 0.14, 0.02, 0.18, 0.17, 0.06, 0.22, 0.28, 0.24, 0.11, 0.1, 0.1, 0.1, 0.08, 0.06, 0.11, 0.33, 0.28, 0.45, 0.43, 0.11, 0.45, 0.39, 0.45, 0.45, 0.45, 0.35, 0.25, 0.48, 0.78, 0.83, 0.59, 0.28, 0.25, 0.48, 0.48, 0.48, 0.48, 0.49, 0.66, 0.63, 0.66, 0.66, 0.65, \"\", 0.65, 0.75, 0.56, 0.33, 0.33, 0.33, 0.32, 0.41, 0.59, 0.36, 0.03, 0.33, 0.39, 0.4, 0.89, 0.88, 0.78, 0.77, 0.77, 0.76, \"\", 0.93, 0.55, 0.56, 0.47, 0.47, 0.47, 0.53, 0.91, 0.55, 0.55, 0.55, 0.7, 0.85, 0.51, 0.51, 0.51, 0.25, 0.2, 0.38, 0.62, 0.52, 0.73, 0.72, 0.82, 0.82, 0.87, 0.87, 0.92, 0.82, 0.66, 0.5, 0.19, 0.04, 0.1, 0.39, 0.53, 0.6, 0.48, 0.48, 0.48, 0.51, 0.51, 0.54, 0.77, 0.93, 0.82, 0.96, 0.89, 0.88, 0.7, 0.2, 0.26, 0.3, 0.05, 0.22, 0.48, 0.83, 0.97, 0.89, 0.72, 0.18, 0.6, 0.63, 0.75, 0.82, 0.65, 0.65, 0.68, 0.68, 0.54, 0.8, 0.92, 0.92, 0.92, 0.98, 0.89, 0.89, 0.89, 0.94, 0.83, 0.49, 0.31, 0.44, 0.5, 0.82, 0.76, 0.98, 0.64, 0.39, 0.38, 0.58, 0.46, 0.7, 0.7, 0.5, 0.5, 0.46, 0.63, 0.63, 0.63, 0.63, 0.43, 0.46, 0.42, 0.22, 0.21, 0.29, 0.47, 0.42, 0.64, 0.94, 0.76, 0.23, 0.06, 0.19, 0.44, 0.49, 0.56, 0.59, 0.88, 0.89, 0.95, 0.99, 0.99, 0.99, \"\", 1.0, 0.88, 1.0, 1.0, 0.93, 1.0, 0.85, 0.56, 0.33, 0.38, 0.37, 0.25, 0.32, 0.47, 0.47, 0.51, 0.53, 0.75, 0.51, 0.07, 0.21, 0.3, 0.41, 0.48, 0.49, 0.47, 0.43, 0.11, 0.1, 0.05, 0.05, 0.05, 0.05, 0.08, 0.2, 0.36, 0.31, 0.31, \"\", \"\", 0.36, 0.51, 0.86, 0.79, 0.77, 0.27, 0.24, 0.11, 0.02, 0.22, 0.34, 0.34, 0.34, 0.35, 0.35, 0.42, 0.42, 0.44, 0.44, 0.32, 0.36, 0.5, 0.55, 0.55, 0.61, 0.77, 0.91, 0.7, 0.5, 0.5, 0.54, 0.54, 0.55, 0.55, 0.55, \"\", \"\", 0.57, 0.87, 1.0, 0.85, 0.83, 0.98, 0.78, 0.75, 0.64, 0.64, 0.63, 0.62, 0.88, 0.87, 0.67, 0.68, 0.71, 0.32, 0.42, 0.47, 0.79, 0.47, 0.4, 0.28, 0.5, 0.69, 0.81, 0.54, 0.95, 0.96, 0.78, 0.13, 0.06, 0.15, 0.36, 0.57, 0.57, 0.4, 0.38, 0.36, 0.1, 0.24, 0.06, 0.19, 0.78, 0.76, 0.12, 0.27, 0.58, 0.45, 0.31, 0.58, 0.58, 0.58, 0.28, 0.69, 0.69, 0.69, \"\", 0.61, 0.37, 0.04, 0.27, 0.59, 0.02, 0.24, 0.85, 0.65, 0.59, 0.52, 0.79, 0.85, \"\", 0.74, 0.79, 0.94, 0.95, 0.88, 0.96, 0.79, 0.67, 0.35, 0.3, 0.3, 0.56, 0.62, 0.64, 0.83, 0.98, 0.81, 0.62, 0.62, 0.67, 0.51, 0.6, 0.41, 0.44, 0.22, 0.36, 0.47, 0.59, 0.7, 0.7, 0.71, \"\", \"\", 0.73, 0.4, 0.17, 0.35, 0.67, 0.56, 0.24, 0.05, 0.18, 0.09, 0.09, 0.09, \"\", 0.21, 0.26, 0.47, 0.14, 0.03, 0.17, 0.17, 0.16, 0.16, 0.25, 0.45, 0.52, 0.52, 0.11, 0.15, 0.04, 0.41, 0.45, 0.45, \"\", 0.43, 0.42, 0.11, 0.03, 0.18, 0.42, 0.47, 0.92, \"\", 1.01, 0.72, 0.63, 0.33, 0.08, 0.32, 0.32, 0.37, 0.37, 0.3, 0.22, 0.22, 0.33, 0.88, 0.69, 0.62, 0.63]}],\n",
       "                        {\"legend\": {\"bgcolor\": \"#F5F6F9\", \"font\": {\"color\": \"#4D5663\"}}, \"paper_bgcolor\": \"#F5F6F9\", \"plot_bgcolor\": \"#F5F6F9\", \"template\": {\"data\": {\"bar\": [{\"error_x\": {\"color\": \"#2a3f5f\"}, \"error_y\": {\"color\": \"#2a3f5f\"}, \"marker\": {\"line\": {\"color\": \"#E5ECF6\", \"width\": 0.5}}, \"type\": \"bar\"}], \"barpolar\": [{\"marker\": {\"line\": {\"color\": \"#E5ECF6\", \"width\": 0.5}}, \"type\": \"barpolar\"}], \"carpet\": [{\"aaxis\": {\"endlinecolor\": \"#2a3f5f\", \"gridcolor\": \"white\", \"linecolor\": \"white\", \"minorgridcolor\": \"white\", \"startlinecolor\": \"#2a3f5f\"}, \"baxis\": {\"endlinecolor\": \"#2a3f5f\", \"gridcolor\": \"white\", \"linecolor\": \"white\", \"minorgridcolor\": \"white\", \"startlinecolor\": \"#2a3f5f\"}, \"type\": \"carpet\"}], \"choropleth\": [{\"colorbar\": {\"outlinewidth\": 0, \"ticks\": \"\"}, \"type\": \"choropleth\"}], \"contour\": [{\"colorbar\": {\"outlinewidth\": 0, \"ticks\": \"\"}, \"colorscale\": [[0.0, \"#0d0887\"], [0.1111111111111111, \"#46039f\"], [0.2222222222222222, \"#7201a8\"], [0.3333333333333333, \"#9c179e\"], [0.4444444444444444, \"#bd3786\"], [0.5555555555555556, \"#d8576b\"], [0.6666666666666666, \"#ed7953\"], [0.7777777777777778, \"#fb9f3a\"], [0.8888888888888888, \"#fdca26\"], [1.0, \"#f0f921\"]], \"type\": \"contour\"}], \"contourcarpet\": [{\"colorbar\": {\"outlinewidth\": 0, \"ticks\": \"\"}, \"type\": \"contourcarpet\"}], \"heatmap\": [{\"colorbar\": {\"outlinewidth\": 0, \"ticks\": \"\"}, \"colorscale\": [[0.0, \"#0d0887\"], [0.1111111111111111, \"#46039f\"], [0.2222222222222222, \"#7201a8\"], [0.3333333333333333, \"#9c179e\"], [0.4444444444444444, \"#bd3786\"], [0.5555555555555556, \"#d8576b\"], [0.6666666666666666, \"#ed7953\"], [0.7777777777777778, \"#fb9f3a\"], [0.8888888888888888, \"#fdca26\"], [1.0, \"#f0f921\"]], \"type\": \"heatmap\"}], \"heatmapgl\": [{\"colorbar\": {\"outlinewidth\": 0, \"ticks\": \"\"}, \"colorscale\": [[0.0, \"#0d0887\"], [0.1111111111111111, \"#46039f\"], [0.2222222222222222, \"#7201a8\"], [0.3333333333333333, \"#9c179e\"], [0.4444444444444444, \"#bd3786\"], [0.5555555555555556, \"#d8576b\"], [0.6666666666666666, \"#ed7953\"], [0.7777777777777778, \"#fb9f3a\"], [0.8888888888888888, \"#fdca26\"], [1.0, \"#f0f921\"]], \"type\": \"heatmapgl\"}], \"histogram\": [{\"marker\": {\"colorbar\": {\"outlinewidth\": 0, \"ticks\": \"\"}}, \"type\": \"histogram\"}], \"histogram2d\": [{\"colorbar\": {\"outlinewidth\": 0, \"ticks\": \"\"}, \"colorscale\": [[0.0, \"#0d0887\"], [0.1111111111111111, \"#46039f\"], [0.2222222222222222, \"#7201a8\"], [0.3333333333333333, \"#9c179e\"], [0.4444444444444444, \"#bd3786\"], [0.5555555555555556, \"#d8576b\"], [0.6666666666666666, \"#ed7953\"], [0.7777777777777778, \"#fb9f3a\"], [0.8888888888888888, \"#fdca26\"], [1.0, \"#f0f921\"]], \"type\": \"histogram2d\"}], \"histogram2dcontour\": [{\"colorbar\": {\"outlinewidth\": 0, \"ticks\": \"\"}, \"colorscale\": [[0.0, \"#0d0887\"], [0.1111111111111111, \"#46039f\"], [0.2222222222222222, \"#7201a8\"], [0.3333333333333333, \"#9c179e\"], [0.4444444444444444, \"#bd3786\"], [0.5555555555555556, \"#d8576b\"], [0.6666666666666666, \"#ed7953\"], [0.7777777777777778, \"#fb9f3a\"], [0.8888888888888888, \"#fdca26\"], [1.0, \"#f0f921\"]], \"type\": \"histogram2dcontour\"}], \"mesh3d\": [{\"colorbar\": {\"outlinewidth\": 0, \"ticks\": \"\"}, \"type\": \"mesh3d\"}], \"parcoords\": [{\"line\": {\"colorbar\": {\"outlinewidth\": 0, \"ticks\": \"\"}}, \"type\": \"parcoords\"}], \"pie\": [{\"automargin\": true, \"type\": \"pie\"}], \"scatter\": [{\"marker\": {\"colorbar\": {\"outlinewidth\": 0, \"ticks\": \"\"}}, \"type\": \"scatter\"}], \"scatter3d\": [{\"line\": {\"colorbar\": {\"outlinewidth\": 0, \"ticks\": \"\"}}, \"marker\": {\"colorbar\": {\"outlinewidth\": 0, \"ticks\": \"\"}}, \"type\": \"scatter3d\"}], \"scattercarpet\": [{\"marker\": {\"colorbar\": {\"outlinewidth\": 0, \"ticks\": \"\"}}, \"type\": \"scattercarpet\"}], \"scattergeo\": [{\"marker\": {\"colorbar\": {\"outlinewidth\": 0, \"ticks\": \"\"}}, \"type\": \"scattergeo\"}], \"scattergl\": [{\"marker\": {\"colorbar\": {\"outlinewidth\": 0, \"ticks\": \"\"}}, \"type\": \"scattergl\"}], \"scattermapbox\": [{\"marker\": {\"colorbar\": {\"outlinewidth\": 0, \"ticks\": \"\"}}, \"type\": \"scattermapbox\"}], \"scatterpolar\": [{\"marker\": {\"colorbar\": {\"outlinewidth\": 0, \"ticks\": \"\"}}, \"type\": \"scatterpolar\"}], \"scatterpolargl\": [{\"marker\": {\"colorbar\": {\"outlinewidth\": 0, \"ticks\": \"\"}}, \"type\": \"scatterpolargl\"}], \"scatterternary\": [{\"marker\": {\"colorbar\": {\"outlinewidth\": 0, \"ticks\": \"\"}}, \"type\": \"scatterternary\"}], \"surface\": [{\"colorbar\": {\"outlinewidth\": 0, \"ticks\": \"\"}, \"colorscale\": [[0.0, \"#0d0887\"], [0.1111111111111111, \"#46039f\"], [0.2222222222222222, \"#7201a8\"], [0.3333333333333333, \"#9c179e\"], [0.4444444444444444, \"#bd3786\"], [0.5555555555555556, \"#d8576b\"], [0.6666666666666666, \"#ed7953\"], [0.7777777777777778, \"#fb9f3a\"], [0.8888888888888888, \"#fdca26\"], [1.0, \"#f0f921\"]], \"type\": \"surface\"}], \"table\": [{\"cells\": {\"fill\": {\"color\": \"#EBF0F8\"}, \"line\": {\"color\": \"white\"}}, \"header\": {\"fill\": {\"color\": \"#C8D4E3\"}, \"line\": {\"color\": \"white\"}}, \"type\": \"table\"}]}, \"layout\": {\"annotationdefaults\": {\"arrowcolor\": \"#2a3f5f\", \"arrowhead\": 0, \"arrowwidth\": 1}, \"coloraxis\": {\"colorbar\": {\"outlinewidth\": 0, \"ticks\": \"\"}}, \"colorscale\": {\"diverging\": [[0, \"#8e0152\"], [0.1, \"#c51b7d\"], [0.2, \"#de77ae\"], [0.3, \"#f1b6da\"], [0.4, \"#fde0ef\"], [0.5, \"#f7f7f7\"], [0.6, \"#e6f5d0\"], [0.7, \"#b8e186\"], [0.8, \"#7fbc41\"], [0.9, \"#4d9221\"], [1, \"#276419\"]], \"sequential\": [[0.0, \"#0d0887\"], [0.1111111111111111, \"#46039f\"], [0.2222222222222222, \"#7201a8\"], [0.3333333333333333, \"#9c179e\"], [0.4444444444444444, \"#bd3786\"], [0.5555555555555556, \"#d8576b\"], [0.6666666666666666, \"#ed7953\"], [0.7777777777777778, \"#fb9f3a\"], [0.8888888888888888, \"#fdca26\"], [1.0, \"#f0f921\"]], \"sequentialminus\": [[0.0, \"#0d0887\"], [0.1111111111111111, \"#46039f\"], [0.2222222222222222, \"#7201a8\"], [0.3333333333333333, \"#9c179e\"], [0.4444444444444444, \"#bd3786\"], [0.5555555555555556, \"#d8576b\"], [0.6666666666666666, \"#ed7953\"], [0.7777777777777778, \"#fb9f3a\"], [0.8888888888888888, \"#fdca26\"], [1.0, \"#f0f921\"]]}, \"colorway\": [\"#636efa\", \"#EF553B\", \"#00cc96\", \"#ab63fa\", \"#FFA15A\", \"#19d3f3\", \"#FF6692\", \"#B6E880\", \"#FF97FF\", \"#FECB52\"], \"font\": {\"color\": \"#2a3f5f\"}, \"geo\": {\"bgcolor\": \"white\", \"lakecolor\": \"white\", \"landcolor\": \"#E5ECF6\", \"showlakes\": true, \"showland\": true, \"subunitcolor\": \"white\"}, \"hoverlabel\": {\"align\": \"left\"}, \"hovermode\": \"closest\", \"mapbox\": {\"style\": \"light\"}, \"paper_bgcolor\": \"white\", \"plot_bgcolor\": \"#E5ECF6\", \"polar\": {\"angularaxis\": {\"gridcolor\": \"white\", \"linecolor\": \"white\", \"ticks\": \"\"}, \"bgcolor\": \"#E5ECF6\", \"radialaxis\": {\"gridcolor\": \"white\", \"linecolor\": \"white\", \"ticks\": \"\"}}, \"scene\": {\"xaxis\": {\"backgroundcolor\": \"#E5ECF6\", \"gridcolor\": \"white\", \"gridwidth\": 2, \"linecolor\": \"white\", \"showbackground\": true, \"ticks\": \"\", \"zerolinecolor\": \"white\"}, \"yaxis\": {\"backgroundcolor\": \"#E5ECF6\", \"gridcolor\": \"white\", \"gridwidth\": 2, \"linecolor\": \"white\", \"showbackground\": true, \"ticks\": \"\", \"zerolinecolor\": \"white\"}, \"zaxis\": {\"backgroundcolor\": \"#E5ECF6\", \"gridcolor\": \"white\", \"gridwidth\": 2, \"linecolor\": \"white\", \"showbackground\": true, \"ticks\": \"\", \"zerolinecolor\": \"white\"}}, \"shapedefaults\": {\"line\": {\"color\": \"#2a3f5f\"}}, \"ternary\": {\"aaxis\": {\"gridcolor\": \"white\", \"linecolor\": \"white\", \"ticks\": \"\"}, \"baxis\": {\"gridcolor\": \"white\", \"linecolor\": \"white\", \"ticks\": \"\"}, \"bgcolor\": \"#E5ECF6\", \"caxis\": {\"gridcolor\": \"white\", \"linecolor\": \"white\", \"ticks\": \"\"}}, \"title\": {\"x\": 0.05}, \"xaxis\": {\"automargin\": true, \"gridcolor\": \"white\", \"linecolor\": \"white\", \"ticks\": \"\", \"title\": {\"standoff\": 15}, \"zerolinecolor\": \"white\", \"zerolinewidth\": 2}, \"yaxis\": {\"automargin\": true, \"gridcolor\": \"white\", \"linecolor\": \"white\", \"ticks\": \"\", \"title\": {\"standoff\": 15}, \"zerolinecolor\": \"white\", \"zerolinewidth\": 2}}}, \"title\": {\"font\": {\"color\": \"#4D5663\"}}, \"xaxis\": {\"gridcolor\": \"#E1E5ED\", \"showgrid\": true, \"tickfont\": {\"color\": \"#4D5663\"}, \"title\": {\"font\": {\"color\": \"#4D5663\"}, \"text\": \"\"}, \"zerolinecolor\": \"#E1E5ED\"}, \"yaxis\": {\"gridcolor\": \"#E1E5ED\", \"showgrid\": true, \"tickfont\": {\"color\": \"#4D5663\"}, \"title\": {\"font\": {\"color\": \"#4D5663\"}, \"text\": \"\"}, \"zerolinecolor\": \"#E1E5ED\"}},\n",
       "                        {\"showLink\": true, \"linkText\": \"Export to plot.ly\", \"plotlyServerURL\": \"https://plot.ly\", \"responsive\": true}\n",
       "                    ).then(function(){\n",
       "                            \n",
       "var gd = document.getElementById('fc3d5ce8-d7b3-4983-8b8d-29cdb065c911');\n",
       "var x = new MutationObserver(function (mutations, observer) {{\n",
       "        var display = window.getComputedStyle(gd).display;\n",
       "        if (!display || display === 'none') {{\n",
       "            console.log([gd, 'removed!']);\n",
       "            Plotly.purge(gd);\n",
       "            observer.disconnect();\n",
       "        }}\n",
       "}});\n",
       "\n",
       "// Listen for the removal of the full notebook cells\n",
       "var notebookContainer = gd.closest('#notebook-container');\n",
       "if (notebookContainer) {{\n",
       "    x.observe(notebookContainer, {childList: true});\n",
       "}}\n",
       "\n",
       "// Listen for the clearing of the current output cell\n",
       "var outputEl = gd.closest('.output');\n",
       "if (outputEl) {{\n",
       "    x.observe(outputEl, {childList: true});\n",
       "}}\n",
       "\n",
       "                        })\n",
       "                };\n",
       "                });\n",
       "            </script>\n",
       "        </div>"
      ]
     },
     "metadata": {},
     "output_type": "display_data"
    }
   ],
   "source": [
    "df1.iplot(kind=\"scatter\",x = \"Start X\", y = \"Start Y\", mode = \"markers\")"
   ]
  },
  {
   "cell_type": "markdown",
   "metadata": {
    "slideshow": {
     "slide_type": "slide"
    }
   },
   "source": [
    "### Beginning analysis: location of passes by \"Away\" team, first period"
   ]
  },
  {
   "cell_type": "code",
   "execution_count": 16,
   "metadata": {
    "slideshow": {
     "slide_type": "-"
    }
   },
   "outputs": [
    {
     "data": {
      "application/vnd.plotly.v1+json": {
       "config": {
        "linkText": "Export to plot.ly",
        "plotlyServerURL": "https://plot.ly",
        "showLink": true
       },
       "data": [
        {
         "line": {
          "color": "rgba(255, 153, 51, 1.0)",
          "dash": "solid",
          "shape": "linear",
          "width": 1.3
         },
         "marker": {
          "size": 12,
          "symbol": "circle"
         },
         "mode": "markers",
         "name": "Start Y",
         "text": "",
         "type": "scatter",
         "x": [
          0.45,
          0.55,
          0.55,
          0.45,
          0.4,
          0.39,
          0.58,
          0.51,
          0.53,
          0.36,
          0.49,
          0.57,
          0.57,
          0.55,
          0.71,
          0.58,
          0.59,
          0.55,
          0.95,
          0.53,
          0.52,
          0.13,
          0.2,
          0.24,
          0.38,
          0.26,
          0.29,
          0.66,
          0.77,
          0.06,
          0.18,
          0.78,
          0.65,
          0.58,
          0.53,
          0.5,
          0.39,
          0.91,
          0.83,
          0.91,
          0.8,
          0.83,
          0.8,
          0.96,
          0.67,
          0.61,
          0.74,
          0.54,
          0.45,
          0.48,
          0.44,
          0.34,
          0.51,
          0.41,
          0.49,
          0.59,
          0.61,
          0.5,
          0.47,
          0.38,
          0.42,
          0.35,
          0.39,
          0.53,
          0.46,
          0.56,
          0.55,
          0.6,
          0.69,
          0.59,
          0.55,
          0.44,
          0.51,
          0.41,
          0.38,
          0.48,
          0.52,
          0.47,
          0.26,
          0.31,
          0.22,
          0.31,
          0.3,
          0.49,
          0.34,
          0.34,
          0.33,
          0.19,
          0.45,
          0.31,
          0.34,
          0.24,
          0.27,
          0.86,
          0.19,
          0.26,
          0.28,
          0.26,
          0.28,
          0.22,
          0.26,
          0.67,
          0.76,
          0.96,
          0.69,
          0.71,
          0.74,
          0.5,
          0.57,
          0.61,
          0.48,
          0.66,
          0.68,
          0.61,
          0.32,
          0.5,
          0.35,
          0.3,
          0.43,
          0.43,
          0.49,
          0.58,
          0.64,
          0.55,
          0.38,
          0.43,
          0.68,
          0.58,
          0.73,
          0.55,
          0.6,
          0.63,
          0.53,
          0.32,
          0.39,
          0.43,
          0.31,
          0.41,
          0.54,
          0.5,
          0.64,
          0.67,
          0.59,
          0.46,
          0.24,
          0.35,
          0.57,
          0.99,
          0.69,
          0.64,
          0.93,
          0.8,
          0.99,
          0.96,
          0.44,
          0.54,
          0.52,
          0.49,
          0.95,
          0.74,
          0.57,
          0.24,
          0.15,
          0.27,
          0.48,
          0.78,
          0.96,
          0.54,
          0.64,
          0.61,
          0.82,
          0.99,
          0.57,
          0.5,
          0.51,
          0.67,
          0.93,
          0.9,
          0.68,
          0.53,
          0.59,
          0.58
         ],
         "y": [
          0.39,
          0.43,
          0.19,
          0.32,
          0.73,
          0.96,
          0.27,
          0.33,
          0.53,
          0.96,
          0.5,
          0.53,
          0.76,
          0.95,
          0.86,
          1.01,
          0.89,
          0.83,
          0.45,
          0.29,
          0.41,
          0.01,
          0.11,
          0.02,
          0.08,
          0.29,
          0.07,
          0.35,
          -0.01,
          0,
          0.11,
          0.55,
          0.83,
          0.94,
          0.71,
          0.55,
          0.41,
          0.35,
          0.31,
          0.35,
          0.12,
          0.13,
          0.71,
          0.6,
          0.86,
          0.96,
          0.96,
          0.3,
          0.03,
          0.23,
          0.48,
          0.34,
          0.12,
          0.15,
          0.9,
          0.82,
          0.68,
          0.23,
          0.23,
          0.25,
          0.24,
          0.36,
          0.46,
          0.47,
          0.77,
          0.6,
          0.6,
          0.72,
          0.62,
          0.39,
          0.18,
          0.42,
          0.64,
          0.88,
          0.75,
          0.79,
          0.5,
          0.25,
          0.09,
          0.34,
          0.4,
          0.52,
          0.44,
          0.54,
          0.65,
          0.53,
          0.66,
          0.11,
          0.53,
          0.92,
          0.82,
          0.78,
          0.8,
          0.55,
          1.01,
          0.95,
          0.79,
          0.94,
          0.06,
          0.19,
          0.39,
          0.21,
          0.66,
          0.62,
          0.88,
          0.96,
          0.47,
          0.2,
          0.46,
          0.87,
          1.01,
          0.91,
          0.48,
          0.22,
          0.97,
          0.44,
          0.28,
          0.06,
          0.4,
          0.8,
          1.01,
          0.89,
          0.63,
          0.21,
          0,
          0.11,
          0.39,
          0.43,
          0.83,
          0.96,
          1.01,
          0.69,
          0.25,
          0.07,
          0.22,
          0.73,
          0.1,
          0.15,
          0.43,
          0.72,
          0.5,
          0.21,
          0.29,
          0.06,
          0,
          0.13,
          0.87,
          0.55,
          0.92,
          0.69,
          0.55,
          0.95,
          0.55,
          0.49,
          0,
          0.1,
          0.28,
          0.53,
          0.45,
          0.06,
          0.35,
          0.17,
          0.1,
          0.1,
          0.12,
          0.76,
          0.61,
          0.62,
          1.01,
          0.8,
          0.63,
          0.54,
          0.6,
          0.57,
          0.43,
          0.88,
          0.33,
          0.52,
          0.66,
          0.24,
          0.42,
          0.72
         ]
        }
       ],
       "layout": {
        "legend": {
         "bgcolor": "#F5F6F9",
         "font": {
          "color": "#4D5663"
         }
        },
        "paper_bgcolor": "#F5F6F9",
        "plot_bgcolor": "#F5F6F9",
        "template": {
         "data": {
          "bar": [
           {
            "error_x": {
             "color": "#2a3f5f"
            },
            "error_y": {
             "color": "#2a3f5f"
            },
            "marker": {
             "line": {
              "color": "#E5ECF6",
              "width": 0.5
             }
            },
            "type": "bar"
           }
          ],
          "barpolar": [
           {
            "marker": {
             "line": {
              "color": "#E5ECF6",
              "width": 0.5
             }
            },
            "type": "barpolar"
           }
          ],
          "carpet": [
           {
            "aaxis": {
             "endlinecolor": "#2a3f5f",
             "gridcolor": "white",
             "linecolor": "white",
             "minorgridcolor": "white",
             "startlinecolor": "#2a3f5f"
            },
            "baxis": {
             "endlinecolor": "#2a3f5f",
             "gridcolor": "white",
             "linecolor": "white",
             "minorgridcolor": "white",
             "startlinecolor": "#2a3f5f"
            },
            "type": "carpet"
           }
          ],
          "choropleth": [
           {
            "colorbar": {
             "outlinewidth": 0,
             "ticks": ""
            },
            "type": "choropleth"
           }
          ],
          "contour": [
           {
            "colorbar": {
             "outlinewidth": 0,
             "ticks": ""
            },
            "colorscale": [
             [
              0,
              "#0d0887"
             ],
             [
              0.1111111111111111,
              "#46039f"
             ],
             [
              0.2222222222222222,
              "#7201a8"
             ],
             [
              0.3333333333333333,
              "#9c179e"
             ],
             [
              0.4444444444444444,
              "#bd3786"
             ],
             [
              0.5555555555555556,
              "#d8576b"
             ],
             [
              0.6666666666666666,
              "#ed7953"
             ],
             [
              0.7777777777777778,
              "#fb9f3a"
             ],
             [
              0.8888888888888888,
              "#fdca26"
             ],
             [
              1,
              "#f0f921"
             ]
            ],
            "type": "contour"
           }
          ],
          "contourcarpet": [
           {
            "colorbar": {
             "outlinewidth": 0,
             "ticks": ""
            },
            "type": "contourcarpet"
           }
          ],
          "heatmap": [
           {
            "colorbar": {
             "outlinewidth": 0,
             "ticks": ""
            },
            "colorscale": [
             [
              0,
              "#0d0887"
             ],
             [
              0.1111111111111111,
              "#46039f"
             ],
             [
              0.2222222222222222,
              "#7201a8"
             ],
             [
              0.3333333333333333,
              "#9c179e"
             ],
             [
              0.4444444444444444,
              "#bd3786"
             ],
             [
              0.5555555555555556,
              "#d8576b"
             ],
             [
              0.6666666666666666,
              "#ed7953"
             ],
             [
              0.7777777777777778,
              "#fb9f3a"
             ],
             [
              0.8888888888888888,
              "#fdca26"
             ],
             [
              1,
              "#f0f921"
             ]
            ],
            "type": "heatmap"
           }
          ],
          "heatmapgl": [
           {
            "colorbar": {
             "outlinewidth": 0,
             "ticks": ""
            },
            "colorscale": [
             [
              0,
              "#0d0887"
             ],
             [
              0.1111111111111111,
              "#46039f"
             ],
             [
              0.2222222222222222,
              "#7201a8"
             ],
             [
              0.3333333333333333,
              "#9c179e"
             ],
             [
              0.4444444444444444,
              "#bd3786"
             ],
             [
              0.5555555555555556,
              "#d8576b"
             ],
             [
              0.6666666666666666,
              "#ed7953"
             ],
             [
              0.7777777777777778,
              "#fb9f3a"
             ],
             [
              0.8888888888888888,
              "#fdca26"
             ],
             [
              1,
              "#f0f921"
             ]
            ],
            "type": "heatmapgl"
           }
          ],
          "histogram": [
           {
            "marker": {
             "colorbar": {
              "outlinewidth": 0,
              "ticks": ""
             }
            },
            "type": "histogram"
           }
          ],
          "histogram2d": [
           {
            "colorbar": {
             "outlinewidth": 0,
             "ticks": ""
            },
            "colorscale": [
             [
              0,
              "#0d0887"
             ],
             [
              0.1111111111111111,
              "#46039f"
             ],
             [
              0.2222222222222222,
              "#7201a8"
             ],
             [
              0.3333333333333333,
              "#9c179e"
             ],
             [
              0.4444444444444444,
              "#bd3786"
             ],
             [
              0.5555555555555556,
              "#d8576b"
             ],
             [
              0.6666666666666666,
              "#ed7953"
             ],
             [
              0.7777777777777778,
              "#fb9f3a"
             ],
             [
              0.8888888888888888,
              "#fdca26"
             ],
             [
              1,
              "#f0f921"
             ]
            ],
            "type": "histogram2d"
           }
          ],
          "histogram2dcontour": [
           {
            "colorbar": {
             "outlinewidth": 0,
             "ticks": ""
            },
            "colorscale": [
             [
              0,
              "#0d0887"
             ],
             [
              0.1111111111111111,
              "#46039f"
             ],
             [
              0.2222222222222222,
              "#7201a8"
             ],
             [
              0.3333333333333333,
              "#9c179e"
             ],
             [
              0.4444444444444444,
              "#bd3786"
             ],
             [
              0.5555555555555556,
              "#d8576b"
             ],
             [
              0.6666666666666666,
              "#ed7953"
             ],
             [
              0.7777777777777778,
              "#fb9f3a"
             ],
             [
              0.8888888888888888,
              "#fdca26"
             ],
             [
              1,
              "#f0f921"
             ]
            ],
            "type": "histogram2dcontour"
           }
          ],
          "mesh3d": [
           {
            "colorbar": {
             "outlinewidth": 0,
             "ticks": ""
            },
            "type": "mesh3d"
           }
          ],
          "parcoords": [
           {
            "line": {
             "colorbar": {
              "outlinewidth": 0,
              "ticks": ""
             }
            },
            "type": "parcoords"
           }
          ],
          "pie": [
           {
            "automargin": true,
            "type": "pie"
           }
          ],
          "scatter": [
           {
            "marker": {
             "colorbar": {
              "outlinewidth": 0,
              "ticks": ""
             }
            },
            "type": "scatter"
           }
          ],
          "scatter3d": [
           {
            "line": {
             "colorbar": {
              "outlinewidth": 0,
              "ticks": ""
             }
            },
            "marker": {
             "colorbar": {
              "outlinewidth": 0,
              "ticks": ""
             }
            },
            "type": "scatter3d"
           }
          ],
          "scattercarpet": [
           {
            "marker": {
             "colorbar": {
              "outlinewidth": 0,
              "ticks": ""
             }
            },
            "type": "scattercarpet"
           }
          ],
          "scattergeo": [
           {
            "marker": {
             "colorbar": {
              "outlinewidth": 0,
              "ticks": ""
             }
            },
            "type": "scattergeo"
           }
          ],
          "scattergl": [
           {
            "marker": {
             "colorbar": {
              "outlinewidth": 0,
              "ticks": ""
             }
            },
            "type": "scattergl"
           }
          ],
          "scattermapbox": [
           {
            "marker": {
             "colorbar": {
              "outlinewidth": 0,
              "ticks": ""
             }
            },
            "type": "scattermapbox"
           }
          ],
          "scatterpolar": [
           {
            "marker": {
             "colorbar": {
              "outlinewidth": 0,
              "ticks": ""
             }
            },
            "type": "scatterpolar"
           }
          ],
          "scatterpolargl": [
           {
            "marker": {
             "colorbar": {
              "outlinewidth": 0,
              "ticks": ""
             }
            },
            "type": "scatterpolargl"
           }
          ],
          "scatterternary": [
           {
            "marker": {
             "colorbar": {
              "outlinewidth": 0,
              "ticks": ""
             }
            },
            "type": "scatterternary"
           }
          ],
          "surface": [
           {
            "colorbar": {
             "outlinewidth": 0,
             "ticks": ""
            },
            "colorscale": [
             [
              0,
              "#0d0887"
             ],
             [
              0.1111111111111111,
              "#46039f"
             ],
             [
              0.2222222222222222,
              "#7201a8"
             ],
             [
              0.3333333333333333,
              "#9c179e"
             ],
             [
              0.4444444444444444,
              "#bd3786"
             ],
             [
              0.5555555555555556,
              "#d8576b"
             ],
             [
              0.6666666666666666,
              "#ed7953"
             ],
             [
              0.7777777777777778,
              "#fb9f3a"
             ],
             [
              0.8888888888888888,
              "#fdca26"
             ],
             [
              1,
              "#f0f921"
             ]
            ],
            "type": "surface"
           }
          ],
          "table": [
           {
            "cells": {
             "fill": {
              "color": "#EBF0F8"
             },
             "line": {
              "color": "white"
             }
            },
            "header": {
             "fill": {
              "color": "#C8D4E3"
             },
             "line": {
              "color": "white"
             }
            },
            "type": "table"
           }
          ]
         },
         "layout": {
          "annotationdefaults": {
           "arrowcolor": "#2a3f5f",
           "arrowhead": 0,
           "arrowwidth": 1
          },
          "coloraxis": {
           "colorbar": {
            "outlinewidth": 0,
            "ticks": ""
           }
          },
          "colorscale": {
           "diverging": [
            [
             0,
             "#8e0152"
            ],
            [
             0.1,
             "#c51b7d"
            ],
            [
             0.2,
             "#de77ae"
            ],
            [
             0.3,
             "#f1b6da"
            ],
            [
             0.4,
             "#fde0ef"
            ],
            [
             0.5,
             "#f7f7f7"
            ],
            [
             0.6,
             "#e6f5d0"
            ],
            [
             0.7,
             "#b8e186"
            ],
            [
             0.8,
             "#7fbc41"
            ],
            [
             0.9,
             "#4d9221"
            ],
            [
             1,
             "#276419"
            ]
           ],
           "sequential": [
            [
             0,
             "#0d0887"
            ],
            [
             0.1111111111111111,
             "#46039f"
            ],
            [
             0.2222222222222222,
             "#7201a8"
            ],
            [
             0.3333333333333333,
             "#9c179e"
            ],
            [
             0.4444444444444444,
             "#bd3786"
            ],
            [
             0.5555555555555556,
             "#d8576b"
            ],
            [
             0.6666666666666666,
             "#ed7953"
            ],
            [
             0.7777777777777778,
             "#fb9f3a"
            ],
            [
             0.8888888888888888,
             "#fdca26"
            ],
            [
             1,
             "#f0f921"
            ]
           ],
           "sequentialminus": [
            [
             0,
             "#0d0887"
            ],
            [
             0.1111111111111111,
             "#46039f"
            ],
            [
             0.2222222222222222,
             "#7201a8"
            ],
            [
             0.3333333333333333,
             "#9c179e"
            ],
            [
             0.4444444444444444,
             "#bd3786"
            ],
            [
             0.5555555555555556,
             "#d8576b"
            ],
            [
             0.6666666666666666,
             "#ed7953"
            ],
            [
             0.7777777777777778,
             "#fb9f3a"
            ],
            [
             0.8888888888888888,
             "#fdca26"
            ],
            [
             1,
             "#f0f921"
            ]
           ]
          },
          "colorway": [
           "#636efa",
           "#EF553B",
           "#00cc96",
           "#ab63fa",
           "#FFA15A",
           "#19d3f3",
           "#FF6692",
           "#B6E880",
           "#FF97FF",
           "#FECB52"
          ],
          "font": {
           "color": "#2a3f5f"
          },
          "geo": {
           "bgcolor": "white",
           "lakecolor": "white",
           "landcolor": "#E5ECF6",
           "showlakes": true,
           "showland": true,
           "subunitcolor": "white"
          },
          "hoverlabel": {
           "align": "left"
          },
          "hovermode": "closest",
          "mapbox": {
           "style": "light"
          },
          "paper_bgcolor": "white",
          "plot_bgcolor": "#E5ECF6",
          "polar": {
           "angularaxis": {
            "gridcolor": "white",
            "linecolor": "white",
            "ticks": ""
           },
           "bgcolor": "#E5ECF6",
           "radialaxis": {
            "gridcolor": "white",
            "linecolor": "white",
            "ticks": ""
           }
          },
          "scene": {
           "xaxis": {
            "backgroundcolor": "#E5ECF6",
            "gridcolor": "white",
            "gridwidth": 2,
            "linecolor": "white",
            "showbackground": true,
            "ticks": "",
            "zerolinecolor": "white"
           },
           "yaxis": {
            "backgroundcolor": "#E5ECF6",
            "gridcolor": "white",
            "gridwidth": 2,
            "linecolor": "white",
            "showbackground": true,
            "ticks": "",
            "zerolinecolor": "white"
           },
           "zaxis": {
            "backgroundcolor": "#E5ECF6",
            "gridcolor": "white",
            "gridwidth": 2,
            "linecolor": "white",
            "showbackground": true,
            "ticks": "",
            "zerolinecolor": "white"
           }
          },
          "shapedefaults": {
           "line": {
            "color": "#2a3f5f"
           }
          },
          "ternary": {
           "aaxis": {
            "gridcolor": "white",
            "linecolor": "white",
            "ticks": ""
           },
           "baxis": {
            "gridcolor": "white",
            "linecolor": "white",
            "ticks": ""
           },
           "bgcolor": "#E5ECF6",
           "caxis": {
            "gridcolor": "white",
            "linecolor": "white",
            "ticks": ""
           }
          },
          "title": {
           "x": 0.05
          },
          "xaxis": {
           "automargin": true,
           "gridcolor": "white",
           "linecolor": "white",
           "ticks": "",
           "title": {
            "standoff": 15
           },
           "zerolinecolor": "white",
           "zerolinewidth": 2
          },
          "yaxis": {
           "automargin": true,
           "gridcolor": "white",
           "linecolor": "white",
           "ticks": "",
           "title": {
            "standoff": 15
           },
           "zerolinecolor": "white",
           "zerolinewidth": 2
          }
         }
        },
        "title": {
         "font": {
          "color": "#4D5663"
         }
        },
        "xaxis": {
         "gridcolor": "#E1E5ED",
         "showgrid": true,
         "tickfont": {
          "color": "#4D5663"
         },
         "title": {
          "font": {
           "color": "#4D5663"
          },
          "text": ""
         },
         "zerolinecolor": "#E1E5ED"
        },
        "yaxis": {
         "gridcolor": "#E1E5ED",
         "showgrid": true,
         "tickfont": {
          "color": "#4D5663"
         },
         "title": {
          "font": {
           "color": "#4D5663"
          },
          "text": ""
         },
         "zerolinecolor": "#E1E5ED"
        }
       }
      },
      "text/html": [
       "<div>\n",
       "        \n",
       "        \n",
       "            <div id=\"c330460f-fbb7-4713-99df-dc15628e7fc1\" class=\"plotly-graph-div\" style=\"height:525px; width:100%;\"></div>\n",
       "            <script type=\"text/javascript\">\n",
       "                require([\"plotly\"], function(Plotly) {\n",
       "                    window.PLOTLYENV=window.PLOTLYENV || {};\n",
       "                    window.PLOTLYENV.BASE_URL='https://plot.ly';\n",
       "                    \n",
       "                if (document.getElementById(\"c330460f-fbb7-4713-99df-dc15628e7fc1\")) {\n",
       "                    Plotly.newPlot(\n",
       "                        'c330460f-fbb7-4713-99df-dc15628e7fc1',\n",
       "                        [{\"line\": {\"color\": \"rgba(255, 153, 51, 1.0)\", \"dash\": \"solid\", \"shape\": \"linear\", \"width\": 1.3}, \"marker\": {\"size\": 12, \"symbol\": \"circle\"}, \"mode\": \"markers\", \"name\": \"Start Y\", \"text\": \"\", \"type\": \"scatter\", \"x\": [0.45, 0.55, 0.55, 0.45, 0.4, 0.39, 0.58, 0.51, 0.53, 0.36, 0.49, 0.57, 0.57, 0.55, 0.71, 0.58, 0.59, 0.55, 0.95, 0.53, 0.52, 0.13, 0.2, 0.24, 0.38, 0.26, 0.29, 0.66, 0.77, 0.06, 0.18, 0.78, 0.65, 0.58, 0.53, 0.5, 0.39, 0.91, 0.83, 0.91, 0.8, 0.83, 0.8, 0.96, 0.67, 0.61, 0.74, 0.54, 0.45, 0.48, 0.44, 0.34, 0.51, 0.41, 0.49, 0.59, 0.61, 0.5, 0.47, 0.38, 0.42, 0.35, 0.39, 0.53, 0.46, 0.56, 0.55, 0.6, 0.69, 0.59, 0.55, 0.44, 0.51, 0.41, 0.38, 0.48, 0.52, 0.47, 0.26, 0.31, 0.22, 0.31, 0.3, 0.49, 0.34, 0.34, 0.33, 0.19, 0.45, 0.31, 0.34, 0.24, 0.27, 0.86, 0.19, 0.26, 0.28, 0.26, 0.28, 0.22, 0.26, 0.67, 0.76, 0.96, 0.69, 0.71, 0.74, 0.5, 0.57, 0.61, 0.48, 0.66, 0.68, 0.61, 0.32, 0.5, 0.35, 0.3, 0.43, 0.43, 0.49, 0.58, 0.64, 0.55, 0.38, 0.43, 0.68, 0.58, 0.73, 0.55, 0.6, 0.63, 0.53, 0.32, 0.39, 0.43, 0.31, 0.41, 0.54, 0.5, 0.64, 0.67, 0.59, 0.46, 0.24, 0.35, 0.57, 0.99, 0.69, 0.64, 0.93, 0.8, 0.99, 0.96, 0.44, 0.54, 0.52, 0.49, 0.95, 0.74, 0.57, 0.24, 0.15, 0.27, 0.48, 0.78, 0.96, 0.54, 0.64, 0.61, 0.82, 0.99, 0.57, 0.5, 0.51, 0.67, 0.93, 0.9, 0.68, 0.53, 0.59, 0.58], \"y\": [0.39, 0.43, 0.19, 0.32, 0.73, 0.96, 0.27, 0.33, 0.53, 0.96, 0.5, 0.53, 0.76, 0.95, 0.86, 1.01, 0.89, 0.83, 0.45, 0.29, 0.41, 0.01, 0.11, 0.02, 0.08, 0.29, 0.07, 0.35, -0.01, 0.0, 0.11, 0.55, 0.83, 0.94, 0.71, 0.55, 0.41, 0.35, 0.31, 0.35, 0.12, 0.13, 0.71, 0.6, 0.86, 0.96, 0.96, 0.3, 0.03, 0.23, 0.48, 0.34, 0.12, 0.15, 0.9, 0.82, 0.68, 0.23, 0.23, 0.25, 0.24, 0.36, 0.46, 0.47, 0.77, 0.6, 0.6, 0.72, 0.62, 0.39, 0.18, 0.42, 0.64, 0.88, 0.75, 0.79, 0.5, 0.25, 0.09, 0.34, 0.4, 0.52, 0.44, 0.54, 0.65, 0.53, 0.66, 0.11, 0.53, 0.92, 0.82, 0.78, 0.8, 0.55, 1.01, 0.95, 0.79, 0.94, 0.06, 0.19, 0.39, 0.21, 0.66, 0.62, 0.88, 0.96, 0.47, 0.2, 0.46, 0.87, 1.01, 0.91, 0.48, 0.22, 0.97, 0.44, 0.28, 0.06, 0.4, 0.8, 1.01, 0.89, 0.63, 0.21, 0.0, 0.11, 0.39, 0.43, 0.83, 0.96, 1.01, 0.69, 0.25, 0.07, 0.22, 0.73, 0.1, 0.15, 0.43, 0.72, 0.5, 0.21, 0.29, 0.06, 0.0, 0.13, 0.87, 0.55, 0.92, 0.69, 0.55, 0.95, 0.55, 0.49, 0.0, 0.1, 0.28, 0.53, 0.45, 0.06, 0.35, 0.17, 0.1, 0.1, 0.12, 0.76, 0.61, 0.62, 1.01, 0.8, 0.63, 0.54, 0.6, 0.57, 0.43, 0.88, 0.33, 0.52, 0.66, 0.24, 0.42, 0.72]}],\n",
       "                        {\"legend\": {\"bgcolor\": \"#F5F6F9\", \"font\": {\"color\": \"#4D5663\"}}, \"paper_bgcolor\": \"#F5F6F9\", \"plot_bgcolor\": \"#F5F6F9\", \"template\": {\"data\": {\"bar\": [{\"error_x\": {\"color\": \"#2a3f5f\"}, \"error_y\": {\"color\": \"#2a3f5f\"}, \"marker\": {\"line\": {\"color\": \"#E5ECF6\", \"width\": 0.5}}, \"type\": \"bar\"}], \"barpolar\": [{\"marker\": {\"line\": {\"color\": \"#E5ECF6\", \"width\": 0.5}}, \"type\": \"barpolar\"}], \"carpet\": [{\"aaxis\": {\"endlinecolor\": \"#2a3f5f\", \"gridcolor\": \"white\", \"linecolor\": \"white\", \"minorgridcolor\": \"white\", \"startlinecolor\": \"#2a3f5f\"}, \"baxis\": {\"endlinecolor\": \"#2a3f5f\", \"gridcolor\": \"white\", \"linecolor\": \"white\", \"minorgridcolor\": \"white\", \"startlinecolor\": \"#2a3f5f\"}, \"type\": \"carpet\"}], \"choropleth\": [{\"colorbar\": {\"outlinewidth\": 0, \"ticks\": \"\"}, \"type\": \"choropleth\"}], \"contour\": [{\"colorbar\": {\"outlinewidth\": 0, \"ticks\": \"\"}, \"colorscale\": [[0.0, \"#0d0887\"], [0.1111111111111111, \"#46039f\"], [0.2222222222222222, \"#7201a8\"], [0.3333333333333333, \"#9c179e\"], [0.4444444444444444, \"#bd3786\"], [0.5555555555555556, \"#d8576b\"], [0.6666666666666666, \"#ed7953\"], [0.7777777777777778, \"#fb9f3a\"], [0.8888888888888888, \"#fdca26\"], [1.0, \"#f0f921\"]], \"type\": \"contour\"}], \"contourcarpet\": [{\"colorbar\": {\"outlinewidth\": 0, \"ticks\": \"\"}, \"type\": \"contourcarpet\"}], \"heatmap\": [{\"colorbar\": {\"outlinewidth\": 0, \"ticks\": \"\"}, \"colorscale\": [[0.0, \"#0d0887\"], [0.1111111111111111, \"#46039f\"], [0.2222222222222222, \"#7201a8\"], [0.3333333333333333, \"#9c179e\"], [0.4444444444444444, \"#bd3786\"], [0.5555555555555556, \"#d8576b\"], [0.6666666666666666, \"#ed7953\"], [0.7777777777777778, \"#fb9f3a\"], [0.8888888888888888, \"#fdca26\"], [1.0, \"#f0f921\"]], \"type\": \"heatmap\"}], \"heatmapgl\": [{\"colorbar\": {\"outlinewidth\": 0, \"ticks\": \"\"}, \"colorscale\": [[0.0, \"#0d0887\"], [0.1111111111111111, \"#46039f\"], [0.2222222222222222, \"#7201a8\"], [0.3333333333333333, \"#9c179e\"], [0.4444444444444444, \"#bd3786\"], [0.5555555555555556, \"#d8576b\"], [0.6666666666666666, \"#ed7953\"], [0.7777777777777778, \"#fb9f3a\"], [0.8888888888888888, \"#fdca26\"], [1.0, \"#f0f921\"]], \"type\": \"heatmapgl\"}], \"histogram\": [{\"marker\": {\"colorbar\": {\"outlinewidth\": 0, \"ticks\": \"\"}}, \"type\": \"histogram\"}], \"histogram2d\": [{\"colorbar\": {\"outlinewidth\": 0, \"ticks\": \"\"}, \"colorscale\": [[0.0, \"#0d0887\"], [0.1111111111111111, \"#46039f\"], [0.2222222222222222, \"#7201a8\"], [0.3333333333333333, \"#9c179e\"], [0.4444444444444444, \"#bd3786\"], [0.5555555555555556, \"#d8576b\"], [0.6666666666666666, \"#ed7953\"], [0.7777777777777778, \"#fb9f3a\"], [0.8888888888888888, \"#fdca26\"], [1.0, \"#f0f921\"]], \"type\": \"histogram2d\"}], \"histogram2dcontour\": [{\"colorbar\": {\"outlinewidth\": 0, \"ticks\": \"\"}, \"colorscale\": [[0.0, \"#0d0887\"], [0.1111111111111111, \"#46039f\"], [0.2222222222222222, \"#7201a8\"], [0.3333333333333333, \"#9c179e\"], [0.4444444444444444, \"#bd3786\"], [0.5555555555555556, \"#d8576b\"], [0.6666666666666666, \"#ed7953\"], [0.7777777777777778, \"#fb9f3a\"], [0.8888888888888888, \"#fdca26\"], [1.0, \"#f0f921\"]], \"type\": \"histogram2dcontour\"}], \"mesh3d\": [{\"colorbar\": {\"outlinewidth\": 0, \"ticks\": \"\"}, \"type\": \"mesh3d\"}], \"parcoords\": [{\"line\": {\"colorbar\": {\"outlinewidth\": 0, \"ticks\": \"\"}}, \"type\": \"parcoords\"}], \"pie\": [{\"automargin\": true, \"type\": \"pie\"}], \"scatter\": [{\"marker\": {\"colorbar\": {\"outlinewidth\": 0, \"ticks\": \"\"}}, \"type\": \"scatter\"}], \"scatter3d\": [{\"line\": {\"colorbar\": {\"outlinewidth\": 0, \"ticks\": \"\"}}, \"marker\": {\"colorbar\": {\"outlinewidth\": 0, \"ticks\": \"\"}}, \"type\": \"scatter3d\"}], \"scattercarpet\": [{\"marker\": {\"colorbar\": {\"outlinewidth\": 0, \"ticks\": \"\"}}, \"type\": \"scattercarpet\"}], \"scattergeo\": [{\"marker\": {\"colorbar\": {\"outlinewidth\": 0, \"ticks\": \"\"}}, \"type\": \"scattergeo\"}], \"scattergl\": [{\"marker\": {\"colorbar\": {\"outlinewidth\": 0, \"ticks\": \"\"}}, \"type\": \"scattergl\"}], \"scattermapbox\": [{\"marker\": {\"colorbar\": {\"outlinewidth\": 0, \"ticks\": \"\"}}, \"type\": \"scattermapbox\"}], \"scatterpolar\": [{\"marker\": {\"colorbar\": {\"outlinewidth\": 0, \"ticks\": \"\"}}, \"type\": \"scatterpolar\"}], \"scatterpolargl\": [{\"marker\": {\"colorbar\": {\"outlinewidth\": 0, \"ticks\": \"\"}}, \"type\": \"scatterpolargl\"}], \"scatterternary\": [{\"marker\": {\"colorbar\": {\"outlinewidth\": 0, \"ticks\": \"\"}}, \"type\": \"scatterternary\"}], \"surface\": [{\"colorbar\": {\"outlinewidth\": 0, \"ticks\": \"\"}, \"colorscale\": [[0.0, \"#0d0887\"], [0.1111111111111111, \"#46039f\"], [0.2222222222222222, \"#7201a8\"], [0.3333333333333333, \"#9c179e\"], [0.4444444444444444, \"#bd3786\"], [0.5555555555555556, \"#d8576b\"], [0.6666666666666666, \"#ed7953\"], [0.7777777777777778, \"#fb9f3a\"], [0.8888888888888888, \"#fdca26\"], [1.0, \"#f0f921\"]], \"type\": \"surface\"}], \"table\": [{\"cells\": {\"fill\": {\"color\": \"#EBF0F8\"}, \"line\": {\"color\": \"white\"}}, \"header\": {\"fill\": {\"color\": \"#C8D4E3\"}, \"line\": {\"color\": \"white\"}}, \"type\": \"table\"}]}, \"layout\": {\"annotationdefaults\": {\"arrowcolor\": \"#2a3f5f\", \"arrowhead\": 0, \"arrowwidth\": 1}, \"coloraxis\": {\"colorbar\": {\"outlinewidth\": 0, \"ticks\": \"\"}}, \"colorscale\": {\"diverging\": [[0, \"#8e0152\"], [0.1, \"#c51b7d\"], [0.2, \"#de77ae\"], [0.3, \"#f1b6da\"], [0.4, \"#fde0ef\"], [0.5, \"#f7f7f7\"], [0.6, \"#e6f5d0\"], [0.7, \"#b8e186\"], [0.8, \"#7fbc41\"], [0.9, \"#4d9221\"], [1, \"#276419\"]], \"sequential\": [[0.0, \"#0d0887\"], [0.1111111111111111, \"#46039f\"], [0.2222222222222222, \"#7201a8\"], [0.3333333333333333, \"#9c179e\"], [0.4444444444444444, \"#bd3786\"], [0.5555555555555556, \"#d8576b\"], [0.6666666666666666, \"#ed7953\"], [0.7777777777777778, \"#fb9f3a\"], [0.8888888888888888, \"#fdca26\"], [1.0, \"#f0f921\"]], \"sequentialminus\": [[0.0, \"#0d0887\"], [0.1111111111111111, \"#46039f\"], [0.2222222222222222, \"#7201a8\"], [0.3333333333333333, \"#9c179e\"], [0.4444444444444444, \"#bd3786\"], [0.5555555555555556, \"#d8576b\"], [0.6666666666666666, \"#ed7953\"], [0.7777777777777778, \"#fb9f3a\"], [0.8888888888888888, \"#fdca26\"], [1.0, \"#f0f921\"]]}, \"colorway\": [\"#636efa\", \"#EF553B\", \"#00cc96\", \"#ab63fa\", \"#FFA15A\", \"#19d3f3\", \"#FF6692\", \"#B6E880\", \"#FF97FF\", \"#FECB52\"], \"font\": {\"color\": \"#2a3f5f\"}, \"geo\": {\"bgcolor\": \"white\", \"lakecolor\": \"white\", \"landcolor\": \"#E5ECF6\", \"showlakes\": true, \"showland\": true, \"subunitcolor\": \"white\"}, \"hoverlabel\": {\"align\": \"left\"}, \"hovermode\": \"closest\", \"mapbox\": {\"style\": \"light\"}, \"paper_bgcolor\": \"white\", \"plot_bgcolor\": \"#E5ECF6\", \"polar\": {\"angularaxis\": {\"gridcolor\": \"white\", \"linecolor\": \"white\", \"ticks\": \"\"}, \"bgcolor\": \"#E5ECF6\", \"radialaxis\": {\"gridcolor\": \"white\", \"linecolor\": \"white\", \"ticks\": \"\"}}, \"scene\": {\"xaxis\": {\"backgroundcolor\": \"#E5ECF6\", \"gridcolor\": \"white\", \"gridwidth\": 2, \"linecolor\": \"white\", \"showbackground\": true, \"ticks\": \"\", \"zerolinecolor\": \"white\"}, \"yaxis\": {\"backgroundcolor\": \"#E5ECF6\", \"gridcolor\": \"white\", \"gridwidth\": 2, \"linecolor\": \"white\", \"showbackground\": true, \"ticks\": \"\", \"zerolinecolor\": \"white\"}, \"zaxis\": {\"backgroundcolor\": \"#E5ECF6\", \"gridcolor\": \"white\", \"gridwidth\": 2, \"linecolor\": \"white\", \"showbackground\": true, \"ticks\": \"\", \"zerolinecolor\": \"white\"}}, \"shapedefaults\": {\"line\": {\"color\": \"#2a3f5f\"}}, \"ternary\": {\"aaxis\": {\"gridcolor\": \"white\", \"linecolor\": \"white\", \"ticks\": \"\"}, \"baxis\": {\"gridcolor\": \"white\", \"linecolor\": \"white\", \"ticks\": \"\"}, \"bgcolor\": \"#E5ECF6\", \"caxis\": {\"gridcolor\": \"white\", \"linecolor\": \"white\", \"ticks\": \"\"}}, \"title\": {\"x\": 0.05}, \"xaxis\": {\"automargin\": true, \"gridcolor\": \"white\", \"linecolor\": \"white\", \"ticks\": \"\", \"title\": {\"standoff\": 15}, \"zerolinecolor\": \"white\", \"zerolinewidth\": 2}, \"yaxis\": {\"automargin\": true, \"gridcolor\": \"white\", \"linecolor\": \"white\", \"ticks\": \"\", \"title\": {\"standoff\": 15}, \"zerolinecolor\": \"white\", \"zerolinewidth\": 2}}}, \"title\": {\"font\": {\"color\": \"#4D5663\"}}, \"xaxis\": {\"gridcolor\": \"#E1E5ED\", \"showgrid\": true, \"tickfont\": {\"color\": \"#4D5663\"}, \"title\": {\"font\": {\"color\": \"#4D5663\"}, \"text\": \"\"}, \"zerolinecolor\": \"#E1E5ED\"}, \"yaxis\": {\"gridcolor\": \"#E1E5ED\", \"showgrid\": true, \"tickfont\": {\"color\": \"#4D5663\"}, \"title\": {\"font\": {\"color\": \"#4D5663\"}, \"text\": \"\"}, \"zerolinecolor\": \"#E1E5ED\"}},\n",
       "                        {\"showLink\": true, \"linkText\": \"Export to plot.ly\", \"plotlyServerURL\": \"https://plot.ly\", \"responsive\": true}\n",
       "                    ).then(function(){\n",
       "                            \n",
       "var gd = document.getElementById('c330460f-fbb7-4713-99df-dc15628e7fc1');\n",
       "var x = new MutationObserver(function (mutations, observer) {{\n",
       "        var display = window.getComputedStyle(gd).display;\n",
       "        if (!display || display === 'none') {{\n",
       "            console.log([gd, 'removed!']);\n",
       "            Plotly.purge(gd);\n",
       "            observer.disconnect();\n",
       "        }}\n",
       "}});\n",
       "\n",
       "// Listen for the removal of the full notebook cells\n",
       "var notebookContainer = gd.closest('#notebook-container');\n",
       "if (notebookContainer) {{\n",
       "    x.observe(notebookContainer, {childList: true});\n",
       "}}\n",
       "\n",
       "// Listen for the clearing of the current output cell\n",
       "var outputEl = gd.closest('.output');\n",
       "if (outputEl) {{\n",
       "    x.observe(outputEl, {childList: true});\n",
       "}}\n",
       "\n",
       "                        })\n",
       "                };\n",
       "                });\n",
       "            </script>\n",
       "        </div>"
      ]
     },
     "metadata": {},
     "output_type": "display_data"
    }
   ],
   "source": [
    "df1.loc[lambda df: (df['Team'] == 'Away') & (df['Period'] == 1) & (df['Type'] == 'PASS'), :] \\\n",
    "   .iplot(kind=\"scatter\",x = \"Start X\", y = \"Start Y\", mode = \"markers\")"
   ]
  },
  {
   "cell_type": "markdown",
   "metadata": {
    "slideshow": {
     "slide_type": "slide"
    }
   },
   "source": [
    "### Compare with location of passes by \"Home\" team, first period"
   ]
  },
  {
   "cell_type": "code",
   "execution_count": 17,
   "metadata": {
    "slideshow": {
     "slide_type": "-"
    }
   },
   "outputs": [
    {
     "data": {
      "application/vnd.plotly.v1+json": {
       "config": {
        "linkText": "Export to plot.ly",
        "plotlyServerURL": "https://plot.ly",
        "showLink": true
       },
       "data": [
        {
         "line": {
          "color": "rgba(255, 153, 51, 1.0)",
          "dash": "solid",
          "shape": "linear",
          "width": 1.3
         },
         "marker": {
          "size": 12,
          "symbol": "circle"
         },
         "mode": "markers",
         "name": "Start Y",
         "text": "",
         "type": "scatter",
         "x": [
          0.36,
          0.53,
          0.32,
          0.31,
          0.46,
          1,
          0.89,
          0.49,
          0.24,
          0.14,
          0.18,
          0.39,
          0.1,
          0.29,
          0.87,
          0.99,
          0.94,
          0.86,
          0.79,
          0.83,
          0.04,
          0.5,
          0.86,
          0.96,
          0.83,
          0.33,
          0.44,
          0.56,
          0.64,
          0.46,
          0.34,
          0.52,
          0.54,
          0.53,
          0.35,
          0.29,
          0.47,
          0.44,
          0.56,
          0.94,
          0.89,
          0.03,
          0.08,
          0.28,
          0.28,
          0.4,
          0.32,
          0.24,
          0.18,
          0.26,
          0.42,
          0.4,
          0.97,
          0.86,
          0.22,
          0.17,
          0.23,
          0.29,
          0.54,
          0.13,
          0.27,
          0.2,
          0.59,
          0.65,
          0.69,
          0.61,
          0.6,
          0.61,
          0.67,
          0.81,
          0.05,
          0.09,
          0.46,
          0.29,
          0.35,
          0.6,
          0.63,
          0.54,
          0.56,
          0.56,
          0.47,
          0.36,
          0.65,
          0.71,
          0.56,
          0.69,
          0.75,
          0.64,
          0.44,
          0.38,
          0.39,
          0.44,
          0.37,
          0.74,
          0.19,
          0.21,
          0.26,
          0.39,
          0.41,
          0.54,
          0.51,
          0.53,
          0.48,
          0.31,
          0.42,
          0.45,
          0.61,
          0.57,
          0.58,
          0.59,
          0.71,
          0.62,
          0.7,
          0.81,
          0.72,
          0.78,
          0.97,
          0.95,
          0.85,
          0.77,
          0.8,
          0.57,
          0.87,
          0.78,
          0.7,
          0.66,
          0.59,
          0.65,
          0.41,
          0.42,
          0.55,
          0.6,
          0.63,
          0.69,
          0.86,
          0.75,
          0.81,
          1.01,
          0.45,
          0.43,
          0.5,
          0.34,
          0.11,
          0.06,
          0.12,
          0.34,
          0.28,
          0.27,
          0.35,
          0.41,
          0.4,
          0.45,
          0.55,
          0.47,
          0.58,
          0.19,
          0.34,
          0.61,
          0.28,
          0.28,
          0.15,
          0.23,
          0.19,
          0.23,
          0.27,
          0.32,
          0.69,
          0.77,
          0.9,
          0.48,
          0.58,
          0.34,
          0.47,
          0.54,
          0.79,
          0.97,
          0.53,
          0.45,
          0.48,
          0.24,
          0.37,
          0.34,
          0.31,
          0.33,
          0.51,
          0.79,
          0.04
         ],
         "y": [
          0.67,
          0.59,
          0.89,
          0.78,
          0.68,
          0.01,
          0.14,
          1.01,
          0.82,
          0.6,
          0.53,
          0.29,
          0.42,
          0.38,
          0.29,
          0.01,
          0.09,
          0.11,
          0.36,
          0.51,
          0.44,
          0.86,
          -0.02,
          0.1,
          0.01,
          0.13,
          0.98,
          0.96,
          0.88,
          0.34,
          0.44,
          0.91,
          0.73,
          0.9,
          0.79,
          0.57,
          0.67,
          0.22,
          0.24,
          0.99,
          0.46,
          0.47,
          0.41,
          0.14,
          0.03,
          0.53,
          0.49,
          0.5,
          0.37,
          -0.01,
          0.37,
          0.67,
          0.98,
          0.66,
          0.84,
          0.8,
          0.9,
          0.79,
          0.73,
          0.71,
          0.6,
          0.52,
          0.61,
          0.77,
          0.93,
          0.84,
          0.74,
          0.61,
          0.45,
          0.28,
          0.53,
          0.47,
          0.01,
          0.24,
          0.76,
          0.39,
          0.33,
          0.41,
          0.73,
          0.97,
          0.94,
          0.81,
          1.01,
          0.96,
          0.91,
          0.22,
          0.05,
          0.13,
          0.36,
          0.78,
          1.01,
          0.91,
          0.87,
          1.01,
          0.18,
          0.3,
          0.46,
          0.65,
          1.01,
          1.01,
          0.91,
          1,
          0.97,
          0.86,
          0.57,
          0.81,
          0.97,
          0.84,
          0.69,
          0.79,
          0.15,
          0.27,
          0.18,
          0.32,
          0.55,
          0.7,
          0.77,
          0.5,
          0.39,
          1.01,
          0.91,
          0.26,
          0.03,
          0.09,
          0.09,
          0.25,
          0.8,
          0.88,
          0.6,
          0.89,
          0.99,
          0.92,
          0.78,
          0.4,
          0.06,
          0.19,
          0.3,
          0.01,
          0.13,
          0.19,
          0.02,
          0.03,
          0.23,
          0.55,
          0.82,
          0.73,
          0.62,
          0.31,
          0.1,
          0.25,
          0.36,
          0.24,
          0.26,
          0.25,
          0.07,
          0.97,
          0.82,
          0.78,
          0.15,
          0.31,
          0.29,
          0.17,
          0.15,
          0.32,
          0.41,
          0.23,
          0.22,
          0.36,
          0.2,
          0.81,
          0.91,
          0.56,
          1.01,
          0.85,
          0.19,
          0.18,
          0.47,
          0.47,
          0.02,
          0.15,
          0.43,
          0.09,
          0.27,
          0.6,
          0.76,
          0.35,
          0.47
         ]
        }
       ],
       "layout": {
        "legend": {
         "bgcolor": "#F5F6F9",
         "font": {
          "color": "#4D5663"
         }
        },
        "paper_bgcolor": "#F5F6F9",
        "plot_bgcolor": "#F5F6F9",
        "template": {
         "data": {
          "bar": [
           {
            "error_x": {
             "color": "#2a3f5f"
            },
            "error_y": {
             "color": "#2a3f5f"
            },
            "marker": {
             "line": {
              "color": "#E5ECF6",
              "width": 0.5
             }
            },
            "type": "bar"
           }
          ],
          "barpolar": [
           {
            "marker": {
             "line": {
              "color": "#E5ECF6",
              "width": 0.5
             }
            },
            "type": "barpolar"
           }
          ],
          "carpet": [
           {
            "aaxis": {
             "endlinecolor": "#2a3f5f",
             "gridcolor": "white",
             "linecolor": "white",
             "minorgridcolor": "white",
             "startlinecolor": "#2a3f5f"
            },
            "baxis": {
             "endlinecolor": "#2a3f5f",
             "gridcolor": "white",
             "linecolor": "white",
             "minorgridcolor": "white",
             "startlinecolor": "#2a3f5f"
            },
            "type": "carpet"
           }
          ],
          "choropleth": [
           {
            "colorbar": {
             "outlinewidth": 0,
             "ticks": ""
            },
            "type": "choropleth"
           }
          ],
          "contour": [
           {
            "colorbar": {
             "outlinewidth": 0,
             "ticks": ""
            },
            "colorscale": [
             [
              0,
              "#0d0887"
             ],
             [
              0.1111111111111111,
              "#46039f"
             ],
             [
              0.2222222222222222,
              "#7201a8"
             ],
             [
              0.3333333333333333,
              "#9c179e"
             ],
             [
              0.4444444444444444,
              "#bd3786"
             ],
             [
              0.5555555555555556,
              "#d8576b"
             ],
             [
              0.6666666666666666,
              "#ed7953"
             ],
             [
              0.7777777777777778,
              "#fb9f3a"
             ],
             [
              0.8888888888888888,
              "#fdca26"
             ],
             [
              1,
              "#f0f921"
             ]
            ],
            "type": "contour"
           }
          ],
          "contourcarpet": [
           {
            "colorbar": {
             "outlinewidth": 0,
             "ticks": ""
            },
            "type": "contourcarpet"
           }
          ],
          "heatmap": [
           {
            "colorbar": {
             "outlinewidth": 0,
             "ticks": ""
            },
            "colorscale": [
             [
              0,
              "#0d0887"
             ],
             [
              0.1111111111111111,
              "#46039f"
             ],
             [
              0.2222222222222222,
              "#7201a8"
             ],
             [
              0.3333333333333333,
              "#9c179e"
             ],
             [
              0.4444444444444444,
              "#bd3786"
             ],
             [
              0.5555555555555556,
              "#d8576b"
             ],
             [
              0.6666666666666666,
              "#ed7953"
             ],
             [
              0.7777777777777778,
              "#fb9f3a"
             ],
             [
              0.8888888888888888,
              "#fdca26"
             ],
             [
              1,
              "#f0f921"
             ]
            ],
            "type": "heatmap"
           }
          ],
          "heatmapgl": [
           {
            "colorbar": {
             "outlinewidth": 0,
             "ticks": ""
            },
            "colorscale": [
             [
              0,
              "#0d0887"
             ],
             [
              0.1111111111111111,
              "#46039f"
             ],
             [
              0.2222222222222222,
              "#7201a8"
             ],
             [
              0.3333333333333333,
              "#9c179e"
             ],
             [
              0.4444444444444444,
              "#bd3786"
             ],
             [
              0.5555555555555556,
              "#d8576b"
             ],
             [
              0.6666666666666666,
              "#ed7953"
             ],
             [
              0.7777777777777778,
              "#fb9f3a"
             ],
             [
              0.8888888888888888,
              "#fdca26"
             ],
             [
              1,
              "#f0f921"
             ]
            ],
            "type": "heatmapgl"
           }
          ],
          "histogram": [
           {
            "marker": {
             "colorbar": {
              "outlinewidth": 0,
              "ticks": ""
             }
            },
            "type": "histogram"
           }
          ],
          "histogram2d": [
           {
            "colorbar": {
             "outlinewidth": 0,
             "ticks": ""
            },
            "colorscale": [
             [
              0,
              "#0d0887"
             ],
             [
              0.1111111111111111,
              "#46039f"
             ],
             [
              0.2222222222222222,
              "#7201a8"
             ],
             [
              0.3333333333333333,
              "#9c179e"
             ],
             [
              0.4444444444444444,
              "#bd3786"
             ],
             [
              0.5555555555555556,
              "#d8576b"
             ],
             [
              0.6666666666666666,
              "#ed7953"
             ],
             [
              0.7777777777777778,
              "#fb9f3a"
             ],
             [
              0.8888888888888888,
              "#fdca26"
             ],
             [
              1,
              "#f0f921"
             ]
            ],
            "type": "histogram2d"
           }
          ],
          "histogram2dcontour": [
           {
            "colorbar": {
             "outlinewidth": 0,
             "ticks": ""
            },
            "colorscale": [
             [
              0,
              "#0d0887"
             ],
             [
              0.1111111111111111,
              "#46039f"
             ],
             [
              0.2222222222222222,
              "#7201a8"
             ],
             [
              0.3333333333333333,
              "#9c179e"
             ],
             [
              0.4444444444444444,
              "#bd3786"
             ],
             [
              0.5555555555555556,
              "#d8576b"
             ],
             [
              0.6666666666666666,
              "#ed7953"
             ],
             [
              0.7777777777777778,
              "#fb9f3a"
             ],
             [
              0.8888888888888888,
              "#fdca26"
             ],
             [
              1,
              "#f0f921"
             ]
            ],
            "type": "histogram2dcontour"
           }
          ],
          "mesh3d": [
           {
            "colorbar": {
             "outlinewidth": 0,
             "ticks": ""
            },
            "type": "mesh3d"
           }
          ],
          "parcoords": [
           {
            "line": {
             "colorbar": {
              "outlinewidth": 0,
              "ticks": ""
             }
            },
            "type": "parcoords"
           }
          ],
          "pie": [
           {
            "automargin": true,
            "type": "pie"
           }
          ],
          "scatter": [
           {
            "marker": {
             "colorbar": {
              "outlinewidth": 0,
              "ticks": ""
             }
            },
            "type": "scatter"
           }
          ],
          "scatter3d": [
           {
            "line": {
             "colorbar": {
              "outlinewidth": 0,
              "ticks": ""
             }
            },
            "marker": {
             "colorbar": {
              "outlinewidth": 0,
              "ticks": ""
             }
            },
            "type": "scatter3d"
           }
          ],
          "scattercarpet": [
           {
            "marker": {
             "colorbar": {
              "outlinewidth": 0,
              "ticks": ""
             }
            },
            "type": "scattercarpet"
           }
          ],
          "scattergeo": [
           {
            "marker": {
             "colorbar": {
              "outlinewidth": 0,
              "ticks": ""
             }
            },
            "type": "scattergeo"
           }
          ],
          "scattergl": [
           {
            "marker": {
             "colorbar": {
              "outlinewidth": 0,
              "ticks": ""
             }
            },
            "type": "scattergl"
           }
          ],
          "scattermapbox": [
           {
            "marker": {
             "colorbar": {
              "outlinewidth": 0,
              "ticks": ""
             }
            },
            "type": "scattermapbox"
           }
          ],
          "scatterpolar": [
           {
            "marker": {
             "colorbar": {
              "outlinewidth": 0,
              "ticks": ""
             }
            },
            "type": "scatterpolar"
           }
          ],
          "scatterpolargl": [
           {
            "marker": {
             "colorbar": {
              "outlinewidth": 0,
              "ticks": ""
             }
            },
            "type": "scatterpolargl"
           }
          ],
          "scatterternary": [
           {
            "marker": {
             "colorbar": {
              "outlinewidth": 0,
              "ticks": ""
             }
            },
            "type": "scatterternary"
           }
          ],
          "surface": [
           {
            "colorbar": {
             "outlinewidth": 0,
             "ticks": ""
            },
            "colorscale": [
             [
              0,
              "#0d0887"
             ],
             [
              0.1111111111111111,
              "#46039f"
             ],
             [
              0.2222222222222222,
              "#7201a8"
             ],
             [
              0.3333333333333333,
              "#9c179e"
             ],
             [
              0.4444444444444444,
              "#bd3786"
             ],
             [
              0.5555555555555556,
              "#d8576b"
             ],
             [
              0.6666666666666666,
              "#ed7953"
             ],
             [
              0.7777777777777778,
              "#fb9f3a"
             ],
             [
              0.8888888888888888,
              "#fdca26"
             ],
             [
              1,
              "#f0f921"
             ]
            ],
            "type": "surface"
           }
          ],
          "table": [
           {
            "cells": {
             "fill": {
              "color": "#EBF0F8"
             },
             "line": {
              "color": "white"
             }
            },
            "header": {
             "fill": {
              "color": "#C8D4E3"
             },
             "line": {
              "color": "white"
             }
            },
            "type": "table"
           }
          ]
         },
         "layout": {
          "annotationdefaults": {
           "arrowcolor": "#2a3f5f",
           "arrowhead": 0,
           "arrowwidth": 1
          },
          "coloraxis": {
           "colorbar": {
            "outlinewidth": 0,
            "ticks": ""
           }
          },
          "colorscale": {
           "diverging": [
            [
             0,
             "#8e0152"
            ],
            [
             0.1,
             "#c51b7d"
            ],
            [
             0.2,
             "#de77ae"
            ],
            [
             0.3,
             "#f1b6da"
            ],
            [
             0.4,
             "#fde0ef"
            ],
            [
             0.5,
             "#f7f7f7"
            ],
            [
             0.6,
             "#e6f5d0"
            ],
            [
             0.7,
             "#b8e186"
            ],
            [
             0.8,
             "#7fbc41"
            ],
            [
             0.9,
             "#4d9221"
            ],
            [
             1,
             "#276419"
            ]
           ],
           "sequential": [
            [
             0,
             "#0d0887"
            ],
            [
             0.1111111111111111,
             "#46039f"
            ],
            [
             0.2222222222222222,
             "#7201a8"
            ],
            [
             0.3333333333333333,
             "#9c179e"
            ],
            [
             0.4444444444444444,
             "#bd3786"
            ],
            [
             0.5555555555555556,
             "#d8576b"
            ],
            [
             0.6666666666666666,
             "#ed7953"
            ],
            [
             0.7777777777777778,
             "#fb9f3a"
            ],
            [
             0.8888888888888888,
             "#fdca26"
            ],
            [
             1,
             "#f0f921"
            ]
           ],
           "sequentialminus": [
            [
             0,
             "#0d0887"
            ],
            [
             0.1111111111111111,
             "#46039f"
            ],
            [
             0.2222222222222222,
             "#7201a8"
            ],
            [
             0.3333333333333333,
             "#9c179e"
            ],
            [
             0.4444444444444444,
             "#bd3786"
            ],
            [
             0.5555555555555556,
             "#d8576b"
            ],
            [
             0.6666666666666666,
             "#ed7953"
            ],
            [
             0.7777777777777778,
             "#fb9f3a"
            ],
            [
             0.8888888888888888,
             "#fdca26"
            ],
            [
             1,
             "#f0f921"
            ]
           ]
          },
          "colorway": [
           "#636efa",
           "#EF553B",
           "#00cc96",
           "#ab63fa",
           "#FFA15A",
           "#19d3f3",
           "#FF6692",
           "#B6E880",
           "#FF97FF",
           "#FECB52"
          ],
          "font": {
           "color": "#2a3f5f"
          },
          "geo": {
           "bgcolor": "white",
           "lakecolor": "white",
           "landcolor": "#E5ECF6",
           "showlakes": true,
           "showland": true,
           "subunitcolor": "white"
          },
          "hoverlabel": {
           "align": "left"
          },
          "hovermode": "closest",
          "mapbox": {
           "style": "light"
          },
          "paper_bgcolor": "white",
          "plot_bgcolor": "#E5ECF6",
          "polar": {
           "angularaxis": {
            "gridcolor": "white",
            "linecolor": "white",
            "ticks": ""
           },
           "bgcolor": "#E5ECF6",
           "radialaxis": {
            "gridcolor": "white",
            "linecolor": "white",
            "ticks": ""
           }
          },
          "scene": {
           "xaxis": {
            "backgroundcolor": "#E5ECF6",
            "gridcolor": "white",
            "gridwidth": 2,
            "linecolor": "white",
            "showbackground": true,
            "ticks": "",
            "zerolinecolor": "white"
           },
           "yaxis": {
            "backgroundcolor": "#E5ECF6",
            "gridcolor": "white",
            "gridwidth": 2,
            "linecolor": "white",
            "showbackground": true,
            "ticks": "",
            "zerolinecolor": "white"
           },
           "zaxis": {
            "backgroundcolor": "#E5ECF6",
            "gridcolor": "white",
            "gridwidth": 2,
            "linecolor": "white",
            "showbackground": true,
            "ticks": "",
            "zerolinecolor": "white"
           }
          },
          "shapedefaults": {
           "line": {
            "color": "#2a3f5f"
           }
          },
          "ternary": {
           "aaxis": {
            "gridcolor": "white",
            "linecolor": "white",
            "ticks": ""
           },
           "baxis": {
            "gridcolor": "white",
            "linecolor": "white",
            "ticks": ""
           },
           "bgcolor": "#E5ECF6",
           "caxis": {
            "gridcolor": "white",
            "linecolor": "white",
            "ticks": ""
           }
          },
          "title": {
           "x": 0.05
          },
          "xaxis": {
           "automargin": true,
           "gridcolor": "white",
           "linecolor": "white",
           "ticks": "",
           "title": {
            "standoff": 15
           },
           "zerolinecolor": "white",
           "zerolinewidth": 2
          },
          "yaxis": {
           "automargin": true,
           "gridcolor": "white",
           "linecolor": "white",
           "ticks": "",
           "title": {
            "standoff": 15
           },
           "zerolinecolor": "white",
           "zerolinewidth": 2
          }
         }
        },
        "title": {
         "font": {
          "color": "#4D5663"
         }
        },
        "xaxis": {
         "gridcolor": "#E1E5ED",
         "showgrid": true,
         "tickfont": {
          "color": "#4D5663"
         },
         "title": {
          "font": {
           "color": "#4D5663"
          },
          "text": ""
         },
         "zerolinecolor": "#E1E5ED"
        },
        "yaxis": {
         "gridcolor": "#E1E5ED",
         "showgrid": true,
         "tickfont": {
          "color": "#4D5663"
         },
         "title": {
          "font": {
           "color": "#4D5663"
          },
          "text": ""
         },
         "zerolinecolor": "#E1E5ED"
        }
       }
      },
      "text/html": [
       "<div>\n",
       "        \n",
       "        \n",
       "            <div id=\"c7640594-975e-4020-b489-badcc721eabb\" class=\"plotly-graph-div\" style=\"height:525px; width:100%;\"></div>\n",
       "            <script type=\"text/javascript\">\n",
       "                require([\"plotly\"], function(Plotly) {\n",
       "                    window.PLOTLYENV=window.PLOTLYENV || {};\n",
       "                    window.PLOTLYENV.BASE_URL='https://plot.ly';\n",
       "                    \n",
       "                if (document.getElementById(\"c7640594-975e-4020-b489-badcc721eabb\")) {\n",
       "                    Plotly.newPlot(\n",
       "                        'c7640594-975e-4020-b489-badcc721eabb',\n",
       "                        [{\"line\": {\"color\": \"rgba(255, 153, 51, 1.0)\", \"dash\": \"solid\", \"shape\": \"linear\", \"width\": 1.3}, \"marker\": {\"size\": 12, \"symbol\": \"circle\"}, \"mode\": \"markers\", \"name\": \"Start Y\", \"text\": \"\", \"type\": \"scatter\", \"x\": [0.36, 0.53, 0.32, 0.31, 0.46, 1.0, 0.89, 0.49, 0.24, 0.14, 0.18, 0.39, 0.1, 0.29, 0.87, 0.99, 0.94, 0.86, 0.79, 0.83, 0.04, 0.5, 0.86, 0.96, 0.83, 0.33, 0.44, 0.56, 0.64, 0.46, 0.34, 0.52, 0.54, 0.53, 0.35, 0.29, 0.47, 0.44, 0.56, 0.94, 0.89, 0.03, 0.08, 0.28, 0.28, 0.4, 0.32, 0.24, 0.18, 0.26, 0.42, 0.4, 0.97, 0.86, 0.22, 0.17, 0.23, 0.29, 0.54, 0.13, 0.27, 0.2, 0.59, 0.65, 0.69, 0.61, 0.6, 0.61, 0.67, 0.81, 0.05, 0.09, 0.46, 0.29, 0.35, 0.6, 0.63, 0.54, 0.56, 0.56, 0.47, 0.36, 0.65, 0.71, 0.56, 0.69, 0.75, 0.64, 0.44, 0.38, 0.39, 0.44, 0.37, 0.74, 0.19, 0.21, 0.26, 0.39, 0.41, 0.54, 0.51, 0.53, 0.48, 0.31, 0.42, 0.45, 0.61, 0.57, 0.58, 0.59, 0.71, 0.62, 0.7, 0.81, 0.72, 0.78, 0.97, 0.95, 0.85, 0.77, 0.8, 0.57, 0.87, 0.78, 0.7, 0.66, 0.59, 0.65, 0.41, 0.42, 0.55, 0.6, 0.63, 0.69, 0.86, 0.75, 0.81, 1.01, 0.45, 0.43, 0.5, 0.34, 0.11, 0.06, 0.12, 0.34, 0.28, 0.27, 0.35, 0.41, 0.4, 0.45, 0.55, 0.47, 0.58, 0.19, 0.34, 0.61, 0.28, 0.28, 0.15, 0.23, 0.19, 0.23, 0.27, 0.32, 0.69, 0.77, 0.9, 0.48, 0.58, 0.34, 0.47, 0.54, 0.79, 0.97, 0.53, 0.45, 0.48, 0.24, 0.37, 0.34, 0.31, 0.33, 0.51, 0.79, 0.04], \"y\": [0.67, 0.59, 0.89, 0.78, 0.68, 0.01, 0.14, 1.01, 0.82, 0.6, 0.53, 0.29, 0.42, 0.38, 0.29, 0.01, 0.09, 0.11, 0.36, 0.51, 0.44, 0.86, -0.02, 0.1, 0.01, 0.13, 0.98, 0.96, 0.88, 0.34, 0.44, 0.91, 0.73, 0.9, 0.79, 0.57, 0.67, 0.22, 0.24, 0.99, 0.46, 0.47, 0.41, 0.14, 0.03, 0.53, 0.49, 0.5, 0.37, -0.01, 0.37, 0.67, 0.98, 0.66, 0.84, 0.8, 0.9, 0.79, 0.73, 0.71, 0.6, 0.52, 0.61, 0.77, 0.93, 0.84, 0.74, 0.61, 0.45, 0.28, 0.53, 0.47, 0.01, 0.24, 0.76, 0.39, 0.33, 0.41, 0.73, 0.97, 0.94, 0.81, 1.01, 0.96, 0.91, 0.22, 0.05, 0.13, 0.36, 0.78, 1.01, 0.91, 0.87, 1.01, 0.18, 0.3, 0.46, 0.65, 1.01, 1.01, 0.91, 1.0, 0.97, 0.86, 0.57, 0.81, 0.97, 0.84, 0.69, 0.79, 0.15, 0.27, 0.18, 0.32, 0.55, 0.7, 0.77, 0.5, 0.39, 1.01, 0.91, 0.26, 0.03, 0.09, 0.09, 0.25, 0.8, 0.88, 0.6, 0.89, 0.99, 0.92, 0.78, 0.4, 0.06, 0.19, 0.3, 0.01, 0.13, 0.19, 0.02, 0.03, 0.23, 0.55, 0.82, 0.73, 0.62, 0.31, 0.1, 0.25, 0.36, 0.24, 0.26, 0.25, 0.07, 0.97, 0.82, 0.78, 0.15, 0.31, 0.29, 0.17, 0.15, 0.32, 0.41, 0.23, 0.22, 0.36, 0.2, 0.81, 0.91, 0.56, 1.01, 0.85, 0.19, 0.18, 0.47, 0.47, 0.02, 0.15, 0.43, 0.09, 0.27, 0.6, 0.76, 0.35, 0.47]}],\n",
       "                        {\"legend\": {\"bgcolor\": \"#F5F6F9\", \"font\": {\"color\": \"#4D5663\"}}, \"paper_bgcolor\": \"#F5F6F9\", \"plot_bgcolor\": \"#F5F6F9\", \"template\": {\"data\": {\"bar\": [{\"error_x\": {\"color\": \"#2a3f5f\"}, \"error_y\": {\"color\": \"#2a3f5f\"}, \"marker\": {\"line\": {\"color\": \"#E5ECF6\", \"width\": 0.5}}, \"type\": \"bar\"}], \"barpolar\": [{\"marker\": {\"line\": {\"color\": \"#E5ECF6\", \"width\": 0.5}}, \"type\": \"barpolar\"}], \"carpet\": [{\"aaxis\": {\"endlinecolor\": \"#2a3f5f\", \"gridcolor\": \"white\", \"linecolor\": \"white\", \"minorgridcolor\": \"white\", \"startlinecolor\": \"#2a3f5f\"}, \"baxis\": {\"endlinecolor\": \"#2a3f5f\", \"gridcolor\": \"white\", \"linecolor\": \"white\", \"minorgridcolor\": \"white\", \"startlinecolor\": \"#2a3f5f\"}, \"type\": \"carpet\"}], \"choropleth\": [{\"colorbar\": {\"outlinewidth\": 0, \"ticks\": \"\"}, \"type\": \"choropleth\"}], \"contour\": [{\"colorbar\": {\"outlinewidth\": 0, \"ticks\": \"\"}, \"colorscale\": [[0.0, \"#0d0887\"], [0.1111111111111111, \"#46039f\"], [0.2222222222222222, \"#7201a8\"], [0.3333333333333333, \"#9c179e\"], [0.4444444444444444, \"#bd3786\"], [0.5555555555555556, \"#d8576b\"], [0.6666666666666666, \"#ed7953\"], [0.7777777777777778, \"#fb9f3a\"], [0.8888888888888888, \"#fdca26\"], [1.0, \"#f0f921\"]], \"type\": \"contour\"}], \"contourcarpet\": [{\"colorbar\": {\"outlinewidth\": 0, \"ticks\": \"\"}, \"type\": \"contourcarpet\"}], \"heatmap\": [{\"colorbar\": {\"outlinewidth\": 0, \"ticks\": \"\"}, \"colorscale\": [[0.0, \"#0d0887\"], [0.1111111111111111, \"#46039f\"], [0.2222222222222222, \"#7201a8\"], [0.3333333333333333, \"#9c179e\"], [0.4444444444444444, \"#bd3786\"], [0.5555555555555556, \"#d8576b\"], [0.6666666666666666, \"#ed7953\"], [0.7777777777777778, \"#fb9f3a\"], [0.8888888888888888, \"#fdca26\"], [1.0, \"#f0f921\"]], \"type\": \"heatmap\"}], \"heatmapgl\": [{\"colorbar\": {\"outlinewidth\": 0, \"ticks\": \"\"}, \"colorscale\": [[0.0, \"#0d0887\"], [0.1111111111111111, \"#46039f\"], [0.2222222222222222, \"#7201a8\"], [0.3333333333333333, \"#9c179e\"], [0.4444444444444444, \"#bd3786\"], [0.5555555555555556, \"#d8576b\"], [0.6666666666666666, \"#ed7953\"], [0.7777777777777778, \"#fb9f3a\"], [0.8888888888888888, \"#fdca26\"], [1.0, \"#f0f921\"]], \"type\": \"heatmapgl\"}], \"histogram\": [{\"marker\": {\"colorbar\": {\"outlinewidth\": 0, \"ticks\": \"\"}}, \"type\": \"histogram\"}], \"histogram2d\": [{\"colorbar\": {\"outlinewidth\": 0, \"ticks\": \"\"}, \"colorscale\": [[0.0, \"#0d0887\"], [0.1111111111111111, \"#46039f\"], [0.2222222222222222, \"#7201a8\"], [0.3333333333333333, \"#9c179e\"], [0.4444444444444444, \"#bd3786\"], [0.5555555555555556, \"#d8576b\"], [0.6666666666666666, \"#ed7953\"], [0.7777777777777778, \"#fb9f3a\"], [0.8888888888888888, \"#fdca26\"], [1.0, \"#f0f921\"]], \"type\": \"histogram2d\"}], \"histogram2dcontour\": [{\"colorbar\": {\"outlinewidth\": 0, \"ticks\": \"\"}, \"colorscale\": [[0.0, \"#0d0887\"], [0.1111111111111111, \"#46039f\"], [0.2222222222222222, \"#7201a8\"], [0.3333333333333333, \"#9c179e\"], [0.4444444444444444, \"#bd3786\"], [0.5555555555555556, \"#d8576b\"], [0.6666666666666666, \"#ed7953\"], [0.7777777777777778, \"#fb9f3a\"], [0.8888888888888888, \"#fdca26\"], [1.0, \"#f0f921\"]], \"type\": \"histogram2dcontour\"}], \"mesh3d\": [{\"colorbar\": {\"outlinewidth\": 0, \"ticks\": \"\"}, \"type\": \"mesh3d\"}], \"parcoords\": [{\"line\": {\"colorbar\": {\"outlinewidth\": 0, \"ticks\": \"\"}}, \"type\": \"parcoords\"}], \"pie\": [{\"automargin\": true, \"type\": \"pie\"}], \"scatter\": [{\"marker\": {\"colorbar\": {\"outlinewidth\": 0, \"ticks\": \"\"}}, \"type\": \"scatter\"}], \"scatter3d\": [{\"line\": {\"colorbar\": {\"outlinewidth\": 0, \"ticks\": \"\"}}, \"marker\": {\"colorbar\": {\"outlinewidth\": 0, \"ticks\": \"\"}}, \"type\": \"scatter3d\"}], \"scattercarpet\": [{\"marker\": {\"colorbar\": {\"outlinewidth\": 0, \"ticks\": \"\"}}, \"type\": \"scattercarpet\"}], \"scattergeo\": [{\"marker\": {\"colorbar\": {\"outlinewidth\": 0, \"ticks\": \"\"}}, \"type\": \"scattergeo\"}], \"scattergl\": [{\"marker\": {\"colorbar\": {\"outlinewidth\": 0, \"ticks\": \"\"}}, \"type\": \"scattergl\"}], \"scattermapbox\": [{\"marker\": {\"colorbar\": {\"outlinewidth\": 0, \"ticks\": \"\"}}, \"type\": \"scattermapbox\"}], \"scatterpolar\": [{\"marker\": {\"colorbar\": {\"outlinewidth\": 0, \"ticks\": \"\"}}, \"type\": \"scatterpolar\"}], \"scatterpolargl\": [{\"marker\": {\"colorbar\": {\"outlinewidth\": 0, \"ticks\": \"\"}}, \"type\": \"scatterpolargl\"}], \"scatterternary\": [{\"marker\": {\"colorbar\": {\"outlinewidth\": 0, \"ticks\": \"\"}}, \"type\": \"scatterternary\"}], \"surface\": [{\"colorbar\": {\"outlinewidth\": 0, \"ticks\": \"\"}, \"colorscale\": [[0.0, \"#0d0887\"], [0.1111111111111111, \"#46039f\"], [0.2222222222222222, \"#7201a8\"], [0.3333333333333333, \"#9c179e\"], [0.4444444444444444, \"#bd3786\"], [0.5555555555555556, \"#d8576b\"], [0.6666666666666666, \"#ed7953\"], [0.7777777777777778, \"#fb9f3a\"], [0.8888888888888888, \"#fdca26\"], [1.0, \"#f0f921\"]], \"type\": \"surface\"}], \"table\": [{\"cells\": {\"fill\": {\"color\": \"#EBF0F8\"}, \"line\": {\"color\": \"white\"}}, \"header\": {\"fill\": {\"color\": \"#C8D4E3\"}, \"line\": {\"color\": \"white\"}}, \"type\": \"table\"}]}, \"layout\": {\"annotationdefaults\": {\"arrowcolor\": \"#2a3f5f\", \"arrowhead\": 0, \"arrowwidth\": 1}, \"coloraxis\": {\"colorbar\": {\"outlinewidth\": 0, \"ticks\": \"\"}}, \"colorscale\": {\"diverging\": [[0, \"#8e0152\"], [0.1, \"#c51b7d\"], [0.2, \"#de77ae\"], [0.3, \"#f1b6da\"], [0.4, \"#fde0ef\"], [0.5, \"#f7f7f7\"], [0.6, \"#e6f5d0\"], [0.7, \"#b8e186\"], [0.8, \"#7fbc41\"], [0.9, \"#4d9221\"], [1, \"#276419\"]], \"sequential\": [[0.0, \"#0d0887\"], [0.1111111111111111, \"#46039f\"], [0.2222222222222222, \"#7201a8\"], [0.3333333333333333, \"#9c179e\"], [0.4444444444444444, \"#bd3786\"], [0.5555555555555556, \"#d8576b\"], [0.6666666666666666, \"#ed7953\"], [0.7777777777777778, \"#fb9f3a\"], [0.8888888888888888, \"#fdca26\"], [1.0, \"#f0f921\"]], \"sequentialminus\": [[0.0, \"#0d0887\"], [0.1111111111111111, \"#46039f\"], [0.2222222222222222, \"#7201a8\"], [0.3333333333333333, \"#9c179e\"], [0.4444444444444444, \"#bd3786\"], [0.5555555555555556, \"#d8576b\"], [0.6666666666666666, \"#ed7953\"], [0.7777777777777778, \"#fb9f3a\"], [0.8888888888888888, \"#fdca26\"], [1.0, \"#f0f921\"]]}, \"colorway\": [\"#636efa\", \"#EF553B\", \"#00cc96\", \"#ab63fa\", \"#FFA15A\", \"#19d3f3\", \"#FF6692\", \"#B6E880\", \"#FF97FF\", \"#FECB52\"], \"font\": {\"color\": \"#2a3f5f\"}, \"geo\": {\"bgcolor\": \"white\", \"lakecolor\": \"white\", \"landcolor\": \"#E5ECF6\", \"showlakes\": true, \"showland\": true, \"subunitcolor\": \"white\"}, \"hoverlabel\": {\"align\": \"left\"}, \"hovermode\": \"closest\", \"mapbox\": {\"style\": \"light\"}, \"paper_bgcolor\": \"white\", \"plot_bgcolor\": \"#E5ECF6\", \"polar\": {\"angularaxis\": {\"gridcolor\": \"white\", \"linecolor\": \"white\", \"ticks\": \"\"}, \"bgcolor\": \"#E5ECF6\", \"radialaxis\": {\"gridcolor\": \"white\", \"linecolor\": \"white\", \"ticks\": \"\"}}, \"scene\": {\"xaxis\": {\"backgroundcolor\": \"#E5ECF6\", \"gridcolor\": \"white\", \"gridwidth\": 2, \"linecolor\": \"white\", \"showbackground\": true, \"ticks\": \"\", \"zerolinecolor\": \"white\"}, \"yaxis\": {\"backgroundcolor\": \"#E5ECF6\", \"gridcolor\": \"white\", \"gridwidth\": 2, \"linecolor\": \"white\", \"showbackground\": true, \"ticks\": \"\", \"zerolinecolor\": \"white\"}, \"zaxis\": {\"backgroundcolor\": \"#E5ECF6\", \"gridcolor\": \"white\", \"gridwidth\": 2, \"linecolor\": \"white\", \"showbackground\": true, \"ticks\": \"\", \"zerolinecolor\": \"white\"}}, \"shapedefaults\": {\"line\": {\"color\": \"#2a3f5f\"}}, \"ternary\": {\"aaxis\": {\"gridcolor\": \"white\", \"linecolor\": \"white\", \"ticks\": \"\"}, \"baxis\": {\"gridcolor\": \"white\", \"linecolor\": \"white\", \"ticks\": \"\"}, \"bgcolor\": \"#E5ECF6\", \"caxis\": {\"gridcolor\": \"white\", \"linecolor\": \"white\", \"ticks\": \"\"}}, \"title\": {\"x\": 0.05}, \"xaxis\": {\"automargin\": true, \"gridcolor\": \"white\", \"linecolor\": \"white\", \"ticks\": \"\", \"title\": {\"standoff\": 15}, \"zerolinecolor\": \"white\", \"zerolinewidth\": 2}, \"yaxis\": {\"automargin\": true, \"gridcolor\": \"white\", \"linecolor\": \"white\", \"ticks\": \"\", \"title\": {\"standoff\": 15}, \"zerolinecolor\": \"white\", \"zerolinewidth\": 2}}}, \"title\": {\"font\": {\"color\": \"#4D5663\"}}, \"xaxis\": {\"gridcolor\": \"#E1E5ED\", \"showgrid\": true, \"tickfont\": {\"color\": \"#4D5663\"}, \"title\": {\"font\": {\"color\": \"#4D5663\"}, \"text\": \"\"}, \"zerolinecolor\": \"#E1E5ED\"}, \"yaxis\": {\"gridcolor\": \"#E1E5ED\", \"showgrid\": true, \"tickfont\": {\"color\": \"#4D5663\"}, \"title\": {\"font\": {\"color\": \"#4D5663\"}, \"text\": \"\"}, \"zerolinecolor\": \"#E1E5ED\"}},\n",
       "                        {\"showLink\": true, \"linkText\": \"Export to plot.ly\", \"plotlyServerURL\": \"https://plot.ly\", \"responsive\": true}\n",
       "                    ).then(function(){\n",
       "                            \n",
       "var gd = document.getElementById('c7640594-975e-4020-b489-badcc721eabb');\n",
       "var x = new MutationObserver(function (mutations, observer) {{\n",
       "        var display = window.getComputedStyle(gd).display;\n",
       "        if (!display || display === 'none') {{\n",
       "            console.log([gd, 'removed!']);\n",
       "            Plotly.purge(gd);\n",
       "            observer.disconnect();\n",
       "        }}\n",
       "}});\n",
       "\n",
       "// Listen for the removal of the full notebook cells\n",
       "var notebookContainer = gd.closest('#notebook-container');\n",
       "if (notebookContainer) {{\n",
       "    x.observe(notebookContainer, {childList: true});\n",
       "}}\n",
       "\n",
       "// Listen for the clearing of the current output cell\n",
       "var outputEl = gd.closest('.output');\n",
       "if (outputEl) {{\n",
       "    x.observe(outputEl, {childList: true});\n",
       "}}\n",
       "\n",
       "                        })\n",
       "                };\n",
       "                });\n",
       "            </script>\n",
       "        </div>"
      ]
     },
     "metadata": {},
     "output_type": "display_data"
    }
   ],
   "source": [
    "df1.loc[lambda df: (df['Team'] == 'Home') & (df['Period'] == 1) & (df['Type'] == 'PASS'), :] \\\n",
    "   .iplot(kind=\"scatter\",x = \"Start X\", y = \"Start Y\", mode = \"markers\")"
   ]
  },
  {
   "cell_type": "markdown",
   "metadata": {
    "slideshow": {
     "slide_type": "slide"
    }
   },
   "source": [
    "### Location of \"Ball OuT\" by \"Away\" team, first period"
   ]
  },
  {
   "cell_type": "code",
   "execution_count": 18,
   "metadata": {
    "slideshow": {
     "slide_type": "-"
    }
   },
   "outputs": [
    {
     "data": {
      "application/vnd.plotly.v1+json": {
       "config": {
        "linkText": "Export to plot.ly",
        "plotlyServerURL": "https://plot.ly",
        "showLink": true
       },
       "data": [
        {
         "line": {
          "color": "rgba(255, 153, 51, 1.0)",
          "dash": "solid",
          "shape": "linear",
          "width": 1.3
         },
         "marker": {
          "size": 12,
          "symbol": "circle"
         },
         "mode": "markers",
         "name": "Start Y",
         "text": "",
         "type": "scatter",
         "x": [
          0.87,
          0.93,
          0.97,
          0.01,
          0.89,
          0.8,
          0.94,
          0.37,
          0.25,
          0.18,
          0.73,
          0.49,
          0.31,
          0.6,
          0.7,
          0.41,
          0.92,
          0.98,
          0.55,
          0.89,
          0.93,
          0.54,
          0.08
         ],
         "y": [
          0.29,
          0.56,
          0.44,
          0.95,
          0.48,
          0.13,
          0.51,
          0.26,
          0.97,
          0.05,
          0.94,
          0.9,
          0.92,
          0.12,
          0.67,
          0.96,
          0.9,
          0.91,
          0.89,
          0.7,
          0.26,
          0.73,
          0.82
         ]
        }
       ],
       "layout": {
        "legend": {
         "bgcolor": "#F5F6F9",
         "font": {
          "color": "#4D5663"
         }
        },
        "paper_bgcolor": "#F5F6F9",
        "plot_bgcolor": "#F5F6F9",
        "template": {
         "data": {
          "bar": [
           {
            "error_x": {
             "color": "#2a3f5f"
            },
            "error_y": {
             "color": "#2a3f5f"
            },
            "marker": {
             "line": {
              "color": "#E5ECF6",
              "width": 0.5
             }
            },
            "type": "bar"
           }
          ],
          "barpolar": [
           {
            "marker": {
             "line": {
              "color": "#E5ECF6",
              "width": 0.5
             }
            },
            "type": "barpolar"
           }
          ],
          "carpet": [
           {
            "aaxis": {
             "endlinecolor": "#2a3f5f",
             "gridcolor": "white",
             "linecolor": "white",
             "minorgridcolor": "white",
             "startlinecolor": "#2a3f5f"
            },
            "baxis": {
             "endlinecolor": "#2a3f5f",
             "gridcolor": "white",
             "linecolor": "white",
             "minorgridcolor": "white",
             "startlinecolor": "#2a3f5f"
            },
            "type": "carpet"
           }
          ],
          "choropleth": [
           {
            "colorbar": {
             "outlinewidth": 0,
             "ticks": ""
            },
            "type": "choropleth"
           }
          ],
          "contour": [
           {
            "colorbar": {
             "outlinewidth": 0,
             "ticks": ""
            },
            "colorscale": [
             [
              0,
              "#0d0887"
             ],
             [
              0.1111111111111111,
              "#46039f"
             ],
             [
              0.2222222222222222,
              "#7201a8"
             ],
             [
              0.3333333333333333,
              "#9c179e"
             ],
             [
              0.4444444444444444,
              "#bd3786"
             ],
             [
              0.5555555555555556,
              "#d8576b"
             ],
             [
              0.6666666666666666,
              "#ed7953"
             ],
             [
              0.7777777777777778,
              "#fb9f3a"
             ],
             [
              0.8888888888888888,
              "#fdca26"
             ],
             [
              1,
              "#f0f921"
             ]
            ],
            "type": "contour"
           }
          ],
          "contourcarpet": [
           {
            "colorbar": {
             "outlinewidth": 0,
             "ticks": ""
            },
            "type": "contourcarpet"
           }
          ],
          "heatmap": [
           {
            "colorbar": {
             "outlinewidth": 0,
             "ticks": ""
            },
            "colorscale": [
             [
              0,
              "#0d0887"
             ],
             [
              0.1111111111111111,
              "#46039f"
             ],
             [
              0.2222222222222222,
              "#7201a8"
             ],
             [
              0.3333333333333333,
              "#9c179e"
             ],
             [
              0.4444444444444444,
              "#bd3786"
             ],
             [
              0.5555555555555556,
              "#d8576b"
             ],
             [
              0.6666666666666666,
              "#ed7953"
             ],
             [
              0.7777777777777778,
              "#fb9f3a"
             ],
             [
              0.8888888888888888,
              "#fdca26"
             ],
             [
              1,
              "#f0f921"
             ]
            ],
            "type": "heatmap"
           }
          ],
          "heatmapgl": [
           {
            "colorbar": {
             "outlinewidth": 0,
             "ticks": ""
            },
            "colorscale": [
             [
              0,
              "#0d0887"
             ],
             [
              0.1111111111111111,
              "#46039f"
             ],
             [
              0.2222222222222222,
              "#7201a8"
             ],
             [
              0.3333333333333333,
              "#9c179e"
             ],
             [
              0.4444444444444444,
              "#bd3786"
             ],
             [
              0.5555555555555556,
              "#d8576b"
             ],
             [
              0.6666666666666666,
              "#ed7953"
             ],
             [
              0.7777777777777778,
              "#fb9f3a"
             ],
             [
              0.8888888888888888,
              "#fdca26"
             ],
             [
              1,
              "#f0f921"
             ]
            ],
            "type": "heatmapgl"
           }
          ],
          "histogram": [
           {
            "marker": {
             "colorbar": {
              "outlinewidth": 0,
              "ticks": ""
             }
            },
            "type": "histogram"
           }
          ],
          "histogram2d": [
           {
            "colorbar": {
             "outlinewidth": 0,
             "ticks": ""
            },
            "colorscale": [
             [
              0,
              "#0d0887"
             ],
             [
              0.1111111111111111,
              "#46039f"
             ],
             [
              0.2222222222222222,
              "#7201a8"
             ],
             [
              0.3333333333333333,
              "#9c179e"
             ],
             [
              0.4444444444444444,
              "#bd3786"
             ],
             [
              0.5555555555555556,
              "#d8576b"
             ],
             [
              0.6666666666666666,
              "#ed7953"
             ],
             [
              0.7777777777777778,
              "#fb9f3a"
             ],
             [
              0.8888888888888888,
              "#fdca26"
             ],
             [
              1,
              "#f0f921"
             ]
            ],
            "type": "histogram2d"
           }
          ],
          "histogram2dcontour": [
           {
            "colorbar": {
             "outlinewidth": 0,
             "ticks": ""
            },
            "colorscale": [
             [
              0,
              "#0d0887"
             ],
             [
              0.1111111111111111,
              "#46039f"
             ],
             [
              0.2222222222222222,
              "#7201a8"
             ],
             [
              0.3333333333333333,
              "#9c179e"
             ],
             [
              0.4444444444444444,
              "#bd3786"
             ],
             [
              0.5555555555555556,
              "#d8576b"
             ],
             [
              0.6666666666666666,
              "#ed7953"
             ],
             [
              0.7777777777777778,
              "#fb9f3a"
             ],
             [
              0.8888888888888888,
              "#fdca26"
             ],
             [
              1,
              "#f0f921"
             ]
            ],
            "type": "histogram2dcontour"
           }
          ],
          "mesh3d": [
           {
            "colorbar": {
             "outlinewidth": 0,
             "ticks": ""
            },
            "type": "mesh3d"
           }
          ],
          "parcoords": [
           {
            "line": {
             "colorbar": {
              "outlinewidth": 0,
              "ticks": ""
             }
            },
            "type": "parcoords"
           }
          ],
          "pie": [
           {
            "automargin": true,
            "type": "pie"
           }
          ],
          "scatter": [
           {
            "marker": {
             "colorbar": {
              "outlinewidth": 0,
              "ticks": ""
             }
            },
            "type": "scatter"
           }
          ],
          "scatter3d": [
           {
            "line": {
             "colorbar": {
              "outlinewidth": 0,
              "ticks": ""
             }
            },
            "marker": {
             "colorbar": {
              "outlinewidth": 0,
              "ticks": ""
             }
            },
            "type": "scatter3d"
           }
          ],
          "scattercarpet": [
           {
            "marker": {
             "colorbar": {
              "outlinewidth": 0,
              "ticks": ""
             }
            },
            "type": "scattercarpet"
           }
          ],
          "scattergeo": [
           {
            "marker": {
             "colorbar": {
              "outlinewidth": 0,
              "ticks": ""
             }
            },
            "type": "scattergeo"
           }
          ],
          "scattergl": [
           {
            "marker": {
             "colorbar": {
              "outlinewidth": 0,
              "ticks": ""
             }
            },
            "type": "scattergl"
           }
          ],
          "scattermapbox": [
           {
            "marker": {
             "colorbar": {
              "outlinewidth": 0,
              "ticks": ""
             }
            },
            "type": "scattermapbox"
           }
          ],
          "scatterpolar": [
           {
            "marker": {
             "colorbar": {
              "outlinewidth": 0,
              "ticks": ""
             }
            },
            "type": "scatterpolar"
           }
          ],
          "scatterpolargl": [
           {
            "marker": {
             "colorbar": {
              "outlinewidth": 0,
              "ticks": ""
             }
            },
            "type": "scatterpolargl"
           }
          ],
          "scatterternary": [
           {
            "marker": {
             "colorbar": {
              "outlinewidth": 0,
              "ticks": ""
             }
            },
            "type": "scatterternary"
           }
          ],
          "surface": [
           {
            "colorbar": {
             "outlinewidth": 0,
             "ticks": ""
            },
            "colorscale": [
             [
              0,
              "#0d0887"
             ],
             [
              0.1111111111111111,
              "#46039f"
             ],
             [
              0.2222222222222222,
              "#7201a8"
             ],
             [
              0.3333333333333333,
              "#9c179e"
             ],
             [
              0.4444444444444444,
              "#bd3786"
             ],
             [
              0.5555555555555556,
              "#d8576b"
             ],
             [
              0.6666666666666666,
              "#ed7953"
             ],
             [
              0.7777777777777778,
              "#fb9f3a"
             ],
             [
              0.8888888888888888,
              "#fdca26"
             ],
             [
              1,
              "#f0f921"
             ]
            ],
            "type": "surface"
           }
          ],
          "table": [
           {
            "cells": {
             "fill": {
              "color": "#EBF0F8"
             },
             "line": {
              "color": "white"
             }
            },
            "header": {
             "fill": {
              "color": "#C8D4E3"
             },
             "line": {
              "color": "white"
             }
            },
            "type": "table"
           }
          ]
         },
         "layout": {
          "annotationdefaults": {
           "arrowcolor": "#2a3f5f",
           "arrowhead": 0,
           "arrowwidth": 1
          },
          "coloraxis": {
           "colorbar": {
            "outlinewidth": 0,
            "ticks": ""
           }
          },
          "colorscale": {
           "diverging": [
            [
             0,
             "#8e0152"
            ],
            [
             0.1,
             "#c51b7d"
            ],
            [
             0.2,
             "#de77ae"
            ],
            [
             0.3,
             "#f1b6da"
            ],
            [
             0.4,
             "#fde0ef"
            ],
            [
             0.5,
             "#f7f7f7"
            ],
            [
             0.6,
             "#e6f5d0"
            ],
            [
             0.7,
             "#b8e186"
            ],
            [
             0.8,
             "#7fbc41"
            ],
            [
             0.9,
             "#4d9221"
            ],
            [
             1,
             "#276419"
            ]
           ],
           "sequential": [
            [
             0,
             "#0d0887"
            ],
            [
             0.1111111111111111,
             "#46039f"
            ],
            [
             0.2222222222222222,
             "#7201a8"
            ],
            [
             0.3333333333333333,
             "#9c179e"
            ],
            [
             0.4444444444444444,
             "#bd3786"
            ],
            [
             0.5555555555555556,
             "#d8576b"
            ],
            [
             0.6666666666666666,
             "#ed7953"
            ],
            [
             0.7777777777777778,
             "#fb9f3a"
            ],
            [
             0.8888888888888888,
             "#fdca26"
            ],
            [
             1,
             "#f0f921"
            ]
           ],
           "sequentialminus": [
            [
             0,
             "#0d0887"
            ],
            [
             0.1111111111111111,
             "#46039f"
            ],
            [
             0.2222222222222222,
             "#7201a8"
            ],
            [
             0.3333333333333333,
             "#9c179e"
            ],
            [
             0.4444444444444444,
             "#bd3786"
            ],
            [
             0.5555555555555556,
             "#d8576b"
            ],
            [
             0.6666666666666666,
             "#ed7953"
            ],
            [
             0.7777777777777778,
             "#fb9f3a"
            ],
            [
             0.8888888888888888,
             "#fdca26"
            ],
            [
             1,
             "#f0f921"
            ]
           ]
          },
          "colorway": [
           "#636efa",
           "#EF553B",
           "#00cc96",
           "#ab63fa",
           "#FFA15A",
           "#19d3f3",
           "#FF6692",
           "#B6E880",
           "#FF97FF",
           "#FECB52"
          ],
          "font": {
           "color": "#2a3f5f"
          },
          "geo": {
           "bgcolor": "white",
           "lakecolor": "white",
           "landcolor": "#E5ECF6",
           "showlakes": true,
           "showland": true,
           "subunitcolor": "white"
          },
          "hoverlabel": {
           "align": "left"
          },
          "hovermode": "closest",
          "mapbox": {
           "style": "light"
          },
          "paper_bgcolor": "white",
          "plot_bgcolor": "#E5ECF6",
          "polar": {
           "angularaxis": {
            "gridcolor": "white",
            "linecolor": "white",
            "ticks": ""
           },
           "bgcolor": "#E5ECF6",
           "radialaxis": {
            "gridcolor": "white",
            "linecolor": "white",
            "ticks": ""
           }
          },
          "scene": {
           "xaxis": {
            "backgroundcolor": "#E5ECF6",
            "gridcolor": "white",
            "gridwidth": 2,
            "linecolor": "white",
            "showbackground": true,
            "ticks": "",
            "zerolinecolor": "white"
           },
           "yaxis": {
            "backgroundcolor": "#E5ECF6",
            "gridcolor": "white",
            "gridwidth": 2,
            "linecolor": "white",
            "showbackground": true,
            "ticks": "",
            "zerolinecolor": "white"
           },
           "zaxis": {
            "backgroundcolor": "#E5ECF6",
            "gridcolor": "white",
            "gridwidth": 2,
            "linecolor": "white",
            "showbackground": true,
            "ticks": "",
            "zerolinecolor": "white"
           }
          },
          "shapedefaults": {
           "line": {
            "color": "#2a3f5f"
           }
          },
          "ternary": {
           "aaxis": {
            "gridcolor": "white",
            "linecolor": "white",
            "ticks": ""
           },
           "baxis": {
            "gridcolor": "white",
            "linecolor": "white",
            "ticks": ""
           },
           "bgcolor": "#E5ECF6",
           "caxis": {
            "gridcolor": "white",
            "linecolor": "white",
            "ticks": ""
           }
          },
          "title": {
           "x": 0.05
          },
          "xaxis": {
           "automargin": true,
           "gridcolor": "white",
           "linecolor": "white",
           "ticks": "",
           "title": {
            "standoff": 15
           },
           "zerolinecolor": "white",
           "zerolinewidth": 2
          },
          "yaxis": {
           "automargin": true,
           "gridcolor": "white",
           "linecolor": "white",
           "ticks": "",
           "title": {
            "standoff": 15
           },
           "zerolinecolor": "white",
           "zerolinewidth": 2
          }
         }
        },
        "title": {
         "font": {
          "color": "#4D5663"
         }
        },
        "xaxis": {
         "gridcolor": "#E1E5ED",
         "showgrid": true,
         "tickfont": {
          "color": "#4D5663"
         },
         "title": {
          "font": {
           "color": "#4D5663"
          },
          "text": ""
         },
         "zerolinecolor": "#E1E5ED"
        },
        "yaxis": {
         "gridcolor": "#E1E5ED",
         "showgrid": true,
         "tickfont": {
          "color": "#4D5663"
         },
         "title": {
          "font": {
           "color": "#4D5663"
          },
          "text": ""
         },
         "zerolinecolor": "#E1E5ED"
        }
       }
      },
      "text/html": [
       "<div>\n",
       "        \n",
       "        \n",
       "            <div id=\"fefcb14a-3739-485f-a379-7b1b0735c573\" class=\"plotly-graph-div\" style=\"height:525px; width:100%;\"></div>\n",
       "            <script type=\"text/javascript\">\n",
       "                require([\"plotly\"], function(Plotly) {\n",
       "                    window.PLOTLYENV=window.PLOTLYENV || {};\n",
       "                    window.PLOTLYENV.BASE_URL='https://plot.ly';\n",
       "                    \n",
       "                if (document.getElementById(\"fefcb14a-3739-485f-a379-7b1b0735c573\")) {\n",
       "                    Plotly.newPlot(\n",
       "                        'fefcb14a-3739-485f-a379-7b1b0735c573',\n",
       "                        [{\"line\": {\"color\": \"rgba(255, 153, 51, 1.0)\", \"dash\": \"solid\", \"shape\": \"linear\", \"width\": 1.3}, \"marker\": {\"size\": 12, \"symbol\": \"circle\"}, \"mode\": \"markers\", \"name\": \"Start Y\", \"text\": \"\", \"type\": \"scatter\", \"x\": [0.87, 0.93, 0.97, 0.01, 0.89, 0.8, 0.94, 0.37, 0.25, 0.18, 0.73, 0.49, 0.31, 0.6, 0.7, 0.41, 0.92, 0.98, 0.55, 0.89, 0.93, 0.54, 0.08], \"y\": [0.29, 0.56, 0.44, 0.95, 0.48, 0.13, 0.51, 0.26, 0.97, 0.05, 0.94, 0.9, 0.92, 0.12, 0.67, 0.96, 0.9, 0.91, 0.89, 0.7, 0.26, 0.73, 0.82]}],\n",
       "                        {\"legend\": {\"bgcolor\": \"#F5F6F9\", \"font\": {\"color\": \"#4D5663\"}}, \"paper_bgcolor\": \"#F5F6F9\", \"plot_bgcolor\": \"#F5F6F9\", \"template\": {\"data\": {\"bar\": [{\"error_x\": {\"color\": \"#2a3f5f\"}, \"error_y\": {\"color\": \"#2a3f5f\"}, \"marker\": {\"line\": {\"color\": \"#E5ECF6\", \"width\": 0.5}}, \"type\": \"bar\"}], \"barpolar\": [{\"marker\": {\"line\": {\"color\": \"#E5ECF6\", \"width\": 0.5}}, \"type\": \"barpolar\"}], \"carpet\": [{\"aaxis\": {\"endlinecolor\": \"#2a3f5f\", \"gridcolor\": \"white\", \"linecolor\": \"white\", \"minorgridcolor\": \"white\", \"startlinecolor\": \"#2a3f5f\"}, \"baxis\": {\"endlinecolor\": \"#2a3f5f\", \"gridcolor\": \"white\", \"linecolor\": \"white\", \"minorgridcolor\": \"white\", \"startlinecolor\": \"#2a3f5f\"}, \"type\": \"carpet\"}], \"choropleth\": [{\"colorbar\": {\"outlinewidth\": 0, \"ticks\": \"\"}, \"type\": \"choropleth\"}], \"contour\": [{\"colorbar\": {\"outlinewidth\": 0, \"ticks\": \"\"}, \"colorscale\": [[0.0, \"#0d0887\"], [0.1111111111111111, \"#46039f\"], [0.2222222222222222, \"#7201a8\"], [0.3333333333333333, \"#9c179e\"], [0.4444444444444444, \"#bd3786\"], [0.5555555555555556, \"#d8576b\"], [0.6666666666666666, \"#ed7953\"], [0.7777777777777778, \"#fb9f3a\"], [0.8888888888888888, \"#fdca26\"], [1.0, \"#f0f921\"]], \"type\": \"contour\"}], \"contourcarpet\": [{\"colorbar\": {\"outlinewidth\": 0, \"ticks\": \"\"}, \"type\": \"contourcarpet\"}], \"heatmap\": [{\"colorbar\": {\"outlinewidth\": 0, \"ticks\": \"\"}, \"colorscale\": [[0.0, \"#0d0887\"], [0.1111111111111111, \"#46039f\"], [0.2222222222222222, \"#7201a8\"], [0.3333333333333333, \"#9c179e\"], [0.4444444444444444, \"#bd3786\"], [0.5555555555555556, \"#d8576b\"], [0.6666666666666666, \"#ed7953\"], [0.7777777777777778, \"#fb9f3a\"], [0.8888888888888888, \"#fdca26\"], [1.0, \"#f0f921\"]], \"type\": \"heatmap\"}], \"heatmapgl\": [{\"colorbar\": {\"outlinewidth\": 0, \"ticks\": \"\"}, \"colorscale\": [[0.0, \"#0d0887\"], [0.1111111111111111, \"#46039f\"], [0.2222222222222222, \"#7201a8\"], [0.3333333333333333, \"#9c179e\"], [0.4444444444444444, \"#bd3786\"], [0.5555555555555556, \"#d8576b\"], [0.6666666666666666, \"#ed7953\"], [0.7777777777777778, \"#fb9f3a\"], [0.8888888888888888, \"#fdca26\"], [1.0, \"#f0f921\"]], \"type\": \"heatmapgl\"}], \"histogram\": [{\"marker\": {\"colorbar\": {\"outlinewidth\": 0, \"ticks\": \"\"}}, \"type\": \"histogram\"}], \"histogram2d\": [{\"colorbar\": {\"outlinewidth\": 0, \"ticks\": \"\"}, \"colorscale\": [[0.0, \"#0d0887\"], [0.1111111111111111, \"#46039f\"], [0.2222222222222222, \"#7201a8\"], [0.3333333333333333, \"#9c179e\"], [0.4444444444444444, \"#bd3786\"], [0.5555555555555556, \"#d8576b\"], [0.6666666666666666, \"#ed7953\"], [0.7777777777777778, \"#fb9f3a\"], [0.8888888888888888, \"#fdca26\"], [1.0, \"#f0f921\"]], \"type\": \"histogram2d\"}], \"histogram2dcontour\": [{\"colorbar\": {\"outlinewidth\": 0, \"ticks\": \"\"}, \"colorscale\": [[0.0, \"#0d0887\"], [0.1111111111111111, \"#46039f\"], [0.2222222222222222, \"#7201a8\"], [0.3333333333333333, \"#9c179e\"], [0.4444444444444444, \"#bd3786\"], [0.5555555555555556, \"#d8576b\"], [0.6666666666666666, \"#ed7953\"], [0.7777777777777778, \"#fb9f3a\"], [0.8888888888888888, \"#fdca26\"], [1.0, \"#f0f921\"]], \"type\": \"histogram2dcontour\"}], \"mesh3d\": [{\"colorbar\": {\"outlinewidth\": 0, \"ticks\": \"\"}, \"type\": \"mesh3d\"}], \"parcoords\": [{\"line\": {\"colorbar\": {\"outlinewidth\": 0, \"ticks\": \"\"}}, \"type\": \"parcoords\"}], \"pie\": [{\"automargin\": true, \"type\": \"pie\"}], \"scatter\": [{\"marker\": {\"colorbar\": {\"outlinewidth\": 0, \"ticks\": \"\"}}, \"type\": \"scatter\"}], \"scatter3d\": [{\"line\": {\"colorbar\": {\"outlinewidth\": 0, \"ticks\": \"\"}}, \"marker\": {\"colorbar\": {\"outlinewidth\": 0, \"ticks\": \"\"}}, \"type\": \"scatter3d\"}], \"scattercarpet\": [{\"marker\": {\"colorbar\": {\"outlinewidth\": 0, \"ticks\": \"\"}}, \"type\": \"scattercarpet\"}], \"scattergeo\": [{\"marker\": {\"colorbar\": {\"outlinewidth\": 0, \"ticks\": \"\"}}, \"type\": \"scattergeo\"}], \"scattergl\": [{\"marker\": {\"colorbar\": {\"outlinewidth\": 0, \"ticks\": \"\"}}, \"type\": \"scattergl\"}], \"scattermapbox\": [{\"marker\": {\"colorbar\": {\"outlinewidth\": 0, \"ticks\": \"\"}}, \"type\": \"scattermapbox\"}], \"scatterpolar\": [{\"marker\": {\"colorbar\": {\"outlinewidth\": 0, \"ticks\": \"\"}}, \"type\": \"scatterpolar\"}], \"scatterpolargl\": [{\"marker\": {\"colorbar\": {\"outlinewidth\": 0, \"ticks\": \"\"}}, \"type\": \"scatterpolargl\"}], \"scatterternary\": [{\"marker\": {\"colorbar\": {\"outlinewidth\": 0, \"ticks\": \"\"}}, \"type\": \"scatterternary\"}], \"surface\": [{\"colorbar\": {\"outlinewidth\": 0, \"ticks\": \"\"}, \"colorscale\": [[0.0, \"#0d0887\"], [0.1111111111111111, \"#46039f\"], [0.2222222222222222, \"#7201a8\"], [0.3333333333333333, \"#9c179e\"], [0.4444444444444444, \"#bd3786\"], [0.5555555555555556, \"#d8576b\"], [0.6666666666666666, \"#ed7953\"], [0.7777777777777778, \"#fb9f3a\"], [0.8888888888888888, \"#fdca26\"], [1.0, \"#f0f921\"]], \"type\": \"surface\"}], \"table\": [{\"cells\": {\"fill\": {\"color\": \"#EBF0F8\"}, \"line\": {\"color\": \"white\"}}, \"header\": {\"fill\": {\"color\": \"#C8D4E3\"}, \"line\": {\"color\": \"white\"}}, \"type\": \"table\"}]}, \"layout\": {\"annotationdefaults\": {\"arrowcolor\": \"#2a3f5f\", \"arrowhead\": 0, \"arrowwidth\": 1}, \"coloraxis\": {\"colorbar\": {\"outlinewidth\": 0, \"ticks\": \"\"}}, \"colorscale\": {\"diverging\": [[0, \"#8e0152\"], [0.1, \"#c51b7d\"], [0.2, \"#de77ae\"], [0.3, \"#f1b6da\"], [0.4, \"#fde0ef\"], [0.5, \"#f7f7f7\"], [0.6, \"#e6f5d0\"], [0.7, \"#b8e186\"], [0.8, \"#7fbc41\"], [0.9, \"#4d9221\"], [1, \"#276419\"]], \"sequential\": [[0.0, \"#0d0887\"], [0.1111111111111111, \"#46039f\"], [0.2222222222222222, \"#7201a8\"], [0.3333333333333333, \"#9c179e\"], [0.4444444444444444, \"#bd3786\"], [0.5555555555555556, \"#d8576b\"], [0.6666666666666666, \"#ed7953\"], [0.7777777777777778, \"#fb9f3a\"], [0.8888888888888888, \"#fdca26\"], [1.0, \"#f0f921\"]], \"sequentialminus\": [[0.0, \"#0d0887\"], [0.1111111111111111, \"#46039f\"], [0.2222222222222222, \"#7201a8\"], [0.3333333333333333, \"#9c179e\"], [0.4444444444444444, \"#bd3786\"], [0.5555555555555556, \"#d8576b\"], [0.6666666666666666, \"#ed7953\"], [0.7777777777777778, \"#fb9f3a\"], [0.8888888888888888, \"#fdca26\"], [1.0, \"#f0f921\"]]}, \"colorway\": [\"#636efa\", \"#EF553B\", \"#00cc96\", \"#ab63fa\", \"#FFA15A\", \"#19d3f3\", \"#FF6692\", \"#B6E880\", \"#FF97FF\", \"#FECB52\"], \"font\": {\"color\": \"#2a3f5f\"}, \"geo\": {\"bgcolor\": \"white\", \"lakecolor\": \"white\", \"landcolor\": \"#E5ECF6\", \"showlakes\": true, \"showland\": true, \"subunitcolor\": \"white\"}, \"hoverlabel\": {\"align\": \"left\"}, \"hovermode\": \"closest\", \"mapbox\": {\"style\": \"light\"}, \"paper_bgcolor\": \"white\", \"plot_bgcolor\": \"#E5ECF6\", \"polar\": {\"angularaxis\": {\"gridcolor\": \"white\", \"linecolor\": \"white\", \"ticks\": \"\"}, \"bgcolor\": \"#E5ECF6\", \"radialaxis\": {\"gridcolor\": \"white\", \"linecolor\": \"white\", \"ticks\": \"\"}}, \"scene\": {\"xaxis\": {\"backgroundcolor\": \"#E5ECF6\", \"gridcolor\": \"white\", \"gridwidth\": 2, \"linecolor\": \"white\", \"showbackground\": true, \"ticks\": \"\", \"zerolinecolor\": \"white\"}, \"yaxis\": {\"backgroundcolor\": \"#E5ECF6\", \"gridcolor\": \"white\", \"gridwidth\": 2, \"linecolor\": \"white\", \"showbackground\": true, \"ticks\": \"\", \"zerolinecolor\": \"white\"}, \"zaxis\": {\"backgroundcolor\": \"#E5ECF6\", \"gridcolor\": \"white\", \"gridwidth\": 2, \"linecolor\": \"white\", \"showbackground\": true, \"ticks\": \"\", \"zerolinecolor\": \"white\"}}, \"shapedefaults\": {\"line\": {\"color\": \"#2a3f5f\"}}, \"ternary\": {\"aaxis\": {\"gridcolor\": \"white\", \"linecolor\": \"white\", \"ticks\": \"\"}, \"baxis\": {\"gridcolor\": \"white\", \"linecolor\": \"white\", \"ticks\": \"\"}, \"bgcolor\": \"#E5ECF6\", \"caxis\": {\"gridcolor\": \"white\", \"linecolor\": \"white\", \"ticks\": \"\"}}, \"title\": {\"x\": 0.05}, \"xaxis\": {\"automargin\": true, \"gridcolor\": \"white\", \"linecolor\": \"white\", \"ticks\": \"\", \"title\": {\"standoff\": 15}, \"zerolinecolor\": \"white\", \"zerolinewidth\": 2}, \"yaxis\": {\"automargin\": true, \"gridcolor\": \"white\", \"linecolor\": \"white\", \"ticks\": \"\", \"title\": {\"standoff\": 15}, \"zerolinecolor\": \"white\", \"zerolinewidth\": 2}}}, \"title\": {\"font\": {\"color\": \"#4D5663\"}}, \"xaxis\": {\"gridcolor\": \"#E1E5ED\", \"showgrid\": true, \"tickfont\": {\"color\": \"#4D5663\"}, \"title\": {\"font\": {\"color\": \"#4D5663\"}, \"text\": \"\"}, \"zerolinecolor\": \"#E1E5ED\"}, \"yaxis\": {\"gridcolor\": \"#E1E5ED\", \"showgrid\": true, \"tickfont\": {\"color\": \"#4D5663\"}, \"title\": {\"font\": {\"color\": \"#4D5663\"}, \"text\": \"\"}, \"zerolinecolor\": \"#E1E5ED\"}},\n",
       "                        {\"showLink\": true, \"linkText\": \"Export to plot.ly\", \"plotlyServerURL\": \"https://plot.ly\", \"responsive\": true}\n",
       "                    ).then(function(){\n",
       "                            \n",
       "var gd = document.getElementById('fefcb14a-3739-485f-a379-7b1b0735c573');\n",
       "var x = new MutationObserver(function (mutations, observer) {{\n",
       "        var display = window.getComputedStyle(gd).display;\n",
       "        if (!display || display === 'none') {{\n",
       "            console.log([gd, 'removed!']);\n",
       "            Plotly.purge(gd);\n",
       "            observer.disconnect();\n",
       "        }}\n",
       "}});\n",
       "\n",
       "// Listen for the removal of the full notebook cells\n",
       "var notebookContainer = gd.closest('#notebook-container');\n",
       "if (notebookContainer) {{\n",
       "    x.observe(notebookContainer, {childList: true});\n",
       "}}\n",
       "\n",
       "// Listen for the clearing of the current output cell\n",
       "var outputEl = gd.closest('.output');\n",
       "if (outputEl) {{\n",
       "    x.observe(outputEl, {childList: true});\n",
       "}}\n",
       "\n",
       "                        })\n",
       "                };\n",
       "                });\n",
       "            </script>\n",
       "        </div>"
      ]
     },
     "metadata": {},
     "output_type": "display_data"
    }
   ],
   "source": [
    "df1.loc[lambda df: (df['Team'] == 'Away') & (df['Period'] == 1) & (df['Type'] == 'BALL OUT'), :] \\\n",
    "   .iplot(kind=\"scatter\",x = \"Start X\", y = \"Start Y\", mode = \"markers\")"
   ]
  },
  {
   "cell_type": "markdown",
   "metadata": {
    "slideshow": {
     "slide_type": "slide"
    }
   },
   "source": [
    "### Compare with location of \"Ball Out\" by \"Away\" team, first period"
   ]
  },
  {
   "cell_type": "code",
   "execution_count": 19,
   "metadata": {
    "slideshow": {
     "slide_type": "-"
    }
   },
   "outputs": [
    {
     "data": {
      "application/vnd.plotly.v1+json": {
       "config": {
        "linkText": "Export to plot.ly",
        "plotlyServerURL": "https://plot.ly",
        "showLink": true
       },
       "data": [
        {
         "line": {
          "color": "rgba(255, 153, 51, 1.0)",
          "dash": "solid",
          "shape": "linear",
          "width": 1.3
         },
         "marker": {
          "size": 12,
          "symbol": "circle"
         },
         "mode": "markers",
         "name": "Start Y",
         "text": "",
         "type": "scatter",
         "x": [
          0.39,
          0.65,
          0.02,
          0.04,
          0.17,
          0.51,
          0.45,
          0.86,
          0.33,
          0.9
         ],
         "y": [
          0.78,
          0.21,
          0.1,
          0.62,
          0.82,
          0.92,
          0.68,
          0.91,
          0.05,
          0.03
         ]
        }
       ],
       "layout": {
        "legend": {
         "bgcolor": "#F5F6F9",
         "font": {
          "color": "#4D5663"
         }
        },
        "paper_bgcolor": "#F5F6F9",
        "plot_bgcolor": "#F5F6F9",
        "template": {
         "data": {
          "bar": [
           {
            "error_x": {
             "color": "#2a3f5f"
            },
            "error_y": {
             "color": "#2a3f5f"
            },
            "marker": {
             "line": {
              "color": "#E5ECF6",
              "width": 0.5
             }
            },
            "type": "bar"
           }
          ],
          "barpolar": [
           {
            "marker": {
             "line": {
              "color": "#E5ECF6",
              "width": 0.5
             }
            },
            "type": "barpolar"
           }
          ],
          "carpet": [
           {
            "aaxis": {
             "endlinecolor": "#2a3f5f",
             "gridcolor": "white",
             "linecolor": "white",
             "minorgridcolor": "white",
             "startlinecolor": "#2a3f5f"
            },
            "baxis": {
             "endlinecolor": "#2a3f5f",
             "gridcolor": "white",
             "linecolor": "white",
             "minorgridcolor": "white",
             "startlinecolor": "#2a3f5f"
            },
            "type": "carpet"
           }
          ],
          "choropleth": [
           {
            "colorbar": {
             "outlinewidth": 0,
             "ticks": ""
            },
            "type": "choropleth"
           }
          ],
          "contour": [
           {
            "colorbar": {
             "outlinewidth": 0,
             "ticks": ""
            },
            "colorscale": [
             [
              0,
              "#0d0887"
             ],
             [
              0.1111111111111111,
              "#46039f"
             ],
             [
              0.2222222222222222,
              "#7201a8"
             ],
             [
              0.3333333333333333,
              "#9c179e"
             ],
             [
              0.4444444444444444,
              "#bd3786"
             ],
             [
              0.5555555555555556,
              "#d8576b"
             ],
             [
              0.6666666666666666,
              "#ed7953"
             ],
             [
              0.7777777777777778,
              "#fb9f3a"
             ],
             [
              0.8888888888888888,
              "#fdca26"
             ],
             [
              1,
              "#f0f921"
             ]
            ],
            "type": "contour"
           }
          ],
          "contourcarpet": [
           {
            "colorbar": {
             "outlinewidth": 0,
             "ticks": ""
            },
            "type": "contourcarpet"
           }
          ],
          "heatmap": [
           {
            "colorbar": {
             "outlinewidth": 0,
             "ticks": ""
            },
            "colorscale": [
             [
              0,
              "#0d0887"
             ],
             [
              0.1111111111111111,
              "#46039f"
             ],
             [
              0.2222222222222222,
              "#7201a8"
             ],
             [
              0.3333333333333333,
              "#9c179e"
             ],
             [
              0.4444444444444444,
              "#bd3786"
             ],
             [
              0.5555555555555556,
              "#d8576b"
             ],
             [
              0.6666666666666666,
              "#ed7953"
             ],
             [
              0.7777777777777778,
              "#fb9f3a"
             ],
             [
              0.8888888888888888,
              "#fdca26"
             ],
             [
              1,
              "#f0f921"
             ]
            ],
            "type": "heatmap"
           }
          ],
          "heatmapgl": [
           {
            "colorbar": {
             "outlinewidth": 0,
             "ticks": ""
            },
            "colorscale": [
             [
              0,
              "#0d0887"
             ],
             [
              0.1111111111111111,
              "#46039f"
             ],
             [
              0.2222222222222222,
              "#7201a8"
             ],
             [
              0.3333333333333333,
              "#9c179e"
             ],
             [
              0.4444444444444444,
              "#bd3786"
             ],
             [
              0.5555555555555556,
              "#d8576b"
             ],
             [
              0.6666666666666666,
              "#ed7953"
             ],
             [
              0.7777777777777778,
              "#fb9f3a"
             ],
             [
              0.8888888888888888,
              "#fdca26"
             ],
             [
              1,
              "#f0f921"
             ]
            ],
            "type": "heatmapgl"
           }
          ],
          "histogram": [
           {
            "marker": {
             "colorbar": {
              "outlinewidth": 0,
              "ticks": ""
             }
            },
            "type": "histogram"
           }
          ],
          "histogram2d": [
           {
            "colorbar": {
             "outlinewidth": 0,
             "ticks": ""
            },
            "colorscale": [
             [
              0,
              "#0d0887"
             ],
             [
              0.1111111111111111,
              "#46039f"
             ],
             [
              0.2222222222222222,
              "#7201a8"
             ],
             [
              0.3333333333333333,
              "#9c179e"
             ],
             [
              0.4444444444444444,
              "#bd3786"
             ],
             [
              0.5555555555555556,
              "#d8576b"
             ],
             [
              0.6666666666666666,
              "#ed7953"
             ],
             [
              0.7777777777777778,
              "#fb9f3a"
             ],
             [
              0.8888888888888888,
              "#fdca26"
             ],
             [
              1,
              "#f0f921"
             ]
            ],
            "type": "histogram2d"
           }
          ],
          "histogram2dcontour": [
           {
            "colorbar": {
             "outlinewidth": 0,
             "ticks": ""
            },
            "colorscale": [
             [
              0,
              "#0d0887"
             ],
             [
              0.1111111111111111,
              "#46039f"
             ],
             [
              0.2222222222222222,
              "#7201a8"
             ],
             [
              0.3333333333333333,
              "#9c179e"
             ],
             [
              0.4444444444444444,
              "#bd3786"
             ],
             [
              0.5555555555555556,
              "#d8576b"
             ],
             [
              0.6666666666666666,
              "#ed7953"
             ],
             [
              0.7777777777777778,
              "#fb9f3a"
             ],
             [
              0.8888888888888888,
              "#fdca26"
             ],
             [
              1,
              "#f0f921"
             ]
            ],
            "type": "histogram2dcontour"
           }
          ],
          "mesh3d": [
           {
            "colorbar": {
             "outlinewidth": 0,
             "ticks": ""
            },
            "type": "mesh3d"
           }
          ],
          "parcoords": [
           {
            "line": {
             "colorbar": {
              "outlinewidth": 0,
              "ticks": ""
             }
            },
            "type": "parcoords"
           }
          ],
          "pie": [
           {
            "automargin": true,
            "type": "pie"
           }
          ],
          "scatter": [
           {
            "marker": {
             "colorbar": {
              "outlinewidth": 0,
              "ticks": ""
             }
            },
            "type": "scatter"
           }
          ],
          "scatter3d": [
           {
            "line": {
             "colorbar": {
              "outlinewidth": 0,
              "ticks": ""
             }
            },
            "marker": {
             "colorbar": {
              "outlinewidth": 0,
              "ticks": ""
             }
            },
            "type": "scatter3d"
           }
          ],
          "scattercarpet": [
           {
            "marker": {
             "colorbar": {
              "outlinewidth": 0,
              "ticks": ""
             }
            },
            "type": "scattercarpet"
           }
          ],
          "scattergeo": [
           {
            "marker": {
             "colorbar": {
              "outlinewidth": 0,
              "ticks": ""
             }
            },
            "type": "scattergeo"
           }
          ],
          "scattergl": [
           {
            "marker": {
             "colorbar": {
              "outlinewidth": 0,
              "ticks": ""
             }
            },
            "type": "scattergl"
           }
          ],
          "scattermapbox": [
           {
            "marker": {
             "colorbar": {
              "outlinewidth": 0,
              "ticks": ""
             }
            },
            "type": "scattermapbox"
           }
          ],
          "scatterpolar": [
           {
            "marker": {
             "colorbar": {
              "outlinewidth": 0,
              "ticks": ""
             }
            },
            "type": "scatterpolar"
           }
          ],
          "scatterpolargl": [
           {
            "marker": {
             "colorbar": {
              "outlinewidth": 0,
              "ticks": ""
             }
            },
            "type": "scatterpolargl"
           }
          ],
          "scatterternary": [
           {
            "marker": {
             "colorbar": {
              "outlinewidth": 0,
              "ticks": ""
             }
            },
            "type": "scatterternary"
           }
          ],
          "surface": [
           {
            "colorbar": {
             "outlinewidth": 0,
             "ticks": ""
            },
            "colorscale": [
             [
              0,
              "#0d0887"
             ],
             [
              0.1111111111111111,
              "#46039f"
             ],
             [
              0.2222222222222222,
              "#7201a8"
             ],
             [
              0.3333333333333333,
              "#9c179e"
             ],
             [
              0.4444444444444444,
              "#bd3786"
             ],
             [
              0.5555555555555556,
              "#d8576b"
             ],
             [
              0.6666666666666666,
              "#ed7953"
             ],
             [
              0.7777777777777778,
              "#fb9f3a"
             ],
             [
              0.8888888888888888,
              "#fdca26"
             ],
             [
              1,
              "#f0f921"
             ]
            ],
            "type": "surface"
           }
          ],
          "table": [
           {
            "cells": {
             "fill": {
              "color": "#EBF0F8"
             },
             "line": {
              "color": "white"
             }
            },
            "header": {
             "fill": {
              "color": "#C8D4E3"
             },
             "line": {
              "color": "white"
             }
            },
            "type": "table"
           }
          ]
         },
         "layout": {
          "annotationdefaults": {
           "arrowcolor": "#2a3f5f",
           "arrowhead": 0,
           "arrowwidth": 1
          },
          "coloraxis": {
           "colorbar": {
            "outlinewidth": 0,
            "ticks": ""
           }
          },
          "colorscale": {
           "diverging": [
            [
             0,
             "#8e0152"
            ],
            [
             0.1,
             "#c51b7d"
            ],
            [
             0.2,
             "#de77ae"
            ],
            [
             0.3,
             "#f1b6da"
            ],
            [
             0.4,
             "#fde0ef"
            ],
            [
             0.5,
             "#f7f7f7"
            ],
            [
             0.6,
             "#e6f5d0"
            ],
            [
             0.7,
             "#b8e186"
            ],
            [
             0.8,
             "#7fbc41"
            ],
            [
             0.9,
             "#4d9221"
            ],
            [
             1,
             "#276419"
            ]
           ],
           "sequential": [
            [
             0,
             "#0d0887"
            ],
            [
             0.1111111111111111,
             "#46039f"
            ],
            [
             0.2222222222222222,
             "#7201a8"
            ],
            [
             0.3333333333333333,
             "#9c179e"
            ],
            [
             0.4444444444444444,
             "#bd3786"
            ],
            [
             0.5555555555555556,
             "#d8576b"
            ],
            [
             0.6666666666666666,
             "#ed7953"
            ],
            [
             0.7777777777777778,
             "#fb9f3a"
            ],
            [
             0.8888888888888888,
             "#fdca26"
            ],
            [
             1,
             "#f0f921"
            ]
           ],
           "sequentialminus": [
            [
             0,
             "#0d0887"
            ],
            [
             0.1111111111111111,
             "#46039f"
            ],
            [
             0.2222222222222222,
             "#7201a8"
            ],
            [
             0.3333333333333333,
             "#9c179e"
            ],
            [
             0.4444444444444444,
             "#bd3786"
            ],
            [
             0.5555555555555556,
             "#d8576b"
            ],
            [
             0.6666666666666666,
             "#ed7953"
            ],
            [
             0.7777777777777778,
             "#fb9f3a"
            ],
            [
             0.8888888888888888,
             "#fdca26"
            ],
            [
             1,
             "#f0f921"
            ]
           ]
          },
          "colorway": [
           "#636efa",
           "#EF553B",
           "#00cc96",
           "#ab63fa",
           "#FFA15A",
           "#19d3f3",
           "#FF6692",
           "#B6E880",
           "#FF97FF",
           "#FECB52"
          ],
          "font": {
           "color": "#2a3f5f"
          },
          "geo": {
           "bgcolor": "white",
           "lakecolor": "white",
           "landcolor": "#E5ECF6",
           "showlakes": true,
           "showland": true,
           "subunitcolor": "white"
          },
          "hoverlabel": {
           "align": "left"
          },
          "hovermode": "closest",
          "mapbox": {
           "style": "light"
          },
          "paper_bgcolor": "white",
          "plot_bgcolor": "#E5ECF6",
          "polar": {
           "angularaxis": {
            "gridcolor": "white",
            "linecolor": "white",
            "ticks": ""
           },
           "bgcolor": "#E5ECF6",
           "radialaxis": {
            "gridcolor": "white",
            "linecolor": "white",
            "ticks": ""
           }
          },
          "scene": {
           "xaxis": {
            "backgroundcolor": "#E5ECF6",
            "gridcolor": "white",
            "gridwidth": 2,
            "linecolor": "white",
            "showbackground": true,
            "ticks": "",
            "zerolinecolor": "white"
           },
           "yaxis": {
            "backgroundcolor": "#E5ECF6",
            "gridcolor": "white",
            "gridwidth": 2,
            "linecolor": "white",
            "showbackground": true,
            "ticks": "",
            "zerolinecolor": "white"
           },
           "zaxis": {
            "backgroundcolor": "#E5ECF6",
            "gridcolor": "white",
            "gridwidth": 2,
            "linecolor": "white",
            "showbackground": true,
            "ticks": "",
            "zerolinecolor": "white"
           }
          },
          "shapedefaults": {
           "line": {
            "color": "#2a3f5f"
           }
          },
          "ternary": {
           "aaxis": {
            "gridcolor": "white",
            "linecolor": "white",
            "ticks": ""
           },
           "baxis": {
            "gridcolor": "white",
            "linecolor": "white",
            "ticks": ""
           },
           "bgcolor": "#E5ECF6",
           "caxis": {
            "gridcolor": "white",
            "linecolor": "white",
            "ticks": ""
           }
          },
          "title": {
           "x": 0.05
          },
          "xaxis": {
           "automargin": true,
           "gridcolor": "white",
           "linecolor": "white",
           "ticks": "",
           "title": {
            "standoff": 15
           },
           "zerolinecolor": "white",
           "zerolinewidth": 2
          },
          "yaxis": {
           "automargin": true,
           "gridcolor": "white",
           "linecolor": "white",
           "ticks": "",
           "title": {
            "standoff": 15
           },
           "zerolinecolor": "white",
           "zerolinewidth": 2
          }
         }
        },
        "title": {
         "font": {
          "color": "#4D5663"
         }
        },
        "xaxis": {
         "gridcolor": "#E1E5ED",
         "showgrid": true,
         "tickfont": {
          "color": "#4D5663"
         },
         "title": {
          "font": {
           "color": "#4D5663"
          },
          "text": ""
         },
         "zerolinecolor": "#E1E5ED"
        },
        "yaxis": {
         "gridcolor": "#E1E5ED",
         "showgrid": true,
         "tickfont": {
          "color": "#4D5663"
         },
         "title": {
          "font": {
           "color": "#4D5663"
          },
          "text": ""
         },
         "zerolinecolor": "#E1E5ED"
        }
       }
      },
      "text/html": [
       "<div>\n",
       "        \n",
       "        \n",
       "            <div id=\"2fe95e92-a862-4bf7-9eac-beb1a1440e32\" class=\"plotly-graph-div\" style=\"height:525px; width:100%;\"></div>\n",
       "            <script type=\"text/javascript\">\n",
       "                require([\"plotly\"], function(Plotly) {\n",
       "                    window.PLOTLYENV=window.PLOTLYENV || {};\n",
       "                    window.PLOTLYENV.BASE_URL='https://plot.ly';\n",
       "                    \n",
       "                if (document.getElementById(\"2fe95e92-a862-4bf7-9eac-beb1a1440e32\")) {\n",
       "                    Plotly.newPlot(\n",
       "                        '2fe95e92-a862-4bf7-9eac-beb1a1440e32',\n",
       "                        [{\"line\": {\"color\": \"rgba(255, 153, 51, 1.0)\", \"dash\": \"solid\", \"shape\": \"linear\", \"width\": 1.3}, \"marker\": {\"size\": 12, \"symbol\": \"circle\"}, \"mode\": \"markers\", \"name\": \"Start Y\", \"text\": \"\", \"type\": \"scatter\", \"x\": [0.39, 0.65, 0.02, 0.04, 0.17, 0.51, 0.45, 0.86, 0.33, 0.9], \"y\": [0.78, 0.21, 0.1, 0.62, 0.82, 0.92, 0.68, 0.91, 0.05, 0.03]}],\n",
       "                        {\"legend\": {\"bgcolor\": \"#F5F6F9\", \"font\": {\"color\": \"#4D5663\"}}, \"paper_bgcolor\": \"#F5F6F9\", \"plot_bgcolor\": \"#F5F6F9\", \"template\": {\"data\": {\"bar\": [{\"error_x\": {\"color\": \"#2a3f5f\"}, \"error_y\": {\"color\": \"#2a3f5f\"}, \"marker\": {\"line\": {\"color\": \"#E5ECF6\", \"width\": 0.5}}, \"type\": \"bar\"}], \"barpolar\": [{\"marker\": {\"line\": {\"color\": \"#E5ECF6\", \"width\": 0.5}}, \"type\": \"barpolar\"}], \"carpet\": [{\"aaxis\": {\"endlinecolor\": \"#2a3f5f\", \"gridcolor\": \"white\", \"linecolor\": \"white\", \"minorgridcolor\": \"white\", \"startlinecolor\": \"#2a3f5f\"}, \"baxis\": {\"endlinecolor\": \"#2a3f5f\", \"gridcolor\": \"white\", \"linecolor\": \"white\", \"minorgridcolor\": \"white\", \"startlinecolor\": \"#2a3f5f\"}, \"type\": \"carpet\"}], \"choropleth\": [{\"colorbar\": {\"outlinewidth\": 0, \"ticks\": \"\"}, \"type\": \"choropleth\"}], \"contour\": [{\"colorbar\": {\"outlinewidth\": 0, \"ticks\": \"\"}, \"colorscale\": [[0.0, \"#0d0887\"], [0.1111111111111111, \"#46039f\"], [0.2222222222222222, \"#7201a8\"], [0.3333333333333333, \"#9c179e\"], [0.4444444444444444, \"#bd3786\"], [0.5555555555555556, \"#d8576b\"], [0.6666666666666666, \"#ed7953\"], [0.7777777777777778, \"#fb9f3a\"], [0.8888888888888888, \"#fdca26\"], [1.0, \"#f0f921\"]], \"type\": \"contour\"}], \"contourcarpet\": [{\"colorbar\": {\"outlinewidth\": 0, \"ticks\": \"\"}, \"type\": \"contourcarpet\"}], \"heatmap\": [{\"colorbar\": {\"outlinewidth\": 0, \"ticks\": \"\"}, \"colorscale\": [[0.0, \"#0d0887\"], [0.1111111111111111, \"#46039f\"], [0.2222222222222222, \"#7201a8\"], [0.3333333333333333, \"#9c179e\"], [0.4444444444444444, \"#bd3786\"], [0.5555555555555556, \"#d8576b\"], [0.6666666666666666, \"#ed7953\"], [0.7777777777777778, \"#fb9f3a\"], [0.8888888888888888, \"#fdca26\"], [1.0, \"#f0f921\"]], \"type\": \"heatmap\"}], \"heatmapgl\": [{\"colorbar\": {\"outlinewidth\": 0, \"ticks\": \"\"}, \"colorscale\": [[0.0, \"#0d0887\"], [0.1111111111111111, \"#46039f\"], [0.2222222222222222, \"#7201a8\"], [0.3333333333333333, \"#9c179e\"], [0.4444444444444444, \"#bd3786\"], [0.5555555555555556, \"#d8576b\"], [0.6666666666666666, \"#ed7953\"], [0.7777777777777778, \"#fb9f3a\"], [0.8888888888888888, \"#fdca26\"], [1.0, \"#f0f921\"]], \"type\": \"heatmapgl\"}], \"histogram\": [{\"marker\": {\"colorbar\": {\"outlinewidth\": 0, \"ticks\": \"\"}}, \"type\": \"histogram\"}], \"histogram2d\": [{\"colorbar\": {\"outlinewidth\": 0, \"ticks\": \"\"}, \"colorscale\": [[0.0, \"#0d0887\"], [0.1111111111111111, \"#46039f\"], [0.2222222222222222, \"#7201a8\"], [0.3333333333333333, \"#9c179e\"], [0.4444444444444444, \"#bd3786\"], [0.5555555555555556, \"#d8576b\"], [0.6666666666666666, \"#ed7953\"], [0.7777777777777778, \"#fb9f3a\"], [0.8888888888888888, \"#fdca26\"], [1.0, \"#f0f921\"]], \"type\": \"histogram2d\"}], \"histogram2dcontour\": [{\"colorbar\": {\"outlinewidth\": 0, \"ticks\": \"\"}, \"colorscale\": [[0.0, \"#0d0887\"], [0.1111111111111111, \"#46039f\"], [0.2222222222222222, \"#7201a8\"], [0.3333333333333333, \"#9c179e\"], [0.4444444444444444, \"#bd3786\"], [0.5555555555555556, \"#d8576b\"], [0.6666666666666666, \"#ed7953\"], [0.7777777777777778, \"#fb9f3a\"], [0.8888888888888888, \"#fdca26\"], [1.0, \"#f0f921\"]], \"type\": \"histogram2dcontour\"}], \"mesh3d\": [{\"colorbar\": {\"outlinewidth\": 0, \"ticks\": \"\"}, \"type\": \"mesh3d\"}], \"parcoords\": [{\"line\": {\"colorbar\": {\"outlinewidth\": 0, \"ticks\": \"\"}}, \"type\": \"parcoords\"}], \"pie\": [{\"automargin\": true, \"type\": \"pie\"}], \"scatter\": [{\"marker\": {\"colorbar\": {\"outlinewidth\": 0, \"ticks\": \"\"}}, \"type\": \"scatter\"}], \"scatter3d\": [{\"line\": {\"colorbar\": {\"outlinewidth\": 0, \"ticks\": \"\"}}, \"marker\": {\"colorbar\": {\"outlinewidth\": 0, \"ticks\": \"\"}}, \"type\": \"scatter3d\"}], \"scattercarpet\": [{\"marker\": {\"colorbar\": {\"outlinewidth\": 0, \"ticks\": \"\"}}, \"type\": \"scattercarpet\"}], \"scattergeo\": [{\"marker\": {\"colorbar\": {\"outlinewidth\": 0, \"ticks\": \"\"}}, \"type\": \"scattergeo\"}], \"scattergl\": [{\"marker\": {\"colorbar\": {\"outlinewidth\": 0, \"ticks\": \"\"}}, \"type\": \"scattergl\"}], \"scattermapbox\": [{\"marker\": {\"colorbar\": {\"outlinewidth\": 0, \"ticks\": \"\"}}, \"type\": \"scattermapbox\"}], \"scatterpolar\": [{\"marker\": {\"colorbar\": {\"outlinewidth\": 0, \"ticks\": \"\"}}, \"type\": \"scatterpolar\"}], \"scatterpolargl\": [{\"marker\": {\"colorbar\": {\"outlinewidth\": 0, \"ticks\": \"\"}}, \"type\": \"scatterpolargl\"}], \"scatterternary\": [{\"marker\": {\"colorbar\": {\"outlinewidth\": 0, \"ticks\": \"\"}}, \"type\": \"scatterternary\"}], \"surface\": [{\"colorbar\": {\"outlinewidth\": 0, \"ticks\": \"\"}, \"colorscale\": [[0.0, \"#0d0887\"], [0.1111111111111111, \"#46039f\"], [0.2222222222222222, \"#7201a8\"], [0.3333333333333333, \"#9c179e\"], [0.4444444444444444, \"#bd3786\"], [0.5555555555555556, \"#d8576b\"], [0.6666666666666666, \"#ed7953\"], [0.7777777777777778, \"#fb9f3a\"], [0.8888888888888888, \"#fdca26\"], [1.0, \"#f0f921\"]], \"type\": \"surface\"}], \"table\": [{\"cells\": {\"fill\": {\"color\": \"#EBF0F8\"}, \"line\": {\"color\": \"white\"}}, \"header\": {\"fill\": {\"color\": \"#C8D4E3\"}, \"line\": {\"color\": \"white\"}}, \"type\": \"table\"}]}, \"layout\": {\"annotationdefaults\": {\"arrowcolor\": \"#2a3f5f\", \"arrowhead\": 0, \"arrowwidth\": 1}, \"coloraxis\": {\"colorbar\": {\"outlinewidth\": 0, \"ticks\": \"\"}}, \"colorscale\": {\"diverging\": [[0, \"#8e0152\"], [0.1, \"#c51b7d\"], [0.2, \"#de77ae\"], [0.3, \"#f1b6da\"], [0.4, \"#fde0ef\"], [0.5, \"#f7f7f7\"], [0.6, \"#e6f5d0\"], [0.7, \"#b8e186\"], [0.8, \"#7fbc41\"], [0.9, \"#4d9221\"], [1, \"#276419\"]], \"sequential\": [[0.0, \"#0d0887\"], [0.1111111111111111, \"#46039f\"], [0.2222222222222222, \"#7201a8\"], [0.3333333333333333, \"#9c179e\"], [0.4444444444444444, \"#bd3786\"], [0.5555555555555556, \"#d8576b\"], [0.6666666666666666, \"#ed7953\"], [0.7777777777777778, \"#fb9f3a\"], [0.8888888888888888, \"#fdca26\"], [1.0, \"#f0f921\"]], \"sequentialminus\": [[0.0, \"#0d0887\"], [0.1111111111111111, \"#46039f\"], [0.2222222222222222, \"#7201a8\"], [0.3333333333333333, \"#9c179e\"], [0.4444444444444444, \"#bd3786\"], [0.5555555555555556, \"#d8576b\"], [0.6666666666666666, \"#ed7953\"], [0.7777777777777778, \"#fb9f3a\"], [0.8888888888888888, \"#fdca26\"], [1.0, \"#f0f921\"]]}, \"colorway\": [\"#636efa\", \"#EF553B\", \"#00cc96\", \"#ab63fa\", \"#FFA15A\", \"#19d3f3\", \"#FF6692\", \"#B6E880\", \"#FF97FF\", \"#FECB52\"], \"font\": {\"color\": \"#2a3f5f\"}, \"geo\": {\"bgcolor\": \"white\", \"lakecolor\": \"white\", \"landcolor\": \"#E5ECF6\", \"showlakes\": true, \"showland\": true, \"subunitcolor\": \"white\"}, \"hoverlabel\": {\"align\": \"left\"}, \"hovermode\": \"closest\", \"mapbox\": {\"style\": \"light\"}, \"paper_bgcolor\": \"white\", \"plot_bgcolor\": \"#E5ECF6\", \"polar\": {\"angularaxis\": {\"gridcolor\": \"white\", \"linecolor\": \"white\", \"ticks\": \"\"}, \"bgcolor\": \"#E5ECF6\", \"radialaxis\": {\"gridcolor\": \"white\", \"linecolor\": \"white\", \"ticks\": \"\"}}, \"scene\": {\"xaxis\": {\"backgroundcolor\": \"#E5ECF6\", \"gridcolor\": \"white\", \"gridwidth\": 2, \"linecolor\": \"white\", \"showbackground\": true, \"ticks\": \"\", \"zerolinecolor\": \"white\"}, \"yaxis\": {\"backgroundcolor\": \"#E5ECF6\", \"gridcolor\": \"white\", \"gridwidth\": 2, \"linecolor\": \"white\", \"showbackground\": true, \"ticks\": \"\", \"zerolinecolor\": \"white\"}, \"zaxis\": {\"backgroundcolor\": \"#E5ECF6\", \"gridcolor\": \"white\", \"gridwidth\": 2, \"linecolor\": \"white\", \"showbackground\": true, \"ticks\": \"\", \"zerolinecolor\": \"white\"}}, \"shapedefaults\": {\"line\": {\"color\": \"#2a3f5f\"}}, \"ternary\": {\"aaxis\": {\"gridcolor\": \"white\", \"linecolor\": \"white\", \"ticks\": \"\"}, \"baxis\": {\"gridcolor\": \"white\", \"linecolor\": \"white\", \"ticks\": \"\"}, \"bgcolor\": \"#E5ECF6\", \"caxis\": {\"gridcolor\": \"white\", \"linecolor\": \"white\", \"ticks\": \"\"}}, \"title\": {\"x\": 0.05}, \"xaxis\": {\"automargin\": true, \"gridcolor\": \"white\", \"linecolor\": \"white\", \"ticks\": \"\", \"title\": {\"standoff\": 15}, \"zerolinecolor\": \"white\", \"zerolinewidth\": 2}, \"yaxis\": {\"automargin\": true, \"gridcolor\": \"white\", \"linecolor\": \"white\", \"ticks\": \"\", \"title\": {\"standoff\": 15}, \"zerolinecolor\": \"white\", \"zerolinewidth\": 2}}}, \"title\": {\"font\": {\"color\": \"#4D5663\"}}, \"xaxis\": {\"gridcolor\": \"#E1E5ED\", \"showgrid\": true, \"tickfont\": {\"color\": \"#4D5663\"}, \"title\": {\"font\": {\"color\": \"#4D5663\"}, \"text\": \"\"}, \"zerolinecolor\": \"#E1E5ED\"}, \"yaxis\": {\"gridcolor\": \"#E1E5ED\", \"showgrid\": true, \"tickfont\": {\"color\": \"#4D5663\"}, \"title\": {\"font\": {\"color\": \"#4D5663\"}, \"text\": \"\"}, \"zerolinecolor\": \"#E1E5ED\"}},\n",
       "                        {\"showLink\": true, \"linkText\": \"Export to plot.ly\", \"plotlyServerURL\": \"https://plot.ly\", \"responsive\": true}\n",
       "                    ).then(function(){\n",
       "                            \n",
       "var gd = document.getElementById('2fe95e92-a862-4bf7-9eac-beb1a1440e32');\n",
       "var x = new MutationObserver(function (mutations, observer) {{\n",
       "        var display = window.getComputedStyle(gd).display;\n",
       "        if (!display || display === 'none') {{\n",
       "            console.log([gd, 'removed!']);\n",
       "            Plotly.purge(gd);\n",
       "            observer.disconnect();\n",
       "        }}\n",
       "}});\n",
       "\n",
       "// Listen for the removal of the full notebook cells\n",
       "var notebookContainer = gd.closest('#notebook-container');\n",
       "if (notebookContainer) {{\n",
       "    x.observe(notebookContainer, {childList: true});\n",
       "}}\n",
       "\n",
       "// Listen for the clearing of the current output cell\n",
       "var outputEl = gd.closest('.output');\n",
       "if (outputEl) {{\n",
       "    x.observe(outputEl, {childList: true});\n",
       "}}\n",
       "\n",
       "                        })\n",
       "                };\n",
       "                });\n",
       "            </script>\n",
       "        </div>"
      ]
     },
     "metadata": {},
     "output_type": "display_data"
    }
   ],
   "source": [
    "df1.loc[lambda df: (df['Team'] == 'Home') & (df['Period'] == 1) & (df['Type'] == 'BALL OUT'), :] \\\n",
    "   .iplot(kind=\"scatter\",x = \"Start X\", y = \"Start Y\", mode = \"markers\")"
   ]
  },
  {
   "cell_type": "markdown",
   "metadata": {
    "slideshow": {
     "slide_type": "slide"
    }
   },
   "source": [
    "## Other analyses we can easily do with this data\n",
    "\n",
    "- Compare performance of \"Home\" team to the \"Away\" team\n",
    "- Compare first period to second period (number of passes, number of interceptions, shots on goal)\n",
    "- Compare individual players (number of passes, number of shots on goal)\n"
   ]
  },
  {
   "cell_type": "markdown",
   "metadata": {
    "slideshow": {
     "slide_type": "slide"
    }
   },
   "source": [
    "# Workshop -- add a section here on how to use the tools"
   ]
  },
  {
   "cell_type": "markdown",
   "metadata": {
    "slideshow": {
     "slide_type": "slide"
    }
   },
   "source": [
    "## Notes on the technology\n",
    "\n",
    "- Created on the **Callysto.ca** technology (all free, all open source)\n",
    "- Using Jupyter notebooks to put all the pieces together, including the slideshow\n",
    "- Python for the programming language\n",
    "- Software libraries include:\n",
    "    - Pandas for data analysis\n",
    "    - Ipysheet for spread sheets\n",
    "    - Plotly and Cufflinks for graphics\n",
    "    - Numpy for numerical routines"
   ]
  },
  {
   "cell_type": "markdown",
   "metadata": {
    "slideshow": {
     "slide_type": "slide"
    }
   },
   "source": [
    "## Getting started\n",
    "\n",
    "- Read about the Callysto resources at https://callysto.ca\n",
    "- Take an online course at https://courses.callysto.ca/\n",
    "- log into the Jupyter Hub at https://hub.callysto.ca\n"
   ]
  },
  {
   "cell_type": "markdown",
   "metadata": {
    "slideshow": {
     "slide_type": "slide"
    }
   },
   "source": [
    "## Some basic Python\n",
    "\n"
   ]
  },
  {
   "cell_type": "code",
   "execution_count": null,
   "metadata": {
    "slideshow": {
     "slide_type": "-"
    }
   },
   "outputs": [],
   "source": []
  },
  {
   "cell_type": "markdown",
   "metadata": {
    "slideshow": {
     "slide_type": "slide"
    }
   },
   "source": [
    "## Using Pandas"
   ]
  },
  {
   "cell_type": "code",
   "execution_count": null,
   "metadata": {
    "slideshow": {
     "slide_type": "-"
    }
   },
   "outputs": [],
   "source": []
  },
  {
   "cell_type": "markdown",
   "metadata": {
    "slideshow": {
     "slide_type": "slide"
    }
   },
   "source": [
    "## Plotly and Cufflinks"
   ]
  },
  {
   "cell_type": "code",
   "execution_count": null,
   "metadata": {
    "slideshow": {
     "slide_type": "-"
    }
   },
   "outputs": [],
   "source": []
  },
  {
   "cell_type": "markdown",
   "metadata": {
    "slideshow": {
     "slide_type": "slide"
    }
   },
   "source": [
    "![hey](callysto.png)"
   ]
  },
  {
   "cell_type": "code",
   "execution_count": null,
   "metadata": {},
   "outputs": [],
   "source": []
  }
 ],
 "metadata": {
  "celltoolbar": "Slideshow",
  "kernelspec": {
   "display_name": "Python 3",
   "language": "python",
   "name": "python3"
  },
  "language_info": {
   "codemirror_mode": {
    "name": "ipython",
    "version": 3
   },
   "file_extension": ".py",
   "mimetype": "text/x-python",
   "name": "python",
   "nbconvert_exporter": "python",
   "pygments_lexer": "ipython3",
   "version": "3.8.5"
  },
  "rise": {
   "enable_chalkboard": true,
   "footer": "<IMG src='callysto.png' height='50'>",
   "theme": "sky"
  }
 },
 "nbformat": 4,
 "nbformat_minor": 4
}
